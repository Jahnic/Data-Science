{
 "cells": [
  {
   "cell_type": "markdown",
   "metadata": {},
   "source": [
    "![image](rfd_logo.png)"
   ]
  },
  {
   "cell_type": "markdown",
   "metadata": {},
   "source": [
    "[RedFlagDeals](https://forums.redflagdeals.com/hot-deals-f9/) is a forum where users can post sales or deals that they have come across. The first part of this project is focused on scraping relevant information from the \"All Hot Deals\" section that includes all product categories. In the second and third part I will clean and visualize the data to extract and summarize useful information. \n",
    "\n",
    "Two tables will be scraped. The main table with a description of all columns is shown below. The second table will store comments that were made on each post. To insure, that comments can be linked back to the original post in the main table, corresponding post titles are stored in a second column. \n",
    "\n",
    "Data will first be cleaned by converting columns to the most appropriate data type, removing unwanted characters from strings and by dealing with missing values. Some of the nan records can be substituted through information found in the title or url. \n",
    "\n",
    "Main title data will be aggregated and visualized to reveal outstanding deal postings and interesting patterns. Extracted comments can be used for natural language processing and analyzing sentiment more robustly. A possible approach would be to perform PCA to Taking only upvotes and the number of replies into consideration may not be enough to accurately reflect the value of a deal.\n",
    "\n",
    "|Column name|Description|\n",
    "|---|---|\n",
    "|'title'| Title of post|\n",
    "|'votes'| Sum of up-, and down-votes|\n",
    "|'source'| Name of retailer offering the sale|\n",
    "|'creation_date'| Date of initial post|\n",
    "|'last_reply'| Date of most recent reply|\n",
    "|'author'| User name of post author|\n",
    "|'replies'| Number of replies|\n",
    "|'views'| Number of views|\n",
    "|'price'| Price of product on sale|\n",
    "|'saving'| Associated saving|\n",
    "|'expiry'| Expiry date of sale|\n",
    "|'url'| Link to deal|\n"
   ]
  },
  {
   "cell_type": "code",
   "execution_count": 27,
   "metadata": {},
   "outputs": [],
   "source": [
    "# Packages\n",
    "import requests # Scraping\n",
    "from bs4 import BeautifulSoup # HTML parsing\n",
    "import pandas as pd\n",
    "import numpy as np\n",
    "import datetime\n",
    "import re"
   ]
  },
  {
   "cell_type": "markdown",
   "metadata": {},
   "source": [
    "## I. Retrieving data from the \"All Hot Deals\" sub-forum"
   ]
  },
  {
   "cell_type": "markdown",
   "metadata": {},
   "source": [
    "The \"All Hot Deals\" section is an overview page of recent posts made on the forum. Information about posts such as title and number of upvotes are summarized and listed. The summaries in the \"All Hot Deals\" section as well as the comments on individual posts are organized into several pages.\n",
    "\n",
    "To scrap as much information as possible, we need to iterate through the different pages on \"All Hot Deals\". Further, we need to access each individual post to obtain additional information not found in the summary. For each post, we will also scrape the comments made by users. For this will need to iterate through the available pages on each post.\n",
    "\n",
    "\n",
    "URL format for different pages: `root-url/page#/`"
   ]
  },
  {
   "cell_type": "code",
   "execution_count": 28,
   "metadata": {},
   "outputs": [],
   "source": [
    "# Initialize global variables used to iterate over web-pages.\n",
    "current_page = \"\" # page number; used to format root URL\n",
    "total_pages = 1 # endpoint for iteration; set through get_posts()\n",
    "root_url = \"https://forums.redflagdeals.com/hot-deals-f9/\" # base url for \"All Hot Deals\" sub-forum\n",
    "\n",
    "# URL base to generate links to specific posts\n",
    "base_url = \"https://forums.redflagdeals.com\"\n",
    "\n",
    "# Dataframe to store scraped data\n",
    "main_table = pd.DataFrame(columns=\n",
    "    ['title',\n",
    "    'votes',\n",
    "    'source',\n",
    "    'creation_date',\n",
    "    'last_reply',\n",
    "    'author',\n",
    "    'replies',\n",
    "    'views',\n",
    "    'price',\n",
    "    'saving',\n",
    "    'expiry',\n",
    "    'url'])\n",
    "\n",
    "# Dataframe to to store post comments\n",
    "comment_table = pd.DataFrame(columns=\n",
    "                       ['title',\n",
    "                       'comments'])"
   ]
  },
  {
   "cell_type": "code",
   "execution_count": 29,
   "metadata": {},
   "outputs": [],
   "source": [
    "def get_posts(page: str) -> list:\n",
    "    \"\"\"\n",
    "    Returns list of parsed object containing all post elements from\n",
    "    the current 'page' and sets gloabl variable 'total_pages'\n",
    "    \n",
    "    Args:\n",
    "    page - url string of current page\n",
    "    \n",
    "    Returns:\n",
    "    topics - all parsed elements of class 'row topic'\n",
    "    total_pages - sets global variable\n",
    "    \"\"\"\n",
    "    \n",
    "    # Initalize list of posts on page class=\"row topic\"\n",
    "    posts = []\n",
    "    \n",
    "    # Get entire page content\n",
    "    response = requests.get(page)\n",
    "    content = response.content\n",
    "    \n",
    "    # Find total number of pages and set global variable accordingly\n",
    "    # Format of text: \" {current page #} of {total page #} \"\n",
    "    # Need to strip white space and extract total page #\n",
    "    parser = BeautifulSoup(content, 'html.parser')\n",
    "    pages = parser.select(\".pagination_menu_trigger\")[0].text.strip().split(\"of \")[1]\n",
    "    global total_pages\n",
    "    total_pages = int(pages)\n",
    "    \n",
    "    # Find and return topics\n",
    "    topics = parser.find_all(\"li\", class_=\"row topic\")\n",
    "    return topics"
   ]
  },
  {
   "cell_type": "code",
   "execution_count": 60,
   "metadata": {},
   "outputs": [],
   "source": [
    "def get_additional_info(post: str) -> dict:\n",
    "    \"\"\"\n",
    "    Extracts and returns additional information from a RedFlagDeals post:\n",
    "    url-link to the deal, the price of the product, the discount saving, \n",
    "    the expiry date, the parent/thread categories of the product and a list of\n",
    "    comments found on all pages. \n",
    "    \n",
    "    Args:\n",
    "    post - url string linking to a specific post\n",
    "    \n",
    "    Returns:\n",
    "    additional_info - dictionary containing additional information about the post.\n",
    "    Stores NaN values in \"additional_info\" for objects that are not found.\n",
    "    \"\"\"\n",
    "    \n",
    "    # Additional information found in post\n",
    "    additional_info = {}\n",
    "    # Reviews found on all pages of post\n",
    "    \n",
    "    # Get content of post\n",
    "    response = requests.get(post)\n",
    "    content = response.content\n",
    "    parser = BeautifulSoup(content, 'html.parser')\n",
    "    \n",
    "    # Thread-header with information on parent and thread category\n",
    "    try: # parent category\n",
    "        parent_category = parser.select(\".thread_parent_category\")[0].text\n",
    "        additional_info['Parent:'] = parent_category\n",
    "    except: additional_info['Parent:'] = np.nan # NaN if category not found\n",
    "    try: # thread category\n",
    "        thread_category = parser.select(\".thread_category\")[0].text\n",
    "        additional_info['Thread:'] = thread_category\n",
    "    except: additional_info['Thread:'] = np.nan # NaN if category not found\n",
    "    \n",
    "    \n",
    "    # Offer-summary field: may contain deal link, price, saving, and retailer\n",
    "    summary = parser.select(\".post_offer_fields\") # format example: \"Price:\\n$200\\nSaving:\\n70%\"\n",
    "    try:\n",
    "        summary_list = summary[0].text.split(\"\\n\") \n",
    "    except: summary_list = []\n",
    "        \n",
    "    # Example format of summary_list: [\"\", \"Price:\", \"200$\", \"Saving:\", 50%, \"Expiry:\", \"July 23, 2020\"]\n",
    "    for i in range(1, (len(summary_list) -1), 2): # index 0 is empty string\n",
    "        current_element = summary_list[i] # content of current list element\n",
    "        next_element = summary_list[i+1] # next list element containing the information\n",
    "        \n",
    "        # Price, saving, and expiry date information contained in the next list element will be saved\n",
    "        if (current_element.startswith(\"Price\") \n",
    "            or current_element.startswith(\"Saving\") \n",
    "            or current_element.startswith(\"Expiry\")):\n",
    "            \n",
    "            additional_info[current_element]  = next_element # next elements corrsponds to content\n",
    "            \n",
    "    # URL to link. Full link not available through .text\n",
    "    try: \n",
    "        url = str(summary[0]).split('href=\"')[1].split('\"')[0] # select link between href=\" and \"\n",
    "        additional_info['Link:'] = url\n",
    "    except: additional_info['Link:'] = np.nan\n",
    "        \n",
    "    \n",
    "    # If any of the elements is not found in the summary-field add None value to dictionary \n",
    "    if \"Price:\" not in additional_info:\n",
    "        additional_info['Price:'] = np.nan\n",
    "        \n",
    "    if \"Savings:\" not in additional_info:\n",
    "        additional_info['Savings:'] = np.nan\n",
    "        \n",
    "    if \"Expiry:\" not in additional_info:\n",
    "        additional_info['Expiry:'] = np.nan\n",
    "    \n",
    "    return additional_info # Return dictionary containing with information on price, saving and expiry  "
   ]
  },
  {
   "cell_type": "code",
   "execution_count": null,
   "metadata": {},
   "outputs": [],
   "source": [
    "def get_post_comments(post:str, title:str) -> pd.DataFrame:\n",
    "    \"\"\"\n",
    "    Retrieves comments from all post pages.\n",
    "    \n",
    "    Arg:\n",
    "    post: url to the first page of a post\n",
    "    title: the title of the post\n",
    "    \n",
    "    Returns:\n",
    "    df_comments: DataFrame object. Each row corresponds to an indevidual comment.\n",
    "    A second column indicates the title of original post on which the comment was made\n",
    "    \"\"\"\n",
    "    \n",
    "    # Data storage\n",
    "    df_comments = pd.DataFrame()\n",
    "    comment_list = []\n",
    "    \n",
    "    # subsequent pages can be retireved through: root_url + \"page#/\"\n",
    "    root_url = post\n",
    "    \n",
    "    # Get and parse content from first post page\n",
    "    response = requests.get(post)\n",
    "    content = response.content\n",
    "    parser = BeautifulSoup(content, 'html.parser')\n",
    "    \n",
    "    # Retrive total number of pages for iteration\n",
    "    # There is only one page, if the \"pagination_menu_trigger\" class doesn't exist -> except\n",
    "    try:\n",
    "        pages = parser.select(\".pagination_menu_trigger\")[0].text\n",
    "        last_page = int(re.findall(\"\\d+\", pages)[1]) # first element is current page, second is last page\n",
    "    except:\n",
    "        last_page = 1\n",
    "    \n",
    "    # Iterate through pages and retrieve comments\n",
    "    for page in range(1,(last_page+1)):\n",
    "        if page == 1:\n",
    "            # print(title, \"\\nPage 1 is being scrapped for comments...\")\n",
    "            \n",
    "            #Get comments from first page\n",
    "            comments = parser.select(\".post_content .content\")\n",
    "            comment_list.extend(comment.text for comment in comments)\n",
    "            \n",
    "            # print(\"Comments found on page 1:\", len(comments))\n",
    "        else:\n",
    "            # print(\"Page {} is being scrapped for comments...\".format(page))\n",
    "            \n",
    "            # Parse next page\n",
    "            next_page = root_url + str(page) # next page\n",
    "            response = requests.get(next_page)\n",
    "            content = response.content\n",
    "            parser = BeautifulSoup(content, 'html.parser')\n",
    "            \n",
    "            # Get comments\n",
    "            comments = parser.select(\".post_content .content\")\n",
    "            comment_list.extend(comment.text for comment in comments)\n",
    "            \n",
    "            # print(\"Comments found on page {}:\".format(page), len(comments))\n",
    "    \n",
    "    # Fill dataframe to return\n",
    "    title_col = pd.Series(title for i in range(len(comment_list)))\n",
    "    df_comments['title'] = title_col\n",
    "    df_comments['comments'] = pd.Series(comment_list)\n",
    "    return df_comments"
   ]
  },
  {
   "cell_type": "code",
   "execution_count": null,
   "metadata": {},
   "outputs": [],
   "source": [
    "def fill_table(posts: list) -> None:\n",
    "    '''\n",
    "    Extracts parsed data from current page and appends to the global table variable.\n",
    "    \n",
    "    Args:\n",
    "    posts - list of parsed post elements obtained through get_posts()\n",
    "    '''\n",
    "    \n",
    "    # Temporary DataFrame object that will be appended to the global 'table' variable\n",
    "    tmp_table = pd.DataFrame()\n",
    "    tmp_comments = pd.DataFrame()\n",
    "    \n",
    "    # Initializing columns for tmp_table\n",
    "    title_col = pd.Series()\n",
    "    source_col = pd.Series()\n",
    "    url_col = pd.Series()\n",
    "    votes_col = pd.Series()\n",
    "    replies_col = pd.Series()\n",
    "    views_col = pd.Series()\n",
    "    creation_date_col = pd.Series()\n",
    "    last_reply_col = pd.Series()\n",
    "    author_col = pd.Series()\n",
    "    price_col = pd.Series()\n",
    "    saving_col = pd.Series()\n",
    "    expiry_col = pd.Series()\n",
    "    parent_col = pd.Series()\n",
    "    thread_col = pd.Series()\n",
    "    \n",
    "    #Initializing columns for tmp_comments\n",
    "    comment_title = pd.Series()\n",
    "    comment_order = pd.Series()\n",
    "    comment_comment = pd.Series()\n",
    "    \n",
    "\n",
    "    # Iterate through post elements on current page and extract data for table\n",
    "    for post in posts:\n",
    "        \n",
    "        # Retailer corresponding to deal\n",
    "        try: \n",
    "            source = post.select(\".topictitle_retailer\")[0].text.split(\"\\n\")[0] # split and remove line-break characters\n",
    "            source_series = pd.Series(source) # transforming into Series object allows use of .append method\n",
    "        except: source_series = pd.Series(np.nan)\n",
    "        source_col = source_col.append(source_series, ignore_index=True)\n",
    "\n",
    "        # Number of votes\n",
    "        try: \n",
    "            votes = post.select(\".post_voting\")[0].text.split(\"\\n\")[1] \n",
    "            votes_series = pd.Series(votes) \n",
    "        except: votes_series = pd.Series(0)\n",
    "        votes_col = votes_col.append(votes_series, ignore_index=True)\n",
    "            \n",
    "        # Title \n",
    "        try:\n",
    "            topic = post.select(\".topic_title_link\") \n",
    "            title = topic[0].text.split('\\n')[1] \n",
    "            title_series = pd.Series(title)\n",
    "        except: title_series = pd.Series(np.nan)\n",
    "        title_col = title_col.append(title_series, ignore_index=True)\n",
    "\n",
    "        # Date of initial posting\n",
    "        try: \n",
    "            creation = post.select(\".first-post-time\")[0].text.split(\"\\n\")[0]\n",
    "            creation_series = pd.Series(creation)\n",
    "        except: creation_series = pd.Series(np.nan)\n",
    "        creation_date_col = creation_date_col.append(creation_series, ignore_index=True) \n",
    "        \n",
    "        # Date of most recent replie\n",
    "        try: \n",
    "            last_replie = post.select(\".last-post-time\")[0].text.split(\"\\n\")[0]\n",
    "            last_replie_series = pd.Series(last_replie)\n",
    "        except: last_replie_series = pd.Series(np.nan)\n",
    "        last_reply_col = last_reply_col.append(last_replie_series, ignore_index=True) \n",
    "        \n",
    "        # Author user-name\n",
    "        try:\n",
    "            author = post.select(\".thread_meta_author\")[0].text.split(\"\\n\")[0]\n",
    "            author_series = pd.Series(author)\n",
    "        except: author_series = pd.Series(np.nan)\n",
    "        author_col = author_col.append(author_series, ignore_index=True)\n",
    "        \n",
    "        \n",
    "        # Number of replies\n",
    "        try:\n",
    "            replies = post.select(\".posts\")[0].text.split(\"\\n\")[0]\n",
    "            replies = replies.replace(\",\",\"\") # remove commas to facilitate data type conversion to integer\n",
    "            replies_series = pd.Series(replies)\n",
    "        except: replies_series = pd.Series(np.nan)\n",
    "        replies_col = replies_col.append(replies_series, ignore_index=True)\n",
    "        \n",
    "        # Number of views\n",
    "        try:\n",
    "            views = post.select(\".views\")[0].text.split(\"\\n\")[0]\n",
    "            views = views.replace(\",\",\"\") # remove commas to facilitate integer conversion\n",
    "            views_series = pd.Series(views)\n",
    "        except: replies_series = pd.Series(np.nan)\n",
    "        views_col = views_col.append(views_series, ignore_index=True)\n",
    "        \n",
    "        # Link to current post. Used to extract additional information\n",
    "        try:\n",
    "            link = str(topic).split('href=\"')[1] # split at href to extract link\n",
    "            link_clean = link.split('\">')[0] # remove superfluous characters\n",
    "        except: \n",
    "            link_clean = np.nan\n",
    "        \n",
    "        # Additional information post\n",
    "        if link_clean != None: # retrieve information from post, if url exists\n",
    "            post_url = (base_url + \"{}\").format(link_clean) # merge base-, and sub-url to generate the complete post-link\n",
    "            additional_info = get_additional_info(post_url) # get dictionary of additonal information on price, saving, etc.\n",
    "            \n",
    "            # Fill columns with additional information from additional_info dictionary\n",
    "            price_col = price_col.append(pd.Series(additional_info['Price:']), ignore_index=True)\n",
    "            saving_col = saving_col.append(pd.Series(additional_info['Savings:']), ignore_index=True)\n",
    "            expiry_col = expiry_col.append(pd.Series(additional_info['Expiry:']), ignore_index=True)\n",
    "            url_col = url_col.append(pd.Series(additional_info['Link:']), ignore_index=True)\n",
    "            parent_col = parent_col.append(pd.Series(additional_info['Parent:']), ignore_index=True)\n",
    "            thread_col = thread_col.append(pd.Series(additional_info['Thread:']), ignore_index=True)\n",
    "            \n",
    "            # get comments from post\n",
    "            comments_tmp = get_post_comments(post_url, title)\n",
    "        else:\n",
    "            price_col = price_col.append(np.nan)\n",
    "            saving_col = saving_col.append(np.nan)\n",
    "            expiry_col = expiry_col.append(np.nan)\n",
    "            url_col = url_col.append(np.nan)\n",
    "        \n",
    "            \n",
    "    # Fill temporary table\n",
    "    tmp_table['title'] = title_col\n",
    "    tmp_table['votes'] = votes_col.astype(int)\n",
    "    tmp_table['source'] = source_col\n",
    "    tmp_table['creation_date'] = creation_date_col\n",
    "    tmp_table['last_reply'] = last_reply_col\n",
    "    tmp_table['author'] = author_col\n",
    "    tmp_table['replies'] = replies_col.astype(int)\n",
    "    tmp_table['views'] = views_col.astype(int)\n",
    "    tmp_table['price'] = price_col\n",
    "    tmp_table['saving'] = saving_col\n",
    "    tmp_table['expiry'] = expiry_col\n",
    "    tmp_table['url'] = url_col\n",
    "    tmp_table['parent_category'] = parent_col\n",
    "    tmp_table['thread_category'] = thread_col\n",
    "           \n",
    "    # Append temporary objects to global variables \n",
    "    global main_table # gloabal keyword allows modification inside function\n",
    "    main_table = main_table.append(tmp_table)\n",
    "    global comment_table\n",
    "    comment_table = comment_table.append(comments_tmp)\n",
    "    \n",
    "    \n",
    "    # Logging progress\n",
    "    print(\"Current main_table length:\", main_table.shape[0])\n",
    "    print(\"Current comment_table lenth:\", comment_table.shape[0])\n",
    "    print(\"=\"*50)"
   ]
  },
  {
   "cell_type": "code",
   "execution_count": 31,
   "metadata": {},
   "outputs": [
    {
     "name": "stdout",
     "output_type": "stream",
     "text": [
      "Extracting information from page: 1\n",
      "--------------------------------------------------\n",
      "Current main_table length: 29\n",
      "Current comment_table lenth: 49\n",
      "==================================================\n",
      "\n",
      "Extracting information from page:  2  of  45\n",
      "--------------------------------------------------\n",
      "Current main_table length: 59\n",
      "Current comment_table lenth: 55\n",
      "==================================================\n",
      "\n",
      "Extracting information from page:  3  of  45\n",
      "--------------------------------------------------\n",
      "Current main_table length: 89\n",
      "Current comment_table lenth: 210\n",
      "==================================================\n",
      "\n",
      "Extracting information from page:  4  of  45\n",
      "--------------------------------------------------\n",
      "Current main_table length: 119\n",
      "Current comment_table lenth: 302\n",
      "==================================================\n",
      "\n",
      "Extracting information from page:  5  of  45\n",
      "--------------------------------------------------\n",
      "Current main_table length: 149\n",
      "Current comment_table lenth: 423\n",
      "==================================================\n",
      "\n",
      "Extracting information from page:  6  of  45\n",
      "--------------------------------------------------\n",
      "Current main_table length: 179\n",
      "Current comment_table lenth: 491\n",
      "==================================================\n",
      "\n",
      "Extracting information from page:  7  of  45\n",
      "--------------------------------------------------\n",
      "Current main_table length: 209\n",
      "Current comment_table lenth: 498\n",
      "==================================================\n",
      "\n",
      "Extracting information from page:  8  of  45\n",
      "--------------------------------------------------\n",
      "Current main_table length: 239\n",
      "Current comment_table lenth: 503\n",
      "==================================================\n",
      "\n",
      "Extracting information from page:  9  of  45\n",
      "--------------------------------------------------\n",
      "Current main_table length: 269\n",
      "Current comment_table lenth: 523\n",
      "==================================================\n",
      "\n",
      "Extracting information from page:  10  of  45\n",
      "--------------------------------------------------\n",
      "Current main_table length: 299\n",
      "Current comment_table lenth: 535\n",
      "==================================================\n",
      "\n",
      "Extracting information from page:  11  of  45\n",
      "--------------------------------------------------\n",
      "Current main_table length: 329\n",
      "Current comment_table lenth: 535\n",
      "==================================================\n",
      "\n",
      "Extracting information from page:  12  of  45\n",
      "--------------------------------------------------\n",
      "Current main_table length: 359\n",
      "Current comment_table lenth: 540\n",
      "==================================================\n",
      "\n",
      "Extracting information from page:  13  of  45\n",
      "--------------------------------------------------\n",
      "Current main_table length: 389\n",
      "Current comment_table lenth: 546\n",
      "==================================================\n",
      "\n",
      "Extracting information from page:  14  of  45\n",
      "--------------------------------------------------\n",
      "Current main_table length: 419\n",
      "Current comment_table lenth: 550\n",
      "==================================================\n",
      "\n",
      "Extracting information from page:  15  of  45\n",
      "--------------------------------------------------\n",
      "Current main_table length: 449\n",
      "Current comment_table lenth: 557\n",
      "==================================================\n",
      "\n",
      "Extracting information from page:  16  of  45\n",
      "--------------------------------------------------\n",
      "Current main_table length: 479\n",
      "Current comment_table lenth: 572\n",
      "==================================================\n",
      "\n",
      "Extracting information from page:  17  of  45\n",
      "--------------------------------------------------\n",
      "Current main_table length: 509\n",
      "Current comment_table lenth: 598\n",
      "==================================================\n",
      "\n",
      "Extracting information from page:  18  of  45\n",
      "--------------------------------------------------\n",
      "Current main_table length: 539\n",
      "Current comment_table lenth: 602\n",
      "==================================================\n",
      "\n",
      "Extracting information from page:  19  of  45\n",
      "--------------------------------------------------\n",
      "Current main_table length: 569\n",
      "Current comment_table lenth: 655\n",
      "==================================================\n",
      "\n",
      "Extracting information from page:  20  of  45\n",
      "--------------------------------------------------\n",
      "Current main_table length: 599\n",
      "Current comment_table lenth: 666\n",
      "==================================================\n",
      "\n",
      "Extracting information from page:  21  of  45\n",
      "--------------------------------------------------\n",
      "Current main_table length: 629\n",
      "Current comment_table lenth: 713\n",
      "==================================================\n",
      "\n",
      "Extracting information from page:  22  of  45\n",
      "--------------------------------------------------\n",
      "Current main_table length: 659\n",
      "Current comment_table lenth: 717\n",
      "==================================================\n",
      "\n",
      "Extracting information from page:  23  of  45\n",
      "--------------------------------------------------\n",
      "Current main_table length: 689\n",
      "Current comment_table lenth: 732\n",
      "==================================================\n",
      "\n",
      "Extracting information from page:  24  of  45\n",
      "--------------------------------------------------\n",
      "Current main_table length: 719\n",
      "Current comment_table lenth: 839\n",
      "==================================================\n",
      "\n",
      "Extracting information from page:  25  of  45\n",
      "--------------------------------------------------\n",
      "Current main_table length: 749\n",
      "Current comment_table lenth: 848\n",
      "==================================================\n",
      "\n",
      "Extracting information from page:  26  of  45\n",
      "--------------------------------------------------\n",
      "Current main_table length: 779\n",
      "Current comment_table lenth: 856\n",
      "==================================================\n",
      "\n",
      "Extracting information from page:  27  of  45\n",
      "--------------------------------------------------\n",
      "Current main_table length: 809\n",
      "Current comment_table lenth: 858\n",
      "==================================================\n",
      "\n",
      "Extracting information from page:  28  of  45\n",
      "--------------------------------------------------\n",
      "Current main_table length: 839\n",
      "Current comment_table lenth: 864\n",
      "==================================================\n",
      "\n",
      "Extracting information from page:  29  of  45\n",
      "--------------------------------------------------\n",
      "Current main_table length: 869\n",
      "Current comment_table lenth: 893\n",
      "==================================================\n",
      "\n",
      "Extracting information from page:  30  of  45\n",
      "--------------------------------------------------\n",
      "Current main_table length: 899\n",
      "Current comment_table lenth: 920\n",
      "==================================================\n",
      "\n",
      "Extracting information from page:  31  of  45\n",
      "--------------------------------------------------\n",
      "Current main_table length: 929\n",
      "Current comment_table lenth: 1034\n",
      "==================================================\n",
      "\n",
      "Extracting information from page:  32  of  45\n",
      "--------------------------------------------------\n",
      "Current main_table length: 959\n",
      "Current comment_table lenth: 1053\n",
      "==================================================\n",
      "\n",
      "Extracting information from page:  33  of  45\n",
      "--------------------------------------------------\n",
      "Current main_table length: 989\n",
      "Current comment_table lenth: 1068\n",
      "==================================================\n",
      "\n",
      "Extracting information from page:  34  of  45\n",
      "--------------------------------------------------\n",
      "Current main_table length: 1019\n",
      "Current comment_table lenth: 1080\n",
      "==================================================\n",
      "\n",
      "Extracting information from page:  35  of  45\n",
      "--------------------------------------------------\n",
      "Current main_table length: 1049\n",
      "Current comment_table lenth: 1098\n",
      "==================================================\n",
      "\n",
      "Extracting information from page:  36  of  45\n",
      "--------------------------------------------------\n",
      "Current main_table length: 1079\n",
      "Current comment_table lenth: 1301\n",
      "==================================================\n",
      "\n",
      "Extracting information from page:  37  of  45\n",
      "--------------------------------------------------\n",
      "Current main_table length: 1109\n",
      "Current comment_table lenth: 1314\n",
      "==================================================\n",
      "\n",
      "Extracting information from page:  38  of  45\n",
      "--------------------------------------------------\n",
      "Current main_table length: 1139\n",
      "Current comment_table lenth: 1334\n",
      "==================================================\n",
      "\n",
      "Extracting information from page:  39  of  45\n",
      "--------------------------------------------------\n",
      "Current main_table length: 1169\n",
      "Current comment_table lenth: 1369\n",
      "==================================================\n",
      "\n",
      "Extracting information from page:  40  of  45\n",
      "--------------------------------------------------\n"
     ]
    },
    {
     "name": "stdout",
     "output_type": "stream",
     "text": [
      "Current main_table length: 1199\n",
      "Current comment_table lenth: 1370\n",
      "==================================================\n",
      "\n",
      "Extracting information from page:  41  of  45\n",
      "--------------------------------------------------\n",
      "Current main_table length: 1229\n",
      "Current comment_table lenth: 1378\n",
      "==================================================\n",
      "\n",
      "Extracting information from page:  42  of  45\n",
      "--------------------------------------------------\n",
      "Current main_table length: 1259\n",
      "Current comment_table lenth: 1379\n",
      "==================================================\n",
      "\n",
      "Extracting information from page:  43  of  45\n",
      "--------------------------------------------------\n",
      "Current main_table length: 1289\n",
      "Current comment_table lenth: 1384\n",
      "==================================================\n",
      "\n",
      "Extracting information from page:  44  of  45\n",
      "--------------------------------------------------\n",
      "Current main_table length: 1319\n",
      "Current comment_table lenth: 1385\n",
      "==================================================\n",
      "\n",
      "Extracting information from page:  45  of  45\n",
      "--------------------------------------------------\n",
      "Current main_table length: 1326\n",
      "Current comment_table lenth: 1389\n",
      "==================================================\n",
      "Total time for scraping: 89.95090063810349 min.\n"
     ]
    }
   ],
   "source": [
    "import time\n",
    "start_time = time.time()\n",
    "# Get first page information, and set total_pages through get_posts()\n",
    "print('Extracting information from page: 1')\n",
    "print(\"-\"*50)\n",
    "posts = get_posts(root_url)  \n",
    "# Extract infomation from first page to fill table with data\n",
    "fill_table(posts)\n",
    "\n",
    "#Loop through pages and add data to table\n",
    "for page in range(2, (total_pages + 1)):\n",
    "    next_url = root_url + str(page) + \"/\" # URL of next page: base-url + number + \"/\"\n",
    "    print('\\nExtracting information from page: ', page, \" of \", total_pages)\n",
    "    print(\"-\"*50)\n",
    "    # Generate list of posts on current page\n",
    "    posts = get_posts(next_url)\n",
    "\n",
    "    # Fill table from information on current page and posts\n",
    "    fill_table(posts)\n",
    "    \n",
    "print('Total time for scraping:', (time.time()-start_time)/60, \"min.\")"
   ]
  },
  {
   "cell_type": "code",
   "execution_count": 32,
   "metadata": {},
   "outputs": [],
   "source": [
    "# Write data to csv file\n",
    "main_table.to_csv('rfd_main.csv')\n",
    "comment_table.to_csv('rfd_comments.csv')"
   ]
  },
  {
   "cell_type": "markdown",
   "metadata": {},
   "source": [
    "## Load data and explore"
   ]
  },
  {
   "cell_type": "markdown",
   "metadata": {},
   "source": [
    "### Main table"
   ]
  },
  {
   "cell_type": "code",
   "execution_count": 61,
   "metadata": {
    "scrolled": true
   },
   "outputs": [
    {
     "data": {
      "text/html": [
       "<div>\n",
       "<style scoped>\n",
       "    .dataframe tbody tr th:only-of-type {\n",
       "        vertical-align: middle;\n",
       "    }\n",
       "\n",
       "    .dataframe tbody tr th {\n",
       "        vertical-align: top;\n",
       "    }\n",
       "\n",
       "    .dataframe thead th {\n",
       "        text-align: right;\n",
       "    }\n",
       "</style>\n",
       "<table border=\"1\" class=\"dataframe\">\n",
       "  <thead>\n",
       "    <tr style=\"text-align: right;\">\n",
       "      <th></th>\n",
       "      <th>author</th>\n",
       "      <th>creation_date</th>\n",
       "      <th>expiry</th>\n",
       "      <th>last_reply</th>\n",
       "      <th>parent_category</th>\n",
       "      <th>price</th>\n",
       "      <th>replies</th>\n",
       "      <th>saving</th>\n",
       "      <th>source</th>\n",
       "      <th>thread_category</th>\n",
       "      <th>title</th>\n",
       "      <th>url</th>\n",
       "      <th>views</th>\n",
       "      <th>votes</th>\n",
       "    </tr>\n",
       "  </thead>\n",
       "  <tbody>\n",
       "    <tr>\n",
       "      <td>0</td>\n",
       "      <td>flora0222</td>\n",
       "      <td>Jul 16th, 2020 8:29 am</td>\n",
       "      <td>NaN</td>\n",
       "      <td>Jul 17th, 2020 9:20 am</td>\n",
       "      <td>NaN</td>\n",
       "      <td>6.99</td>\n",
       "      <td>89</td>\n",
       "      <td>NaN</td>\n",
       "      <td>Staples</td>\n",
       "      <td>Home &amp; Garden</td>\n",
       "      <td>One Step Hand Sanitizer, Fragrance-Free, 473mL...</td>\n",
       "      <td>https://staplescanada.4u8mqw.net/c/341376/7554...</td>\n",
       "      <td>15445</td>\n",
       "      <td>132</td>\n",
       "    </tr>\n",
       "    <tr>\n",
       "      <td>1</td>\n",
       "      <td>yellowmp5</td>\n",
       "      <td>Jul 13th, 2020 1:29 pm</td>\n",
       "      <td>NaN</td>\n",
       "      <td>Jul 17th, 2020 9:18 am</td>\n",
       "      <td>NaN</td>\n",
       "      <td>NaN</td>\n",
       "      <td>441</td>\n",
       "      <td>NaN</td>\n",
       "      <td>Home Depot</td>\n",
       "      <td>Home &amp; Garden</td>\n",
       "      <td>RYOBI 20% coupon barcode</td>\n",
       "      <td>NaN</td>\n",
       "      <td>59219</td>\n",
       "      <td>159</td>\n",
       "    </tr>\n",
       "    <tr>\n",
       "      <td>2</td>\n",
       "      <td>riseagainstthemachine</td>\n",
       "      <td>Jul 2nd, 2020 10:03 am</td>\n",
       "      <td>NaN</td>\n",
       "      <td>Jul 17th, 2020 9:17 am</td>\n",
       "      <td>NaN</td>\n",
       "      <td>free</td>\n",
       "      <td>92</td>\n",
       "      <td>NaN</td>\n",
       "      <td>NaN</td>\n",
       "      <td>Apparel</td>\n",
       "      <td>Kits.com Free Pair Prescription Glasses</td>\n",
       "      <td>https://www.kits.com/freeglasses.html</td>\n",
       "      <td>25242</td>\n",
       "      <td>54</td>\n",
       "    </tr>\n",
       "    <tr>\n",
       "      <td>3</td>\n",
       "      <td>Googliya</td>\n",
       "      <td>Jul 17th, 2020 7:23 am</td>\n",
       "      <td>NaN</td>\n",
       "      <td>Jul 17th, 2020 9:15 am</td>\n",
       "      <td>NaN</td>\n",
       "      <td>469.99</td>\n",
       "      <td>13</td>\n",
       "      <td>NaN</td>\n",
       "      <td>Costco</td>\n",
       "      <td>Sports &amp; Fitness</td>\n",
       "      <td>Northrock xc00, fat Tire bike, $469.99</td>\n",
       "      <td>https://www.costco.ca/northrock-xc00-fat-tire-...</td>\n",
       "      <td>1769</td>\n",
       "      <td>2</td>\n",
       "    </tr>\n",
       "    <tr>\n",
       "      <td>4</td>\n",
       "      <td>Presents</td>\n",
       "      <td>Jul 16th, 2020 1:36 pm</td>\n",
       "      <td>July 29, 2020</td>\n",
       "      <td>Jul 17th, 2020 9:15 am</td>\n",
       "      <td>NaN</td>\n",
       "      <td>NaN</td>\n",
       "      <td>24</td>\n",
       "      <td>NaN</td>\n",
       "      <td>Canadian Tire</td>\n",
       "      <td>Automotive</td>\n",
       "      <td>60x total CT Money when you pay with your Tria...</td>\n",
       "      <td>NaN</td>\n",
       "      <td>2981</td>\n",
       "      <td>9</td>\n",
       "    </tr>\n",
       "  </tbody>\n",
       "</table>\n",
       "</div>"
      ],
      "text/plain": [
       "                  author           creation_date         expiry  \\\n",
       "0              flora0222  Jul 16th, 2020 8:29 am            NaN   \n",
       "1              yellowmp5  Jul 13th, 2020 1:29 pm            NaN   \n",
       "2  riseagainstthemachine  Jul 2nd, 2020 10:03 am            NaN   \n",
       "3               Googliya  Jul 17th, 2020 7:23 am            NaN   \n",
       "4               Presents  Jul 16th, 2020 1:36 pm  July 29, 2020   \n",
       "\n",
       "               last_reply parent_category   price  replies saving  \\\n",
       "0  Jul 17th, 2020 9:20 am             NaN    6.99       89    NaN   \n",
       "1  Jul 17th, 2020 9:18 am             NaN     NaN      441    NaN   \n",
       "2  Jul 17th, 2020 9:17 am             NaN    free       92    NaN   \n",
       "3  Jul 17th, 2020 9:15 am             NaN  469.99       13    NaN   \n",
       "4  Jul 17th, 2020 9:15 am             NaN     NaN       24    NaN   \n",
       "\n",
       "          source   thread_category  \\\n",
       "0        Staples     Home & Garden   \n",
       "1     Home Depot     Home & Garden   \n",
       "2            NaN           Apparel   \n",
       "3         Costco  Sports & Fitness   \n",
       "4  Canadian Tire        Automotive   \n",
       "\n",
       "                                               title  \\\n",
       "0  One Step Hand Sanitizer, Fragrance-Free, 473mL...   \n",
       "1                           RYOBI 20% coupon barcode   \n",
       "2            Kits.com Free Pair Prescription Glasses   \n",
       "3             Northrock xc00, fat Tire bike, $469.99   \n",
       "4  60x total CT Money when you pay with your Tria...   \n",
       "\n",
       "                                                 url  views  votes  \n",
       "0  https://staplescanada.4u8mqw.net/c/341376/7554...  15445    132  \n",
       "1                                                NaN  59219    159  \n",
       "2              https://www.kits.com/freeglasses.html  25242     54  \n",
       "3  https://www.costco.ca/northrock-xc00-fat-tire-...   1769      2  \n",
       "4                                                NaN   2981      9  "
      ]
     },
     "execution_count": 61,
     "metadata": {},
     "output_type": "execute_result"
    }
   ],
   "source": [
    "df_raw = pd.read_csv('rfd_main.csv').iloc[:,1:]\n",
    "df_raw.head()"
   ]
  },
  {
   "cell_type": "code",
   "execution_count": 34,
   "metadata": {},
   "outputs": [
    {
     "name": "stdout",
     "output_type": "stream",
     "text": [
      "<class 'pandas.core.frame.DataFrame'>\n",
      "RangeIndex: 1326 entries, 0 to 1325\n",
      "Data columns (total 14 columns):\n",
      "author             1326 non-null object\n",
      "creation_date      1326 non-null object\n",
      "expiry             370 non-null object\n",
      "last_reply         1326 non-null object\n",
      "parent_category    825 non-null object\n",
      "price              898 non-null object\n",
      "replies            1326 non-null int64\n",
      "saving             524 non-null object\n",
      "source             987 non-null object\n",
      "thread_category    1325 non-null object\n",
      "title              1326 non-null object\n",
      "url                1044 non-null object\n",
      "views              1326 non-null int64\n",
      "votes              1326 non-null int64\n",
      "dtypes: int64(3), object(11)\n",
      "memory usage: 145.2+ KB\n"
     ]
    }
   ],
   "source": [
    "df_raw.info()"
   ]
  },
  {
   "cell_type": "code",
   "execution_count": 35,
   "metadata": {},
   "outputs": [
    {
     "data": {
      "text/html": [
       "<div>\n",
       "<style scoped>\n",
       "    .dataframe tbody tr th:only-of-type {\n",
       "        vertical-align: middle;\n",
       "    }\n",
       "\n",
       "    .dataframe tbody tr th {\n",
       "        vertical-align: top;\n",
       "    }\n",
       "\n",
       "    .dataframe thead th {\n",
       "        text-align: right;\n",
       "    }\n",
       "</style>\n",
       "<table border=\"1\" class=\"dataframe\">\n",
       "  <thead>\n",
       "    <tr style=\"text-align: right;\">\n",
       "      <th></th>\n",
       "      <th>author</th>\n",
       "      <th>creation_date</th>\n",
       "      <th>expiry</th>\n",
       "      <th>last_reply</th>\n",
       "      <th>parent_category</th>\n",
       "      <th>price</th>\n",
       "      <th>replies</th>\n",
       "      <th>saving</th>\n",
       "      <th>source</th>\n",
       "      <th>thread_category</th>\n",
       "      <th>title</th>\n",
       "      <th>url</th>\n",
       "      <th>views</th>\n",
       "      <th>votes</th>\n",
       "    </tr>\n",
       "  </thead>\n",
       "  <tbody>\n",
       "    <tr>\n",
       "      <td>count</td>\n",
       "      <td>1326</td>\n",
       "      <td>1326</td>\n",
       "      <td>370</td>\n",
       "      <td>1326</td>\n",
       "      <td>825</td>\n",
       "      <td>898</td>\n",
       "      <td>1326.000000</td>\n",
       "      <td>524</td>\n",
       "      <td>987</td>\n",
       "      <td>1325</td>\n",
       "      <td>1326</td>\n",
       "      <td>1044</td>\n",
       "      <td>1326.000000</td>\n",
       "      <td>1326.000000</td>\n",
       "    </tr>\n",
       "    <tr>\n",
       "      <td>unique</td>\n",
       "      <td>946</td>\n",
       "      <td>1283</td>\n",
       "      <td>73</td>\n",
       "      <td>1253</td>\n",
       "      <td>12</td>\n",
       "      <td>610</td>\n",
       "      <td>NaN</td>\n",
       "      <td>286</td>\n",
       "      <td>148</td>\n",
       "      <td>55</td>\n",
       "      <td>1309</td>\n",
       "      <td>1019</td>\n",
       "      <td>NaN</td>\n",
       "      <td>NaN</td>\n",
       "    </tr>\n",
       "    <tr>\n",
       "      <td>top</td>\n",
       "      <td>immad01</td>\n",
       "      <td>Jul 13th, 2020 12:24 pm</td>\n",
       "      <td>July 2, 2020</td>\n",
       "      <td>Jul 17th, 2020 8:31 am</td>\n",
       "      <td>Computers &amp; Electronics</td>\n",
       "      <td>Free</td>\n",
       "      <td>NaN</td>\n",
       "      <td>50%</td>\n",
       "      <td>Amazon.ca</td>\n",
       "      <td>Computers &amp; Electronics</td>\n",
       "      <td>Book Outlet - Many Low Prices on Books (Free S...</td>\n",
       "      <td>https://staplescanada.4u8mqw.net/c/341376/7554...</td>\n",
       "      <td>NaN</td>\n",
       "      <td>NaN</td>\n",
       "    </tr>\n",
       "    <tr>\n",
       "      <td>freq</td>\n",
       "      <td>34</td>\n",
       "      <td>3</td>\n",
       "      <td>30</td>\n",
       "      <td>4</td>\n",
       "      <td>339</td>\n",
       "      <td>13</td>\n",
       "      <td>NaN</td>\n",
       "      <td>31</td>\n",
       "      <td>213</td>\n",
       "      <td>176</td>\n",
       "      <td>2</td>\n",
       "      <td>2</td>\n",
       "      <td>NaN</td>\n",
       "      <td>NaN</td>\n",
       "    </tr>\n",
       "    <tr>\n",
       "      <td>mean</td>\n",
       "      <td>NaN</td>\n",
       "      <td>NaN</td>\n",
       "      <td>NaN</td>\n",
       "      <td>NaN</td>\n",
       "      <td>NaN</td>\n",
       "      <td>NaN</td>\n",
       "      <td>52.892911</td>\n",
       "      <td>NaN</td>\n",
       "      <td>NaN</td>\n",
       "      <td>NaN</td>\n",
       "      <td>NaN</td>\n",
       "      <td>NaN</td>\n",
       "      <td>13734.675716</td>\n",
       "      <td>12.815988</td>\n",
       "    </tr>\n",
       "    <tr>\n",
       "      <td>std</td>\n",
       "      <td>NaN</td>\n",
       "      <td>NaN</td>\n",
       "      <td>NaN</td>\n",
       "      <td>NaN</td>\n",
       "      <td>NaN</td>\n",
       "      <td>NaN</td>\n",
       "      <td>144.362648</td>\n",
       "      <td>NaN</td>\n",
       "      <td>NaN</td>\n",
       "      <td>NaN</td>\n",
       "      <td>NaN</td>\n",
       "      <td>NaN</td>\n",
       "      <td>33812.256561</td>\n",
       "      <td>28.023994</td>\n",
       "    </tr>\n",
       "    <tr>\n",
       "      <td>min</td>\n",
       "      <td>NaN</td>\n",
       "      <td>NaN</td>\n",
       "      <td>NaN</td>\n",
       "      <td>NaN</td>\n",
       "      <td>NaN</td>\n",
       "      <td>NaN</td>\n",
       "      <td>-1.000000</td>\n",
       "      <td>NaN</td>\n",
       "      <td>NaN</td>\n",
       "      <td>NaN</td>\n",
       "      <td>NaN</td>\n",
       "      <td>NaN</td>\n",
       "      <td>127.000000</td>\n",
       "      <td>-73.000000</td>\n",
       "    </tr>\n",
       "    <tr>\n",
       "      <td>25%</td>\n",
       "      <td>NaN</td>\n",
       "      <td>NaN</td>\n",
       "      <td>NaN</td>\n",
       "      <td>NaN</td>\n",
       "      <td>NaN</td>\n",
       "      <td>NaN</td>\n",
       "      <td>5.000000</td>\n",
       "      <td>NaN</td>\n",
       "      <td>NaN</td>\n",
       "      <td>NaN</td>\n",
       "      <td>NaN</td>\n",
       "      <td>NaN</td>\n",
       "      <td>2191.750000</td>\n",
       "      <td>1.000000</td>\n",
       "    </tr>\n",
       "    <tr>\n",
       "      <td>50%</td>\n",
       "      <td>NaN</td>\n",
       "      <td>NaN</td>\n",
       "      <td>NaN</td>\n",
       "      <td>NaN</td>\n",
       "      <td>NaN</td>\n",
       "      <td>NaN</td>\n",
       "      <td>15.000000</td>\n",
       "      <td>NaN</td>\n",
       "      <td>NaN</td>\n",
       "      <td>NaN</td>\n",
       "      <td>NaN</td>\n",
       "      <td>NaN</td>\n",
       "      <td>4208.000000</td>\n",
       "      <td>5.000000</td>\n",
       "    </tr>\n",
       "    <tr>\n",
       "      <td>75%</td>\n",
       "      <td>NaN</td>\n",
       "      <td>NaN</td>\n",
       "      <td>NaN</td>\n",
       "      <td>NaN</td>\n",
       "      <td>NaN</td>\n",
       "      <td>NaN</td>\n",
       "      <td>45.000000</td>\n",
       "      <td>NaN</td>\n",
       "      <td>NaN</td>\n",
       "      <td>NaN</td>\n",
       "      <td>NaN</td>\n",
       "      <td>NaN</td>\n",
       "      <td>11146.250000</td>\n",
       "      <td>14.000000</td>\n",
       "    </tr>\n",
       "    <tr>\n",
       "      <td>max</td>\n",
       "      <td>NaN</td>\n",
       "      <td>NaN</td>\n",
       "      <td>NaN</td>\n",
       "      <td>NaN</td>\n",
       "      <td>NaN</td>\n",
       "      <td>NaN</td>\n",
       "      <td>2791.000000</td>\n",
       "      <td>NaN</td>\n",
       "      <td>NaN</td>\n",
       "      <td>NaN</td>\n",
       "      <td>NaN</td>\n",
       "      <td>NaN</td>\n",
       "      <td>507393.000000</td>\n",
       "      <td>319.000000</td>\n",
       "    </tr>\n",
       "  </tbody>\n",
       "</table>\n",
       "</div>"
      ],
      "text/plain": [
       "         author            creation_date        expiry  \\\n",
       "count      1326                     1326           370   \n",
       "unique      946                     1283            73   \n",
       "top     immad01  Jul 13th, 2020 12:24 pm  July 2, 2020   \n",
       "freq         34                        3            30   \n",
       "mean        NaN                      NaN           NaN   \n",
       "std         NaN                      NaN           NaN   \n",
       "min         NaN                      NaN           NaN   \n",
       "25%         NaN                      NaN           NaN   \n",
       "50%         NaN                      NaN           NaN   \n",
       "75%         NaN                      NaN           NaN   \n",
       "max         NaN                      NaN           NaN   \n",
       "\n",
       "                    last_reply          parent_category price      replies  \\\n",
       "count                     1326                      825   898  1326.000000   \n",
       "unique                    1253                       12   610          NaN   \n",
       "top     Jul 17th, 2020 8:31 am  Computers & Electronics  Free          NaN   \n",
       "freq                         4                      339    13          NaN   \n",
       "mean                       NaN                      NaN   NaN    52.892911   \n",
       "std                        NaN                      NaN   NaN   144.362648   \n",
       "min                        NaN                      NaN   NaN    -1.000000   \n",
       "25%                        NaN                      NaN   NaN     5.000000   \n",
       "50%                        NaN                      NaN   NaN    15.000000   \n",
       "75%                        NaN                      NaN   NaN    45.000000   \n",
       "max                        NaN                      NaN   NaN  2791.000000   \n",
       "\n",
       "       saving     source          thread_category  \\\n",
       "count     524        987                     1325   \n",
       "unique    286        148                       55   \n",
       "top       50%  Amazon.ca  Computers & Electronics   \n",
       "freq       31        213                      176   \n",
       "mean      NaN        NaN                      NaN   \n",
       "std       NaN        NaN                      NaN   \n",
       "min       NaN        NaN                      NaN   \n",
       "25%       NaN        NaN                      NaN   \n",
       "50%       NaN        NaN                      NaN   \n",
       "75%       NaN        NaN                      NaN   \n",
       "max       NaN        NaN                      NaN   \n",
       "\n",
       "                                                    title  \\\n",
       "count                                                1326   \n",
       "unique                                               1309   \n",
       "top     Book Outlet - Many Low Prices on Books (Free S...   \n",
       "freq                                                    2   \n",
       "mean                                                  NaN   \n",
       "std                                                   NaN   \n",
       "min                                                   NaN   \n",
       "25%                                                   NaN   \n",
       "50%                                                   NaN   \n",
       "75%                                                   NaN   \n",
       "max                                                   NaN   \n",
       "\n",
       "                                                      url          views  \\\n",
       "count                                                1044    1326.000000   \n",
       "unique                                               1019            NaN   \n",
       "top     https://staplescanada.4u8mqw.net/c/341376/7554...            NaN   \n",
       "freq                                                    2            NaN   \n",
       "mean                                                  NaN   13734.675716   \n",
       "std                                                   NaN   33812.256561   \n",
       "min                                                   NaN     127.000000   \n",
       "25%                                                   NaN    2191.750000   \n",
       "50%                                                   NaN    4208.000000   \n",
       "75%                                                   NaN   11146.250000   \n",
       "max                                                   NaN  507393.000000   \n",
       "\n",
       "              votes  \n",
       "count   1326.000000  \n",
       "unique          NaN  \n",
       "top             NaN  \n",
       "freq            NaN  \n",
       "mean      12.815988  \n",
       "std       28.023994  \n",
       "min      -73.000000  \n",
       "25%        1.000000  \n",
       "50%        5.000000  \n",
       "75%       14.000000  \n",
       "max      319.000000  "
      ]
     },
     "execution_count": 35,
     "metadata": {},
     "output_type": "execute_result"
    }
   ],
   "source": [
    "df_raw.describe(include='all')"
   ]
  },
  {
   "cell_type": "markdown",
   "metadata": {},
   "source": [
    "### Comments table"
   ]
  },
  {
   "cell_type": "code",
   "execution_count": 36,
   "metadata": {},
   "outputs": [
    {
     "data": {
      "text/html": [
       "<div>\n",
       "<style scoped>\n",
       "    .dataframe tbody tr th:only-of-type {\n",
       "        vertical-align: middle;\n",
       "    }\n",
       "\n",
       "    .dataframe tbody tr th {\n",
       "        vertical-align: top;\n",
       "    }\n",
       "\n",
       "    .dataframe thead th {\n",
       "        text-align: right;\n",
       "    }\n",
       "</style>\n",
       "<table border=\"1\" class=\"dataframe\">\n",
       "  <thead>\n",
       "    <tr style=\"text-align: right;\">\n",
       "      <th></th>\n",
       "      <th>title</th>\n",
       "      <th>comments</th>\n",
       "    </tr>\n",
       "  </thead>\n",
       "  <tbody>\n",
       "    <tr>\n",
       "      <td>0</td>\n",
       "      <td>Rheem 36kW Electric Tankless Water Heater Reg....</td>\n",
       "      <td>Purchased in store by a friend for 289+tax. We...</td>\n",
       "    </tr>\n",
       "    <tr>\n",
       "      <td>1</td>\n",
       "      <td>Rheem 36kW Electric Tankless Water Heater Reg....</td>\n",
       "      <td>Which store location? Do you have a picture of...</td>\n",
       "    </tr>\n",
       "    <tr>\n",
       "      <td>2</td>\n",
       "      <td>Rheem 36kW Electric Tankless Water Heater Reg....</td>\n",
       "      <td>OOS in BC</td>\n",
       "    </tr>\n",
       "    <tr>\n",
       "      <td>3</td>\n",
       "      <td>Rheem 36kW Electric Tankless Water Heater Reg....</td>\n",
       "      <td>Saint John, NB. Receipt posted!</td>\n",
       "    </tr>\n",
       "    <tr>\n",
       "      <td>4</td>\n",
       "      <td>Rheem 36kW Electric Tankless Water Heater Reg....</td>\n",
       "      <td>Only seems to be in stock (or is it) in Scarbo...</td>\n",
       "    </tr>\n",
       "  </tbody>\n",
       "</table>\n",
       "</div>"
      ],
      "text/plain": [
       "                                               title  \\\n",
       "0  Rheem 36kW Electric Tankless Water Heater Reg....   \n",
       "1  Rheem 36kW Electric Tankless Water Heater Reg....   \n",
       "2  Rheem 36kW Electric Tankless Water Heater Reg....   \n",
       "3  Rheem 36kW Electric Tankless Water Heater Reg....   \n",
       "4  Rheem 36kW Electric Tankless Water Heater Reg....   \n",
       "\n",
       "                                            comments  \n",
       "0  Purchased in store by a friend for 289+tax. We...  \n",
       "1  Which store location? Do you have a picture of...  \n",
       "2                                          OOS in BC  \n",
       "3                    Saint John, NB. Receipt posted!  \n",
       "4  Only seems to be in stock (or is it) in Scarbo...  "
      ]
     },
     "execution_count": 36,
     "metadata": {},
     "output_type": "execute_result"
    }
   ],
   "source": [
    "df_comments = pd.read_csv(\"rfd_comments.csv\").loc[:,\"title\":]\n",
    "df_comments.head()"
   ]
  },
  {
   "cell_type": "code",
   "execution_count": 37,
   "metadata": {},
   "outputs": [
    {
     "name": "stdout",
     "output_type": "stream",
     "text": [
      "<class 'pandas.core.frame.DataFrame'>\n",
      "RangeIndex: 1389 entries, 0 to 1388\n",
      "Data columns (total 2 columns):\n",
      "title       1389 non-null object\n",
      "comments    1387 non-null object\n",
      "dtypes: object(2)\n",
      "memory usage: 21.8+ KB\n"
     ]
    }
   ],
   "source": [
    "df_comments.info()"
   ]
  },
  {
   "cell_type": "markdown",
   "metadata": {},
   "source": [
    "## II. Data wrangling"
   ]
  },
  {
   "cell_type": "markdown",
   "metadata": {},
   "source": [
    "### Comment table"
   ]
  },
  {
   "cell_type": "markdown",
   "metadata": {},
   "source": [
    "From the the short exploration above we can see that we need to remove one row with missing values for the comments column. These probably correspond to comments without text. Further, comment strings will need to be cleaned."
   ]
  },
  {
   "cell_type": "code",
   "execution_count": 38,
   "metadata": {},
   "outputs": [
    {
     "name": "stdout",
     "output_type": "stream",
     "text": [
      "<class 'pandas.core.frame.DataFrame'>\n",
      "Int64Index: 1387 entries, 0 to 1388\n",
      "Data columns (total 2 columns):\n",
      "title       1387 non-null object\n",
      "comments    1387 non-null object\n",
      "dtypes: object(2)\n",
      "memory usage: 32.5+ KB\n"
     ]
    }
   ],
   "source": [
    "# Delete rows with empty comments\n",
    "df_comments.dropna(axis=0, inplace=True)\n",
    "df_comments.info()"
   ]
  },
  {
   "cell_type": "code",
   "execution_count": 40,
   "metadata": {},
   "outputs": [
    {
     "name": "stdout",
     "output_type": "stream",
     "text": [
      "[\"Purchased in store by a friend for 289+tax. Went back and got another for me for the same price. Not sure if it's a price error or a real sale.\\n\", 'Which store location? Do you have a picture of the advertised sticker price or receipt to price match? Hard to get this hot deal without much to go on', 'OOS in BC', 'Saint John, NB. Receipt posted!', 'Only seems to be in stock (or is it) in Scarborough in GTA.', 'You might have to upgrade your electrical service to use this. 36 kw at 240 volts works out to 150 amps. Lots of houses only have 100 amp services. \\nBetter to have a gas tankless water heater if you have gas service.', \"Kanus wrote: ↑\\nYou might have to upgrade your electrical service to use this. 36 kw at 240 volts works out to 150 amps. Lots of houses only have 100 amp services. \\nBetter to have a gas tankless water heater if you have gas service.\\n\\nEven with 200A... Lets say furnace is ON, this is 66A at my house. We are at 200 - 66 - 150 and we are already in the negative. Doesn't include dishwasher, oven, dryer, washer, TV, etc\\n\\nYou would need 2x200. The cost to get that is minimal compared to the heater.\", 'Picked a few up for the renovation in Laval, one left. Price on the shelf is 289', 'Seems like it would use a ton of electricity.\\nAn hour a day would be over 1000 kWh a month. I assume most of us would run it more than an hour a day.', 'Is the pricing store specific? Like you walk into your local store and have them pm OP receipt? That flies?', \"Chewfam wrote: ↑Seems like it would use a ton of electricity.\\nAn hour a day would be over 1000 kWh a month. I assume most of us would run it more than an hour a day.\\n\\nProvinces like Quebec electric is cheaper than gas or on par but in a place like Ontario no chance I'd get electric furnace/tankless.\\n\\nIf ever gets on par than yes electric for everything as 100% efficiency and less parts than a gas appliance. As with electrical prices in Ontario now won't be for decades.\", \"I've never had a tankless system, but I've been interested in them. If I understand correctly, this unit would be ideal to be installed for use in a bathroom, but wouldn't work for a whole home. Is that about right? I'm redoing my bathroom in Augustv and thought this might be a good addition, at this price.\", 'I’ve heard in cold climates that they can’t get freezing cold water hot enough fast enough . Not sure if this applies to this unit', \"dhomas wrote: ↑\\nI've never had a tankless system, but I've been interested in them. If I understand correctly, this unit would be ideal to be installed for use in a bathroom, but wouldn't work for a whole home. Is that about right? I'm redoing my bathroom in Augustv and thought this might be a good addition, at this price.\\n\\nI think it's rated to supply 2 showers simultaneously, so I'd say 2 bathrooms with showers. If somebody has to do a quick handwash while both showers are running, the temp should not change significantly, assuming a standard temperature-balancing faucet. \\n\\nI have a small single-point-of-use electric water heater and I think these things are rated conservatively to avoid complaints from customers about not being hot enough.\", \"thesubmitter wrote: ↑\\nI’ve heard in cold climates that they can’t get freezing cold water hot enough fast enough . Not sure if this applies to this unit\\n\\nIt's based on the starting temperature of the incoming water. At my cottage it comes in at around 5-10 degrees in the spring, but 25 in the summer. So there is a corresponding difference at the tap of course. It can only raise the incoming water temperature a set amount based on the wattage of the element. \\n\\nIf you're on city/town water there's not so much difference between summer and winter incoming water temps.\", \"Inno wrote: ↑\\nI think it's rated to supply 2 showers simultaneously, so I'd say 2 bathrooms with showers. If somebody has to do a quick handwash while both showers are running, the temp should not change significantly, assuming a standard temperature-balancing faucet. \\n\\nI have a small single-point-of-use electric water heater and I think these things are rated conservatively to avoid complaints from customers about not being hot enough.\\n\\nThanks for the info! I indeed have 2 bathrooms, but I would seldom use them at once. I suppose this could then replace my giant 60 gallon tank for my whole house? In total throughout the house, I have one full bathroom (with bath), one bathroom with shower only, a dishwasher, 3 bathroom faucets, and a kitchen faucet. Anyone have any advice on if this would be sufficient? (I'm in Montreal, so the electricity costs are minimal). Thanks for any advice!\", \"lilmikey wrote: ↑\\nProvinces like Quebec electric is cheaper than gas or on par but in a place like Ontario no chance I'd get electric furnace/tankless.\\n\\nIf ever gets on par than yes electric for everything as 100% efficiency and less parts than a gas appliance. As with electrical prices in Ontario now won't be for decades.\\n\\nI have a fairly big house and I use 23000 / year. Adding 1000 / month mean an increase of 50%. This is insane even in QC. This unit will not save you money. Period.\", 'How is it possible for people to install this? As previously mentioned, this requires 150 amps. Most modern day houses only have 200 amps fuse boxes.\\n\\nYou would need a sub panel at minimum.', 'EasyCompany251 wrote: ↑How is it possible for people to install this? As previously mentioned, this requires 150 amps. Most modern day houses only have 200 amps fuse boxes.\\n\\nYou would need a sub panel at minimum.\\nMinimum panels for homes now are 200 amp , just installed an AC in a townhouse and was shocked it had a 200A panel.', 'SquadG wrote: ↑\\nI have a fairly big house and I use 23000 / year. Adding 1000 / month mean an increase of 50%. This is insane even in QC. This unit will not save you money. Period.\\nIn Quebec electric furnaces with heatpumps are more common than gas furnaces for the reasons I stated \"cheap hydro\".\\n\\nWould be crazy to have electric furnace in Ontario.', 'We have a 22kw electric furnace and that thing is expensive to run,We dont have gas here..\\n\\nIve wanted one of these to replace a 60 gal tank. We have a 200amp service. Now is it going to be cheaper then the 60 cal tank and will it run with my furance at same time', \"Just went to the Anjou store. They had the tag at 289$ but none left in the store (I asked an associate). \\n\\nStill interested in learning more about these though. Are the energy requirements really as crazy as they seem? I'd really like to free up the space my 60 gallon tank takes, but not if it costs me twice as much in electricity costs.\", 'This link may be useful for people. Data sheet for these. \\nhttps://s3.amazonaws.com/WebPartners/Pr ... B7272C.pdf\\n\\nIt is 4*40A breakers with a maximum draw of 150A at highest flow rate. You should ideally have a 300A or 400A service. On 200A you may be ok, but not with an electric furnace also.', 'lilmikey wrote: ↑\\nMinimum panels for homes now are 200 amp , just installed an AC in a townhouse and was shocked it had a 200A panel.\\n\\nI have a house built around 2003-2004 with a 200A panel. This electric tankless would likely require at least 400A. Are there many new construction houses today fitted with 400A panels (without them being 6000 square feet houses)?\\n\\nAnother thing is that having a 400A panel is one thing....the other is whether your local utility can even provide for 400A. This would likely be based upon the transformer available in your area.\\n\\nBased on the rate manual of my local utility, they do not even offer such a high amperage service.', 'Unless you live in Quebec, say hello to sky high electric bills with one of these things.', 'Install is going to cost you, 4x 40A breakers and 4 runs of NMD 8/2', \"This thing is plain stupid. If you find your electric water heater isn't providing hot water quickly enough, then have each heating element on its own wire/breaker. For example, a 4800W tank will need two 30amps @ 240V breaker and will consume up to 9600W. Cut heating time by about 50%. And 40amps can fit in a 100/200amps panel.\\n\\nIf you need to know more read this thread.\", \"Isn't the main reason why this needs so much electricity is to keep a heat exchanger ripping hot so water flowing past at 90psi can be heated to 120F in an instant? At least with a tank the heater has the opportunity to heat water up slowly and burn less electricity?\", \"I've had a Rinnai RL75iN tankless natural gas water heater for years. One of the best makes out there.\\n\\nThe only thing I've ever done is pump vinegar through it a couple of times, (very easy to do with an aquarium pump and a pail... our water is hard) and yesterday I had to take the exhaust fan out to vacuum the dead bees and moths out of it as it was giving a code 10 error once in a while. This spring in Saskatchewan is very bad for moths, for some reason.\\n\\nNot bad for 20 years of virtually trouble free service.\\n\\nWe are on very cold well water on our acreage as well. \\n\\nI can't recommend these more... no more heating 60 or more gallons of water 24/7.\\n\\nI would caution against the electric model, unless perhaps you're in Quebec where rates are cheap. The natural gas only requires a regular electrical outlet, and a 3/4 in gas line to feed it. \\n\\nI've saved many $100's on natural gas over the years.\", \"3ajs wrote: ↑\\nIsn't the main reason why this needs so much electricity is to keep a heat exchanger ripping hot so water flowing past at 90psi can be heated to 120F in an instant? At least with a tank the heater has the opportunity to heat water up slowly and burn less electricity?\\n\\nIn theory both are 100% efficient at heating the water, a tankless doesn't have to keep the water hot however so it's a bit more efficient.\\nAnd you get an unlimited supply of hot water.\\n\\nI've been using a 27kw chinese one for a couple of years now, requires decalc/maintenance every 6 months as the water here is on the harder side.\\n\\nYou can also get sudden increase in temperature if someone else is using (lots) hot water and turn off their faucet elsewhere because the heat then have no where else to go.\\nBest if you can install a temperature mixing valve at the output to prevent this...\\n\\nI set mine to 37-38C so there's less energy waste to heat it to 60C and mixing with cold water, I get warm water on the hot side and reduces risk of scaling, eg with kids.\\n\\nI think when it goes. I'll get a heat pump tank instead, takes more room but less issues and above 100% efficiency.\", 'NG and I would be all over this.', 'CaptSmethwick wrote: ↑\\nNG and I would be all over this.\\nI was lucky, I bought my Rinnai RL75iN on eBay 20 years ago for about 1/2 what they cost now, installed it myself, (super easy) and had a friend with a gas ticket hook it up, then inspected. \\n\\nLove it.', \"Nice price for sure, but with a 20kw furnace boiler already on my 200A panel, there is no way I could install one of these.\\n\\nMost decent bottom entry 60G hot water tanks don't use that much electricity on standby to maintain the water temp anyhow. Most have decent insolation around the tank, and the bottom element may come on once in while, but nothing drastic. Yes, if you are going on an extended vacation, you may as well shut it off, but otherwise, I don't see an issue. I replaced y 60G electric, nearly 16 years ago, and still going. Probably overdue to replace it, and will probably do that next time they have a sale on them  Either way not worried too much, it is right next to a large drain anyhow.\\n\\nNow, if natural gas was available in my area, that would be a different story \", \"EasyCompany251 wrote: ↑\\nI have a house built around 2003-2004 with a 200A panel. This electric tankless would likely require at least 400A. Are there many new construction houses today fitted with 400A panels (without them being 6000 square feet houses)?\\n\\nAnother thing is that having a 400A panel is one thing....the other is whether your local utility can even provide for 400A. This would likely be based upon the transformer available in your area.\\n\\nBased on the rate manual of my local utility, they do not even offer such a high amperage service.\\nI agree, but you can go to 300A/400A service for few thousand if power coming from overhead to house, underground would be a different story.\\nThe AC I installed in that townhouse must have been like 1200sq ft , 200A service is nuts as the minimum but I guess with the electric cars becoming the future they need to be at that.\\nOKSpring wrote: ↑Unless you live in Quebec, say hello to sky high electric bills with one of these things.\\n@EasyCompany251 this guy knows \\nDaijoubu wrote: ↑\\nIn theory both are 100% efficient at heating the water, a tankless doesn't have to keep the water hot however so it's a bit more efficient.\\nAnd you get an unlimited supply of hot water\\nPretty much, electric is 100% efficient but then the tank is maintaining the temperature when using it or not which is loss.\\n\\nEmporium wrote: ↑Nice price for sure, but with a 20kw furnace boiler already on my 200A panel, there is no way I could install one of these.\\nThis guy is from QC @EasyCompany251 so he knows electric costs are cheap since he is running a 20KW heater in his furnace/air handler.\", \"lilmikey wrote: ↑\\nThis guy is from QC @EasyCompany251 so he knows electric costs are cheap since he is running a 20KW heater in his furnace/air handler.\\n\\nI don't see your point. With a 20kW furnace (which I have also, but in a form of a boiler with water circulation rads), you are looking at 85A. With a 24k BTU A/C, 2 fridges, 2 stoves, 60G hot water tank, Dryer, washer, etc.., not to mention all the other appliances, there is no way you could add this to a standard 200A service. I'm in QC also, with my current Hydro bill, I feel like a Hydro VIP customer. It hurts at over $4k/yr in hydro costs. So just because hydro price is cheap does not mean you have the infrastructure to support unlimited electrical devices.\\n\\nTo be able to have a lot of high power devices, you'd need to upgrade to a 400A service, which is not very common yet (at least not here in QC). This would involve hydro replacing the incoming lines, and a new meter. Then you'd have to get an electrician to do the inside \\nwork. Either complete new panel, or a new main breaker and sub-panels (ugly patches in my opinion). For now, it is overkill for most. However with higher power requirements, like electric car charging outlets and other stuff, it may become more standard going forward.\\n\\nWhen i bought my house 22yrs ago, they had a 120A service entrance, and ugly main breaker panel with piles of spaghetti subpanels. They already had this 20kw boiler, and let me tell you, it was a fire hazard. You had to see the inside of one of the sub-panels (it was crumbling from the constant overheat). It was the first thing I replaced, and upgraded from a 120A service to a 200A service, ripping out all the subpanels, and replaced with one nice large breaker panel (60 breakers). Best upgrade I even made. Plenty of room to properly isolate everything during other renos (bathroom, kitchen, basement/media room, etc..)\\n\\nWith Montreal having already banned wood burning fireplaces for the most part, and trying to slowly ban oil burning furnaces (in the very near future), there won't be much of an option for many people, but electric and upgraded panels. Natural Gaz which I'd love to have in my neighborhood would be nice (for stoves, bbqs, furnace, water heater, etc..), but unfortunately the network is limited and not available in my area. Propane is not a huge option, since I don't have enough space to put the ugly big tank without being legally too close to a neighbor.\", 'This is a bad choice if:\\n\\n1) if you already have gas service\\n\\n2) your grid is consist of majority of burning fossil fuel\\n\\n3) You have not invested in solar + battery in your home\\n\\n\\n', 'Any left at this price? This unit would make a nice boiler for radiant floor heat where gas is not available', 'I picked one up and after analyzing it, its fairly useless for most people.\\n150A max draw\\n\\nsome houses are at 100A total service, newer houses are 200A total service.Upgrading service is like a 5k job to say a 320A\\nso yeah, kind of risk to let this thing draw 150A at any point in time.... Better off getting a 2nd water tank.\\n\\nIf someone in Montreal wants one, I can give it to you for cost... PM me', 'Pretty sure the commercial space is the target for this product.', \"thesubmitter wrote: ↑\\nI picked one up and after analyzing it, its fairly useless for most people.\\n150A max draw\\n\\nsome houses are at 100A total service, newer houses are 200A total service.Upgrading service is like a 5k job to say a 320A\\nso yeah, kind of risk to let this thing draw 150A at any point in time.... Better off getting a 2nd water tank.\\n\\nIf someone in Montreal wants one, I can give it to you for cost... PM me\\n\\nLol that's probably why it's clearance. No one has the existing infrastructure in their homes to power the tankless electric water heater, and it costs way too much to upgrade homes to make the heater work.\", \"I was recently involved in a project where a 400a service was installed in a residential building. Apart from the obvious extra cost of the materials, the electricians were not that well versed in the install as they hadn't done one in over 5 years. The local electrical suppliers didn't even carry stock on a lot of the required materials. HydroOne didn't really have an issue with it (surprisingly) once you talked to the right people. I never saw the final bill, but if I believe the final bill for the service was 2 to 3 times that of a convention 200a service. In my opinion, I think you have some much better options out there for the delivery of hot water. This unit is geared at a pretty niche market.\", \"Daijoubu wrote: ↑\\nInstall is going to cost you, 4x 40A breakers and 4 runs of NMD 8/2\\nI'm not sure why the other guys are guessing when it says this right on the product page.\", 'Kanus wrote: ↑\\nYou might have to upgrade your electrical service to use this. 36 kw at 240 volts works out to 150 amps. Lots of houses only have 100 amp services. \\nBetter to have a gas tankless water heater if you have gas service.\\n\\nAND Hydro rates are very expensive', 'cwb27 wrote: ↑\\nPretty sure the commercial space is the target for this product.\\n\\nCommercial will probably have 3 phases lol', 'Daijoubu wrote: ↑\\nCommercial will probably have 3 phases lol\\n\\nSure, but not always the case.', '@looking4junk \\n\\nHey OP, what are you using this for?', \"Emporium wrote: ↑\\nI don't see your point. With a 20kW furnace (which I have also, but in a form of a boiler with water circulation rads), you are looking at 85A. With a 24k BTU A/C, 2 fridges, 2 stoves, 60G hot water tank, Dryer, washer, etc.., not to mention all the other appliances, there is no way you could add this to a standard 200A service. I'm in QC also, with my current Hydro bill, I feel like a Hydro VIP customer. It hurts at over $4k/yr in hydro costs. So just because hydro price is cheap does not mean you have the infrastructure to support unlimited electrical devices.\\n\\nTo be able to have a lot of high power devices, you'd need to upgrade to a 400A service, which is not very common yet (at least not here in QC). This would involve hydro replacing the incoming lines, and a new meter. Then you'd have to get an electrician to do the inside \\nwork. Either complete new panel, or a new main breaker and sub-panels (ugly patches in my opinion). For now, it is overkill for most. However with higher power requirements, like electric car charging outlets and other stuff, it may become more standard going forward.\\n\\nWhen i bought my house 22yrs ago, they had a 120A service entrance, and ugly main breaker panel with piles of spaghetti subpanels. They already had this 20kw boiler, and let me tell you, it was a fire hazard. You had to see the inside of one of the sub-panels (it was crumbling from the constant overheat). It was the first thing I replaced, and upgraded from a 120A service to a 200A service, ripping out all the subpanels, and replaced with one nice large breaker panel (60 breakers). Best upgrade I even made. Plenty of room to properly isolate everything during other renos (bathroom, kitchen, basement/media room, etc..)\\n\\nWith Montreal having already banned wood burning fireplaces for the most part, and trying to slowly ban oil burning furnaces (in the very near future), there won't be much of an option for many people, but electric and upgraded panels. Natural Gaz which I'd love to have in my neighborhood would be nice (for stoves, bbqs, furnace, water heater, etc..), but unfortunately the network is limited and not available in my area. Propane is not a huge option, since I don't have enough space to put the ugly big tank without being legally too close to a neighbor.\\nWith Electric cars and carbon exhaust elimination in process ie. no natural gas furnace (who knows the timeline) 300A/400A common panels are around the corner but not now. This heater would be geared towards commercial 208/220V applications or homes where hydro is cheaper (yes QC is much more cheaper than Ontario) so no chance this would work in Ontario at all. Propane and Hydro in Ontario is too expensive so NG is best way at the current rates. Next cheapest would be geothermal but big initial cost. \\n\\nSo you know what I see here in Ontario I went to quote a central air system for a townhome that only had electric baseboard heating, homeowner told me they were paying $800 a month in hydro during winter months with stat set to 19C. Hydro in the 70s here was cheaper or on par with NG so many homes built in timeline are electric baseboards or electric furnaces. Thats close $5000 just in hydro during winter months for a townhome so $4K for your i'm assuming detached house isnt as bad as you may think.\\n\\nTo change your panel to whatever 200A/300A/400A the homeowner would need to change meter sub base, panel obviously and then the wire leading up to the connection up at the pole on home. This can all be done in a day as its scheduled with electrician , ESA and local utility, $3000-$5000 in Ontario. Homes large or small with EVs , Hot tubs/sauna going to need min 200A then you add a detached garage/work shop etc. 300A easily, in future when no more NG furnaces and it goes to electric then add 2 EV charging stations with Hot tub/sauna with detached work shop sub panel its coming to 400A. This is years away so until then NG all the way or have a commercial space were you dont pay electrical then get this thing lol\", 'Kinda resurrecting an old thread here, but the Home Depot in Anjou restocked these at an even lower price of 216$. I picked up two of them, not sure if there are any more.', \"Imago wrote: ↑\\nI've had a Rinnai RL75iN tankless natural gas water heater for years. One of the best makes out there.\\n\\nThe only thing I've ever done is pump vinegar through it a couple of times, (very easy to do with an aquarium pump and a pail... our water is hard) and yesterday I had to take the exhaust fan out to vacuum the dead bees and moths out of it as it was giving a code 10 error once in a while. This spring in Saskatchewan is very bad for moths, for some reason.\\n\\nNot bad for 20 years of virtually trouble free service.\\n\\nWe are on very cold well water on our acreage as well. \\n\\nI can't recommend these more... no more heating 60 or more gallons of water 24/7.\\n\\nI would caution against the electric model, unless perhaps you're in Quebec where rates are cheap. The natural gas only requires a regular electrical outlet, and a 3/4 in gas line to feed it. \\n\\nI've saved many $100's on natural gas over the years.\\n\\nI totally agree with the above. I personally would never go tankless unless it's with gas. I had a Rinnai too in my previous home in Quebec. With a family of 5, I loved the fact that we never ran out of hot water. One thing we really found annoying though is the fact that these tankless systems require a certain minimum flow before they start heating up the water. How did that impact us? I personally like having a trickle of hot water while doing the dishes (for rinsing purposes). The flow wasn't quite enough for me to be able get hot water out of the tankless system. I'd also say that it took a little longer before I could get hot water in the kitchen compared to the gas heater that we had before. A small annoyance, but a noticeable one nevertheless. Some people install a small tank underneath their sink in the kitchen to work around the two problems I explained above.\", \"silent air compressor...i've looked around and it usually sells for around 290-300$+...it's in liquidation and they deliver for 10$.\\n\\nyou'll find similar product at the same or similar price point but the noise level of this thing seems slightly better with 73db...compared to say the porter cable (75db) or the dewalt (78db)\", 'Made a mistake in the store name :/ can a mod correct it for me?\\n\\nThx', 'You can edit yourself by clicking edit post\\n( the little pencil icon )', 'You’re right  I may have had a brain fart episode', 'Its Outils Pierre Berger, but whatever ', 'Shipping outside Quebec = 33$ ', 'Fast charge MOphie usb c high quality cable $4 SKU: 409903783\\n\\nhttps://www.pcnation.com/web/details/6Z ... 0056101494', \"I have a 6ft one (non-Morphie) from Dollarama that does fast charging for some adapters. For $4, it's worth the risk.\", \"recordman wrote: ↑\\nFor $4, it's worth the risk.\\n\\nIsn't the risk that you damage your phone? Or is that only for A-C cables?\", 'wow nice i will buy', 'Anyone have a picture for the packaging?\\nTIA\\n\\nWill be on a look out.', 'jay-em wrote: ↑\\nAnyone have a picture for the packaging?\\nTIA\\n\\nWill be on a look out.\\n\\nThere should be one in the Dollarama thread iirc', \"Terabithia wrote: ↑\\nThere should be one in the Dollarama thread iirc\\nThank you kindly sir/ma'am.\", \"Where does it say this is a 3.1 cable? (I didn't see that it states 3.1 in the picture in the dollarama thread) A lot of USB-C cables are only USB 2.0\", 'Never heard of this brand, supposed to be some awesome brand?', \"divx wrote: ↑\\nNever heard of this brand, supposed to be some awesome brand?\\n\\nDon't know if there is such thing as a awesome brand of cables. But Mophie is a well established brand that's been around awhile. So it's not some no-name vendor.\", 'Mophie has been around a long time. They have made battery cases for iPhones for years. The Apple store sells the Mophie USB c to USB c cable (1m) for 29.95. Great deal. I had just picked up one today and was going to post.\\nhttps://www.apple.com/ca/shop/product/H ... nector-1-m\\n', 'vtachy wrote: ↑\\nMophie has been around a long time. They have made battery cases for iPhones for years. The Apple store sells the Mophie USB c to USB c cable (1m) for 29.95. Great deal. I had just picked up one today and was going to post.\\nhttps://www.apple.com/ca/shop/product/H ... nector-1-m\\n\\nThis Dollarama one looks different than the Apple store one. \\nI always have to wonder if Dollarama bought a stockload of rejected cables.', 'jay-em wrote: ↑Anyone have a picture for the packaging?\\nTIA\\n\\nWill be on a look out.\\nLooks like so + other cables', \"shabby wrote: ↑\\nLooks like so + other cables\\nWas about to post this for other who's looking.\\nThanks again.\", 'Is this ON/GTA only?', 'This is the picture from the other thread\\n\\n', \"604al wrote: ↑\\nIsn't the risk that you damage your phone? Or is that only for A-C cables?\\n\\nI think it's only for usb-A where a pull-up resistor should be used.\", 'Thanks OP, but please edit the title: it is 5 feet in length (not 4 ft) and it is a \"charging cable\", not a USB 3.1 data cable. The manufacturer does not claim USB 3.1 and does not even call it \"data\" or \"sync\" cable, which usually means that it is only USB 2.', 'ahoroba wrote: ↑\\nThanks OP, but please edit the title: it is 5 feet in length (not 4 ft) and it is a \"charging cable\", not a USB 3.1 data cable. The manufacturer does not claim USB 3.1 and does not even call it \"data\" or \"sync\" cable, which usually means that it is only USB 2.\\n\\nYup, I just went to pick one up and there is no indication that it\\'s USB 3.1\\n\\nThe cable connector looks long enough to house an e-marker chip, so I was hoping it was a 3.1 cable, but I doubt it since no where on the package does it say anything of the sort.\\n\\nedit: it might be a 3.1 after all as indicated in OP\\'s link', \"shabby wrote: ↑\\nLooks like so + other cables\\n\\nIt says charging cable, so no data transfer? I don't know how I feel about buying cable from a dollar store, they are known for crap quality disposable items.\", 'ikea also has usb type c cables for $6.99\\nhttps://www.ikea.com/ca/en/p/lillhult-u ... -20465263/\\nmight be better since ikea prob has exchange and return policy if its not working.\\nits ikea branded and no reviews yet so i guess its fairly new, but their other cables like micro usb and apple cable seem to have good reviews.', \"divx wrote: ↑\\nIt says charging cable, so no data transfer? I don't know how I feel about buying cable from a dollar store, they are known for crap quality disposable items.\\n\\nCharging cables like this allow data transfer at USB 2.0 speeds. (edit: I am wrong, this is a 3.1 data cable)\\n\\nFast USB-C data cables support both charging and high speed data transfer. They never come cheap. For example, Amazonbasic sells one for $30 https://www.amazon.ca/AmazonBasics-Doub ... cs&sr=1-17\", '$30 for cable is pretty expensive', 'if you guys want a usb 3.1 cable amazon has the anker powerline at 14.99 on sale right now mark down from 29.99\\nhttps://www.amazon.ca/Anker-PowerLine-D ... 708&sr=8-5', 'Will this Mophie cable charge at 45W? Has anyone tried?', 'cbt123 wrote: ↑\\nWill this Mophie cable charge at 45W? Has anyone tried?\\n\\nusb 2.0 will never be able to charge that fast. there is a limit to how many watts a 2.0 cable can deliver.\\nthat 3.1 anker powerline i posted is rated up to 60w\\nusb 2.0 are usually up to 15w and data transfer of 480mbps\\nusb 3.0 and up are usually around 60-100w and transfer from 5gbps to 10gbps', \"warpdrive wrote: ↑\\nWhere does it say this is a 3.1 cable? (I didn't see that it states 3.1 in the picture in the dollarama thread) A lot of USB-C cables are only USB 2.0\\n\\nWhat is the difference, charging speed? Or data speed? Or both?\", 'AllanT232 wrote: ↑\\nikea also has usb type c cables for $6.99\\nhttps://www.ikea.com/ca/en/p/lillhult-u ... -20465263/\\nmight be better since ikea prob has exchange and return policy if its not working.\\nits ikea branded and no reviews yet so i guess its fairly new, but their other cables like micro usb and apple cable seem to have good reviews.\\n\\nAll this time ive never thought of ikea but now i know', \"I bought 3 bad USB c cables (different brand) from Dollarama. Every single one of them died after a few uses. $12 gone .. burned too many times. I saw this at Dollarama and passed because didn't want to make same mistake again. Could have purchased a decent cable from Amazon for $12 with warranty.\", \"I've been quite happy with my 100 yen USB-C cables from Daiso! \\n\\nRon.\", \"Got several varieties of Rox cables from Giant Tiger for $10 each. 3 meters in length. Great that I don't have to stretch to plug them in to any devices. I see a few people are saying they broke them after a month. They must be hard on their equipment. The Iphone ones work on my Ipad mini and Iphone 5SE, so I'm okay with that rather than paying Apple $30 each for shorter cables. I have a C hooked up to the Switch for use with a full size controller with no problems and several Micro ones with Android devices. But I've noticed the Dollarma cables like the Iphone ones don't work to even charge the phone. Spent a couple bux more but got something that works (for me)...\", \"604al wrote: ↑\\nIsn't the risk that you damage your phone? Or is that only for A-C cables?\\n\\nIf you're talking about the resistor, that's only for C to A cables; it's not so much that a cable without one would necessarily damage your phone, but the cable and or wall adapter might catch fire without it lol. Sure your phone could be damaged as a result too but it's more the fact that without the resistor it can overload the wall plug and/or cable.\\n\\nI got my own question though, for anyone that can answer... When you plug a phone into a computer via an A cable it typically charges quite slowly which is expected given the old skool 500mA limit of USB ports on computers. Basically you get like 300mA charge rate. If you use a type-C to type-C cable and plug into a native type-C port on a computer, will you get more charge current?\", \"warpdrive wrote: ↑\\nCharging cables like this allow data transfer at USB 2.0 speeds.\\n\\nFast USB-C data cables support both charging and high speed data transfer. They never come cheap. For example, Amazonbasic sells one for $30 https://www.amazon.ca/AmazonBasics-Doub ... cs&sr=1-17\\n\\nThere's a few options apart from spending $30--the Anker one is on sale as someone mentioned; this Ugreen one (rated for 60W with PD) is $15 on Amazon but would be cheaper on Ugreen's store on eBay (though shipped from China there and who knows how long it will take to get whereas Amazon it can be there same evening):\\nhttps://www.amazon.ca/UGREEN-Braided-Ch ... 0793MG1GK/\", 'ES_Revenge wrote: ↑\\n[...]\\nI got my own question though, for anyone that can answer... When you plug a phone into a computer via an A cable it typically charges quite slowly which is expected given the old skool 500mA limit of USB ports on computers. Basically you get like 300mA charge rate. If you use a type-C to type-C cable and plug into a native type-C port on a computer, will you get more charge current? \\nType-C is just a \"form factor\". The answer to your question depends on what USB protocol is implemented inside the type-C port of your computer. If it is USB 3.1 then I believe that the specifications allow for up to 3A of charging current to flow out to the connected peripheral (and up to 5A to flow in the other direction, charging the laptop\\'s battery from a charger). \\n\\nBut, if the phone is fitted with any of the modern charging protocols (QC2, QC3, etc.), there is seldom need for a charging current of 3A, because it is much easier to increase the charging voltage at the USB 3.1 port (e.g. instead of 5V and 3A charging, the protocol will negotiate a charging current of 1.25A at 12V).', 'ahoroba wrote: ↑\\nType-C is just a \"form factor\". \\nThat I\\'m well aware of but type-C has higher power limits than A-type connectors as well. \\nahoroba wrote: ↑The answer to your question depends on what USB protocol is implemented inside the type-C port of your computer. If it is USB 3.1 then I believe that the specifications allow for up to 3A of charging current to flow out to the connected peripheral (and up to 5A to flow in the other direction, charging the laptop\\'s battery from a charger). \\nYeah I was just curious since sometimes I would plug my phone into my computer at work to charge and it\\'s pretty slow charging--not a huge deal as I\\'m there all day anyway but the (Dell Optiplex) have a front USB-C port, just wondering if it would charge any faster through there. At home I\\'m definitely using a wall adapter with Qualcomm QC.\\nahoroba wrote: ↑But, if the phone is fitted with any of the modern charging protocols (QC2, QC3, etc.), there is seldom need for a charging current of 3A, because it is much easier to increase the charging voltage at the USB 3.1 port (e.g. instead of 5V and 3A charging, the protocol will negotiate a charging current of 1.25A at 12V).\\n\\nYep aware of all that too, I was just wondering if I got a C-to-C cable if it\\'d charge faster from an office computer specifically as opposed to wall-charging with fast-charge protocols, etc.', 'ES_Revenge wrote: ↑\\nThere\\'s a few options apart from spending $30--the Anker one is on sale as someone mentioned; this Ugreen one (rated for 60W with PD) is $15 on Amazon but would be cheaper on Ugreen\\'s store on eBay (though shipped from China there and who knows how long it will take to get whereas Amazon it can be there same evening):\\nhttps://www.amazon.ca/UGREEN-Braided-Ch ... 0793MG1GK/\\n\\nThe $15 Ugreen cable you linked is only \"USB 3.1 Gen 1\" which maxes out at 5Gbps data transfer rate.\\n\\nFor $1-$2 more, you can get USB C cables from Amazon that are \"USB 3.1 Gen 2\" with 10Gbps data transfer rate (while still doing 100W Power Delivery which means 5A charging current at 20V). A couple of examples from well-reviewed and/or certified mid-tier Chinese brands:\\nhttps://www.amazon.ca/certifi%C3%A9-Usb ... B01L0F6AJI\\nhttps://www.amazon.ca/dp/B07Y86RTS8/ref ... B07YMXG1C6', 'ahoroba wrote: ↑\\nThe $15 Ugreen cable you linked is only \"USB 3.1 Gen 1\" which maxes out at 5Gbps data transfer rate.\\nThe conductors are the same. A \"3.0\", \"3.1 Gen 1\", or \"USB 3.2 Gen 1×1\" (they got real crazy with the naming) cable all should be able to do either \"3.1 Gen 2\" & \"USB 3.2 Gen 2×1\" (which are the same) OR \"3.2 Gen 1x2\" which is different signalling but all three are 10Gbps. This is assuming the cable is decent quality.\\n\\nThe only thing you need different cables for is the 20Gbps rate of \"USB 3.2 Gen 2×2\". Talk about confusing naming these clowns thought up. Must be the same guys that made up \"PCMCIA\" back in the day ', 'any recommend for the power adapter for this cable?', \"im more interested in the spec for it\\n\\nBest USB C cable I got is this red braided 2M cables I got in Hong Kong that say it's oppo fast charge compatible for like $2 CAD each, i can use them with any fast charge phone tech w/ adapter and it works.\", \"604al wrote: ↑\\nIsn't the risk that you damage your phone? Or is that only for A-C cables?\\n\\nA-C cables were an issue because of incorrect implementation of resistors causing the quick charger to go into too high of a voltage, which was the cause of the damages. C-C cables, even the cheapest ones that is only USB 2.0 for data, is already sufficient for most phone quick charging at 18W. You only need higher rated cables if you're charging laptops, those need the e-marker to allow the charger to go high power.\", \"Went to 3 dollarama's and couldn't find it in Woodbridge.\", \"604al wrote: ↑\\nIsn't the risk that you damage your phone? Or is that only for A-C cables?\\n\\nDamage your phone? Worst case scenario is slow charging.\", 'I got this the other day. I was surprised how long it was even thought I already knew it was 1.5 metres lol. . Also its actually a brand i heard of which is a plus and they sell the 1m and 2m at the apple store which is reassuring.', \"There are USB 3.1 Gen 2 (10Gbps) rated cables for under $10 at Prime Cables: https://www.primecables.ca/p-356977-cab ... #sku365277\\nI have a few of these cheap cables on order to test an external NVMe SSD for 10 Gbps, so I'll be testing them soon after they arrive. I got both a Type A->C and an C->C from Prime Cables, but I needed $50 on the order to get free delivery.\\nIf I have any issues with the cheapies from Prime Cables, I'll spend a few dollars more and go with Infinite Cables: https://www.infinitecables.com/usb/usb- ... pe-c-male/\\nI have bought lots of different cables from them and they always perform as advertised.\\nThere is no way I'd spend $30 on a short/standard USB cable.\", \"dangerousfob wrote: ↑\\nI bought 3 bad USB c cables (different brand) from Dollarama. Every single one of them died after a few uses. $12 gone .. burned too many times. I saw this at Dollarama and passed because didn't want to make same mistake again. Could have purchased a decent cable from Amazon for $12 with warranty.\\n\\nDid you bend your cables much? I don't see how they can break so easily.\"]\n"
     ]
    }
   ],
   "source": [
    "# Print first 100 comments\n",
    "print([x for x in df_comments['comments'][0:100]])"
   ]
  },
  {
   "cell_type": "markdown",
   "metadata": {},
   "source": [
    "The only way to clean these strings up will be through regular expressions. \n",
    "\n",
    "The following should be removed:  \n",
    "* ↑ symbols\n",
    "* \\n new line characters\n",
    "* urls"
   ]
  },
  {
   "cell_type": "code",
   "execution_count": 41,
   "metadata": {},
   "outputs": [
    {
     "name": "stdout",
     "output_type": "stream",
     "text": [
      "[\"Purchased in store by a friend for 289+tax. Went back and got another for me for the same price. Not sure if it's a price error or a real sale. \", 'Which store location? Do you have a picture of the advertised sticker price or receipt to price match? Hard to get this hot deal without much to go on', 'OOS in BC', 'Saint John, NB. Receipt posted!', 'Only seems to be in stock (or is it) in Scarborough in GTA.', 'You might have to upgrade your electrical service to use this. 36 kw at 240 volts works out to 150 amps. Lots of houses only have 100 amp services.  Better to have a gas tankless water heater if you have gas service.', \"Kanus wrote:  You might have to upgrade your electrical service to use this. 36 kw at 240 volts works out to 150 amps. Lots of houses only have 100 amp services.  Better to have a gas tankless water heater if you have gas service. Even with 200A... Lets say furnace is ON, this is 66A at my house. We are at 200 - 66 - 150 and we are already in the negative. Doesn't include dishwasher, oven, dryer, washer, TV, etc You would need 2x200. The cost to get that is minimal compared to the heater.\", 'Picked a few up for the renovation in Laval, one left. Price on the shelf is 289', 'Seems like it would use a ton of electricity. An hour a day would be over 1000 kWh a month. I assume most of us would run it more than an hour a day.', 'Is the pricing store specific? Like you walk into your local store and have them pm OP receipt? That flies?', \"Chewfam wrote: Seems like it would use a ton of electricity. An hour a day would be over 1000 kWh a month. I assume most of us would run it more than an hour a day. Provinces like Quebec electric is cheaper than gas or on par but in a place like Ontario no chance I'd get electric furnace/tankless. If ever gets on par than yes electric for everything as 100% efficiency and less parts than a gas appliance. As with electrical prices in Ontario now won't be for decades.\", \"I've never had a tankless system, but I've been interested in them. If I understand correctly, this unit would be ideal to be installed for use in a bathroom, but wouldn't work for a whole home. Is that about right? I'm redoing my bathroom in Augustv and thought this might be a good addition, at this price.\", 'I’ve heard in cold climates that they can’t get freezing cold water hot enough fast enough . Not sure if this applies to this unit', \"dhomas wrote:  I've never had a tankless system, but I've been interested in them. If I understand correctly, this unit would be ideal to be installed for use in a bathroom, but wouldn't work for a whole home. Is that about right? I'm redoing my bathroom in Augustv and thought this might be a good addition, at this price. I think it's rated to supply 2 showers simultaneously, so I'd say 2 bathrooms with showers. If somebody has to do a quick handwash while both showers are running, the temp should not change significantly, assuming a standard temperature-balancing faucet.  I have a small single-point-of-use electric water heater and I think these things are rated conservatively to avoid complaints from customers about not being hot enough.\", \"thesubmitter wrote:  I’ve heard in cold climates that they can’t get freezing cold water hot enough fast enough . Not sure if this applies to this unit It's based on the starting temperature of the incoming water. At my cottage it comes in at around 5-10 degrees in the spring, but 25 in the summer. So there is a corresponding difference at the tap of course. It can only raise the incoming water temperature a set amount based on the wattage of the element.  If you're on city/town water there's not so much difference between summer and winter incoming water temps.\", \"Inno wrote:  I think it's rated to supply 2 showers simultaneously, so I'd say 2 bathrooms with showers. If somebody has to do a quick handwash while both showers are running, the temp should not change significantly, assuming a standard temperature-balancing faucet.  I have a small single-point-of-use electric water heater and I think these things are rated conservatively to avoid complaints from customers about not being hot enough. Thanks for the info! I indeed have 2 bathrooms, but I would seldom use them at once. I suppose this could then replace my giant 60 gallon tank for my whole house? In total throughout the house, I have one full bathroom (with bath), one bathroom with shower only, a dishwasher, 3 bathroom faucets, and a kitchen faucet. Anyone have any advice on if this would be sufficient? (I'm in Montreal, so the electricity costs are minimal). Thanks for any advice!\", \"lilmikey wrote:  Provinces like Quebec electric is cheaper than gas or on par but in a place like Ontario no chance I'd get electric furnace/tankless. If ever gets on par than yes electric for everything as 100% efficiency and less parts than a gas appliance. As with electrical prices in Ontario now won't be for decades. I have a fairly big house and I use 23000 / year. Adding 1000 / month mean an increase of 50%. This is insane even in QC. This unit will not save you money. Period.\", 'How is it possible for people to install this? As previously mentioned, this requires 150 amps. Most modern day houses only have 200 amps fuse boxes. You would need a sub panel at minimum.', 'EasyCompany251 wrote: How is it possible for people to install this? As previously mentioned, this requires 150 amps. Most modern day houses only have 200 amps fuse boxes. You would need a sub panel at minimum. Minimum panels for homes now are 200 amp , just installed an AC in a townhouse and was shocked it had a 200A panel.', 'SquadG wrote:  I have a fairly big house and I use 23000 / year. Adding 1000 / month mean an increase of 50%. This is insane even in QC. This unit will not save you money. Period. In Quebec electric furnaces with heatpumps are more common than gas furnaces for the reasons I stated \"cheap hydro\". Would be crazy to have electric furnace in Ontario.', 'We have a 22kw electric furnace and that thing is expensive to run,We dont have gas here.. Ive wanted one of these to replace a 60 gal tank. We have a 200amp service. Now is it going to be cheaper then the 60 cal tank and will it run with my furance at same time', \"Just went to the Anjou store. They had the tag at 289$ but none left in the store (I asked an associate).  Still interested in learning more about these though. Are the energy requirements really as crazy as they seem? I'd really like to free up the space my 60 gallon tank takes, but not if it costs me twice as much in electricity costs.\", 'This link may be useful for people. Data sheet for these.   ', 'lilmikey wrote:  Minimum panels for homes now are 200 amp , just installed an AC in a townhouse and was shocked it had a 200A panel. I have a house built around 2003-2004 with a 200A panel. This electric tankless would likely require at least 400A. Are there many new construction houses today fitted with 400A panels (without them being 6000 square feet houses)? Another thing is that having a 400A panel is one thing....the other is whether your local utility can even provide for 400A. This would likely be based upon the transformer available in your area. Based on the rate manual of my local utility, they do not even offer such a high amperage service.', 'Unless you live in Quebec, say hello to sky high electric bills with one of these things.', 'Install is going to cost you, 4x 40A breakers and 4 runs of NMD 8/2', \"This thing is plain stupid. If you find your electric water heater isn't providing hot water quickly enough, then have each heating element on its own wire/breaker. For example, a 4800W tank will need two 30amps @ 240V breaker and will consume up to 9600W. Cut heating time by about 50%. And 40amps can fit in a 100/200amps panel. If you need to know more read this thread.\", \"Isn't the main reason why this needs so much electricity is to keep a heat exchanger ripping hot so water flowing past at 90psi can be heated to 120F in an instant? At least with a tank the heater has the opportunity to heat water up slowly and burn less electricity?\", \"I've had a Rinnai RL75iN tankless natural gas water heater for years. One of the best makes out there. The only thing I've ever done is pump vinegar through it a couple of times, (very easy to do with an aquarium pump and a pail... our water is hard) and yesterday I had to take the exhaust fan out to vacuum the dead bees and moths out of it as it was giving a code 10 error once in a while. This spring in Saskatchewan is very bad for moths, for some reason. Not bad for 20 years of virtually trouble free service. We are on very cold well water on our acreage as well.  I can't recommend these more... no more heating 60 or more gallons of water 24/7. I would caution against the electric model, unless perhaps you're in Quebec where rates are cheap. The natural gas only requires a regular electrical outlet, and a 3/4 in gas line to feed it.  I've saved many $100's on natural gas over the years.\", \"3ajs wrote:  Isn't the main reason why this needs so much electricity is to keep a heat exchanger ripping hot so water flowing past at 90psi can be heated to 120F in an instant? At least with a tank the heater has the opportunity to heat water up slowly and burn less electricity? In theory both are 100% efficient at heating the water, a tankless doesn't have to keep the water hot however so it's a bit more efficient. And you get an unlimited supply of hot water. I've been using a 27kw chinese one for a couple of years now, requires decalc/maintenance every 6 months as the water here is on the harder side. You can also get sudden increase in temperature if someone else is using (lots) hot water and turn off their faucet elsewhere because the heat then have no where else to go. Best if you can install a temperature mixing valve at the output to prevent this... I set mine to 37-38C so there's less energy waste to heat it to 60C and mixing with cold water, I get warm water on the hot side and reduces risk of scaling, eg with kids. I think when it goes. I'll get a heat pump tank instead, takes more room but less issues and above 100% efficiency.\", 'NG and I would be all over this.', 'CaptSmethwick wrote:  NG and I would be all over this. I was lucky, I bought my Rinnai RL75iN on eBay 20 years ago for about 1/2 what they cost now, installed it myself, (super easy) and had a friend with a gas ticket hook it up, then inspected.  Love it.', \"Nice price for sure, but with a 20kw furnace boiler already on my 200A panel, there is no way I could install one of these. Most decent bottom entry 60G hot water tanks don't use that much electricity on standby to maintain the water temp anyhow. Most have decent insolation around the tank, and the bottom element may come on once in while, but nothing drastic. Yes, if you are going on an extended vacation, you may as well shut it off, but otherwise, I don't see an issue. I replaced y 60G electric, nearly 16 years ago, and still going. Probably overdue to replace it, and will probably do that next time they have a sale on them  Either way not worried too much, it is right next to a large drain anyhow. Now, if natural gas was available in my area, that would be a different story \", \"EasyCompany251 wrote:  I have a house built around 2003-2004 with a 200A panel. This electric tankless would likely require at least 400A. Are there many new construction houses today fitted with 400A panels (without them being 6000 square feet houses)? Another thing is that having a 400A panel is one thing....the other is whether your local utility can even provide for 400A. This would likely be based upon the transformer available in your area. Based on the rate manual of my local utility, they do not even offer such a high amperage service. I agree, but you can go to 300A/400A service for few thousand if power coming from overhead to house, underground would be a different story. The AC I installed in that townhouse must have been like 1200sq ft , 200A service is nuts as the minimum but I guess with the electric cars becoming the future they need to be at that. OKSpring wrote: Unless you live in Quebec, say hello to sky high electric bills with one of these things. @EasyCompany251 this guy knows  Daijoubu wrote:  In theory both are 100% efficient at heating the water, a tankless doesn't have to keep the water hot however so it's a bit more efficient. And you get an unlimited supply of hot water Pretty much, electric is 100% efficient but then the tank is maintaining the temperature when using it or not which is loss. Emporium wrote: Nice price for sure, but with a 20kw furnace boiler already on my 200A panel, there is no way I could install one of these. This guy is from QC @EasyCompany251 so he knows electric costs are cheap since he is running a 20KW heater in his furnace/air handler.\", \"lilmikey wrote:  This guy is from QC @EasyCompany251 so he knows electric costs are cheap since he is running a 20KW heater in his furnace/air handler. I don't see your point. With a 20kW furnace (which I have also, but in a form of a boiler with water circulation rads), you are looking at 85A. With a 24k BTU A/C, 2 fridges, 2 stoves, 60G hot water tank, Dryer, washer, etc.., not to mention all the other appliances, there is no way you could add this to a standard 200A service. I'm in QC also, with my current Hydro bill, I feel like a Hydro VIP customer. It hurts at over $4k/yr in hydro costs. So just because hydro price is cheap does not mean you have the infrastructure to support unlimited electrical devices. To be able to have a lot of high power devices, you'd need to upgrade to a 400A service, which is not very common yet (at least not here in QC). This would involve hydro replacing the incoming lines, and a new meter. Then you'd have to get an electrician to do the inside  work. Either complete new panel, or a new main breaker and sub-panels (ugly patches in my opinion). For now, it is overkill for most. However with higher power requirements, like electric car charging outlets and other stuff, it may become more standard going forward. When i bought my house 22yrs ago, they had a 120A service entrance, and ugly main breaker panel with piles of spaghetti subpanels. They already had this 20kw boiler, and let me tell you, it was a fire hazard. You had to see the inside of one of the sub-panels (it was crumbling from the constant overheat). It was the first thing I replaced, and upgraded from a 120A service to a 200A service, ripping out all the subpanels, and replaced with one nice large breaker panel (60 breakers). Best upgrade I even made. Plenty of room to properly isolate everything during other renos (bathroom, kitchen, basement/media room, etc..) With Montreal having already banned wood burning fireplaces for the most part, and trying to slowly ban oil burning furnaces (in the very near future), there won't be much of an option for many people, but electric and upgraded panels. Natural Gaz which I'd love to have in my neighborhood would be nice (for stoves, bbqs, furnace, water heater, etc..), but unfortunately the network is limited and not available in my area. Propane is not a huge option, since I don't have enough space to put the ugly big tank without being legally too close to a neighbor.\", 'This is a bad choice if: 1) if you already have gas service 2) your grid is consist of majority of burning fossil fuel 3) You have not invested in solar + battery in your home ', 'Any left at this price? This unit would make a nice boiler for radiant floor heat where gas is not available', 'I picked one up and after analyzing it, its fairly useless for most people. 150A max draw some houses are at 100A total service, newer houses are 200A total service.Upgrading service is like a 5k job to say a 320A so yeah, kind of risk to let this thing draw 150A at any point in time.... Better off getting a 2nd water tank. If someone in Montreal wants one, I can give it to you for cost... PM me', 'Pretty sure the commercial space is the target for this product.', \"thesubmitter wrote:  I picked one up and after analyzing it, its fairly useless for most people. 150A max draw some houses are at 100A total service, newer houses are 200A total service.Upgrading service is like a 5k job to say a 320A so yeah, kind of risk to let this thing draw 150A at any point in time.... Better off getting a 2nd water tank. If someone in Montreal wants one, I can give it to you for cost... PM me Lol that's probably why it's clearance. No one has the existing infrastructure in their homes to power the tankless electric water heater, and it costs way too much to upgrade homes to make the heater work.\", \"I was recently involved in a project where a 400a service was installed in a residential building. Apart from the obvious extra cost of the materials, the electricians were not that well versed in the install as they hadn't done one in over 5 years. The local electrical suppliers didn't even carry stock on a lot of the required materials. HydroOne didn't really have an issue with it (surprisingly) once you talked to the right people. I never saw the final bill, but if I believe the final bill for the service was 2 to 3 times that of a convention 200a service. In my opinion, I think you have some much better options out there for the delivery of hot water. This unit is geared at a pretty niche market.\", \"Daijoubu wrote:  Install is going to cost you, 4x 40A breakers and 4 runs of NMD 8/2 I'm not sure why the other guys are guessing when it says this right on the product page.\", 'Kanus wrote:  You might have to upgrade your electrical service to use this. 36 kw at 240 volts works out to 150 amps. Lots of houses only have 100 amp services.  Better to have a gas tankless water heater if you have gas service. AND Hydro rates are very expensive', 'cwb27 wrote:  Pretty sure the commercial space is the target for this product. Commercial will probably have 3 phases lol', 'Daijoubu wrote:  Commercial will probably have 3 phases lol Sure, but not always the case.', '@looking4junk  Hey OP, what are you using this for?', \"Emporium wrote:  I don't see your point. With a 20kW furnace (which I have also, but in a form of a boiler with water circulation rads), you are looking at 85A. With a 24k BTU A/C, 2 fridges, 2 stoves, 60G hot water tank, Dryer, washer, etc.., not to mention all the other appliances, there is no way you could add this to a standard 200A service. I'm in QC also, with my current Hydro bill, I feel like a Hydro VIP customer. It hurts at over $4k/yr in hydro costs. So just because hydro price is cheap does not mean you have the infrastructure to support unlimited electrical devices. To be able to have a lot of high power devices, you'd need to upgrade to a 400A service, which is not very common yet (at least not here in QC). This would involve hydro replacing the incoming lines, and a new meter. Then you'd have to get an electrician to do the inside  work. Either complete new panel, or a new main breaker and sub-panels (ugly patches in my opinion). For now, it is overkill for most. However with higher power requirements, like electric car charging outlets and other stuff, it may become more standard going forward. When i bought my house 22yrs ago, they had a 120A service entrance, and ugly main breaker panel with piles of spaghetti subpanels. They already had this 20kw boiler, and let me tell you, it was a fire hazard. You had to see the inside of one of the sub-panels (it was crumbling from the constant overheat). It was the first thing I replaced, and upgraded from a 120A service to a 200A service, ripping out all the subpanels, and replaced with one nice large breaker panel (60 breakers). Best upgrade I even made. Plenty of room to properly isolate everything during other renos (bathroom, kitchen, basement/media room, etc..) With Montreal having already banned wood burning fireplaces for the most part, and trying to slowly ban oil burning furnaces (in the very near future), there won't be much of an option for many people, but electric and upgraded panels. Natural Gaz which I'd love to have in my neighborhood would be nice (for stoves, bbqs, furnace, water heater, etc..), but unfortunately the network is limited and not available in my area. Propane is not a huge option, since I don't have enough space to put the ugly big tank without being legally too close to a neighbor. With Electric cars and carbon exhaust elimination in process ie. no natural gas furnace (who knows the timeline) 300A/400A common panels are around the corner but not now. This heater would be geared towards commercial 208/220V applications or homes where hydro is cheaper (yes QC is much more cheaper than Ontario) so no chance this would work in Ontario at all. Propane and Hydro in Ontario is too expensive so NG is best way at the current rates. Next cheapest would be geothermal but big initial cost.  So you know what I see here in Ontario I went to quote a central air system for a townhome that only had electric baseboard heating, homeowner told me they were paying $800 a month in hydro during winter months with stat set to 19C. Hydro in the 70s here was cheaper or on par with NG so many homes built in timeline are electric baseboards or electric furnaces. Thats close $5000 just in hydro during winter months for a townhome so $4K for your i'm assuming detached house isnt as bad as you may think. To change your panel to whatever 200A/300A/400A the homeowner would need to change meter sub base, panel obviously and then the wire leading up to the connection up at the pole on home. This can all be done in a day as its scheduled with electrician , ESA and local utility, $3000-$5000 in Ontario. Homes large or small with EVs , Hot tubs/sauna going to need min 200A then you add a detached garage/work shop etc. 300A easily, in future when no more NG furnaces and it goes to electric then add 2 EV charging stations with Hot tub/sauna with detached work shop sub panel its coming to 400A. This is years away so until then NG all the way or have a commercial space were you dont pay electrical then get this thing lol\", 'Kinda resurrecting an old thread here, but the Home Depot in Anjou restocked these at an even lower price of 216$. I picked up two of them, not sure if there are any more.', \"Imago wrote:  I've had a Rinnai RL75iN tankless natural gas water heater for years. One of the best makes out there. The only thing I've ever done is pump vinegar through it a couple of times, (very easy to do with an aquarium pump and a pail... our water is hard) and yesterday I had to take the exhaust fan out to vacuum the dead bees and moths out of it as it was giving a code 10 error once in a while. This spring in Saskatchewan is very bad for moths, for some reason. Not bad for 20 years of virtually trouble free service. We are on very cold well water on our acreage as well.  I can't recommend these more... no more heating 60 or more gallons of water 24/7. I would caution against the electric model, unless perhaps you're in Quebec where rates are cheap. The natural gas only requires a regular electrical outlet, and a 3/4 in gas line to feed it.  I've saved many $100's on natural gas over the years. I totally agree with the above. I personally would never go tankless unless it's with gas. I had a Rinnai too in my previous home in Quebec. With a family of 5, I loved the fact that we never ran out of hot water. One thing we really found annoying though is the fact that these tankless systems require a certain minimum flow before they start heating up the water. How did that impact us? I personally like having a trickle of hot water while doing the dishes (for rinsing purposes). The flow wasn't quite enough for me to be able get hot water out of the tankless system. I'd also say that it took a little longer before I could get hot water in the kitchen compared to the gas heater that we had before. A small annoyance, but a noticeable one nevertheless. Some people install a small tank underneath their sink in the kitchen to work around the two problems I explained above.\", \"silent air compressor...i've looked around and it usually sells for around 290-300$+...it's in liquidation and they deliver for 10$. you'll find similar product at the same or similar price point but the noise level of this thing seems slightly better with 73db...compared to say the porter cable (75db) or the dewalt (78db)\", 'Made a mistake in the store name :/ can a mod correct it for me? Thx', 'You can edit yourself by clicking edit post ( the little pencil icon )', 'You’re right  I may have had a brain fart episode', 'Its Outils Pierre Berger, but whatever ', 'Shipping outside Quebec = 33$ ', 'Fast charge MOphie usb c high quality cable $4 SKU: 409903783  ', \"I have a 6ft one (non-Morphie) from Dollarama that does fast charging for some adapters. For $4, it's worth the risk.\", \"recordman wrote:  For $4, it's worth the risk. Isn't the risk that you damage your phone? Or is that only for A-C cables?\", 'wow nice i will buy', 'Anyone have a picture for the packaging? TIA Will be on a look out.', 'jay-em wrote:  Anyone have a picture for the packaging? TIA Will be on a look out. There should be one in the Dollarama thread iirc', \"Terabithia wrote:  There should be one in the Dollarama thread iirc Thank you kindly sir/ma'am.\", \"Where does it say this is a 3.1 cable? (I didn't see that it states 3.1 in the picture in the dollarama thread) A lot of USB-C cables are only USB 2.0\", 'Never heard of this brand, supposed to be some awesome brand?', \"divx wrote:  Never heard of this brand, supposed to be some awesome brand? Don't know if there is such thing as a awesome brand of cables. But Mophie is a well established brand that's been around awhile. So it's not some no-name vendor.\", 'Mophie has been around a long time. They have made battery cases for iPhones for years. The Apple store sells the Mophie USB c to USB c cable (1m) for 29.95. Great deal. I had just picked up one today and was going to post.  ', 'vtachy wrote:  Mophie has been around a long time. They have made battery cases for iPhones for years. The Apple store sells the Mophie USB c to USB c cable (1m) for 29.95. Great deal. I had just picked up one today and was going to post.  ', 'jay-em wrote: Anyone have a picture for the packaging? TIA Will be on a look out. Looks like so + other cables', \"shabby wrote:  Looks like so + other cables Was about to post this for other who's looking. Thanks again.\", 'Is this ON/GTA only?', 'This is the picture from the other thread ', \"604al wrote:  Isn't the risk that you damage your phone? Or is that only for A-C cables? I think it's only for usb-A where a pull-up resistor should be used.\", 'Thanks OP, but please edit the title: it is 5 feet in length (not 4 ft) and it is a \"charging cable\", not a USB 3.1 data cable. The manufacturer does not claim USB 3.1 and does not even call it \"data\" or \"sync\" cable, which usually means that it is only USB 2.', 'ahoroba wrote:  Thanks OP, but please edit the title: it is 5 feet in length (not 4 ft) and it is a \"charging cable\", not a USB 3.1 data cable. The manufacturer does not claim USB 3.1 and does not even call it \"data\" or \"sync\" cable, which usually means that it is only USB 2. Yup, I just went to pick one up and there is no indication that it\\'s USB 3.1 The cable connector looks long enough to house an e-marker chip, so I was hoping it was a 3.1 cable, but I doubt it since no where on the package does it say anything of the sort. edit: it might be a 3.1 after all as indicated in OP\\'s link', \"shabby wrote:  Looks like so + other cables It says charging cable, so no data transfer? I don't know how I feel about buying cable from a dollar store, they are known for crap quality disposable items.\", 'ikea also has usb type c cables for $6.99  ', \"divx wrote:  It says charging cable, so no data transfer? I don't know how I feel about buying cable from a dollar store, they are known for crap quality disposable items. Charging cables like this allow data transfer at USB 2.0 speeds. (edit: I am wrong, this is a 3.1 data cable) Fast USB-C data cables support both charging and high speed data transfer. They never come cheap. For example, Amazonbasic sells one for $30  \", '$30 for cable is pretty expensive', 'if you guys want a usb 3.1 cable amazon has the anker powerline at 14.99 on sale right now mark down from 29.99  ', 'Will this Mophie cable charge at 45W? Has anyone tried?', 'cbt123 wrote:  Will this Mophie cable charge at 45W? Has anyone tried? usb 2.0 will never be able to charge that fast. there is a limit to how many watts a 2.0 cable can deliver. that 3.1 anker powerline i posted is rated up to 60w usb 2.0 are usually up to 15w and data transfer of 480mbps usb 3.0 and up are usually around 60-100w and transfer from 5gbps to 10gbps', \"warpdrive wrote:  Where does it say this is a 3.1 cable? (I didn't see that it states 3.1 in the picture in the dollarama thread) A lot of USB-C cables are only USB 2.0 What is the difference, charging speed? Or data speed? Or both?\", 'AllanT232 wrote:  ikea also has usb type c cables for $6.99  ', \"I bought 3 bad USB c cables (different brand) from Dollarama. Every single one of them died after a few uses. $12 gone .. burned too many times. I saw this at Dollarama and passed because didn't want to make same mistake again. Could have purchased a decent cable from Amazon for $12 with warranty.\", \"I've been quite happy with my 100 yen USB-C cables from Daiso!  Ron.\", \"Got several varieties of Rox cables from Giant Tiger for $10 each. 3 meters in length. Great that I don't have to stretch to plug them in to any devices. I see a few people are saying they broke them after a month. They must be hard on their equipment. The Iphone ones work on my Ipad mini and Iphone 5SE, so I'm okay with that rather than paying Apple $30 each for shorter cables. I have a C hooked up to the Switch for use with a full size controller with no problems and several Micro ones with Android devices. But I've noticed the Dollarma cables like the Iphone ones don't work to even charge the phone. Spent a couple bux more but got something that works (for me)...\", \"604al wrote:  Isn't the risk that you damage your phone? Or is that only for A-C cables? If you're talking about the resistor, that's only for C to A cables; it's not so much that a cable without one would necessarily damage your phone, but the cable and or wall adapter might catch fire without it lol. Sure your phone could be damaged as a result too but it's more the fact that without the resistor it can overload the wall plug and/or cable. I got my own question though, for anyone that can answer... When you plug a phone into a computer via an A cable it typically charges quite slowly which is expected given the old skool 500mA limit of USB ports on computers. Basically you get like 300mA charge rate. If you use a type-C to type-C cable and plug into a native type-C port on a computer, will you get more charge current?\", 'warpdrive wrote:  Charging cables like this allow data transfer at USB 2.0 speeds. Fast USB-C data cables support both charging and high speed data transfer. They never come cheap. For example, Amazonbasic sells one for $30  ', 'ES_Revenge wrote:  [...] I got my own question though, for anyone that can answer... When you plug a phone into a computer via an A cable it typically charges quite slowly which is expected given the old skool 500mA limit of USB ports on computers. Basically you get like 300mA charge rate. If you use a type-C to type-C cable and plug into a native type-C port on a computer, will you get more charge current?  Type-C is just a \"form factor\". The answer to your question depends on what USB protocol is implemented inside the type-C port of your computer. If it is USB 3.1 then I believe that the specifications allow for up to 3A of charging current to flow out to the connected peripheral (and up to 5A to flow in the other direction, charging the laptop\\'s battery from a charger).  But, if the phone is fitted with any of the modern charging protocols (QC2, QC3, etc.), there is seldom need for a charging current of 3A, because it is much easier to increase the charging voltage at the USB 3.1 port (e.g. instead of 5V and 3A charging, the protocol will negotiate a charging current of 1.25A at 12V).', 'ahoroba wrote:  Type-C is just a \"form factor\".  That I\\'m well aware of but type-C has higher power limits than A-type connectors as well.  ahoroba wrote: The answer to your question depends on what USB protocol is implemented inside the type-C port of your computer. If it is USB 3.1 then I believe that the specifications allow for up to 3A of charging current to flow out to the connected peripheral (and up to 5A to flow in the other direction, charging the laptop\\'s battery from a charger).  Yeah I was just curious since sometimes I would plug my phone into my computer at work to charge and it\\'s pretty slow charging--not a huge deal as I\\'m there all day anyway but the (Dell Optiplex) have a front USB-C port, just wondering if it would charge any faster through there. At home I\\'m definitely using a wall adapter with Qualcomm QC. ahoroba wrote: But, if the phone is fitted with any of the modern charging protocols (QC2, QC3, etc.), there is seldom need for a charging current of 3A, because it is much easier to increase the charging voltage at the USB 3.1 port (e.g. instead of 5V and 3A charging, the protocol will negotiate a charging current of 1.25A at 12V). Yep aware of all that too, I was just wondering if I got a C-to-C cable if it\\'d charge faster from an office computer specifically as opposed to wall-charging with fast-charge protocols, etc.', \"ES_Revenge wrote:  There's a few options apart from spending $30--the Anker one is on sale as someone mentioned; this Ugreen one (rated for 60W with PD) is $15 on Amazon but would be cheaper on Ugreen's store on eBay (though shipped from China there and who knows how long it will take to get whereas Amazon it can be there same evening):  \", 'ahoroba wrote:  The $15 Ugreen cable you linked is only \"USB 3.1 Gen 1\" which maxes out at 5Gbps data transfer rate. The conductors are the same. A \"3.0\", \"3.1 Gen 1\", or \"USB 3.2 Gen 1×1\" (they got real crazy with the naming) cable all should be able to do either \"3.1 Gen 2\" & \"USB 3.2 Gen 2×1\" (which are the same) OR \"3.2 Gen 1x2\" which is different signalling but all three are 10Gbps. This is assuming the cable is decent quality. The only thing you need different cables for is the 20Gbps rate of \"USB 3.2 Gen 2×2\". Talk about confusing naming these clowns thought up. Must be the same guys that made up \"PCMCIA\" back in the day ', 'any recommend for the power adapter for this cable?', \"im more interested in the spec for it Best USB C cable I got is this red braided 2M cables I got in Hong Kong that say it's oppo fast charge compatible for like $2 CAD each, i can use them with any fast charge phone tech w/ adapter and it works.\", \"604al wrote:  Isn't the risk that you damage your phone? Or is that only for A-C cables? A-C cables were an issue because of incorrect implementation of resistors causing the quick charger to go into too high of a voltage, which was the cause of the damages. C-C cables, even the cheapest ones that is only USB 2.0 for data, is already sufficient for most phone quick charging at 18W. You only need higher rated cables if you're charging laptops, those need the e-marker to allow the charger to go high power.\", \"Went to 3 dollarama's and couldn't find it in Woodbridge.\", \"604al wrote:  Isn't the risk that you damage your phone? Or is that only for A-C cables? Damage your phone? Worst case scenario is slow charging.\", 'I got this the other day. I was surprised how long it was even thought I already knew it was 1.5 metres lol. . Also its actually a brand i heard of which is a plus and they sell the 1m and 2m at the apple store which is reassuring.', 'There are USB 3.1 Gen 2 (10Gbps) rated cables for under $10 at Prime Cables:  ', \"dangerousfob wrote:  I bought 3 bad USB c cables (different brand) from Dollarama. Every single one of them died after a few uses. $12 gone .. burned too many times. I saw this at Dollarama and passed because didn't want to make same mistake again. Could have purchased a decent cable from Amazon for $12 with warranty. Did you bend your cables much? I don't see how they can break so easily.\"]\n"
     ]
    }
   ],
   "source": [
    "# ↑ symbols\n",
    "arrow_removed = [re.sub(\"↑+\",\"\", str(string)) for string in df_comments['comments']]\n",
    "# \\n characters\n",
    "newline_removed = [re.sub(\"\\\\n+\",\" \",string) for string in arrow_removed]\n",
    "# urls\n",
    "urls_removed = [re.sub(r\"\\bhttp.+\",\" \",string) for string in newline_removed]\n",
    "# Assign cleaned comments back\n",
    "df_comments['comments'] = pd.Series(urls_removed)\n",
    "\n",
    "# first 100 comments of cleaned table\n",
    "print([x for x in df_comments['comments'][0:100]])"
   ]
  },
  {
   "cell_type": "code",
   "execution_count": 62,
   "metadata": {},
   "outputs": [
    {
     "data": {
      "text/html": [
       "<div>\n",
       "<style scoped>\n",
       "    .dataframe tbody tr th:only-of-type {\n",
       "        vertical-align: middle;\n",
       "    }\n",
       "\n",
       "    .dataframe tbody tr th {\n",
       "        vertical-align: top;\n",
       "    }\n",
       "\n",
       "    .dataframe thead th {\n",
       "        text-align: right;\n",
       "    }\n",
       "</style>\n",
       "<table border=\"1\" class=\"dataframe\">\n",
       "  <thead>\n",
       "    <tr style=\"text-align: right;\">\n",
       "      <th></th>\n",
       "      <th>title</th>\n",
       "      <th>comments</th>\n",
       "    </tr>\n",
       "  </thead>\n",
       "  <tbody>\n",
       "    <tr>\n",
       "      <td>0</td>\n",
       "      <td>Rheem 36kW Electric Tankless Water Heater Reg....</td>\n",
       "      <td>Purchased in store by a friend for 289+tax. We...</td>\n",
       "    </tr>\n",
       "    <tr>\n",
       "      <td>1</td>\n",
       "      <td>Rheem 36kW Electric Tankless Water Heater Reg....</td>\n",
       "      <td>Which store location? Do you have a picture of...</td>\n",
       "    </tr>\n",
       "    <tr>\n",
       "      <td>2</td>\n",
       "      <td>Rheem 36kW Electric Tankless Water Heater Reg....</td>\n",
       "      <td>OOS in BC</td>\n",
       "    </tr>\n",
       "    <tr>\n",
       "      <td>3</td>\n",
       "      <td>Rheem 36kW Electric Tankless Water Heater Reg....</td>\n",
       "      <td>Saint John, NB. Receipt posted!</td>\n",
       "    </tr>\n",
       "    <tr>\n",
       "      <td>4</td>\n",
       "      <td>Rheem 36kW Electric Tankless Water Heater Reg....</td>\n",
       "      <td>Only seems to be in stock (or is it) in Scarbo...</td>\n",
       "    </tr>\n",
       "  </tbody>\n",
       "</table>\n",
       "</div>"
      ],
      "text/plain": [
       "                                               title  \\\n",
       "0  Rheem 36kW Electric Tankless Water Heater Reg....   \n",
       "1  Rheem 36kW Electric Tankless Water Heater Reg....   \n",
       "2  Rheem 36kW Electric Tankless Water Heater Reg....   \n",
       "3  Rheem 36kW Electric Tankless Water Heater Reg....   \n",
       "4  Rheem 36kW Electric Tankless Water Heater Reg....   \n",
       "\n",
       "                                            comments  \n",
       "0  Purchased in store by a friend for 289+tax. We...  \n",
       "1  Which store location? Do you have a picture of...  \n",
       "2                                          OOS in BC  \n",
       "3                    Saint John, NB. Receipt posted!  \n",
       "4  Only seems to be in stock (or is it) in Scarbo...  "
      ]
     },
     "execution_count": 62,
     "metadata": {},
     "output_type": "execute_result"
    }
   ],
   "source": [
    "# Save cleaned comment table as file\n",
    "df_comments.to_csv('rfd_comments.csv')\n",
    "\n",
    "df_comments.head()"
   ]
  },
  {
   "cell_type": "markdown",
   "metadata": {},
   "source": [
    "### Main table"
   ]
  },
  {
   "cell_type": "code",
   "execution_count": 63,
   "metadata": {},
   "outputs": [
    {
     "name": "stdout",
     "output_type": "stream",
     "text": [
      "creation_date :  <class 'str'>\n",
      "expiry :  <class 'float'>\n",
      "last_reply :  <class 'str'>\n"
     ]
    }
   ],
   "source": [
    "# Copy of raw data set\n",
    "df = df_raw.copy()\n",
    "\n",
    "# List of tuples: (column name, column dtype)\n",
    "col_dtypes = [(col, type(x)) for x,col in zip(df.iloc[0], df.columns)]\n",
    "\n",
    "# Print tuple for columns containing dates\n",
    "for col in col_dtypes:\n",
    "    if col[0] in ['creation_date', 'last_reply', 'expiry']:\n",
    "        print(col[0], ': ', col[1])"
   ]
  },
  {
   "cell_type": "markdown",
   "metadata": {},
   "source": [
    "None of the columns are formatted as datetime. To facilitate working with the dates, we will convert them to datetime. "
   ]
  },
  {
   "cell_type": "markdown",
   "metadata": {},
   "source": [
    "### Convert date columns to datetime dtype"
   ]
  },
  {
   "cell_type": "code",
   "execution_count": 64,
   "metadata": {},
   "outputs": [],
   "source": [
    "def to_datetime(column_name: str) -> pd.Series:\n",
    "    \"\"\"\n",
    "    Converts a column of either format \"%b %d, %Y %I:%M %p\"\n",
    "    or format \"%B %d, %Y\" from string to date-time\n",
    "    \n",
    "    Args:\n",
    "    date_column - name of column with dates encoded as strings\n",
    "    \n",
    "    Returns:\n",
    "    Column elements converted to datetime in a pandas.Series object\n",
    "    \"\"\"    \n",
    "    # Superfluous characters removed\n",
    "    column_clean = df[column_name].str.replace(\"st\",\"\").str.replace(\"nd\",\"\")\\\n",
    "                        .str.replace(\"rd\",\"\").str.replace(\"th\",\"\").str.strip()\n",
    "    \n",
    "    # Check for correct length of cleaned column\n",
    "    column_len = len(column_clean)\n",
    "    print(\"Cleaned and original column are of equal lenght: \", \n",
    "          column_len == len(df[column_name]), \"\\n\")\n",
    "    \n",
    "    # Convert each entry from format \"%b %d, %Y %I:%M %p\" to datetime\n",
    "    date_column = []\n",
    "    try:\n",
    "        date_column = column_clean.apply(lambda x :\\\n",
    "                        datetime.datetime.strptime(str(x), \"%b %d, %Y %I:%M %p\"))\n",
    "    except: \n",
    "        print(\"\\\"%b %d, %Y %I:%M %p\\\" is incorrect format\")\n",
    "        pass\n",
    "    \n",
    "    # Convert from format \"%B %d, %Y\" to datetime\n",
    "    for date in df[column_name]:\n",
    "        if date is not np.nan:\n",
    "            try:\n",
    "                date_column.append(datetime.datetime.strptime(date, \"%B %d, %Y\"))\n",
    "            except: \n",
    "                print(\"\\\"%B %d, %Y\\\" is incorrect format for\", date)\n",
    "                break\n",
    "        else: \n",
    "            date_column.append(None)\n",
    "    \n",
    "    if len(date_column) != column_len:\n",
    "        print(\"\\n\", \"Incorrect column length!\\n\")\n",
    "    else:\n",
    "        print(\"\\n\", \"Column has expected length!\\n\")\n",
    "    \n",
    "    return pd.Series(date_column)"
   ]
  },
  {
   "cell_type": "code",
   "execution_count": 65,
   "metadata": {},
   "outputs": [
    {
     "name": "stdout",
     "output_type": "stream",
     "text": [
      "Cleaned and original column are of equal lenght:  True \n",
      "\n",
      "\"%B %d, %Y\" is incorrect format for Jul 16th, 2020 8:29 am\n",
      "\n",
      " Column has expected length!\n",
      "\n",
      "99    2020-07-16 20:38:00\n",
      "100   2020-07-13 13:49:00\n",
      "101   2020-07-15 21:33:00\n",
      "102   2020-06-13 16:26:00\n",
      "103   2020-07-09 17:42:00\n",
      "104   2020-07-06 03:46:00\n",
      "Name: creation_date, dtype: datetime64[ns] \n",
      "\n",
      "99     Jul 16th, 2020 8:38 pm\n",
      "100    Jul 13th, 2020 1:49 pm\n",
      "101    Jul 15th, 2020 9:33 pm\n",
      "102    Jun 13th, 2020 4:26 pm\n",
      "103     Jul 9th, 2020 5:42 pm\n",
      "104     Jul 6th, 2020 3:46 am\n",
      "Name: creation_date, dtype: object\n"
     ]
    }
   ],
   "source": [
    "# creation_date column converted to datetime\n",
    "creation_date = to_datetime('creation_date')\n",
    "\n",
    "# Compare random slice of original and converted column\n",
    "print(creation_date.iloc[99:105], \"\\n\")\n",
    "print(df.loc[99:104, 'creation_date'])"
   ]
  },
  {
   "cell_type": "code",
   "execution_count": 66,
   "metadata": {},
   "outputs": [
    {
     "name": "stdout",
     "output_type": "stream",
     "text": [
      "Cleaned and original column are of equal lenght:  True \n",
      "\n",
      "\"%B %d, %Y\" is incorrect format for Jul 17th, 2020 9:20 am\n",
      "\n",
      " Column has expected length!\n",
      "\n",
      "208   2020-07-16 13:56:00\n",
      "209   2020-07-16 13:56:00\n",
      "210   2020-07-16 13:54:00\n",
      "211   2020-07-16 13:39:00\n",
      "212   2020-07-16 13:36:00\n",
      "213   2020-07-16 13:29:00\n",
      "214   2020-07-16 13:26:00\n",
      "Name: last_reply, dtype: datetime64[ns] \n",
      "\n",
      "208    Jul 16th, 2020 1:56 pm\n",
      "209    Jul 16th, 2020 1:56 pm\n",
      "210    Jul 16th, 2020 1:54 pm\n",
      "211    Jul 16th, 2020 1:39 pm\n",
      "212    Jul 16th, 2020 1:36 pm\n",
      "213    Jul 16th, 2020 1:29 pm\n",
      "214    Jul 16th, 2020 1:26 pm\n",
      "Name: last_reply, dtype: object\n"
     ]
    }
   ],
   "source": [
    "# last_reply column converted to datetime\n",
    "last_reply = to_datetime('last_reply')\n",
    "\n",
    "# Print original and new column for comparison\n",
    "print(last_reply.iloc[208:215], \"\\n\")\n",
    "print(df.loc[208:214, 'last_reply'])"
   ]
  },
  {
   "cell_type": "code",
   "execution_count": 67,
   "metadata": {},
   "outputs": [
    {
     "name": "stdout",
     "output_type": "stream",
     "text": [
      "Cleaned and original column are of equal lenght:  True \n",
      "\n",
      "\"%b %d, %Y %I:%M %p\" is incorrect format\n",
      "\n",
      " Column has expected length!\n",
      "\n",
      "50   NaT\n",
      "51   NaT\n",
      "52   NaT\n",
      "53   NaT\n",
      "54   NaT\n",
      "55   NaT\n",
      "56   NaT\n",
      "dtype: datetime64[ns] \n",
      "\n",
      "50    NaN\n",
      "51    NaN\n",
      "52    NaN\n",
      "53    NaN\n",
      "54    NaN\n",
      "55    NaN\n",
      "56    NaN\n",
      "Name: expiry, dtype: object\n"
     ]
    }
   ],
   "source": [
    "expiry = to_datetime('expiry')\n",
    "print(expiry.iloc[50:57], \"\\n\")\n",
    "print(df.loc[50:56, 'expiry'])"
   ]
  },
  {
   "cell_type": "markdown",
   "metadata": {},
   "source": [
    "The to_datetime() function appears to correctly convert each of the columns. The results can now be used in the DataFrame."
   ]
  },
  {
   "cell_type": "code",
   "execution_count": 68,
   "metadata": {},
   "outputs": [
    {
     "data": {
      "text/html": [
       "<div>\n",
       "<style scoped>\n",
       "    .dataframe tbody tr th:only-of-type {\n",
       "        vertical-align: middle;\n",
       "    }\n",
       "\n",
       "    .dataframe tbody tr th {\n",
       "        vertical-align: top;\n",
       "    }\n",
       "\n",
       "    .dataframe thead th {\n",
       "        text-align: right;\n",
       "    }\n",
       "</style>\n",
       "<table border=\"1\" class=\"dataframe\">\n",
       "  <thead>\n",
       "    <tr style=\"text-align: right;\">\n",
       "      <th></th>\n",
       "      <th>author</th>\n",
       "      <th>creation_date</th>\n",
       "      <th>expiry</th>\n",
       "      <th>last_reply</th>\n",
       "      <th>parent_category</th>\n",
       "      <th>price</th>\n",
       "      <th>replies</th>\n",
       "      <th>saving</th>\n",
       "      <th>source</th>\n",
       "      <th>thread_category</th>\n",
       "      <th>title</th>\n",
       "      <th>url</th>\n",
       "      <th>views</th>\n",
       "      <th>votes</th>\n",
       "    </tr>\n",
       "  </thead>\n",
       "  <tbody>\n",
       "    <tr>\n",
       "      <td>0</td>\n",
       "      <td>flora0222</td>\n",
       "      <td>2020-07-16 08:29:00</td>\n",
       "      <td>NaT</td>\n",
       "      <td>2020-07-17 09:20:00</td>\n",
       "      <td>NaN</td>\n",
       "      <td>6.99</td>\n",
       "      <td>89</td>\n",
       "      <td>NaN</td>\n",
       "      <td>Staples</td>\n",
       "      <td>Home &amp; Garden</td>\n",
       "      <td>One Step Hand Sanitizer, Fragrance-Free, 473mL...</td>\n",
       "      <td>https://staplescanada.4u8mqw.net/c/341376/7554...</td>\n",
       "      <td>15445</td>\n",
       "      <td>132</td>\n",
       "    </tr>\n",
       "    <tr>\n",
       "      <td>1</td>\n",
       "      <td>yellowmp5</td>\n",
       "      <td>2020-07-13 13:29:00</td>\n",
       "      <td>NaT</td>\n",
       "      <td>2020-07-17 09:18:00</td>\n",
       "      <td>NaN</td>\n",
       "      <td>NaN</td>\n",
       "      <td>441</td>\n",
       "      <td>NaN</td>\n",
       "      <td>Home Depot</td>\n",
       "      <td>Home &amp; Garden</td>\n",
       "      <td>RYOBI 20% coupon barcode</td>\n",
       "      <td>NaN</td>\n",
       "      <td>59219</td>\n",
       "      <td>159</td>\n",
       "    </tr>\n",
       "    <tr>\n",
       "      <td>2</td>\n",
       "      <td>riseagainstthemachine</td>\n",
       "      <td>2020-07-02 10:03:00</td>\n",
       "      <td>NaT</td>\n",
       "      <td>2020-07-17 09:17:00</td>\n",
       "      <td>NaN</td>\n",
       "      <td>free</td>\n",
       "      <td>92</td>\n",
       "      <td>NaN</td>\n",
       "      <td>NaN</td>\n",
       "      <td>Apparel</td>\n",
       "      <td>Kits.com Free Pair Prescription Glasses</td>\n",
       "      <td>https://www.kits.com/freeglasses.html</td>\n",
       "      <td>25242</td>\n",
       "      <td>54</td>\n",
       "    </tr>\n",
       "    <tr>\n",
       "      <td>3</td>\n",
       "      <td>Googliya</td>\n",
       "      <td>2020-07-17 07:23:00</td>\n",
       "      <td>NaT</td>\n",
       "      <td>2020-07-17 09:15:00</td>\n",
       "      <td>NaN</td>\n",
       "      <td>469.99</td>\n",
       "      <td>13</td>\n",
       "      <td>NaN</td>\n",
       "      <td>Costco</td>\n",
       "      <td>Sports &amp; Fitness</td>\n",
       "      <td>Northrock xc00, fat Tire bike, $469.99</td>\n",
       "      <td>https://www.costco.ca/northrock-xc00-fat-tire-...</td>\n",
       "      <td>1769</td>\n",
       "      <td>2</td>\n",
       "    </tr>\n",
       "    <tr>\n",
       "      <td>4</td>\n",
       "      <td>Presents</td>\n",
       "      <td>2020-07-16 13:36:00</td>\n",
       "      <td>2020-07-29</td>\n",
       "      <td>2020-07-17 09:15:00</td>\n",
       "      <td>NaN</td>\n",
       "      <td>NaN</td>\n",
       "      <td>24</td>\n",
       "      <td>NaN</td>\n",
       "      <td>Canadian Tire</td>\n",
       "      <td>Automotive</td>\n",
       "      <td>60x total CT Money when you pay with your Tria...</td>\n",
       "      <td>NaN</td>\n",
       "      <td>2981</td>\n",
       "      <td>9</td>\n",
       "    </tr>\n",
       "  </tbody>\n",
       "</table>\n",
       "</div>"
      ],
      "text/plain": [
       "                  author       creation_date     expiry          last_reply  \\\n",
       "0              flora0222 2020-07-16 08:29:00        NaT 2020-07-17 09:20:00   \n",
       "1              yellowmp5 2020-07-13 13:29:00        NaT 2020-07-17 09:18:00   \n",
       "2  riseagainstthemachine 2020-07-02 10:03:00        NaT 2020-07-17 09:17:00   \n",
       "3               Googliya 2020-07-17 07:23:00        NaT 2020-07-17 09:15:00   \n",
       "4               Presents 2020-07-16 13:36:00 2020-07-29 2020-07-17 09:15:00   \n",
       "\n",
       "  parent_category   price  replies saving         source   thread_category  \\\n",
       "0             NaN    6.99       89    NaN        Staples     Home & Garden   \n",
       "1             NaN     NaN      441    NaN     Home Depot     Home & Garden   \n",
       "2             NaN    free       92    NaN            NaN           Apparel   \n",
       "3             NaN  469.99       13    NaN         Costco  Sports & Fitness   \n",
       "4             NaN     NaN       24    NaN  Canadian Tire        Automotive   \n",
       "\n",
       "                                               title  \\\n",
       "0  One Step Hand Sanitizer, Fragrance-Free, 473mL...   \n",
       "1                           RYOBI 20% coupon barcode   \n",
       "2            Kits.com Free Pair Prescription Glasses   \n",
       "3             Northrock xc00, fat Tire bike, $469.99   \n",
       "4  60x total CT Money when you pay with your Tria...   \n",
       "\n",
       "                                                 url  views  votes  \n",
       "0  https://staplescanada.4u8mqw.net/c/341376/7554...  15445    132  \n",
       "1                                                NaN  59219    159  \n",
       "2              https://www.kits.com/freeglasses.html  25242     54  \n",
       "3  https://www.costco.ca/northrock-xc00-fat-tire-...   1769      2  \n",
       "4                                                NaN   2981      9  "
      ]
     },
     "execution_count": 68,
     "metadata": {},
     "output_type": "execute_result"
    }
   ],
   "source": [
    "# Assign datetime columns to DataFrame\n",
    "df.expiry = expiry\n",
    "df.last_reply = last_reply\n",
    "df.creation_date = creation_date\n",
    "\n",
    "# Verify dates\n",
    "df.head()"
   ]
  },
  {
   "cell_type": "markdown",
   "metadata": {},
   "source": [
    "### Dealing with missing data: `source`"
   ]
  },
  {
   "cell_type": "code",
   "execution_count": 69,
   "metadata": {},
   "outputs": [
    {
     "data": {
      "text/html": [
       "<div>\n",
       "<style scoped>\n",
       "    .dataframe tbody tr th:only-of-type {\n",
       "        vertical-align: middle;\n",
       "    }\n",
       "\n",
       "    .dataframe tbody tr th {\n",
       "        vertical-align: top;\n",
       "    }\n",
       "\n",
       "    .dataframe thead th {\n",
       "        text-align: right;\n",
       "    }\n",
       "</style>\n",
       "<table border=\"1\" class=\"dataframe\">\n",
       "  <thead>\n",
       "    <tr style=\"text-align: right;\">\n",
       "      <th></th>\n",
       "      <th>source</th>\n",
       "      <th>title</th>\n",
       "    </tr>\n",
       "  </thead>\n",
       "  <tbody>\n",
       "    <tr>\n",
       "      <td>0</td>\n",
       "      <td>Staples</td>\n",
       "      <td>One Step Hand Sanitizer, Fragrance-Free, 473mL...</td>\n",
       "    </tr>\n",
       "    <tr>\n",
       "      <td>1</td>\n",
       "      <td>Home Depot</td>\n",
       "      <td>RYOBI 20% coupon barcode</td>\n",
       "    </tr>\n",
       "    <tr>\n",
       "      <td>2</td>\n",
       "      <td>NaN</td>\n",
       "      <td>Kits.com Free Pair Prescription Glasses</td>\n",
       "    </tr>\n",
       "    <tr>\n",
       "      <td>3</td>\n",
       "      <td>Costco</td>\n",
       "      <td>Northrock xc00, fat Tire bike, $469.99</td>\n",
       "    </tr>\n",
       "    <tr>\n",
       "      <td>4</td>\n",
       "      <td>Canadian Tire</td>\n",
       "      <td>60x total CT Money when you pay with your Tria...</td>\n",
       "    </tr>\n",
       "  </tbody>\n",
       "</table>\n",
       "</div>"
      ],
      "text/plain": [
       "          source                                              title\n",
       "0        Staples  One Step Hand Sanitizer, Fragrance-Free, 473mL...\n",
       "1     Home Depot                           RYOBI 20% coupon barcode\n",
       "2            NaN            Kits.com Free Pair Prescription Glasses\n",
       "3         Costco             Northrock xc00, fat Tire bike, $469.99\n",
       "4  Canadian Tire  60x total CT Money when you pay with your Tria..."
      ]
     },
     "execution_count": 69,
     "metadata": {},
     "output_type": "execute_result"
    }
   ],
   "source": [
    "df.loc[:, ['source', 'title']].head()"
   ]
  },
  {
   "cell_type": "markdown",
   "metadata": {},
   "source": [
    "It is possible, that users simply forgot to include the source of the deal. We will check if missing sources are mentioned in the corresponding title."
   ]
  },
  {
   "cell_type": "code",
   "execution_count": 70,
   "metadata": {},
   "outputs": [
    {
     "name": "stdout",
     "output_type": "stream",
     "text": [
      "Number of unique sources:  148\n",
      "339 missing values in source column\n"
     ]
    }
   ],
   "source": [
    "# Set of entries in 'source' column\n",
    "retailer_set = set(df['source'].dropna())\n",
    "print(\"Number of unique sources: \", len(retailer_set))\n",
    "print(df.source.isnull().sum(), \"missing values in source column\")"
   ]
  },
  {
   "cell_type": "markdown",
   "metadata": {},
   "source": [
    "The large number of unique sources is promising! \n",
    "\n",
    "Next we will use the set previously created to itterate through the titles an check if any of the unique source names are present. If a source name from the set is found in `title` and no value is found in the corresponding `source` column, then the index as well as the source name are saved in the `replace` dictinoary."
   ]
  },
  {
   "cell_type": "code",
   "execution_count": 71,
   "metadata": {},
   "outputs": [
    {
     "name": "stdout",
     "output_type": "stream",
     "text": [
      "Replacements found in 'title': 37\n"
     ]
    }
   ],
   "source": [
    "replace_dict = {} # key: index; value: retailer name to replace missing source value at index\n",
    "\n",
    "# Iterate through set of unique values from source source column\n",
    "for retailer in retailer_set:\n",
    "    \"\"\"Fill replace dictioray with indecies and source names. Entries are made\n",
    "    when a source name is found in the title column while the corresponding source entry\n",
    "    is empty.\"\"\"\n",
    "    \n",
    "    # Iterate through 'source' and 'title' columns row-by-row\n",
    "    # Generate boolean array: True if unique source name (retailer) found in \"title\" and \"source\" is np.nan\n",
    "    source_missing_and_in_title = np.array([retailer in title \n",
    "                                     if source is np.nan else False\n",
    "                                     for title,source in zip(df.title, df.source)])\n",
    "    \n",
    "    # Indecies for which source_missing_and_in_title is True\n",
    "    replacement_indicies = np.where(source_missing_and_in_title == True)[0]\n",
    "    # Fill \"replace\" dictionary\n",
    "    for index in replacement_indicies:\n",
    "        if index not in replace_dict.keys():\n",
    "            replace_dict[index] = retailer\n",
    "\n",
    "print(\"Replacements found in 'title':\", len(replace_dict.values()))"
   ]
  },
  {
   "cell_type": "markdown",
   "metadata": {},
   "source": [
    "Some missing sources can be replaced by information found in the title. We will use the indecies and values stored in `replace_dict` to replace the appropriate values."
   ]
  },
  {
   "cell_type": "code",
   "execution_count": 72,
   "metadata": {},
   "outputs": [
    {
     "name": "stdout",
     "output_type": "stream",
     "text": [
      "Missing source values before replacement: 339\n",
      "Missing source values after replacement: 302\n",
      "37 missing source records have been replaced!\n"
     ]
    }
   ],
   "source": [
    "source_list = list(df.source) # copy of source column \n",
    "missing_start = sum([x is np.nan for x in source_list]) # missing values before cleaning\n",
    "print(\"Missing source values before replacement:\", missing_start)\n",
    "\n",
    "for replace in replace_dict.items():\n",
    "    index = replace[0]\n",
    "    source_replacement = replace[1]\n",
    "    source_list[index] = source_replacement\n",
    "\n",
    "missing_end = sum([x is np.nan for x in source_list]) # missing values after cleaning\n",
    "print(\"Missing source values after replacement:\", missing_end)\n",
    "replaced_count = missing_start-missing_end # number of replaced values\n",
    "print(replaced_count, \"missing source records have been replaced!\")"
   ]
  },
  {
   "cell_type": "markdown",
   "metadata": {},
   "source": [
    "All identified `source` records have been replaced with apporiate names of retailers found in the corrseponding `title` column. The new `source` column can now replace the old one.  "
   ]
  },
  {
   "cell_type": "code",
   "execution_count": 73,
   "metadata": {},
   "outputs": [
    {
     "name": "stdout",
     "output_type": "stream",
     "text": [
      "Number of missing values as expected: True\n"
     ]
    }
   ],
   "source": [
    "df.source = source_list\n",
    "print(\"Number of missing values as expected:\", (df.source.isnull().sum() == missing_end))"
   ]
  },
  {
   "cell_type": "markdown",
   "metadata": {},
   "source": [
    "Further substitutions for missing `source` values may be found in the `url` column. The objective is to extract company names from the urls and use them to further replace missing values."
   ]
  },
  {
   "cell_type": "code",
   "execution_count": 74,
   "metadata": {},
   "outputs": [
    {
     "name": "stdout",
     "output_type": "stream",
     "text": [
      "245 missing source values have corresponding urls\n"
     ]
    },
    {
     "data": {
      "text/plain": [
       "2                 https://www.kits.com/freeglasses.html\n",
       "6     http://go.redirectingat.com?id=2927x594702&amp...\n",
       "10                 https://www.ivctel.com/Internet/Plan\n",
       "25    https://www.awin1.com/awclick.php?gid=340116&a...\n",
       "27    http://www.amazon.ca/gp/redirect.html?ie=UTF8&...\n",
       "Name: url, dtype: object"
      ]
     },
     "execution_count": 74,
     "metadata": {},
     "output_type": "execute_result"
    }
   ],
   "source": [
    "# 'url' entries of rows with missing source values\n",
    "url_replacement = df[df.source.isnull()].url\n",
    "print(url_replacement.notnull().sum(), \"missing source values have corresponding urls\")\n",
    "url_replacement.head()"
   ]
  },
  {
   "cell_type": "markdown",
   "metadata": {},
   "source": [
    "The urls need to be split and cleaned to extract the name of the organisation. The final cleaned values and their corresponding indicies in the DataFrame will be stored in the `clean_urls` disctionary."
   ]
  },
  {
   "cell_type": "code",
   "execution_count": 75,
   "metadata": {},
   "outputs": [
    {
     "name": "stdout",
     "output_type": "stream",
     "text": [
      "{2: ['kits', 'com'], 6: ['go', 'redirectingat', 'com'], 10: ['ivctel', 'com'], 25: ['awin1', 'com'], 27: ['amazon', 'ca'], 31: ['awin1', 'com'], 34: ['oxio', 'ca'], 44: ['twitter', 'com'], 50: ['outilspierreberger', 'com'], 53: ['play', 'google', 'com'], 58: ['outilspierreberger', 'com'], 59: ['outilspierreberger', 'com'], 66: ['slickdeals', 'net'], 69: ['amazon', 'ca'], 81: ['buyapi', 'ca'], 86: ['go', 'redirectingat', 'com'], 97: nan, 98: nan, 101: nan, 109: nan, 112: nan, 113: nan, 115: ['schweser', 'com'], 117: ['tkqlhce', 'com'], 119: ['tkqlhce', 'com'], 134: ['performancehealth', 'ca'], 135: ['poppacorn', 'ca'], 144: ['amazon', 'ca'], 145: ['anrdoezrs', 'net'], 160: nan, 161: ['rover', 'ebay', 'com'], 162: ['ebox', 'ca'], 163: ['altimatel', 'com'], 165: ['detourcoffee', 'com'], 166: ['awin1', 'com'], 169: nan, 173: ['amazon', 'ca'], 177: ['kits', 'com'], 178: ['ninjakitchen', 'com'], 179: ['ninjakitchen', 'com'], 185: ['register', 'ubisoft', 'com'], 186: ['go', 'redirectingat', 'com'], 187: ['sharkclean', 'com'], 188: nan, 190: ['shop', 'styledemocracy', 'com'], 191: ['amazon', 'ca'], 196: ['amazon', 'ca'], 201: nan, 203: ['jdoqocy', 'com'], 206: ['ca', 'miele', 'ca'], 211: ['costco', 'ca'], 213: ['theflashsale', 'com'], 216: ['activebaby', 'ca'], 220: ['ampli', 'ca'], 224: nan, 229: nan, 230: ['twitter', 'com'], 231: nan, 233: ['click', 'linksynergy', 'com'], 234: nan, 235: ['amazon', 'ca'], 237: ['click', 'linksynergy', 'com'], 238: ['rakuten', 'ca'], 239: ['rakuten', 'ca'], 240: ['adobe', 'com'], 245: ['amazon', 'ca'], 248: ['amazon', 'ca'], 249: ['amazon', 'ca'], 255: ['go', 'redirectingat', 'com'], 256: ['amazon', 'ca'], 258: ['crescentindustries', 'ca'], 259: ['svpsports', 'ca'], 260: ['play', 'google', 'com'], 264: ['amazon', 'ca'], 265: ['econsumer', 'equifax', 'ca'], 266: nan, 267: ['click', 'linksynergy', 'com'], 286: ['amazon', 'ca'], 291: ['mailchi', 'mp'], 294: ['kqzyfj', 'com'], 299: ['rakuten', 'ca'], 314: ['ginospizza', 'ca'], 315: nan, 321: ['store', 'playstation', 'com'], 330: ['fadedsoul', 'com'], 331: nan, 335: nan, 344: nan, 346: ['svpsports', 'ca'], 353: ['getmyoffers', 'ca'], 355: ['mobvoi', 'com'], 356: ['go', 'redirectingat', 'com'], 362: ['awin1', 'com'], 363: ['toronto', 'ca'], 366: ['quincailleriedante', 'com'], 368: nan, 369: ['us', 'gamesplanet', 'com'], 370: ['awin1', 'com'], 374: nan, 378: ['store', 'insta360', 'com'], 380: ['costco', 'ca'], 382: ['cityfone', 'net'], 386: nan, 387: ['teasante', 'com'], 391: nan, 395: ['go', 'redirectingat', 'com'], 398: ['levis-canada', 'sjv', 'io'], 404: ['carrytel', 'ca'], 406: ['metopera', 'org'], 410: ['go', 'redirectingat', 'com'], 417: ['click', 'linksynergy', 'com'], 434: ['shoprbc', 'com'], 435: ['sherwin-williams', 'ca'], 439: ['click', 'linksynergy', 'com'], 455: ['alltrails', 'com'], 472: ['bcfasteners', 'com'], 478: ['apps', 'apple', 'com'], 479: ['amazon', 'ca'], 484: ['bccamera', 'com'], 485: ['tkqlhce', 'com'], 492: ['pi-co', 'ca'], 496: ['cdkeys', 'com'], 508: ['signup', 'easynews', 'com'], 509: ['tsc', 'ca'], 516: nan, 518: ['canadiantire', 'ca'], 519: ['fujifilmprintlife', 'ca'], 524: ['mysimplemarketplace', 'com'], 527: ['tanguay', 'ca'], 541: ['awin1', 'com'], 558: nan, 562: nan, 563: nan, 565: ['kqzyfj', 'com'], 567: nan, 571: ['drop', 'com'], 572: ['svpsports', 'ca'], 576: ['outterlimits', 'com'], 581: ['playolg', 'ca'], 583: ['click', 'linksynergy', 'com'], 592: ['amazon', 'ca'], 593: ['canex', 'ca'], 599: ['costco', 'ca'], 602: ['store', 'playstation', 'com'], 613: ['click', 'linksynergy', 'com'], 614: nan, 619: ['elac', 'com'], 622: ['facebook', 'com'], 623: nan, 626: nan, 627: nan, 628: ['wellwise', 'ca'], 629: ['wellwise', 'ca'], 644: ['amazon', 'ca'], 646: ['burton', 'com'], 651: ['tkqlhce', 'com'], 653: ['cdkeys', 'com'], 661: ['fastchargedocks', 'com'], 662: nan, 667: ['shop', 'lindt', 'ca'], 668: ['formula1', 'com'], 669: ['gotransit', 'com'], 674: ['the-home-depot-ca', 'pxf', 'io'], 676: nan, 685: ['try', 'fender', 'com'], 686: ['ionos', 'ca'], 689: ['simplii', 'com'], 690: ['amazon', 'ca'], 693: ['costco', 'ca'], 696: ['costco', 'ca'], 697: ['wellwise', 'ca'], 700: nan, 702: nan, 711: ['amazon', 'ca'], 712: nan, 738: ['bestbuyca', 'o93x', 'net'], 742: ['anrdoezrs', 'net'], 756: ['aeroplan-bg-sso', 'points', 'com'], 758: ['bit', 'ly'], 772: ['anrdoezrs', 'net'], 783: ['click', 'linksynergy', 'com'], 785: ['googleadservices', 'com'], 787: ['kqzyfj', 'com'], 795: ['billing', 'frugalusenet', 'com'], 797: ['amazon', 'ca'], 799: ['awin1', 'com'], 802: ['therecroom', 'com'], 804: ['decathalon-canada', 'mkr3', 'net'], 816: ['bestbuyca', 'o93x', 'net'], 818: ['amazon', 'ca'], 821: ['speakout7eleven', 'ca'], 831: ['uberats', 'ca'], 834: ['kelloggsgrocerycash', 'ca'], 836: ['click', 'linksynergy', 'com'], 839: ['edifier', 'com'], 843: nan, 844: ['ca', 'manscaped', 'com'], 847: ['click', 'linksynergy', 'com'], 849: nan, 850: ['click', 'linksynergy', 'com'], 852: ['awin1', 'com'], 856: nan, 864: ['play', 'google', 'com'], 871: ['everyonerides', 'org'], 878: ['oculus', 'com'], 880: ['americanexpress', 'com'], 891: ['cashback', 'highinterestsavings', 'ca'], 898: nan, 902: ['lenovo', 'evyy', 'net'], 909: ['go', 'redirectingat', 'com'], 913: ['rallyforrestaurants', 'ca'], 916: ['oculus', 'com'], 918: ['idrinkcoffee', 'com'], 925: nan, 927: ['cosmeticscompanystore', 'com'], 928: ['napoleon', 'com'], 929: ['napoleon', 'com'], 932: ['brampton', 'ca'], 933: ['treadmillfactory', 'ca'], 936: ['go', 'redirectingat', 'com'], 937: nan, 939: ['awin1', 'com'], 941: ['thecubenet', 'com'], 947: ['dispatchcoffee', 'ca'], 948: nan, 949: ['cwbeggs', 'com'], 950: ['click', 'linksynergy', 'com'], 957: ['lostcraft', 'ca'], 962: ['try', 'tidal', 'com'], 963: ['canada', 'bissell', 'com'], 966: ['go', 'redirectingat', 'com'], 972: ['go', 'redirectingat', 'com'], 977: ['store', 'playstation', 'com'], 978: ['store', 'playstation', 'com'], 979: nan, 981: ['radpowerbikes', 'ca'], 984: ['fitnessavenue', 'ca'], 987: nan, 991: ['enbridgesmartsavings', 'com'], 1003: ['us', 'shop', 'battle', 'net'], 1007: ['play', 'google', 'com'], 1015: ['accounts', 'usenetserver', 'com'], 1017: ['edifier', 'com'], 1025: ['poppacorn', 'ca'], 1027: ['amazon', 'com'], 1028: ['amazon', 'ca'], 1029: ['sportium', 'ca'], 1031: ['mcgillpersonalfinance', 'com'], 1033: ['uhaul', 'com'], 1034: ['ecscoffee', 'com'], 1039: ['thermoworks', 'com'], 1043: nan, 1044: nan, 1052: ['outterlimits', 'com'], 1055: ['completeequipment', 'ca'], 1057: ['walmartphotocentre', 'ca'], 1062: ['the-home-depot-ca', 'pxf', 'io'], 1063: ['avantlink', 'ca'], 1068: ['bestbuyca', 'o93x', 'net'], 1074: nan, 1078: ['ugo', 'ca'], 1081: ['go', 'redirectingat', 'com'], 1089: nan, 1093: ['harryrosen', 'com'], 1098: nan, 1101: ['luckymobile', 'ca'], 1106: ['aeroplan', 'com'], 1108: nan, 1117: ['waterloobrewing', 'com'], 1123: ['gibbyselectronicsupermarket', 'ca'], 1132: nan, 1135: ['twitter', 'com'], 1137: ['awin1', 'com'], 1142: ['deezer', 'com'], 1143: ['click', 'linksynergy', 'com'], 1147: ['software', 'pcworld', 'com'], 1153: ['dicksonbbq', 'com'], 1155: nan, 1162: ['fitnessavenue', 'ca'], 1171: ['go', 'redirectingat', 'com'], 1188: ['edifier', 'com'], 1190: ['amazon', 'ca'], 1196: ['stacksocial', 'com'], 1211: ['awin1', 'com'], 1227: ['apps', 'apple', 'com'], 1231: ['razer', 'com'], 1240: nan, 1246: ['store', 'playstation', 'com'], 1256: ['tkqlhce', 'com'], 1266: ['play', 'google', 'com'], 1282: ['store', 'playstation', 'com'], 1284: ['brownsshoes', 'com'], 1286: ['amazon', 'ca'], 1289: ['lecreuset', 'ca'], 1300: ['news', 'xbox', 'com'], 1305: ['store', 'steampowered', 'com'], 1317: ['google', 'com'], 1319: ['storefront', 'points', 'com'], 1320: nan, 1323: ['go', 'redirectingat', 'com'], 1324: nan, 1325: ['store', 'google', 'com']}\n"
     ]
    }
   ],
   "source": [
    "clean_urls = {} # key: index in df, value: cleaned url\n",
    "indicies = url_replacement.index\n",
    "\n",
    "for url in zip(indicies, url_replacement):\n",
    "    index = url[0]\n",
    "    replacement_url = url[1]\n",
    "    \n",
    "    # Clean if url value not missing\n",
    "    if replacement_url is not np.nan:\n",
    "        url_root = replacement_url.split(\"//\")[1].split(\"/\")[0].split(\"?\")[0].replace(\"www.\", \"\")\n",
    "        removed_domain = url_root.split(\".\")\n",
    "        clean_urls[index] = removed_domain\n",
    "    else:\n",
    "        clean_urls[index] = np.nan\n",
    "        \n",
    "print(clean_urls)"
   ]
  },
  {
   "cell_type": "markdown",
   "metadata": {},
   "source": [
    "We want to identify the company names from the url splits observed in the print above.\n",
    "The patterns shown in the table will facilitate this process. This is an oversimplification and will lead to some false extractions but the number of errors should be minimal.\n",
    "\n",
    "|Condition| Pattern|\n",
    "|---|---|\n",
    "|Lists length 2| company name is at index 0|\n",
    "|Lists length 3 and domain com, ca, or net| name is at index 1|\n",
    "|List length 3 and domain io| name is at index 0| \n",
    "|List length 4| no identifiable name|"
   ]
  },
  {
   "cell_type": "code",
   "execution_count": 76,
   "metadata": {},
   "outputs": [],
   "source": [
    "clean_url_final = clean_urls.copy()\n",
    "\n",
    "for item in clean_url_final.items():\n",
    "    index = item[0]\n",
    "    url_split = item[1]\n",
    "    try:\n",
    "        if len(url_split) == 2:\n",
    "             # name at index 0\n",
    "            clean_url_final[index] = url_split[0].title()\n",
    "        \n",
    "        elif ((len(url_split) == 3) \n",
    "                        and ((url_split[-1] == \"com\") \n",
    "                                 or (url_split[-1] == \"ca\") \n",
    "                                 or (url_split[-1] == \"ca\"))):\n",
    "            # name at index 1\n",
    "            clean_url_final[index] = url_split[1].title()\n",
    "        \n",
    "        elif ((len(url_split) == 3) \n",
    "                        and (url_split[-1] == \"io\")):\n",
    "             # name at index 0\n",
    "            clean_url_final[index] = url_split[0].title()\n",
    "        else: \n",
    "              clean_url_final[index] = np.nan\n",
    "    except: value = np.nan"
   ]
  },
  {
   "cell_type": "code",
   "execution_count": 77,
   "metadata": {},
   "outputs": [
    {
     "name": "stdout",
     "output_type": "stream",
     "text": [
      "Missing source values remaining:  63\n"
     ]
    }
   ],
   "source": [
    "# Add url-derived company names to DataFrame\n",
    "df.loc[list(clean_url_final.keys()),'source'] = list(clean_url_final.values())\n",
    "print(\"Missing source values remaining: \", df.source.isnull().sum())"
   ]
  },
  {
   "cell_type": "markdown",
   "metadata": {},
   "source": [
    "### Dealing with missing data: `price`\n",
    "\n",
    "Users may have forgoten to tag prices associated with the deals they posted. We will verify if their are any `$` signs in the title for those rows that have missing price values."
   ]
  },
  {
   "cell_type": "code",
   "execution_count": 78,
   "metadata": {},
   "outputs": [
    {
     "name": "stdout",
     "output_type": "stream",
     "text": [
      "428 missing values in 'price' column\n",
      "217 missing prices have '$' signs in the title\n"
     ]
    }
   ],
   "source": [
    "missing_prices_df = df[df.price.isnull()]\n",
    "price_in_title = [\"$\" in title for title in missing_prices_df.title]\n",
    "print(df.price.isnull().sum(), \"missing values in 'price' column\")\n",
    "print(sum(price_in_title), \"missing prices have '$' signs in the title\") "
   ]
  },
  {
   "cell_type": "code",
   "execution_count": 79,
   "metadata": {},
   "outputs": [
    {
     "data": {
      "text/plain": [
       "['Old Navy: $15 for 5 Reusable Face Masks (Triple-Layer Cotton) Adults & Children',\n",
       " 'Book Outlet - Many Low Prices on Books (Free Shipping Over $45 & 16% Off)',\n",
       " 'Amex Offers Spend $10, get $5 - Up to 10 times (starts June 24th)',\n",
       " 'Olympic 2\" weight plates - 2.5lbs ($4.05), 5lbs ($7.96), 10lbs ($13.08), 25lbs ($35.97), 35lbs ($39.97), 45lbs ($66.97)',\n",
       " 'Book Outlet - Many Low Prices on Books (Free Shipping Over $45 & 16% Off)',\n",
       " '[Lightning Deal] Coppertone Sport Continuous Sunscreen Spray Spf 30 Duo Pack 222mL $10.56',\n",
       " 'Lenovo Duet Chromebook 2-in-1: $399 - preorder',\n",
       " 'CIBC Earn $300 and 12 Month Fee Rebate with a CIBC Smart Account',\n",
       " 'Bit Defender 1 Year Licenses - $14.99 + $19.99',\n",
       " 'Harman Kardon Astra Bluetooth Speaker - Black - Open Box $49.99 (Brand New $429.99)']"
      ]
     },
     "execution_count": 79,
     "metadata": {},
     "output_type": "execute_result"
    }
   ],
   "source": [
    "# Display first 10 title to evaluate if the missing price could be substituted\n",
    "replacement_titles = missing_prices_df[price_in_title].title\n",
    "[title for title in replacement_titles][0:10]"
   ]
  },
  {
   "cell_type": "code",
   "execution_count": 80,
   "metadata": {
    "scrolled": true
   },
   "outputs": [
    {
     "name": "stdout",
     "output_type": "stream",
     "text": [
      "Number of possible replacements: 217\n"
     ]
    },
    {
     "data": {
      "text/plain": [
       "13                                               [$15]\n",
       "25                                               [$45]\n",
       "26                                               [$10]\n",
       "27      [$4.05, $7.96, $13.08, $35.97, $39.97, $66.97]\n",
       "31                                               [$45]\n",
       "                             ...                      \n",
       "1312                                    [$4.99, $3.99]\n",
       "1315                                          [$39.99]\n",
       "1316                                        [$60, $99]\n",
       "1317                                            [$187]\n",
       "1321                                            [$112]\n",
       "Name: title, Length: 217, dtype: object"
      ]
     },
     "execution_count": 80,
     "metadata": {},
     "output_type": "execute_result"
    }
   ],
   "source": [
    "regex = \"[$]+[.,]*\\d+[.,]*\\d+\"\\\n",
    "        \"|[.,]*\\d+[.,]*\\d+[$]+\"\\\n",
    "        \"|[a-zA-Z]+[$]+[.,]*\\d+[.,]*\\d+\"\n",
    "price_replacements = replacement_titles.str.findall(regex)\n",
    "print(\"Number of possible replacements:\", len(price_replacements))\n",
    "price_replacements"
   ]
  },
  {
   "cell_type": "markdown",
   "metadata": {},
   "source": [
    "We will assume the first element in each list is most relevant and use it to replace missing price values. Some inaccuracies are likely to occure but the estimates should be reasonable for the most part. Most often, user seem to not include pricers in the summary if the product is available at different price categories. Picking one the prices is better than having no information at all."
   ]
  },
  {
   "cell_type": "code",
   "execution_count": 81,
   "metadata": {},
   "outputs": [
    {
     "name": "stdout",
     "output_type": "stream",
     "text": [
      "207 replacements found.\n"
     ]
    }
   ],
   "source": [
    "replacement_dict = {} # key: index; value: price to replace missing value at index\n",
    "\n",
    "# Iterate through price lists found in price_replacements and corresonding indecies in DataFrame\n",
    "for replacement in zip(price_replacements, list(price_replacements.index)):\n",
    "    price_list = replacement[0]\n",
    "    index = replacement[1]\n",
    "    if price_list != []:\n",
    "        price = price_list[0]\n",
    "        price_clean = (re.search(r\"\\d+[.,]*\\d+\", price)).group().replace(\",\",\"\")\n",
    "        replacement_dict[index] = price_clean\n",
    "        \n",
    "print(len(replacement_dict), \"replacements found.\")"
   ]
  },
  {
   "cell_type": "code",
   "execution_count": 82,
   "metadata": {},
   "outputs": [
    {
     "name": "stdout",
     "output_type": "stream",
     "text": [
      "Remaining missing values: 221\n"
     ]
    }
   ],
   "source": [
    "# Replace missing values\n",
    "df.loc[list(replacement_dict.keys()), 'price'] = list(replacement_dict.values())\n",
    "print(\"Remaining missing values:\", df.price.isnull().sum())"
   ]
  },
  {
   "cell_type": "code",
   "execution_count": 84,
   "metadata": {},
   "outputs": [
    {
     "name": "stdout",
     "output_type": "stream",
     "text": [
      "<class 'pandas.core.frame.DataFrame'>\n",
      "RangeIndex: 1326 entries, 0 to 1325\n",
      "Data columns (total 14 columns):\n",
      "author             1326 non-null object\n",
      "creation_date      1326 non-null datetime64[ns]\n",
      "expiry             370 non-null datetime64[ns]\n",
      "last_reply         1326 non-null datetime64[ns]\n",
      "parent_category    825 non-null object\n",
      "price              1105 non-null object\n",
      "replies            1326 non-null int64\n",
      "saving             524 non-null object\n",
      "source             1263 non-null object\n",
      "thread_category    1325 non-null object\n",
      "title              1326 non-null object\n",
      "url                1044 non-null object\n",
      "views              1326 non-null int64\n",
      "votes              1326 non-null int64\n",
      "dtypes: datetime64[ns](3), int64(3), object(8)\n",
      "memory usage: 145.2+ KB\n"
     ]
    }
   ],
   "source": [
    "df.info()"
   ]
  },
  {
   "cell_type": "markdown",
   "metadata": {},
   "source": [
    "### Dealing with missing data: `saving`"
   ]
  },
  {
   "cell_type": "code",
   "execution_count": 98,
   "metadata": {},
   "outputs": [
    {
     "name": "stdout",
     "output_type": "stream",
     "text": [
      "['One Step Hand Sanitizer, Fragrance-Free, 473mL, $6.99', 'RYOBI 20% coupon barcode', 'Kits.com Free Pair Prescription Glasses', 'Northrock xc00, fat Tire bike, $469.99', '60x total CT Money when you pay with your Triangle WE MC - All Tire & Wheel purchases (YMMV)', 'Wahl deluxe haircutting kit $39.99 YMMV', 'Fluval Flex 9 gallon aquarium- $99.99', 'LU28R550UQNXZA Samsung 28” 4K IPS Monitor $327.99', '100mb cable internet 39$', 'Costco.ca Geometric dome climbing structure $199', 'Old Navy: $15 for 5 Reusable Face Masks (Triple-Layer Cotton) Adults & Children', 'Dell Business 15% Off Email Signup Coupon, *Stacking* w/ 10%OFFMONITOR, +6% Rakuten CB (HOT)', 'Kettle Chips New York Cheddar Chips, 220 Gram for $2.49 (add-on item)', 'Kasa Smart Outdoor Plug with 2 Outlets, Individual Control, IP64 Waterproof', 'HSBC Fixed rates: 2.04% 2-year, 1.99% 5-yr Insured & 2.29% 5-Yr (with cashback!)', 'Hilroy 1-Subject Notebook, 10-1/2\" x 8\", Assorted, 80 Pages $0.10, 24pk markers $2.49', '[CLEARANCE] 18-2019 Panini Toronto Raptors Championship Box Set ($7.92 )', 'Amex Offers Spend $10, get $5 - Up to 10 times (starts June 24th)', 'Olympic 2\" weight plates - 2.5lbs ($4.05), 5lbs ($7.96), 10lbs ($13.08), 25lbs ($35.97), 35lbs ($39.97), 45lbs ($66.97)', 'Rheem 36kW Electric Tankless Water Heater Reg. $964, in Store $289 YMMV.']\n"
     ]
    }
   ],
   "source": [
    "# Titles for which the saving entry is missing\n",
    "missing_savings_df = df[df.saving.isnull()]\n",
    "print([title for title in missing_savings_df.title.head(20)])"
   ]
  },
  {
   "cell_type": "markdown",
   "metadata": {},
   "source": [
    "Lastly we will search \"%\" symbols in rows for which the \"saving\" column entry is empty, similar to what we have done for prices."
   ]
  },
  {
   "cell_type": "code",
   "execution_count": 192,
   "metadata": {},
   "outputs": [
    {
     "name": "stdout",
     "output_type": "stream",
     "text": [
      "802 missing values in 'saving' column\n",
      "63 rows with missing 'saving' data have a '%' symbol in their title\n"
     ]
    }
   ],
   "source": [
    "# Titles containing the % symbol may contain information on savings\n",
    "# \"saving_in_title\" indicates the indicies for which there is no data\n",
    "# in the \"saving\" column and a \"%\" is found in the title.\n",
    "saving_in_title = [\"%\" in title for title in missing_savings_df.title]\n",
    "print(df.saving.isnull().sum(), \"missing values in 'saving' column\")\n",
    "print(sum(saving_in_title), \"rows with missing 'saving' data have a '%' symbol in their title\") "
   ]
  },
  {
   "cell_type": "code",
   "execution_count": 224,
   "metadata": {},
   "outputs": [
    {
     "name": "stdout",
     "output_type": "stream",
     "text": [
      "Number of possible replacements: 63\n"
     ]
    },
    {
     "data": {
      "text/plain": [
       "1                       [20%]\n",
       "16                 [15%, 10%]\n",
       "20      [2.04%, 1.99%, 2.29%]\n",
       "72                      [20%]\n",
       "73                      [10%]\n",
       "                ...          \n",
       "1273               [10%, 15%]\n",
       "1276                    [25%]\n",
       "1307               [25%, 10%]\n",
       "1319                    [60%]\n",
       "1320                    [60%]\n",
       "Name: title, Length: 63, dtype: object"
      ]
     },
     "execution_count": 224,
     "metadata": {},
     "output_type": "execute_result"
    }
   ],
   "source": [
    "# Titles containing the % symbol in rows with missing 'saving' entries  \n",
    "replacement_titles = missing_savings_df[saving_in_title].title\n",
    "\n",
    "# Extract savings data\n",
    "regex = \"[.,]*\\d+[.,]*\\d+[%]+\"\n",
    "saving_replacements = replacement_titles.str.findall(regex)\n",
    "print(\"Number of possible replacements:\", len(replacement_titles))\n",
    "saving_replacements"
   ]
  },
  {
   "cell_type": "markdown",
   "metadata": {},
   "source": [
    "Again, we will assume the first occurance to be most relevant. "
   ]
  },
  {
   "cell_type": "code",
   "execution_count": 221,
   "metadata": {},
   "outputs": [
    {
     "name": "stdout",
     "output_type": "stream",
     "text": [
      "Empty list found in 'saving_replacements'\n",
      "Empty list found in 'saving_replacements'\n",
      "Empty list found in 'saving_replacements'\n",
      "Empty list found in 'saving_replacements'\n",
      "Empty list found in 'saving_replacements'\n",
      "Empty list found in 'saving_replacements'\n",
      "Empty list found in 'saving_replacements'\n",
      "Empty list found in 'saving_replacements'\n"
     ]
    },
    {
     "data": {
      "text/plain": [
       "{1: '20%',\n",
       " 16: '15%',\n",
       " 20: '2.04%',\n",
       " 72: '20%',\n",
       " 73: '10%',\n",
       " 103: '50%',\n",
       " 107: '30%',\n",
       " 116: '10%',\n",
       " 170: '50%',\n",
       " 213: '70%',\n",
       " 217: '2.5%',\n",
       " 223: '12%',\n",
       " 246: '2.70%',\n",
       " 259: '87%',\n",
       " 301: '25%',\n",
       " 304: '50%',\n",
       " 322: '25%',\n",
       " 369: '91%',\n",
       " 432: '90%',\n",
       " 435: '30%',\n",
       " 439: '37%',\n",
       " 449: '75%',\n",
       " 473: '20%',\n",
       " 533: '40%',\n",
       " 597: '40%',\n",
       " 614: '70%',\n",
       " 638: '60%',\n",
       " 646: '60%',\n",
       " 659: '2.5%',\n",
       " 661: '10%',\n",
       " 662: '80%',\n",
       " 735: '40%',\n",
       " 756: '75%',\n",
       " 791: '50%',\n",
       " 819: '99.9%',\n",
       " 831: '30%',\n",
       " 849: '2.8%',\n",
       " 895: '50%',\n",
       " 934: '2.14%',\n",
       " 939: '50%',\n",
       " 949: '30%',\n",
       " 960: '25%',\n",
       " 1070: '20%',\n",
       " 1096: '50%',\n",
       " 1141: '25%',\n",
       " 1160: '50%',\n",
       " 1181: '57%',\n",
       " 1221: '25%',\n",
       " 1235: '2.54%',\n",
       " 1248: '15%',\n",
       " 1273: '10%',\n",
       " 1276: '25%',\n",
       " 1307: '25%',\n",
       " 1319: '60%',\n",
       " 1320: '60%'}"
      ]
     },
     "execution_count": 221,
     "metadata": {},
     "output_type": "execute_result"
    }
   ],
   "source": [
    "replacements = {}\n",
    "index_saving_tuples = zip(saving_replacements.index, saving_replacements)\n",
    "for index, saving in index_saving_tuples:\n",
    "    try:\n",
    "        replacements[index] = saving[0]\n",
    "    except:\n",
    "        print(\"Empty list found in 'saving_replacements'\")\n",
    "replacements"
   ]
  },
  {
   "cell_type": "markdown",
   "metadata": {},
   "source": [
    "We will expand our search for percent symbols to the comments to see if we can increase the number of replacements."
   ]
  },
  {
   "cell_type": "code",
   "execution_count": 130,
   "metadata": {},
   "outputs": [],
   "source": [
    "# df slice with missing \"saving\" data and no \"%\" symbol in \"titel\"\n",
    "no_title_replacement = missing_savings_df[[(not replaceable) for replaceable in saving_in_title]]\n",
    "\n",
    "# titles will be used as ids for corresponding comments\n",
    "comment_ids = set(no_title_replacement.title)"
   ]
  },
  {
   "cell_type": "code",
   "execution_count": 169,
   "metadata": {},
   "outputs": [],
   "source": [
    "# Convert ids into indecies for comments_df\n",
    "comment_indecies = [(x in comment_ids) for x in df_comments.title]\n"
   ]
  },
  {
   "cell_type": "markdown",
   "metadata": {},
   "source": [
    "The DataFrame includes comments derived from initial posts as well the corresponding responses. To find information on savings, we are mainly interested in the initial posts. This is because we expect the authors to limmit their comments to pertinant information on the sales deal. Percent symbols may be present in the responses but are less likely to correspond to savings associated with the product. \n",
    "\n",
    "Each post will have a row with its  title for every response that was made. To retrieve only the initial posts of the authors, we will group by title and then select the `first_valid_index()` from each group object. "
   ]
  },
  {
   "cell_type": "code",
   "execution_count": 190,
   "metadata": {},
   "outputs": [],
   "source": [
    "# Indecies for which titles appear for the first time\n",
    "index_initial_posts = [x for x in df_comments[comment_indecies]\\\n",
    "                       .groupby('title').apply(pd.DataFrame.first_valid_index)]\n",
    "\n",
    "replacement_comments = df_comments.iloc[index_initial_posts]"
   ]
  },
  {
   "cell_type": "code",
   "execution_count": 225,
   "metadata": {},
   "outputs": [
    {
     "name": "stdout",
     "output_type": "stream",
     "text": [
      "1 row(s) with missing 'saving' data have a '%' symbol in their title\n"
     ]
    }
   ],
   "source": [
    "# Search for % symbol in comments\n",
    "saving_found = [\"%\" in str(comment) for comment in replacement_comments.comments]\n",
    "print(sum(saving_found), \"row(s) with missing 'saving' data have a '%' symbol in their title\") "
   ]
  },
  {
   "cell_type": "code",
   "execution_count": 228,
   "metadata": {},
   "outputs": [
    {
     "data": {
      "text/plain": [
       "'Thanks OP! I ordered 1 from buy buy baby. $251.99 all in with 20% off coupon'"
      ]
     },
     "execution_count": 228,
     "metadata": {},
     "output_type": "execute_result"
    }
   ],
   "source": [
    "replacement_comments[saving_found].comments.iloc[0]"
   ]
  },
  {
   "cell_type": "markdown",
   "metadata": {},
   "source": [
    "Unfortunately only one replacement was found. Another option that could be explored in the future would be to search the titles for other indicators. For example strings of the format \"50$ less\" could be explored."
   ]
  },
  {
   "cell_type": "markdown",
   "metadata": {},
   "source": [
    "### Homogenizing the \"saving\" column"
   ]
  },
  {
   "cell_type": "code",
   "execution_count": 229,
   "metadata": {},
   "outputs": [
    {
     "data": {
      "text/plain": [
       "50%           31\n",
       "50% off       27\n",
       "100%          12\n",
       "40%           12\n",
       "40% off       10\n",
       "              ..\n",
       "81%            1\n",
       "81% off        1\n",
       "20% to 30%     1\n",
       "$120           1\n",
       "$75 off        1\n",
       "Name: saving, Length: 286, dtype: int64"
      ]
     },
     "execution_count": 229,
     "metadata": {},
     "output_type": "execute_result"
    }
   ],
   "source": [
    "df.saving.value_counts()"
   ]
  },
  {
   "cell_type": "code",
   "execution_count": null,
   "metadata": {},
   "outputs": [],
   "source": []
  }
 ],
 "metadata": {
  "kernelspec": {
   "display_name": "Python 3",
   "language": "python",
   "name": "python3"
  },
  "language_info": {
   "codemirror_mode": {
    "name": "ipython",
    "version": 3
   },
   "file_extension": ".py",
   "mimetype": "text/x-python",
   "name": "python",
   "nbconvert_exporter": "python",
   "pygments_lexer": "ipython3",
   "version": "3.7.4"
  }
 },
 "nbformat": 4,
 "nbformat_minor": 2
}
