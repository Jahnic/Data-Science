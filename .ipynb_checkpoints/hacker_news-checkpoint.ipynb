{
 "cells": [
  {
   "cell_type": "markdown",
   "metadata": {},
   "source": [
    "# Hacker News - Analysis of posts\n",
    "\n",
    "Hacker news is a technology oriented forum where useres can post questions and discuss topics. To evaluate popularity and weigh the importance of indevidual submissions, posts can be up or downvoted similar to reddit. In this project, we will analyse \"Ask HN\" submissions which ask specific questions. The time zone for the data is USA Eastern and therefore equal to Montreal time.\n",
    "\n",
    "|Column name (index)| Description|\n",
    "|---|---|\n",
    "|id (0)| Unique identifier of user|\n",
    "|title (1)| Title of post|\n",
    "|url (2)| URL that the post links to|\n",
    "|num_points (3)| Total points (upvotes - downvotes)|\n",
    "|num_comments (4)| Total number of comments|\n",
    "|author (5)| Username |\n",
    "|created_at (6)| Date at post submission|"
   ]
  },
  {
   "cell_type": "code",
   "execution_count": 19,
   "metadata": {},
   "outputs": [],
   "source": [
    "from csv import reader # to parse .csv file\n",
    "\n",
    "open_file = open('C:/Users/User/Documents/data_sets/hacker_news.csv', encoding = 'utf-8') # utf-8 encoding required to read data\n",
    "read = reader(open_file) # parse\n",
    "hn = list(read) # transform into list of lists\n",
    "headers = hn[0] # headers\n",
    "hn = hn[1:] # data"
   ]
  },
  {
   "cell_type": "code",
   "execution_count": 20,
   "metadata": {},
   "outputs": [
    {
     "name": "stdout",
     "output_type": "stream",
     "text": [
      "Number of \"Ask hn\" posts:  9139\n",
      "Number of \"Show hn\" posts:  10158\n",
      "Number of other posts:  273822\n"
     ]
    }
   ],
   "source": [
    "# Filtering Ask HN and Show HN post\n",
    "ask_posts = [] # posts asking a question\n",
    "show_posts = [] # posts answering a question\n",
    "other_posts = [] \n",
    "\n",
    "for row in hn:\n",
    "    title = row[1].lower() # lower case title to facilitate usage of startswith() method\n",
    "    if title.startswith('ask hn'):\n",
    "        ask_posts.append(row)\n",
    "    elif title.startswith('show hn'):\n",
    "        show_posts.append(row)\n",
    "    else: other_posts.append(row)\n",
    "\n",
    "print('Number of \"Ask hn\" posts: ', len(ask_posts))  \n",
    "print('Number of \"Show hn\" posts: ', len(show_posts))  \n",
    "print('Number of other posts: ', len(other_posts))  "
   ]
  },
  {
   "cell_type": "code",
   "execution_count": 21,
   "metadata": {},
   "outputs": [],
   "source": [
    "def avg_comments(data):\n",
    "    '''Returns the average number of comments in data'''\n",
    "    total_comments = 0 # number of comments in data\n",
    "    total_posts = len(data) # number of posts in data\n",
    "    for row in data:\n",
    "        comments = int(row[4])\n",
    "        total_comments += comments\n",
    "    return total_comments/total_posts # average number of comments"
   ]
  },
  {
   "cell_type": "code",
   "execution_count": 22,
   "metadata": {},
   "outputs": [
    {
     "name": "stdout",
     "output_type": "stream",
     "text": [
      "Averge number comments for ask posts:  10.393478498741656\n",
      "Averge number comments for show posts:  4.886099625910612\n",
      "Averge number comments for other posts:  6.4572678601427205\n"
     ]
    }
   ],
   "source": [
    "avg_ask_comments = avg_comments(ask_posts)\n",
    "print('Averge number comments for ask posts: ', avg_ask_comments)\n",
    "avg_show_comments = avg_comments(show_posts)\n",
    "print('Averge number comments for show posts: ', avg_show_comments)\n",
    "avg_other_comments = avg_comments(other_posts)\n",
    "print('Averge number comments for other posts: ', avg_other_comments)"
   ]
  },
  {
   "cell_type": "code",
   "execution_count": null,
   "metadata": {},
   "outputs": [],
   "source": []
  },
  {
   "cell_type": "markdown",
   "metadata": {},
   "source": [
    "The average comments for each post type indicate a substantial difference between ask and show posts. This may be explained by questions stimulating discussions more easily (for example due to their concise nature), being less technically challenging as a consequence of being asked by mostly inexperienced users, or by a greater proclivity of users to help rather than discuss. Since questions generate the most comments, the following analysis will focus on \"Ask HN\" posts. "
   ]
  },
  {
   "cell_type": "markdown",
   "metadata": {},
   "source": [
    "## At what times do ask-posts aquire the most comments?"
   ]
  },
  {
   "cell_type": "code",
   "execution_count": 29,
   "metadata": {},
   "outputs": [
    {
     "name": "stdout",
     "output_type": "stream",
     "text": [
      "9/26/2016 2:53\n",
      "9/26/2016 1:17\n",
      "9/25/2016 22:57\n"
     ]
    }
   ],
   "source": [
    "# identify date format\n",
    "for row in ask_posts[0:3]:\n",
    "    print(row[6])\n",
    "    \n",
    "date_format = \"%m/%d/%Y %H:%M\" # format of post dates"
   ]
  },
  {
   "cell_type": "code",
   "execution_count": 56,
   "metadata": {},
   "outputs": [
    {
     "name": "stdout",
     "output_type": "stream",
     "text": [
      "Number of posts at  00  pm:  301\n",
      "Number of comments at  00  pm:  2277\n",
      "Number of posts at  01  pm:  282\n",
      "Number of comments at  01  pm:  2089\n",
      "Number of posts at  02  pm:  269\n",
      "Number of comments at  02  pm:  2996\n",
      "Number of posts at  03  pm:  271\n",
      "Number of comments at  03  pm:  2154\n",
      "Number of posts at  04  pm:  243\n",
      "Number of comments at  04  pm:  2360\n",
      "Number of posts at  05  pm:  209\n",
      "Number of comments at  05  pm:  1838\n",
      "Number of posts at  06  pm:  234\n",
      "Number of comments at  06  pm:  1587\n",
      "Number of posts at  07  pm:  226\n",
      "Number of comments at  07  pm:  1585\n",
      "Number of posts at  08  pm:  257\n",
      "Number of comments at  08  pm:  2362\n",
      "Number of posts at  09  pm:  222\n",
      "Number of comments at  09  pm:  1477\n",
      "Number of posts at  10  pm:  282\n",
      "Number of comments at  10  pm:  3013\n",
      "Number of posts at  11  pm:  312\n",
      "Number of comments at  11  pm:  2797\n",
      "Number of posts at  12  pm:  342\n",
      "Number of comments at  12  pm:  4234\n",
      "Number of posts at  13  pm:  444\n",
      "Number of comments at  13  pm:  7245\n",
      "Number of posts at  14  pm:  513\n",
      "Number of comments at  14  pm:  4972\n",
      "Number of posts at  15  pm:  646\n",
      "Number of comments at  15  pm:  18525\n",
      "Number of posts at  16  pm:  579\n",
      "Number of comments at  16  pm:  4466\n",
      "Number of posts at  17  pm:  587\n",
      "Number of comments at  17  pm:  5547\n",
      "Number of posts at  18  pm:  614\n",
      "Number of comments at  18  pm:  4877\n",
      "Number of posts at  19  pm:  552\n",
      "Number of comments at  19  pm:  3954\n",
      "Number of posts at  20  pm:  510\n",
      "Number of comments at  20  pm:  4462\n",
      "Number of posts at  21  pm:  518\n",
      "Number of comments at  21  pm:  4500\n",
      "Number of posts at  22  pm:  383\n",
      "Number of comments at  22  pm:  3372\n",
      "Number of posts at  23  pm:  343\n",
      "Number of comments at  23  pm:  2297\n"
     ]
    }
   ],
   "source": [
    "import datetime as dt # time analysis\n",
    "\n",
    "result_list = [] # list of tuples containing post dates and number of comments\n",
    "for row in ask_posts:\n",
    "    result_list.append((row[6], row[4])) # list of tuples (date created, number of comments)\n",
    "\n",
    "posts_by_hour = {} # number of posts for each hour\n",
    "comments_by_hour = {} # number of comments for each hour\n",
    "\n",
    "# Extract hours and implement lists of post and comment frequency counts by hour\n",
    "for tup in result_list:\n",
    "    date = tup[0] # date of post\n",
    "    comments = int(tup[1]) # convert to integer to summarize comments\n",
    "    time = dt.datetime.strptime(date, date_format) # parse dates according to given format\n",
    "    hour = time.strftime(\"%H\") # extract hour from post\n",
    "    if hour not in posts_by_hour: # frequency counts\n",
    "        posts_by_hour[hour] = 1\n",
    "        comments_by_hour[hour] = comments\n",
    "    else:\n",
    "        posts_by_hour[hour] += 1\n",
    "        comments_by_hour[hour] += comments\n",
    "\n",
    "# Post comment counts from 5 - 11 pm\n",
    "table\n",
    "for hour in sorted(posts_by_hour):\n",
    "    print(\"Number of posts at \", hour, \" pm: \", posts_by_hour[hour])\n",
    "    print(\"Number of comments at \", hour, \" pm: \", comments_by_hour[hour])"
   ]
  },
  {
   "cell_type": "code",
   "execution_count": 61,
   "metadata": {},
   "outputs": [],
   "source": [
    "# Compute average number comments per post at each hour\n",
    "avg_by_hour = [] # list of lists containting hours and corresponding average comments per post\n",
    "for hour in posts_by_hour:\n",
    "    posts = posts_by_hour[hour]\n",
    "    comments = comments_by_hour[hour]\n",
    "    avg = round(comments/posts, 1) # average number of comments per post \n",
    "    avg_by_hour.append([avg, hour])\n"
   ]
  },
  {
   "cell_type": "code",
   "execution_count": 70,
   "metadata": {},
   "outputs": [
    {
     "name": "stdout",
     "output_type": "stream",
     "text": [
      "28.70 average comments per \"Ask HN\" post at 15:00\n",
      "16.30 average comments per \"Ask HN\" post at 13:00\n",
      "12.40 average comments per \"Ask HN\" post at 12:00\n",
      "11.10 average comments per \"Ask HN\" post at 02:00\n",
      "10.70 average comments per \"Ask HN\" post at 10:00\n"
     ]
    }
   ],
   "source": [
    "# Print results\n",
    "sorted_avg = sorted(avg_by_hour, reverse=True)[:5] # top 5 hours with highest avgerage comments per \"Ask HN\" post\n",
    "for avg in sorted_avg:\n",
    "    average = avg[0]\n",
    "    hour = dt.datetime.strptime(avg[1], '%H') # Initialize hour as datetime object\n",
    "    hour = dt.datetime.strftime(hour, \"%H:%M\") # Formate time \n",
    "    print('{average:.2f} average comments per \"Ask HN\" post at {hour}'.format(average = average, hour = hour))"
   ]
  },
  {
   "cell_type": "markdown",
   "metadata": {},
   "source": [
    "The results show that at 15:00 the largest number of average comments are registers. This indicates, that for US eastern time, which includes Montreal, 15:00 is the best time to ask questions and generate the most comments on HN."
   ]
  }
 ],
 "metadata": {
  "kernelspec": {
   "display_name": "Python 3",
   "language": "python",
   "name": "python3"
  },
  "language_info": {
   "codemirror_mode": {
    "name": "ipython",
    "version": 3
   },
   "file_extension": ".py",
   "mimetype": "text/x-python",
   "name": "python",
   "nbconvert_exporter": "python",
   "pygments_lexer": "ipython3",
   "version": "3.7.4"
  }
 },
 "nbformat": 4,
 "nbformat_minor": 2
}
