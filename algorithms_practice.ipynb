{
 "metadata": {
  "language_info": {
   "codemirror_mode": {
    "name": "ipython",
    "version": 3
   },
   "file_extension": ".py",
   "mimetype": "text/x-python",
   "name": "python",
   "nbconvert_exporter": "python",
   "pygments_lexer": "ipython3",
   "version": "3.6.9-final"
  },
  "orig_nbformat": 2,
  "kernelspec": {
   "name": "python36964bit16c7df5d1eb74842826b38abd9b84d10",
   "display_name": "Python 3.6.9 64-bit"
  }
 },
 "nbformat": 4,
 "nbformat_minor": 2,
 "cells": [
  {
   "cell_type": "code",
   "execution_count": 2,
   "metadata": {},
   "outputs": [],
   "source": [
    "import numpy as np\n",
    "import math"
   ]
  },
  {
   "cell_type": "code",
   "execution_count": 2,
   "metadata": {
    "tags": []
   },
   "outputs": [
    {
     "output_type": "stream",
     "name": "stdout",
     "text": "VIOLATION!\n"
    }
   ],
   "source": [
    "# Social distancing:\n",
    "# Are there 3+ customer in the store at any given time-frame?\n",
    "store_sorted = [(123, 1,10), (123, 2, 3), (123, 8, 9), (123, 1, 2.1), \n",
    "    (123, 1, 3)] # test case\n",
    "# Sort by start_ts O(nlogn)\n",
    "store_sorted.sort(key=lambda x: x[1])\n",
    "# current reference end_ts\n",
    "reference_frame = store_sorted[0][2]\n",
    "# previous two frames\n",
    "previous_frames = []\n",
    "# customer count for reference frame\n",
    "count = 0\n",
    "# Violation track\n",
    "violation = False\n",
    "\n",
    "# O(n)\n",
    "for i in range(len(store_sorted)):\n",
    "    # customer within current frame\n",
    "    store_entry = store_sorted[i][1]\n",
    "    if store_entry < reference_frame:\n",
    "        count += 1\n",
    "    else:\n",
    "        for frame in previous_frames:\n",
    "            # outside of previous frames?\n",
    "            if (store_entry > frame) and (count > 0):\n",
    "                previous_frames.remove(frame)\n",
    "                reference_frame = previous_frames[-1] # new most recent\n",
    "                count -= 1\n",
    "\n",
    "    # set new previous frame\n",
    "    previous_frames.append(reference_frame)\n",
    "    \n",
    "    # earlier customer exit\n",
    "    if store_sorted[i][2] < reference_frame:\n",
    "        reference_frame = store_sorted[i][2]\n",
    "\n",
    "    if count > 3:\n",
    "        violation = True # 3+ detected\n",
    "        break\n",
    "\n",
    "if violation == True:\n",
    "    print(\"VIOLATION!\")\n",
    "else:\n",
    "    print(\"No violations detected!\")"
   ]
  },
  {
   "cell_type": "code",
   "execution_count": 31,
   "metadata": {
    "tags": []
   },
   "outputs": [
    {
     "output_type": "stream",
     "name": "stdout",
     "text": "15 + 10 = 25\n5 + 10 = 15\n9 + 10 = 19\n7 + 10 = 17\n"
    },
    {
     "output_type": "execute_result",
     "data": {
      "text/plain": "True"
     },
     "metadata": {},
     "execution_count": 31
    }
   ],
   "source": [
    "# Given a list l and an integer k, write a function that returns True\n",
    "# if any addition of two numbers in l give k \n",
    "# O(n^2)\n",
    "def adds_to_k(l=[10,15,5,9,7], k=17):\n",
    "    list_length = len(l)\n",
    "    for n in range(list_length - 1):\n",
    "        for m in range(n+1, list_length):\n",
    "            print(l[m], \"+\", l[n], \"=\", l[m] + l[n])\n",
    "            if l[m] + l[n] == k:\n",
    "                return True\n",
    "    return False\n",
    "\n",
    "adds_to_k()"
   ]
  },
  {
   "cell_type": "code",
   "execution_count": 35,
   "metadata": {
    "tags": []
   },
   "outputs": [
    {
     "output_type": "stream",
     "name": "stdout",
     "text": "Splitting  [54, 26, 93, 17, 77, 31, 44, 55, 20]\nSplitting  [54, 26, 93, 17]\nSplitting  [54, 26]\nSplitting  [54]\nMerging  [54]\nSplitting  [26]\nMerging  [26]\nMerging  [26, 54]\nSplitting  [93, 17]\nSplitting  [93]\nMerging  [93]\nSplitting  [17]\nMerging  [17]\nMerging  [17, 93]\nMerging  [17, 26, 54, 93]\nSplitting  [77, 31, 44, 55, 20]\nSplitting  [77, 31]\nSplitting  [77]\nMerging  [77]\nSplitting  [31]\nMerging  [31]\nMerging  [31, 77]\nSplitting  [44, 55, 20]\nSplitting  [44]\nMerging  [44]\nSplitting  [55, 20]\nSplitting  [55]\nMerging  [55]\nSplitting  [20]\nMerging  [20]\nMerging  [20, 55]\nMerging  [20, 44, 55]\nMerging  [20, 31, 44, 55, 77]\nMerging  [17, 20, 26, 31, 44, 54, 55, 77, 93]\n[17, 20, 26, 31, 44, 54, 55, 77, 93]\n"
    }
   ],
   "source": [
    "# Merge and sort a list recursively \n",
    "# O(nlogn)\n",
    "def mergeSort(alist):\n",
    "    print(\"Splitting \",alist)\n",
    "    if len(alist)>1:\n",
    "        mid = len(alist)//2\n",
    "        lefthalf = alist[:mid]\n",
    "        righthalf = alist[mid:]\n",
    "\n",
    "        mergeSort(lefthalf)\n",
    "        mergeSort(righthalf)\n",
    "\n",
    "        i=0\n",
    "        j=0\n",
    "        k=0\n",
    "        while i < len(lefthalf) and j < len(righthalf):\n",
    "            if lefthalf[i] <= righthalf[j]:\n",
    "                alist[k]=lefthalf[i]\n",
    "                i += 1\n",
    "            else:\n",
    "                alist[k]=righthalf[j]\n",
    "                j += 1\n",
    "            k += 1\n",
    "\n",
    "        while i < len(lefthalf):\n",
    "            alist[k]=lefthalf[i]\n",
    "            i += 1\n",
    "            k += 1\n",
    "\n",
    "        while j < len(righthalf):\n",
    "            alist[k]=righthalf[j]\n",
    "            j += 1\n",
    "            k += 1\n",
    "    print(\"Merging \",alist)\n",
    "\n",
    "alist = [54,26,93,17,77,31,44,55,20]\n",
    "mergeSort(alist)\n",
    "print(alist)"
   ]
  },
  {
   "cell_type": "code",
   "execution_count": 3,
   "metadata": {
    "tags": []
   },
   "outputs": [
    {
     "output_type": "stream",
     "name": "stdout",
     "text": "Unit tests:\nTest one passed: True\nTest two passed: True\n"
    }
   ],
   "source": [
    "# Given an array of integers, return a new array such that each element at index i of the new array\n",
    "# is the product of all the numbers in the original array except the one at i.\n",
    "# Expected: [1, 2, 3, 4, 5] -> [120, 60, 40, 30, 24] AND [3, 2, 1] -> [2, 3, 6]\n",
    "# O(n^2)?\n",
    "\n",
    "l_one = [1, 2, 3, 4, 5]\n",
    "l_two = [3, 2, 1]\n",
    "\n",
    "def transform(list_input):\n",
    "    transformed_list = []\n",
    "    for i in range(len(list_input)):\n",
    "        # Create new array that excludes index i\n",
    "        array = np.array([x for index, x in enumerate(list_input) if index != i])\n",
    "        # Product of elements\n",
    "        result = np.prod(array)\n",
    "        # Append result to index i\n",
    "        transformed_list.append(result)\n",
    "    return transformed_list\n",
    "\n",
    "print(\"Unit tests:\")\n",
    "print(\"Test one passed:\", transform(l_one) == [120, 60, 40, 30, 24])\n",
    "print(\"Test two passed:\", transform(l_two) == [2, 3, 6])"
   ]
  },
  {
   "cell_type": "code",
   "execution_count": 31,
   "metadata": {
    "tags": []
   },
   "outputs": [
    {
     "output_type": "stream",
     "name": "stdout",
     "text": "Unit test:\nTest 1 passed: True\nTest 2 passed: True\nTest 3 passed: True\nTest 4 passed: True\nTest 5 passed: True\nTest 6 passed: True\nTest 7 passed: True\n"
    }
   ],
   "source": [
    "# Given an array of integers, find the first missing postive integer in linear time\n",
    "# and constant space.\n",
    "# Expected: [3, 4, -1, 1] -> 2 AND [1, 2, 0] -> 3\n",
    "# O(n)\n",
    "\n",
    "# Test cases\n",
    "l1 = [3, 4, -1, 1]\n",
    "l2 = [1, 2, 0]\n",
    "l3 = [-5, -3, -2, -1]\n",
    "l4 = [-3, -1, 0]\n",
    "l5 = [-10, -5, -2, 1, 2, 3, 9, 50]\n",
    "l6 = [-1, 0, 2, 3, 4]\n",
    "l7 = [-5, 1, 2, 3, 4]\n",
    "\n",
    "def first_missing_postive(l):\n",
    "    l.sort()\n",
    "    minimum = min(l)\n",
    "    maximum = max(l)\n",
    "    interval = list(range(minimum, maximum + 1))\n",
    "\n",
    "    if l[-1] < 0:\n",
    "        return 0\n",
    "    elif interval == l:\n",
    "        return l[-1] + 1\n",
    "    else:\n",
    "        for ele in interval:\n",
    "            if ele > 0 and ele not in l:\n",
    "                return ele\n",
    "        # Positive section of list is ordered without holes        \n",
    "        return l[-1] + 1\n",
    "\n",
    "print(\"Unit test:\")\n",
    "print(\"Test 1 passed:\", first_missing_postive(l1) == 2)\n",
    "print(\"Test 2 passed:\", first_missing_postive(l2) == 3)\n",
    "print(\"Test 3 passed:\", first_missing_postive(l3) == 0)\n",
    "print(\"Test 4 passed:\", first_missing_postive(l4) == 1)\n",
    "print(\"Test 5 passed:\", first_missing_postive(l5) == 4)\n",
    "print(\"Test 6 passed:\", first_missing_postive(l6) == 1)\n",
    "print(\"Test 7 passed:\", first_missing_postive(l7) == 5)"
   ]
  },
  {
   "cell_type": "code",
   "execution_count": null,
   "metadata": {},
   "outputs": [],
   "source": [
    "l1 = [4, 3, 1, 2]\n",
    "\n",
    "# bubble sort loops \n",
    "for i in range(len(l1)):\n",
    "    bubble = l1[i]\n",
    "    for n in range(len(l1)):\n",
    "        if bubble > l1[n]:\n",
    "            switch = l1[n]\n",
    "            l1[n] = bubble\n",
    "            l1[n - 1] = switch\n",
    "        else:\n",
    "            break"
   ]
  },
  {
   "cell_type": "code",
   "execution_count": null,
   "metadata": {},
   "outputs": [],
   "source": []
  }
 ]
}