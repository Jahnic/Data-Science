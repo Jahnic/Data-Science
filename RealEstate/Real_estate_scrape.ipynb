{
 "cells": [
  {
   "cell_type": "code",
   "execution_count": null,
   "metadata": {},
   "outputs": [],
   "source": [
    "import pandas as pd\n",
    "import numpy as np\n",
    "from random import randint\n",
    "import time\n",
    "import re\n",
    "# Visualizations\n",
    "import matplotlib.pyplot as plt\n",
    "import seaborn as sn\n",
    "# Scraping through Chrome webdriver\n",
    "from selenium import webdriver\n",
    "from selenium.webdriver.chrome.options import Options\n",
    "from selenium.webdriver.common.keys import Keys\n",
    "from selenium.webdriver.common.action_chains import ActionChains"
   ]
  },
  {
   "cell_type": "code",
   "execution_count": null,
   "metadata": {},
   "outputs": [],
   "source": [
    "# Starting URLs\n",
    "centris = \"https://www.centris.ca/en/properties~for-sale?view=Thumbnail\"\n",
    "duproprio = \"https://duproprio.com/en/search/list?search=true&is_for_sale=1&with_builders=1&parent=1&pageNumber=1&sort=-published_at\""
   ]
  },
  {
   "cell_type": "code",
   "execution_count": null,
   "metadata": {},
   "outputs": [],
   "source": [
    "class Centris:\n",
    "    \"\"\"\n",
    "    This class represents a chrome webdriver object with access to centris.ca.\n",
    "    \n",
    "    Attr:\n",
    "    self.url - starting url for scraping process\n",
    "    self.data - pandas.DataFrame object containing scraped data\n",
    "    self.driver - Chrome webdriver\n",
    "    self.containers - List of web-elements containing information on listings\n",
    "        - eg: link to listing, price, picture, address,...\n",
    "    self.links_to_listings - List of web-elements, each containing the link to a listing\n",
    "    \"\"\"\n",
    "     \n",
    "    def __init__(self, url=\"https://www.centris.ca/en/houses~for-sale~lac-simon/11851081?view=Summary&uc=3\"): \n",
    "        self.url = url\n",
    "        self.data = pd.DataFrame()\n",
    "        # Path to Chromedriver\n",
    "        self.DRIVER_PATH = 'C:/webdriver/chromedriver.exe'\n",
    "        self.driver = None\n",
    "        # Verification for new DOM\n",
    "        self.old_DOM = {\\\n",
    "                        'title' : [],\\\n",
    "                        'address' : [],\\\n",
    "                        'price' : [],\\\n",
    "                        'lat' : [],\\\n",
    "                        'long' : [],\\\n",
    "                        'descriptions' : [],\\\n",
    "                        'neighbourhood_top' : [],\\\n",
    "                        'neighbourhood_mid' : [],\\\n",
    "                        'neighbourhood_buttom' : [],\\\n",
    "                        'demographics_buttons' : [],\\\n",
    "                    }\n",
    "        \n",
    "    def reset_old_DOM(self):\n",
    "        self.old_DOM = {\\\n",
    "                        'title' : [],\\\n",
    "                        'address' : [],\\\n",
    "                        'price' : [],\\\n",
    "                        'lat' : [],\\\n",
    "                        'long' : [],\\\n",
    "                        'descriptions' : [],\\\n",
    "                        'neighbourhood_top' : [],\\\n",
    "                        'neighbourhood_mid' : [],\\\n",
    "                        'neighbourhood_buttom' : [],\\\n",
    "                        'demographics_buttons' : [],\\\n",
    "                    }\n",
    "\n",
    "    def append_data(self, title, address, price,\\\n",
    "            lat, long, descriptions, neighbourhood_indicators,\\\n",
    "            population, demographics):\n",
    "        \"\"\"Appends new data to existing data frame.\n",
    "        \n",
    "        Args:\n",
    "        title - string\n",
    "        address - string \n",
    "        price - \n",
    "        lat - \n",
    "        long - \n",
    "        descriptions - \n",
    "        neighbourhood_indicators -\n",
    "        population - \n",
    "        demographics - \n",
    "        \"\"\"\n",
    "        new_data = pd.DataFrame({\\\n",
    "                        'title': title,\\\n",
    "                        'address': address,\\\n",
    "                        'price': price,\\\n",
    "                        'lat': lat,\\\n",
    "                        'long': long\\\n",
    "                    }, index=[0])\n",
    "        \n",
    "        # DESCRIPTIONS\n",
    "        description_table = pd.DataFrame()\n",
    "#         headers_of_interest = [\\\n",
    "#                 \"rooms\", \"bedrooms\", \"powder room\", \"Number of units\", \"Building style\",\\\n",
    "#                 \"Condominium type\", \"Year built\", \"Building area\", \"Lot area\", \"walk_score\",\\\n",
    "#                 \"Net area\", \"Parking (total)\", \"Main unit\", \"Potential gross revenue\", \"Pool\"\\\n",
    "#                               ]\n",
    "#         # Ensures consistency accross listings\n",
    "#         for header in headers_of_interest:\n",
    "#             if header in descriptions.keys():\n",
    "#                 value = descriptions[header]\n",
    "#             else:\n",
    "#                 value = np.nan\n",
    "#             description_table[header] = pd.Series(value)\n",
    "\n",
    "        for key in descriptions.keys():\n",
    "            header = key\n",
    "            value = descriptions[header]\n",
    "            description_table[header] = pd.Series(value)\n",
    "        \n",
    "        # POPULATION AND DEMOGRAPHICS\n",
    "        new_data = pd.concat([new_data, neighbourhood_indicators, description_table,\\\n",
    "                             population, demographics], axis=1)\n",
    "        # LOGGING --------------------------     \n",
    "        #print(new_data)\n",
    "        \n",
    "        self.data = self.data.append(new_data, sort=False,\\\n",
    "                                     ignore_index=True)\n",
    "        \n",
    "    \n",
    "    def get_data(self):\n",
    "        return self.data\n",
    "        \n",
    "    def start_driver(self):\n",
    "        \"\"\"\n",
    "        Starts and returns Crome webdriver. \n",
    "        The page link in the url attribute \n",
    "        is opened in headless mode.\n",
    "        \"\"\"\n",
    "        \n",
    "        # Activate headless mode for fastest response\n",
    "        options = Options()\n",
    "        options.add_argument(\"--headless\")\n",
    "        options.add_argument(\"--disable-infobars\"); # disabling infobars\n",
    "        options.add_argument(\"--disable-extensions\"); # disabling extensions\n",
    "        options.add_argument(\"--disable-gpu\"); # applicable to windows os only\n",
    "        options.add_argument(\"--disable-dev-shm-usage\"); # overcome limited resource problems\n",
    "        options.add_argument(\"--no-sandbox\"); # Bypass OS security model\n",
    "        options.add_argument('--start-maximized') # open Browser in maximized mode\n",
    "        options.add_argument('--incognito')\n",
    "\n",
    "        # Start driver with url\n",
    "        self.driver = webdriver.Chrome(executable_path=self.DRIVER_PATH)\n",
    "        self.driver.get(self.url)\n",
    "\n",
    "    def sort_listings(self):\n",
    "        \"\"\"Sorts listings in webdriver from newest to oldest.\"\"\"\n",
    "        \n",
    "        # Click drop down menu\n",
    "        drop_down = self.driver.find_element_by_xpath(\\\n",
    "                                    \"//button[@id='dropdownSort']\")\n",
    "        drop_down.click()\n",
    "        \n",
    "        # Sort by most recent listings\n",
    "        sort_by = self.driver.find_element_by_xpath(\"//a[@data-option-value='3']\")\n",
    "        sort_by.click()\n",
    "    \n",
    "    def goto_first_page(self):\n",
    "        try:\n",
    "            next_page = self.driver.find_element_by_xpath(\\\n",
    "                                        \"//li[@class='goFirst']\")\n",
    "            next_page.click()\n",
    "        except:\n",
    "            print(\"goFirst button not available\")\n",
    "    \n",
    "    def next_page(self):\n",
    "        try:\n",
    "            next_page = self.driver.find_element_by_xpath(\\\n",
    "                                        \"//li[@class='next']\")\n",
    "            next_page.click()\n",
    "            pass\n",
    "        except:\n",
    "            time.sleep(0.5)\n",
    "            # Try again after waiting 0.5 sec.\n",
    "            try:\n",
    "                next_page = self.driver.find_element_by_xpath(\\\n",
    "                                            \"//li[@class='next']\")\n",
    "                next_page.click()\n",
    "                pass\n",
    "            except:\n",
    "                print(\"Next-page button not found!\")\n",
    "                \n",
    "    def get_page_position(self):\n",
    "        '''Returns the first and last page of the current search.\n",
    "        \n",
    "        Returns\n",
    "        tuple - (current_page, last_page), '''\n",
    "        \n",
    "        pages = self.driver.find_element_by_xpath(\\\n",
    "                                    \"//li[@class='pager-current']\").text.\\\n",
    "                                    split(\" / \")\n",
    "        \n",
    "        current_page, last_page = (int(page.replace(\",\",\"\")) for page in pages)\n",
    "        \n",
    "        return (current_page, last_page)\n",
    "    \n",
    "    def refresh_page(self):\n",
    "        \"Refreshes current webdriver page.\"\n",
    "        self.driver.refresh()\n",
    "        print(\"Page is being refreshed.\")\n",
    "        # Wait until page fully loaded\n",
    "        time.sleep(2)\n",
    "        \n",
    "    def distance(origin, destination):\n",
    "        \"\"\"Calculates distances from latitudinal/longitudinal data using\n",
    "        the haversine formula\"\"\"\n",
    "        lat1, lon1 = origin\n",
    "        lat2, lon2 = destination\n",
    "        radius = 6371 # km\n",
    "        \n",
    "        #Convert from degrees to radians\n",
    "        dlat = math.radians(lat2-lat1)\n",
    "        dlon = math.radians(lon2-lon1)\n",
    "        \n",
    "        # Haversine formula\n",
    "        a = math.sin(dlat/2) * math.sin(dlat/2) + math.cos(math.radians(lat1)) \\\n",
    "            * math.cos(math.radians(lat2)) * math.sin(dlon/2) * math.sin(dlon/2)\n",
    "        c = 2 * math.atan2(math.sqrt(a), math.sqrt(1-a))\n",
    "        d = radius * c\n",
    "\n",
    "        return d\n",
    "                \n",
    "                                                 \n",
    "# Instantiate class object\n",
    "centris = Centris()"
   ]
  },
  {
   "cell_type": "markdown",
   "metadata": {},
   "source": [
    "The following functions need to be outside of the Class. wait_for_xpath() determined the approptiate time to call get_data(). Initially, both fuctions were part of the class object. It seems that after the get_data() call, the driver does not get updated within the class. This leads in some cases to old DOM's being accessed after the browser has already switched to the next page. To circumvent this issue, elements are called outside the class and tried until accessible. This allows the entire new DOM to be loaded before get_data() is called."
   ]
  },
  {
   "cell_type": "code",
   "execution_count": null,
   "metadata": {},
   "outputs": [],
   "source": [
    " def wait_for_xpath(xpath: str, old_element):\n",
    "        \"\"\"\n",
    "        Wait until elements in new DOM are accessible.\n",
    "        \n",
    "        Arg.\n",
    "        xpath - xpath to new element \n",
    "        old_element - element at xpath from previous DOM (found in centris.old_DOM)\n",
    "        \n",
    "        Returns:\n",
    "        current_element - the element found in the new DOM at xpath\n",
    "        \"\"\"\n",
    "        \n",
    "        centris_driver = centris.driver\n",
    "        element_at_xpath = []\n",
    "        \n",
    "        # Ensure that the NEW rather than the previous or no DOM is active\n",
    "        # Maximum wait time 10 sec.\n",
    "        time_passed = 0\n",
    "        while (\\\n",
    "            (element_at_xpath == old_element or  element_at_xpath == [])\\\n",
    "            and (time_passed <= 10)\\\n",
    "              ):\n",
    "            # Wait for DOM to load\n",
    "            time.sleep(0.2)\n",
    "            time_passed += 0.2\n",
    "            \n",
    "            # Print every 2 seconds\n",
    "            if time_passed%2 == 0:\n",
    "                print(\"Waiting for new DOM...\")\n",
    "            \n",
    "            # Attempt to load new DOM\n",
    "            try: \n",
    "                element_at_xpath = centris_driver.find_elements_by_xpath(xpath)\n",
    "            except: pass\n",
    "        \n",
    "        # After 10 seconds unlikely to load at all -> restart entire process\n",
    "        if time_passed > 10:\n",
    "            print(\"RuntimeError: element not found.\")\n",
    "            centris.refresh_page()\n",
    "            get_data_from_centris()\n",
    "            wait_for_xpath(xpath, old_element)\n",
    "            \n",
    "        return element_at_xpath"
   ]
  },
  {
   "cell_type": "code",
   "execution_count": null,
   "metadata": {},
   "outputs": [],
   "source": [
    "def scrape_description(old_DOM):\n",
    "    \"\"\" Requires instantiated centris object. Scrapes and returns\n",
    "    description data: Year build, price, Net area, etc.\"\"\"\n",
    "    \n",
    "    descriptions = wait_for_xpath(\"//div[@class='col-lg-12 description']\",\\\n",
    "                                 old_DOM)\n",
    "    #First three elements not relevant\n",
    "    descriptions_list = descriptions[0].text.split(\"\\n\")[3:]\n",
    "    \n",
    "    #LOGGING------------------------\n",
    "    #print(\"DESCRIPTION:\", descriptions_list)\n",
    "    \n",
    "    # Update old_DOM dictionary with new element for next verification\n",
    "    centris.old_DOM['descriptions'] = descriptions\n",
    "    \n",
    "    return extract_descriptions(descriptions_list)"
   ]
  },
  {
   "cell_type": "code",
   "execution_count": null,
   "metadata": {},
   "outputs": [],
   "source": [
    "def extract_descriptions(descriptions_list):\n",
    "    \"\"\"Takes in data from scrape_description() and returns it \n",
    "    as a dictionary\"\"\"\n",
    "    \n",
    "    # The data_dict found on this part of the page is inconsistent across listings\n",
    "    # The first row may contain the number of rooms, bedrooms and bathrooms without headers or may be missing\n",
    "    # Following rows have heathers with associated values after a line break\n",
    "    # The very last element may be a walking score without header\n",
    "    # Listings without first row may supply first row information in subsequent rows with headers\n",
    "    # Because of these inconsistencies, two seperate extractions need to be implemented: one for\n",
    "    # first row lements (if they exist) and another for subsequent rows\n",
    "    \n",
    "    # Transformed data\n",
    "    data_dict = {}\n",
    "    # Distinguish between elements from first and subsequent rows if first row exists\n",
    "    first_row = True\n",
    "    # Starting point for second part of transformation\n",
    "    second_row_index = 0\n",
    "    \n",
    "    # First Part\n",
    "    while first_row == True:\n",
    "        for description in descriptions_list:\n",
    "            numeric = re.findall(\"\\(*[0-9]+\\)*\", description) # numbers\n",
    "            text = re.findall(\"[A-Za-z]+[A-Za-z\\s\\-]*\", description) # text after/inbetween numbers \n",
    "\n",
    "            # Initial elements with numeric values correspond to first row\n",
    "            if (numeric != []):\n",
    "                # For each value there must be one text description\n",
    "                if (len(numeric) == len(text)):\n",
    "                    for description,value in zip(text, numeric):\n",
    "                        # Save as column in data_dict\n",
    "                        description_clean = description.replace(\"and\", \"\").strip()\n",
    "                        data_dict[description_clean] = value\n",
    "                    second_row_index += 1 \n",
    "                else:\n",
    "                    print(\"Unequal number of first row keys and values!\")\n",
    "                    print(\"Numbers:\", numeric)\n",
    "                    print(\"Text:\", text)\n",
    "                    break\n",
    "            else:\n",
    "                first_row = False # No numeric information implies header\n",
    "                break\n",
    "    \n",
    "    # Index range of second extraction\n",
    "    # Headers are found at every second index (0,2,4,...)\n",
    "    # Values are one index apart from their corresponding header (1,3,5,...)\n",
    "    list_length = len(descriptions_list)\n",
    "    if (list_length - second_row_index)%2 == 1: # Implies presence of element without header -> Walk Score\n",
    "        walk_score_listed = True\n",
    "        end_point = list_length -1\n",
    "    else:\n",
    "        walk_score_listed = False\n",
    "        end_point = list_length\n",
    "    # Indices corresponding to headers\n",
    "    extraction_range = range(second_row_index, end_point, 2)\n",
    "    \n",
    "    #LOGGING----------------------\n",
    "#     print(\"Second row index:\", second_row_index)\n",
    "#     print(\"Extraction range:\", extraction_range)\n",
    "#     print(\"List:\", descriptions_list)\n",
    "    \n",
    "    # Second Part\n",
    "    for header_index in extraction_range:\n",
    "        # Headers as column names\n",
    "        header = descriptions_list[header_index]\n",
    "        # Values corresponding to headers are found at subsequent indices\n",
    "        information = descriptions_list[header_index + 1] \n",
    "        data_dict[header] = information\n",
    "    \n",
    "    if walk_score_listed:\n",
    "        data_dict[\"walk_score\"] = descriptions_list[-1]\n",
    "        #LOGGING----------------------\n",
    "        #print(\"Walk Score:\", descriptions_list[-1])\n",
    "        \n",
    "    #LOGGING--------------------------\n",
    "#     print(\"Descriptions:\", data_dict)\n",
    "        \n",
    "    return data_dict"
   ]
  },
  {
   "cell_type": "code",
   "execution_count": null,
   "metadata": {},
   "outputs": [],
   "source": [
    "def scrape_neighbourhood(old_DOM_top, old_DOM_mid, old_DOM_buttom):\n",
    "    \"\"\" Scrapes and returns a list of ratings \n",
    "    between 0-10 for a set of neighborhood indicators\n",
    "    such as groceries, parks, noise, etc.)\n",
    "    \"\"\"\n",
    "    driver = centris.driver\n",
    "    \n",
    "    # Extract elements from top section of scrollable list\n",
    "    neighbourhood_top = wait_for_xpath(\\\n",
    "                            \"//div[@class='ll-list ps ps--active-y']\",\\\n",
    "                            old_DOM_top)\n",
    "    # Split into indicators and ranking values\n",
    "    top = [x.text for x in neighbourhood_top][0].split(\"\\n\")\n",
    "    \n",
    "    # LOGGING----------------------\n",
    "#     print(\"Top neighbourhood:\", top)\n",
    "    \n",
    "    # Extract middle section - only one element\n",
    "    # Scroll and activate scrollable bar container\n",
    "    scrollable_bar = driver.find_element_by_xpath(\\\n",
    "                                            \"//div[@class='ps__thumb-y']\")\n",
    "    ActionChains(driver).\\\n",
    "        move_to_element(scrollable_bar).\\\n",
    "        send_keys(Keys.PAGE_DOWN).\\\n",
    "        click(scrollable_bar).perform()\n",
    "\n",
    "    # Elements from buttom of scrollable list\n",
    "    neighbourhood_mid = wait_for_xpath(\\\n",
    "                            \"//div[@class='ll-list ps ps--active-y']\",\\\n",
    "                            old_DOM_mid)\n",
    "    # Split into indicators and ranking values\n",
    "    \n",
    "    # LOGGING----------------------\n",
    "    #print(\"Neighbourhoud mid section:\", neighbourhood_mid)\n",
    "    \n",
    "    middle = [x.text for x in neighbourhood_mid][0].split(\"\\n\")\n",
    "    \n",
    "    # Extract buttom section\n",
    "    # Scroll and load remaining elements\n",
    "#     scrollable_bar = driver.find_element_by_xpath(\\\n",
    "#                                             \"//div[@class='ps__thumb-y']\")\n",
    "    ActionChains(driver).\\\n",
    "        move_to_element(scrollable_bar).\\\n",
    "        send_keys(Keys.PAGE_DOWN).\\\n",
    "        click(scrollable_bar).perform()\n",
    "    \n",
    "    # Elements from buttom of scrollable list\n",
    "    neighbourhood_buttom = wait_for_xpath(\\\n",
    "                            \"//div[@class='ll-list ps ps--active-y']\",\\\n",
    "                            old_DOM_buttom)\n",
    "    # Split into indicators and ranking values\n",
    "    buttom = [x.text for x in neighbourhood_buttom][0].split(\"\\n\")\n",
    "    \n",
    "    # LOGGING----------------------\n",
    "#     print(\"Buttom neighbourhood:\", buttom)\n",
    "    \n",
    "    # Unite all three sections by storing tuples of indicator names and corresponding values\n",
    "    united_list = []\n",
    "    list_length = len(top)\n",
    "    for i in range(0, list_length, 2):\n",
    "        united_list.append((top[i], top[i+1]))\n",
    "        united_list.append((middle[i], middle[i+1]))\n",
    "        united_list.append((buttom[i], buttom[i+1]))\n",
    "    \n",
    "    # Create set of unique tuples\n",
    "    neighbourhood_indicators = set(united_list)\n",
    "    \n",
    "    # LOGGING----------------------\n",
    "#     print(\"Number of neighborhood indicators: \", len(neighbourhood_indicators))\n",
    "#     print(\"UNITED:\", united_list)\n",
    "#     print(\"SET:\", neighbourhood_indicators)\n",
    "    \n",
    "    # Verify size and extract information as list\n",
    "    # If size unexpected, refresh page and restart process\n",
    "    if len(neighbourhood_indicators) < 8:\n",
    "            centris.refresh_page()\n",
    "            scrape_neighbourhood(old_DOM_top, old_DOM_buttom)\n",
    "\n",
    "    # Update old_DOM dictionary with new elements for next verification\n",
    "    centris.old_DOM['neighbourhood_top'] = neighbourhood_top\n",
    "    centris.old_DOM['neighbourhood_mid'] = neighbourhood_mid\n",
    "    centris.old_DOM['neighbourhood_buttom'] = neighbourhood_buttom\n",
    "\n",
    "    return extract_neighbourhood_indicators(neighbourhood_indicators)"
   ]
  },
  {
   "cell_type": "code",
   "execution_count": null,
   "metadata": {},
   "outputs": [],
   "source": [
    "def extract_neighbourhood_indicators(indicators):\n",
    "    \"\"\"Takes in neighbourhood data from scrape_neighbourhood() and returns it \n",
    "    in tabular form as a DataFrame object\"\"\"\n",
    "    data = pd.DataFrame()\n",
    "    for indicator in indicators:\n",
    "        header = indicator[0]\n",
    "        value = indicator[1]\n",
    "        data[header] = pd.Series(value)\n",
    "    \n",
    "    return data"
   ]
  },
  {
   "cell_type": "code",
   "execution_count": null,
   "metadata": {},
   "outputs": [],
   "source": [
    "def scrape_population():\n",
    "    \"\"\"Scrapes and returns population summary data (density, variation etc.)\"\"\"\n",
    "    population_summaries =  centris.driver.find_element_by_id('info')\n",
    "    population_summaries_list = population_summaries\\\n",
    "                        .text.split(\"\\n\")\n",
    "    \n",
    "    # LOGGING-----------------------\n",
    "    #print(\"Population:\", population_summaries_list)\n",
    "    \n",
    "    return extract_population(population_summaries_list)"
   ]
  },
  {
   "cell_type": "code",
   "execution_count": null,
   "metadata": {},
   "outputs": [],
   "source": [
    "def extract_population(population):\n",
    "    \"\"\"Takes in population data from scrape_population() and returns it \n",
    "    in tabular form as a DataFrame object\"\"\"\n",
    "    \n",
    "    data = pd.DataFrame()\n",
    "    for info in population:\n",
    "        units_removed =  info.replace(\"hab/km2\", \"\").strip()\n",
    "        # Numeric data\n",
    "        numeric = re.findall(\"[0-9]+[0-9,]*\", units_removed)\n",
    "        numeric_clean = numeric[-1].replace(\",\",\"\")\n",
    "\n",
    "        # Text data for column names\n",
    "        header = re.findall(\"[a-zA-Z\\s]+\", units_removed)\n",
    "        header_clean = header[0]\n",
    "        # Add numeric data to header excluding the value at index -1\n",
    "        for numeric_head_data in numeric[:-1]:\n",
    "            header_clean = header_clean + str(numeric_head_data) + \" \"\n",
    "\n",
    "        data[header_clean] = pd.Series(numeric_clean).astype(\"int\")\n",
    "    return data"
   ]
  },
  {
   "cell_type": "code",
   "execution_count": null,
   "metadata": {},
   "outputs": [],
   "source": [
    "def scrape_demographics(old_DOM):\n",
    "    \"\"\"Scrapes and return demographic data found in a clickable list\"\"\"\n",
    "    \n",
    "    driver = centris.driver\n",
    "    # Clickable list containing demographic data\n",
    "    menu = driver.find_element_by_id(\"menu\")\n",
    "    # Load menu by moving browser to it\n",
    "    ActionChains(driver).\\\n",
    "    move_to_element(menu).perform()\n",
    "    \n",
    "    #Buttons to access demographics data (education, incomes, etc.)\n",
    "    demographics_buttons = wait_for_xpath(\\\n",
    "                        \"//div[@class='centrisSocioDemobutton']\",\\\n",
    "                                                 old_DOM)\n",
    "\n",
    "    # LOGGING------------------------\n",
    "    # print(\"DEMO. BUTTONS:\", demographics_buttons)\n",
    "\n",
    "    # First entry on clickable demographics list (pre-selected)\n",
    "    demographics = []\n",
    "\n",
    "    # Click buttons to access next demogrpahics elements\n",
    "    for button in demographics_buttons:\n",
    "        try: \n",
    "            button.click()\n",
    "        except: \n",
    "            print(\"Demographics button missing!\")\n",
    "            # Reattempt loading buttons\n",
    "            centris.refresh_page()\n",
    "            ActionChains(driver).\\\n",
    "            move_to_element(menu).\\\n",
    "            perform()\n",
    "            time.sleep(2) # extra time to load\n",
    "            demographics_buttons = wait_for_xpath(\\\n",
    "                        \"//div[@class='centrisSocioDemobutton']\",\\\n",
    "                                                 old_DOM)\n",
    "            \n",
    "        # Get and append data after button click\n",
    "        demographic_data = driver.find_element_by_class_name(\\\n",
    "                         \"socioDemoLabel\")\n",
    "        demographics.append(demographic_data.text)\n",
    "    \n",
    "    # Split each demographic component into separate list\n",
    "    # Example: splits \"Occupation\" data into -> [\"Owners\", \"35%\", \"Renters\", \"65%\"]\n",
    "    demographics = [demo.split(\"\\n\") for demo in demographics]\n",
    "    \n",
    "    #LOGGING------------------------\n",
    "#     print(\"DEMO. DATA:\", demographics)\n",
    "#     print(\"-\"*50)\n",
    "    \n",
    "    # Update old_DOM dictionary with new elements for next verification\n",
    "    centris.old_DOM['demographics_buttons'] = demographics_buttons\n",
    "    \n",
    "    return extract_demographics(demographics)"
   ]
  },
  {
   "cell_type": "code",
   "execution_count": null,
   "metadata": {},
   "outputs": [],
   "source": [
    "def extract_demographics(demographics):\n",
    "    \"\"\"Takes in demographic data from extract_demographics() and returns it \n",
    "    in tabular form as a DataFrame object\"\"\"\n",
    "    \n",
    "    data = pd.DataFrame()\n",
    "    \n",
    "    for demographic in demographics:\n",
    "        # Remove empty stings from splitting double line breaks \\n\\n\n",
    "        removed_empty_strings = [x for x in demographic if x != \"\"]\n",
    "        # Format of demographic: [header, value, header, value, ...]\n",
    "        header_index = range(0, len(demographic), 2)\n",
    "        for i in header_index:\n",
    "            header = demographic[i] + \" (%)\" # add units to column names\n",
    "            value = demographic[i+1].replace(\"%\", \"\") # remove units from values \n",
    "            data[header] = pd.Series(value).astype(\"int\")\n",
    "\n",
    "    return data"
   ]
  },
  {
   "cell_type": "code",
   "execution_count": null,
   "metadata": {},
   "outputs": [],
   "source": [
    "def get_data_from_centris():\n",
    "        \"\"\"\n",
    "        Requires instantiate Centris object. Scrapes information from the\n",
    "        webdriver and appends it to the Centris object.\n",
    "        \"\"\"\n",
    "        driver = centris.driver\n",
    "        old_DOM = centris.old_DOM\n",
    "        \n",
    "        # Data from headers\n",
    "        print(\"Start scraping new page...\")\n",
    "        title = wait_for_xpath(\"//span[@data-id='PageTitle']\", old_DOM['title'])\n",
    "        address = wait_for_xpath(\"//h2[@itemprop='address']\", old_DOM['address'])\n",
    "        price = wait_for_xpath(\"//span[@itemprop='price']\", old_DOM['price'])\n",
    "        lat = wait_for_xpath(\"//meta[@itemprop='latitude']\", old_DOM['lat'])\n",
    "        long = wait_for_xpath(\"//meta[@itemprop='longitude']\", old_DOM['long'])\n",
    "        \n",
    "        # Save elements as old DOM\n",
    "        centris.old_DOM['title'] = title\n",
    "        centris.old_DOM['address'] = address\n",
    "        centris.old_DOM['lat'] = lat\n",
    "        centris.old_DOM['long'] = long\n",
    "        \n",
    "        # Scrape remaining elements and store in dataframe\n",
    "        descriptions = scrape_description(old_DOM['descriptions'])\n",
    "        neighbourhood_indicators = scrape_neighbourhood(old_DOM['neighbourhood_top'],\\\n",
    "                                                            old_DOM['neighbourhood_mid'],\\\n",
    "                                                            old_DOM['neighbourhood_buttom'])\n",
    "        population = scrape_population()\n",
    "        demographics = scrape_demographics(old_DOM['demographics_buttons'])\n",
    "                \n",
    "        # Unify data in single dataframe and append to results table\n",
    "        centris.append_data(\n",
    "            title[0].text,\\\n",
    "            address[0].text,\\\n",
    "            price[0].text,\\\n",
    "            lat[0].get_attribute(\"content\"),\\\n",
    "            long[0].get_attribute(\"content\"),\\\n",
    "            descriptions,\\\n",
    "            neighbourhood_indicators,\\\n",
    "            population,\\\n",
    "            demographics\\\n",
    "        )\n",
    "        \n",
    "        # LOGGING--------------------------\n",
    "        #print(\"GET DATA: DESCRIPTIONS:\", descriptions)\n",
    "        \n",
    "        # Return to top of page, to access next-page button\n",
    "        body = driver.find_element_by_tag_name(\"body\")\n",
    "        body.send_keys(Keys.HOME)\n",
    "#         for i in range(7):\n",
    "#             body.send_keys(Keys.PAGE_UP)"
   ]
  },
  {
   "cell_type": "markdown",
   "metadata": {},
   "source": [
    "## Initiate scraping"
   ]
  },
  {
   "cell_type": "code",
   "execution_count": null,
   "metadata": {},
   "outputs": [],
   "source": [
    "# Test\n",
    "centris = Centris()\n",
    "start = time.time()\n",
    "centris.start_driver()\n",
    "centris.sort_listings()\n",
    "print(\"Execution time:\", time.time() - start)"
   ]
  },
  {
   "cell_type": "markdown",
   "metadata": {},
   "source": [
    "Before running the next cell, search for the region(s) you want to scrape in the webdriver window.\n",
    "This is not required but will narrow results and reduce runtime."
   ]
  },
  {
   "cell_type": "code",
   "execution_count": null,
   "metadata": {
    "scrolled": true
   },
   "outputs": [],
   "source": [
    "start = time.time() \n",
    "current_page, last_page = centris.get_page_position() \n",
    "pages_to_scrape = last_page - current_page + 1 # in case scraping is interupted\n",
    "one_to_100 = range(1,100) # to print message each 1% completion\n",
    "\n",
    "print(\"Scraping initiated.\")\n",
    "print(\"Total number of pages to scrape:\", pages_to_scrape)\n",
    "print(\"Estimated runtime:\", round(pages_to_scrape*((9.6)/(60*60)), 2), \"hours\")\n",
    "print(\"=\"*50)\n",
    "\n",
    "for i in range(pages_to_scrape):\n",
    "    \n",
    "    print(\"=\"*50)\n",
    "    print(\"Page:\", i+1)\n",
    "    time_passed = 0 # to exit while loop after 10 seconds\n",
    "    \n",
    "    #Refresh every 20 pages to clear memory build-up\n",
    "    if (i+1)%20 == 0:\n",
    "        print(\"Clearing memory\")\n",
    "        print(\"-\"*50)\n",
    "        \n",
    "        # Each refresh frees some memory. Four seem to work best.\n",
    "        for i in range(4):\n",
    "            centris.refresh_page()\n",
    "            # Extra time for last refresh\n",
    "            # Ensures that DOM is fully loaded\n",
    "            if i == 3:\n",
    "                time.sleep(2)\n",
    "            \n",
    "    #Retrieve data    \n",
    "    get_data_from_centris()\n",
    "    \n",
    "    # Short delay for chrome to respond to PAGE_UP command\n",
    "    time.sleep(0.5)\n",
    "    centris.next_page()\n",
    "    \n",
    "    # Percent completed of scraping \n",
    "    percent_complete = round(100*((i)/total_pages),2)      \n",
    "    # Print after every 1% mark\n",
    "    if percent_complete in one_to_100:\n",
    "        execution_time = (time.time() - start)/(i+1) # seconds per page\n",
    "        print(percent_complete, \"%\", \"completed\")\n",
    "        print(\"Average execution time per page:\", round(execution_time, 2), \"sec.\")\n",
    "        print(\"Estimated remaining runtime:\", round(\\\n",
    "                                (total_pages - (i+1))\\\n",
    "                                *(execution_time\\\n",
    "                                /(60*60)), 1\\\n",
    "                                                   ), \"hours <\", \"-\"*50)\n",
    "        print(\"=\"*50)\n",
    "\n",
    "\n",
    "print(\"Total runtime:\", execution_time/(60*60), \"hours\")\n",
    "centris.data"
   ]
  },
  {
   "cell_type": "code",
   "execution_count": null,
   "metadata": {},
   "outputs": [],
   "source": [
    "centris.data.to_csv(\"centris_montreal_complete.csv\")"
   ]
  },
  {
   "cell_type": "markdown",
   "metadata": {},
   "source": [
    "# Data wrangling"
   ]
  },
  {
   "cell_type": "code",
   "execution_count": 723,
   "metadata": {},
   "outputs": [],
   "source": [
    "df = pd.read_csv(\"data_tables/centris_montreal_complete.csv\")"
   ]
  },
  {
   "cell_type": "code",
   "execution_count": 724,
   "metadata": {
    "tags": []
   },
   "outputs": [
    {
     "output_type": "stream",
     "name": "stdout",
     "text": "<class 'pandas.core.frame.DataFrame'>\nRangeIndex: 5732 entries, 0 to 5731\nData columns (total 101 columns):\n #   Column                                   Non-Null Count  Dtype  \n---  ------                                   --------------  -----  \n 0   Unnamed: 0                               5732 non-null   int64  \n 1   title                                    5732 non-null   object \n 2   address                                  5732 non-null   object \n 3   price                                    5732 non-null   object \n 4   lat                                      5732 non-null   float64\n 5   long                                     5732 non-null   float64\n 6   Restaurants                              5724 non-null   float64\n 7   Shopping                                 5726 non-null   float64\n 8   Vibrant                                  5724 non-null   float64\n 9   Cycling friendly                         5723 non-null   float64\n 10  Car friendly                             5721 non-null   float64\n 11  Historic                                 5714 non-null   float64\n 12  Quiet                                    5716 non-null   float64\n 13  Elementary Schools                       5728 non-null   float64\n 14  High Schools                             5726 non-null   float64\n 15  Parks                                    5732 non-null   int64  \n 16  Nightlife                                5719 non-null   float64\n 17  Groceries                                5729 non-null   float64\n 18  Daycares                                 5727 non-null   float64\n 19  Pedestrian friendly                      5730 non-null   float64\n 20  Cafes                                    5723 non-null   float64\n 21  Transit friendly                         5730 non-null   float64\n 22  Greenery                                 5721 non-null   float64\n 23  rooms                                    4652 non-null   float64\n 24  bedrooms                                 3591 non-null   float64\n 25  bathroom                                 2590 non-null   float64\n 26  Condominium type                         3645 non-null   object \n 27  Net area                                 2759 non-null   object \n 28  Year built                               5612 non-null   object \n 29  Parking (total)                          3723 non-null   object \n 30  Population 2016                          5732 non-null   int64  \n 31  Population variation between 2011 2016   5732 non-null   int64  \n 32  Population density                       5732 non-null   int64  \n 33  Unemployment rate 2016                   5732 non-null   int64  \n 34  Less than $50,000 (%)                    5732 non-null   int64  \n 35  Between $50,000 and $80,000 (%)          5732 non-null   int64  \n 36  Between $80,000 and $100,000 (%)         5732 non-null   int64  \n 37  Between $100,000 and $150,000 (%)        5732 non-null   int64  \n 38  More than $150,000 (%)                   5732 non-null   int64  \n 39  1-person households (%)                  5732 non-null   int64  \n 40  2-person households (%)                  5732 non-null   int64  \n 41  3-person households (%)                  5732 non-null   int64  \n 42  4-person households (%)                  5732 non-null   int64  \n 43  5-person or more households (%)          5732 non-null   int64  \n 44  Couples without children at home (%)     5732 non-null   int64  \n 45  Couples with children at home (%)        5732 non-null   int64  \n 46  Single-parent families (%)               5732 non-null   int64  \n 47  Owners (%)                               5732 non-null   int64  \n 48  Renters (%)                              5732 non-null   int64  \n 49  Before 1960 (%)                          5732 non-null   int64  \n 50  Between 1961 and 1980 (%)                5732 non-null   int64  \n 51  Between 1981 and 1990 (%)                5732 non-null   int64  \n 52  Between 1991 and 2000 (%)                5732 non-null   int64  \n 53  Between 2001 and 2010 (%)                5732 non-null   int64  \n 54  Between 2011 and 2016 (%)                5732 non-null   int64  \n 55  Single-family homes (%)                  5732 non-null   int64  \n 56  Semi-detached or row houses (%)          5732 non-null   int64  \n 57  Buildings with less than 5 floors (%)    5732 non-null   int64  \n 58  Buildings with 5 or more floors (%)      5732 non-null   int64  \n 59  Mobile homes (%)                         5732 non-null   int64  \n 60  University (%)                           5732 non-null   int64  \n 61  College (%)                              5732 non-null   int64  \n 62  Secondary (high) school (%)              5732 non-null   int64  \n 63  Apprentice or trade school diploma (%)   5732 non-null   int64  \n 64  No diploma (%)                           5732 non-null   int64  \n 65  Non-immigrant population (%)             5732 non-null   int64  \n 66  Immigrant population (%)                 5732 non-null   int64  \n 67  French (%)                               5731 non-null   float64\n 68  English (%)                              5731 non-null   float64\n 69  Others languages (%)                     5731 non-null   float64\n 70  bathrooms                                2074 non-null   float64\n 71  Pool                                     1393 non-null   object \n 72  Additional features                      3220 non-null   object \n 73  walk_score                               5685 non-null   float64\n 74  bedroom                                  964 non-null    float64\n 75  Gross area                               683 non-null    object \n 76  powder room                              1137 non-null   float64\n 77  Building style                           2077 non-null   object \n 78  Lot area                                 1886 non-null   object \n 79  Fireplace/Stove                          830 non-null    object \n 80  in basement                              753 non-null    object \n 81  Use of property                          928 non-null    object \n 82  Number of units                          928 non-null    object \n 83  Residential units                        889 non-null    object \n 84  Main unit                                926 non-null    object \n 85  Potential gross revenue                  928 non-null    object \n 86  powder rooms                             84 non-null     float64\n 87  Intergenerational                        25 non-null     object \n 88  Building area (at ground level)          217 non-null    object \n 89  room                                     32 non-null     float64\n 90  Available area                           119 non-null    object \n 91  Residential unit                         37 non-null     object \n 92  bedrooms in basement                     46 non-null     float64\n 93  Zoning                                   120 non-null    object \n 94  Parking (excluded from the price)        58 non-null     object \n 95  bedroom in basement                      31 non-null     float64\n 96  < 15 years (%)                           1 non-null      float64\n 97  15 to 24 years (%)                       1 non-null      float64\n 98  25 to 44 years (%)                       1 non-null      float64\n 99  45 to 64 years (%)                       1 non-null      float64\n 100 > 65 years (%)                           1 non-null      float64\ndtypes: float64(37), int64(39), object(25)\nmemory usage: 4.4+ MB\n"
    }
   ],
   "source": [
    "df.info(max_cols=200)"
   ]
  },
  {
   "cell_type": "markdown",
   "metadata": {},
   "source": [
    "We first remove the last 5 columns since they have virtually no content"
   ]
  },
  {
   "cell_type": "code",
   "execution_count": 725,
   "metadata": {},
   "outputs": [],
   "source": [
    "df = df.loc[:,:\"bedroom in basement\"]"
   ]
  },
  {
   "cell_type": "markdown",
   "metadata": {},
   "source": [
    "Next we will change the data type of the price column to integer"
   ]
  },
  {
   "cell_type": "code",
   "execution_count": 726,
   "metadata": {},
   "outputs": [
    {
     "output_type": "execute_result",
     "data": {
      "text/plain": "count    5.732000e+03\nmean     7.634336e+05\nstd      8.866054e+05\nmin      5.000000e+03\n25%      3.999000e+05\n50%      5.590000e+05\n75%      8.242250e+05\nmax      2.780000e+07\nName: price, dtype: float64"
     },
     "metadata": {},
     "execution_count": 726
    }
   ],
   "source": [
    "price_clean = df.price.str.replace(\"[$,]\", \"\")\n",
    "df.price = price_clean.astype(\"int\")\n",
    "df.price.describe()"
   ]
  },
  {
   "cell_type": "markdown",
   "metadata": {},
   "source": [
    "## Duplicate data\n",
    "\n",
    "We will use the `address` column to check for duplications."
   ]
  },
  {
   "cell_type": "code",
   "execution_count": 727,
   "metadata": {},
   "outputs": [
    {
     "output_type": "execute_result",
     "data": {
      "text/plain": "308"
     },
     "metadata": {},
     "execution_count": 727
    }
   ],
   "source": [
    "df.address.duplicated().sum()"
   ]
  },
  {
   "cell_type": "code",
   "execution_count": 728,
   "metadata": {
    "tags": []
   },
   "outputs": [
    {
     "output_type": "stream",
     "name": "stdout",
     "text": "<class 'pandas.core.frame.DataFrame'>\nRangeIndex: 5424 entries, 0 to 5423\nColumns: 97 entries, index to bedroom in basement\ndtypes: float64(32), int64(41), object(24)\nmemory usage: 4.0+ MB\n"
    }
   ],
   "source": [
    "df = df[df.address.duplicated() == False]\n",
    "df.reset_index(inplace=True)\n",
    "df.info(max_cols=95)"
   ]
  },
  {
   "cell_type": "markdown",
   "metadata": {},
   "source": [
    "Removing duplicates leaves holes in the index. Due to `reset_index()`, the range now coincides with the number of entries. \n",
    "The first two columns, corresponding to copies of the old and new index, can be removed."
   ]
  },
  {
   "cell_type": "code",
   "execution_count": 729,
   "metadata": {},
   "outputs": [
    {
     "output_type": "execute_result",
     "data": {
      "text/plain": "Index(['title', 'address', 'price', 'lat', 'long', 'Restaurants', 'Shopping',\n       'Vibrant', 'Cycling friendly', 'Car friendly', 'Historic', 'Quiet',\n       'Elementary Schools', 'High Schools', 'Parks', 'Nightlife', 'Groceries',\n       'Daycares', 'Pedestrian friendly', 'Cafes', 'Transit friendly',\n       'Greenery', 'rooms', 'bedrooms', 'bathroom', 'Condominium type',\n       'Net area', 'Year built', 'Parking (total)', 'Population 2016 ',\n       'Population variation between 2011 2016 ', 'Population density ',\n       'Unemployment rate 2016 ', 'Less than $50,000 (%)',\n       'Between $50,000 and $80,000 (%)', 'Between $80,000 and $100,000 (%)',\n       'Between $100,000 and $150,000 (%)', 'More than $150,000 (%)',\n       '1-person households (%)', '2-person households (%)',\n       '3-person households (%)', '4-person households (%)',\n       '5-person or more households (%)',\n       'Couples without children at home (%)',\n       'Couples with children at home (%)', 'Single-parent families (%)',\n       'Owners (%)', 'Renters (%)', 'Before 1960 (%)',\n       'Between 1961 and 1980 (%)', 'Between 1981 and 1990 (%)',\n       'Between 1991 and 2000 (%)', 'Between 2001 and 2010 (%)',\n       'Between 2011 and 2016 (%)', 'Single-family homes (%)',\n       'Semi-detached or row houses (%)',\n       'Buildings with less than 5 floors (%)',\n       'Buildings with 5 or more floors (%)', 'Mobile homes (%)',\n       'University (%)', 'College (%)', 'Secondary (high) school (%)',\n       'Apprentice or trade school diploma (%)', 'No diploma (%)',\n       'Non-immigrant population (%)', 'Immigrant population (%)',\n       'French (%)', 'English (%)', 'Others languages (%)', 'bathrooms',\n       'Pool', 'Additional features', 'walk_score', 'bedroom', 'Gross area',\n       'powder room', 'Building style', 'Lot area', 'Fireplace/Stove',\n       'in basement', 'Use of property', 'Number of units',\n       'Residential units', 'Main unit', 'Potential gross revenue',\n       'powder rooms', 'Intergenerational', 'Building area (at ground level)',\n       'room', 'Available area', 'Residential unit', 'bedrooms in basement',\n       'Zoning', 'Parking (excluded from the price)', 'bedroom in basement'],\n      dtype='object')"
     },
     "metadata": {},
     "execution_count": 729
    }
   ],
   "source": [
    "df = df.loc[:, \"title\":]\n",
    "df.columns"
   ]
  },
  {
   "cell_type": "markdown",
   "metadata": {},
   "source": [
    "## Merge Columns\n",
    "\n",
    "There are two columns called `rooms` and `room`. We will inspect both to find an explenation for this."
   ]
  },
  {
   "cell_type": "code",
   "execution_count": 730,
   "metadata": {
    "scrolled": true
   },
   "outputs": [
    {
     "output_type": "execute_result",
     "data": {
      "text/plain": "                                               address  room  rooms\n32   4225, Rue Saint-Dominique, apt. 209, Montréal ...   1.0    NaN\n95   318Z - 330Z, Rue Sherbrooke Est, Montréal (Vil...   1.0    NaN\n109  1188, Rue Saint-Antoine Ouest, apt. P3-16-17, ...   1.0    NaN\n142  1000, Rue Ottawa, apt. 606, Montréal (Le Sud-O...   1.0    NaN\n283  6541, boulevard Saint-Laurent, apt. 201, Montr...   1.0    NaN",
      "text/html": "<div>\n<style scoped>\n    .dataframe tbody tr th:only-of-type {\n        vertical-align: middle;\n    }\n\n    .dataframe tbody tr th {\n        vertical-align: top;\n    }\n\n    .dataframe thead th {\n        text-align: right;\n    }\n</style>\n<table border=\"1\" class=\"dataframe\">\n  <thead>\n    <tr style=\"text-align: right;\">\n      <th></th>\n      <th>address</th>\n      <th>room</th>\n      <th>rooms</th>\n    </tr>\n  </thead>\n  <tbody>\n    <tr>\n      <th>32</th>\n      <td>4225, Rue Saint-Dominique, apt. 209, Montréal ...</td>\n      <td>1.0</td>\n      <td>NaN</td>\n    </tr>\n    <tr>\n      <th>95</th>\n      <td>318Z - 330Z, Rue Sherbrooke Est, Montréal (Vil...</td>\n      <td>1.0</td>\n      <td>NaN</td>\n    </tr>\n    <tr>\n      <th>109</th>\n      <td>1188, Rue Saint-Antoine Ouest, apt. P3-16-17, ...</td>\n      <td>1.0</td>\n      <td>NaN</td>\n    </tr>\n    <tr>\n      <th>142</th>\n      <td>1000, Rue Ottawa, apt. 606, Montréal (Le Sud-O...</td>\n      <td>1.0</td>\n      <td>NaN</td>\n    </tr>\n    <tr>\n      <th>283</th>\n      <td>6541, boulevard Saint-Laurent, apt. 201, Montr...</td>\n      <td>1.0</td>\n      <td>NaN</td>\n    </tr>\n  </tbody>\n</table>\n</div>"
     },
     "metadata": {},
     "execution_count": 730
    }
   ],
   "source": [
    "df[df.room.notnull()].loc[:,[\"address\", \"room\", \"rooms\"]].head()"
   ]
  },
  {
   "cell_type": "markdown",
   "metadata": {},
   "source": [
    "The room column corresponds to listings with with only a single room. This has been verified by visting the website and searching for some of the addresses. We will therefore merge the two columns."
   ]
  },
  {
   "cell_type": "code",
   "execution_count": 731,
   "metadata": {
    "tags": []
   },
   "outputs": [
    {
     "output_type": "stream",
     "name": "stdout",
     "text": "Non-null values in 'rooms':\nBefore merge - 4421\nAfter merge - 4451\n"
    }
   ],
   "source": [
    "\n",
    "print(\"Non-null values in 'rooms':\")\n",
    "print(\"Before merge -\", df.rooms.notnull().sum())\n",
    "# Merging \"rooms\" and \"room\"\n",
    "rooms_new = pd.Series(\\\n",
    "    [room if pd.notna(room) else rooms for room, rooms in zip(df.room, df.rooms)]\\\n",
    "        )\n",
    "# Remove old columns\n",
    "df.drop([\"rooms\", \"room\"], axis=1, inplace=True)\n",
    "# Add new column\n",
    "df[\"rooms\"] = rooms_new\n",
    "print(\"After merge -\", df.rooms.notnull().sum())"
   ]
  },
  {
   "cell_type": "markdown",
   "metadata": {
    "tags": []
   },
   "source": [
    "We will now incpect other columns that contain the string \"room\" and replace missing values by 0 to facilitate mathematical operations on room data. "
   ]
  },
  {
   "cell_type": "code",
   "execution_count": 732,
   "metadata": {
    "tags": []
   },
   "outputs": [
    {
     "output_type": "stream",
     "name": "stdout",
     "text": "<class 'pandas.core.frame.DataFrame'>\nRangeIndex: 5424 entries, 0 to 5423\nData columns (total 9 columns):\n #   Column                Non-Null Count  Dtype  \n---  ------                --------------  -----  \n 0   bedrooms              5424 non-null   float64\n 1   bathroom              5424 non-null   float64\n 2   bathrooms             5424 non-null   float64\n 3   bedroom               5424 non-null   float64\n 4   powder room           5424 non-null   float64\n 5   powder rooms          5424 non-null   float64\n 6   bedrooms in basement  5424 non-null   float64\n 7   bedroom in basement   5424 non-null   float64\n 8   rooms                 5424 non-null   float64\ndtypes: float64(9)\nmemory usage: 381.5 KB\nNone\n"
    }
   ],
   "source": [
    "rooms = df.columns[[\"room\" in col for col in df.columns]]\n",
    "df[rooms] = df[rooms].fillna(0)\n",
    "print(df[rooms].info())"
   ]
  },
  {
   "cell_type": "code",
   "execution_count": 733,
   "metadata": {},
   "outputs": [],
   "source": [
    "# Grouping similar columns\n",
    "bedroom_cols = ['bedrooms','bedroom','bedrooms in basement', 'bedroom in basement']\n",
    "bathroom_cols = ['bathroom', 'bathrooms']\n",
    "powederroom_cols = ['powder room', 'powder rooms']"
   ]
  },
  {
   "cell_type": "markdown",
   "metadata": {},
   "source": [
    "### Bedrooms"
   ]
  },
  {
   "cell_type": "code",
   "execution_count": 734,
   "metadata": {
    "tags": []
   },
   "outputs": [
    {
     "output_type": "stream",
     "name": "stdout",
     "text": "<class 'pandas.core.frame.DataFrame'>\nRangeIndex: 5424 entries, 0 to 5423\nData columns (total 4 columns):\n #   Column                Non-Null Count  Dtype  \n---  ------                --------------  -----  \n 0   bedrooms              5424 non-null   float64\n 1   bedroom               5424 non-null   float64\n 2   bedrooms in basement  5424 non-null   float64\n 3   bedroom in basement   5424 non-null   float64\ndtypes: float64(4)\nmemory usage: 169.6 KB\n"
    }
   ],
   "source": [
    "df[bedroom_cols].info()"
   ]
  },
  {
   "cell_type": "markdown",
   "metadata": {},
   "source": [
    "First, we merge `bedrooms` and `bedroom` since they clearly belong together"
   ]
  },
  {
   "cell_type": "code",
   "execution_count": 735,
   "metadata": {},
   "outputs": [],
   "source": [
    "# Replace missing values with 0 for element-wise addition\n",
    "bedrooms = df.bedrooms.fillna(0) + df.bedroom.fillna(0)\n",
    "# Drop old columns from df\n",
    "df.drop([\"bedrooms\", \"bedroom\"], axis=1)\n",
    "# Add new column\n",
    "df.bedrooms = bedrooms"
   ]
  },
  {
   "cell_type": "code",
   "execution_count": 736,
   "metadata": {},
   "outputs": [
    {
     "output_type": "execute_result",
     "data": {
      "text/plain": "                                               address  bedrooms  \\\n151          61A, Avenue Strathyre, Montréal (LaSalle)       0.0   \n273  1300, Rue Jarry Est, apt. 1, Montréal (Villera...       0.0   \n353  2061, Rue Beaudry, Montréal (Ville-Marie), Nei...       0.0   \n627  4723, Rue Ontario Est, apt. 102, Montréal (Mer...       0.0   \n670  7940, Rue Chabot, apt. 102, Montréal (Villeray...       0.0   \n\n     bedrooms in basement  bedroom in basement   price  \n151                   2.0                  0.0  259000  \n273                   2.0                  0.0  259000  \n353                   2.0                  0.0  419000  \n627                   2.0                  0.0  259000  \n670                   2.0                  0.0  379000  ",
      "text/html": "<div>\n<style scoped>\n    .dataframe tbody tr th:only-of-type {\n        vertical-align: middle;\n    }\n\n    .dataframe tbody tr th {\n        vertical-align: top;\n    }\n\n    .dataframe thead th {\n        text-align: right;\n    }\n</style>\n<table border=\"1\" class=\"dataframe\">\n  <thead>\n    <tr style=\"text-align: right;\">\n      <th></th>\n      <th>address</th>\n      <th>bedrooms</th>\n      <th>bedrooms in basement</th>\n      <th>bedroom in basement</th>\n      <th>price</th>\n    </tr>\n  </thead>\n  <tbody>\n    <tr>\n      <th>151</th>\n      <td>61A, Avenue Strathyre, Montréal (LaSalle)</td>\n      <td>0.0</td>\n      <td>2.0</td>\n      <td>0.0</td>\n      <td>259000</td>\n    </tr>\n    <tr>\n      <th>273</th>\n      <td>1300, Rue Jarry Est, apt. 1, Montréal (Villera...</td>\n      <td>0.0</td>\n      <td>2.0</td>\n      <td>0.0</td>\n      <td>259000</td>\n    </tr>\n    <tr>\n      <th>353</th>\n      <td>2061, Rue Beaudry, Montréal (Ville-Marie), Nei...</td>\n      <td>0.0</td>\n      <td>2.0</td>\n      <td>0.0</td>\n      <td>419000</td>\n    </tr>\n    <tr>\n      <th>627</th>\n      <td>4723, Rue Ontario Est, apt. 102, Montréal (Mer...</td>\n      <td>0.0</td>\n      <td>2.0</td>\n      <td>0.0</td>\n      <td>259000</td>\n    </tr>\n    <tr>\n      <th>670</th>\n      <td>7940, Rue Chabot, apt. 102, Montréal (Villeray...</td>\n      <td>0.0</td>\n      <td>2.0</td>\n      <td>0.0</td>\n      <td>379000</td>\n    </tr>\n  </tbody>\n</table>\n</div>"
     },
     "metadata": {},
     "execution_count": 736
    }
   ],
   "source": [
    "# At least 1 bedroom in basement\n",
    "df[df[\"bedrooms in basement\"] > 0].\\\n",
    "    loc[:, [\"address\", \"bedrooms\", \"bedrooms in basement\", \"bedroom in basement\", \"price\"]].head()"
   ]
  },
  {
   "cell_type": "markdown",
   "metadata": {},
   "source": [
    "Bedrooms in the basement may be worth less, merging them with regular bedrooms may therefore not be optimal. However, the listings with bedrooms in the basement don't have regular bedrooms. This is true for for the entire list as well as for listings with a single bedroom in the basement. Merging all columns, therefore, appears to be the best solution. To keep a record of basement bedrooms, we will include a boolean column that can be used to either remove or alter corresponding entries at a later point."
   ]
  },
  {
   "cell_type": "code",
   "execution_count": 737,
   "metadata": {},
   "outputs": [],
   "source": [
    "def not_zero(col):\n",
    "    \"\"\"Returns boolean list indicating records with counts of at least 1\"\"\"\n",
    "\n",
    "    not_zero = [count > 0 for count in col]\n",
    "    return not_zero"
   ]
  },
  {
   "cell_type": "code",
   "execution_count": 738,
   "metadata": {
    "tags": []
   },
   "outputs": [
    {
     "output_type": "stream",
     "name": "stdout",
     "text": "Apartments with basement bedrooms: 75\nApartments with any kind of bedroom 4402\n"
    }
   ],
   "source": [
    "# Merge of basement bedroom columns\n",
    "basement_bed = df[\"bedrooms in basement\"]\\\n",
    "         + df[\"bedroom in basement\"]\n",
    "\n",
    "# Records with basement bedrooms\n",
    "basement_bed_bool = not_zero(basement_bed)\n",
    "print(\"Apartments with basement bedrooms:\",\\\n",
    "    sum(basement_bed_bool))\n",
    "\n",
    "# Merge of basement with regular bedrooms\n",
    "all_bedrooms = basement_bed + df.bedrooms\n",
    "print(\"Apartments with any kind of bedroom\",\\\n",
    "    sum(not_zero(all_bedrooms)))"
   ]
  },
  {
   "cell_type": "code",
   "execution_count": 739,
   "metadata": {},
   "outputs": [],
   "source": [
    "# Remove old columns \n",
    "df.drop(bedroom_cols, axis=1, inplace=True)\n",
    "\n",
    "# Append new columns\n",
    "df[\"bedrooms\"] = all_bedrooms\n",
    "df[\"basement_bedroom\"] = basement_bed_bool"
   ]
  },
  {
   "cell_type": "markdown",
   "metadata": {
    "tags": []
   },
   "source": [
    "## Bathrooms"
   ]
  },
  {
   "cell_type": "code",
   "execution_count": 740,
   "metadata": {
    "tags": []
   },
   "outputs": [
    {
     "output_type": "execute_result",
     "data": {
      "text/plain": "bathroom     2465\nbathrooms    1967\ndtype: int64"
     },
     "metadata": {},
     "execution_count": 740
    }
   ],
   "source": [
    "# Non-zero records\n",
    "df[bathroom_cols].apply(lambda col: sum(not_zero(col)), axis=0)"
   ]
  },
  {
   "cell_type": "code",
   "execution_count": 741,
   "metadata": {
    "tags": []
   },
   "outputs": [
    {
     "output_type": "stream",
     "name": "stdout",
     "text": "Non-zero records of merged column: 4432\n"
    }
   ],
   "source": [
    "# Merge\n",
    "bathrooms = df.bathroom + df.bathrooms\n",
    "print(\"Non-zero records of merged column:\", sum(not_zero(bathrooms)))\n",
    "\n",
    "# Remove old columns \n",
    "df.drop(bathroom_cols, axis=1, inplace=True)\n",
    "\n",
    "# Append new column\n",
    "df[\"bathrooms\"] = bathrooms"
   ]
  },
  {
   "cell_type": "code",
   "execution_count": 742,
   "metadata": {
    "tags": []
   },
   "outputs": [
    {
     "output_type": "stream",
     "name": "stdout",
     "text": "<class 'pandas.core.frame.DataFrame'>\nRangeIndex: 5424 entries, 0 to 5423\nData columns (total 4 columns):\n #   Column            Non-Null Count  Dtype  \n---  ------            --------------  -----  \n 0   rooms             5424 non-null   float64\n 1   bedrooms          5424 non-null   float64\n 2   basement_bedroom  5424 non-null   bool   \n 3   bathrooms         5424 non-null   float64\ndtypes: bool(1), float64(3)\nmemory usage: 132.5 KB\n"
    }
   ],
   "source": [
    "df.iloc[:, -4:].info()"
   ]
  },
  {
   "cell_type": "markdown",
   "metadata": {},
   "source": [
    "## Powder rooms"
   ]
  },
  {
   "cell_type": "code",
   "execution_count": 743,
   "metadata": {},
   "outputs": [
    {
     "output_type": "execute_result",
     "data": {
      "text/plain": "powder room     1086\npowder rooms      81\ndtype: int64"
     },
     "metadata": {},
     "execution_count": 743
    }
   ],
   "source": [
    "# Non-zero records\n",
    "df[powederroom_cols].apply(lambda col: sum(not_zero(col)))"
   ]
  },
  {
   "cell_type": "code",
   "execution_count": 744,
   "metadata": {},
   "outputs": [],
   "source": [
    "# Merge\n",
    "powder_rooms = df['powder room'] + df['powder rooms']\n",
    "\n",
    "# Remove old \n",
    "df.drop(powederroom_cols, axis=1, inplace=True)\n",
    "\n",
    "# Append new\n",
    "df['powder_rooms'] = powder_rooms"
   ]
  },
  {
   "cell_type": "code",
   "execution_count": 745,
   "metadata": {
    "tags": []
   },
   "outputs": [
    {
     "output_type": "stream",
     "name": "stdout",
     "text": "Non-zero records:\n"
    },
    {
     "output_type": "execute_result",
     "data": {
      "text/plain": "rooms           4451\nbedrooms        4402\nbathrooms       4432\npowder_rooms    1167\ndtype: int64"
     },
     "metadata": {},
     "execution_count": 745
    }
   ],
   "source": [
    "# New room data\n",
    "room_data = df.iloc[:, [-5,-4,-2,-1]]\n",
    "\n",
    "print(\"Non-zero records:\")\n",
    "room_data.apply(lambda col: sum(not_zero(col)))"
   ]
  },
  {
   "cell_type": "markdown",
   "metadata": {},
   "source": [
    "## Missing Room Data\n",
    "\n",
    "Next we will inspect records with missing data for all 4 room columns"
   ]
  },
  {
   "cell_type": "code",
   "execution_count": 746,
   "metadata": {
    "tags": []
   },
   "outputs": [
    {
     "output_type": "stream",
     "name": "stdout",
     "text": "Number of records with missing room data: 973\nNumber of replacable missing room data: 868\n"
    },
    {
     "output_type": "execute_result",
     "data": {
      "text/plain": "                  title                                            address  \\\n9       Duplex for sale  5421 - 5423, 15e Avenue, Montréal (Rosemont/La...   \n10  Quadruplex for sale  9636 - 9640, Rue Notre-Dame Est, Montréal (Mer...   \n25      Duplex for sale  1915 - 1917, Rue Viau, Montréal (Mercier/Hoche...   \n29     Triplex for sale  5518 - 5522, boulevard Saint-Michel, Montréal ...   \n34     Triplex for sale  6426 - 6428, Rue Marie-Victorin, Montréal (Mon...   \n\n     price  rooms  bedrooms  bathrooms  powder_rooms  \n9   679000    0.0       0.0        0.0           0.0  \n10  569750    0.0       0.0        0.0           0.0  \n25  899000    0.0       0.0        0.0           0.0  \n29  719700    0.0       0.0        0.0           0.0  \n34  599000    0.0       0.0        0.0           0.0  ",
      "text/html": "<div>\n<style scoped>\n    .dataframe tbody tr th:only-of-type {\n        vertical-align: middle;\n    }\n\n    .dataframe tbody tr th {\n        vertical-align: top;\n    }\n\n    .dataframe thead th {\n        text-align: right;\n    }\n</style>\n<table border=\"1\" class=\"dataframe\">\n  <thead>\n    <tr style=\"text-align: right;\">\n      <th></th>\n      <th>title</th>\n      <th>address</th>\n      <th>price</th>\n      <th>rooms</th>\n      <th>bedrooms</th>\n      <th>bathrooms</th>\n      <th>powder_rooms</th>\n    </tr>\n  </thead>\n  <tbody>\n    <tr>\n      <th>9</th>\n      <td>Duplex for sale</td>\n      <td>5421 - 5423, 15e Avenue, Montréal (Rosemont/La...</td>\n      <td>679000</td>\n      <td>0.0</td>\n      <td>0.0</td>\n      <td>0.0</td>\n      <td>0.0</td>\n    </tr>\n    <tr>\n      <th>10</th>\n      <td>Quadruplex for sale</td>\n      <td>9636 - 9640, Rue Notre-Dame Est, Montréal (Mer...</td>\n      <td>569750</td>\n      <td>0.0</td>\n      <td>0.0</td>\n      <td>0.0</td>\n      <td>0.0</td>\n    </tr>\n    <tr>\n      <th>25</th>\n      <td>Duplex for sale</td>\n      <td>1915 - 1917, Rue Viau, Montréal (Mercier/Hoche...</td>\n      <td>899000</td>\n      <td>0.0</td>\n      <td>0.0</td>\n      <td>0.0</td>\n      <td>0.0</td>\n    </tr>\n    <tr>\n      <th>29</th>\n      <td>Triplex for sale</td>\n      <td>5518 - 5522, boulevard Saint-Michel, Montréal ...</td>\n      <td>719700</td>\n      <td>0.0</td>\n      <td>0.0</td>\n      <td>0.0</td>\n      <td>0.0</td>\n    </tr>\n    <tr>\n      <th>34</th>\n      <td>Triplex for sale</td>\n      <td>6426 - 6428, Rue Marie-Victorin, Montréal (Mon...</td>\n      <td>599000</td>\n      <td>0.0</td>\n      <td>0.0</td>\n      <td>0.0</td>\n      <td>0.0</td>\n    </tr>\n  </tbody>\n</table>\n</div>"
     },
     "metadata": {},
     "execution_count": 746
    }
   ],
   "source": [
    "# Records with 0 for all room features\n",
    "# \"not any(not_zero(rows))\" is True, only if all records in a row are zero\n",
    "missing_room_data = df[room_data.apply(lambda rows: (not any(not_zero(rows))), axis=1)]\n",
    "\n",
    "print(\"Number of records with missing room data:\", \\\n",
    "    missing_room_data.shape[0])\n",
    "print(\"Number of replacable missing room data:\", \\\n",
    "    missing_room_data.loc[:, \"Main unit\"].notnull().sum())\n",
    "\n",
    "missing_room_data.iloc[:,[0, 1, 2,-5,-4,-2, -1]].head()"
   ]
  },
  {
   "cell_type": "markdown",
   "metadata": {},
   "source": [
    "There are quite a lot of records with no room data in either of the 4 new columns that we just generated. \n",
    "The `Main unit` column is able to fill in most of the missing data."
   ]
  },
  {
   "cell_type": "code",
   "execution_count": 747,
   "metadata": {},
   "outputs": [
    {
     "output_type": "execute_result",
     "data": {
      "text/plain": "9     6 rooms, 3 bedrooms, 2 bathrooms and 1 powder ...\n10                       3 rooms, 1 bedroom, 1 bathroom\n25                    11 rooms, 3 bedrooms, 2 bathrooms\n29                      5 rooms, 2 bedrooms, 1 bathroom\n34                      5 rooms, 3 bedrooms, 1 bathroom\nName: Main unit, dtype: object"
     },
     "metadata": {},
     "execution_count": 747
    }
   ],
   "source": [
    "missing_room_data[\"Main unit\"].head()"
   ]
  },
  {
   "cell_type": "markdown",
   "metadata": {},
   "source": [
    "From the above displayed records it seems most appropriate to split according to `\",\"` and `\"and\"`"
   ]
  },
  {
   "cell_type": "code",
   "execution_count": 748,
   "metadata": {},
   "outputs": [
    {
     "output_type": "execute_result",
     "data": {
      "text/plain": "0                                     NaN\n1                                     NaN\n2                                     NaN\n3                                     NaN\n4                                     NaN\n                      ...                \n5419                                  NaN\n5420                                  NaN\n5421                                  NaN\n5422    [4 rooms, 2 bedrooms, 1 bathroom]\n5423                                  NaN\nName: Main unit, Length: 5424, dtype: object"
     },
     "metadata": {},
     "execution_count": 748
    }
   ],
   "source": [
    "# Split room data in \"Main unit\"\n",
    "main_split = df[\"Main unit\"].str.split(\", | and\")\n",
    "main_split"
   ]
  },
  {
   "cell_type": "code",
   "execution_count": 749,
   "metadata": {},
   "outputs": [],
   "source": [
    "def extract_rooms(room_list):\n",
    "    \"\"\"Turns the list into a DataFrame object, with text\n",
    "    as column names and numbers as column values\"\"\"\n",
    "    \n",
    "    # Expected room types\n",
    "    room_types = [\"rooms\", \"room\",\\\n",
    "        \"bedrooms\", \"bedroom\",\\\n",
    "        \"bathrooms\", \"bathroom\",\\\n",
    "        \"powder rooms\", \"powder room\"]\n",
    "\n",
    "    # No room data\n",
    "    if room_list is np.nan:\n",
    "        return pd.Series([0,0,0,0,0,0,0,0],\\\n",
    "            index=room_types)\n",
    "\n",
    "    # Result table   \n",
    "    room_data = pd.Series()\n",
    "\n",
    "    # Extract and append room data\n",
    "    for string in room_list:\n",
    "        number_of_rooms = re.search(\"\\d+\", string).group()\n",
    "        room_type = re.search(\"[a-z]+\\D*\", string).group()\n",
    "        room_data[room_type] = number_of_rooms\n",
    "    \n",
    "    \n",
    "    # Add missing room types with value 0\n",
    "    for room_type in room_types:\n",
    "        if room_type not in room_data.index:\n",
    "            room_data[room_type] = 0\n",
    "\n",
    "    # Consistent column order\n",
    "    return room_data[room_types]"
   ]
  },
  {
   "cell_type": "code",
   "execution_count": 750,
   "metadata": {
    "tags": []
   },
   "outputs": [
    {
     "output_type": "stream",
     "name": "stderr",
     "text": "/home/jahnic/.local/lib/python3.6/site-packages/ipykernel_launcher.py:17: DeprecationWarning: The default dtype for empty Series will be 'object' instead of 'float64' in a future version. Specify a dtype explicitly to silence this warning.\n"
    },
    {
     "output_type": "execute_result",
     "data": {
      "text/plain": "      rooms  room  bedrooms  bedroom  bathrooms  bathroom  powder rooms  \\\n0         0     0         0        0          0         0             0   \n1         0     0         0        0          0         0             0   \n2         0     0         0        0          0         0             0   \n3         0     0         0        0          0         0             0   \n4         0     0         0        0          0         0             0   \n...     ...   ...       ...      ...        ...       ...           ...   \n5419      0     0         0        0          0         0             0   \n5420      0     0         0        0          0         0             0   \n5421      0     0         0        0          0         0             0   \n5422      4     0         2        0          0         1             0   \n5423      0     0         0        0          0         0             0   \n\n      powder room  \n0               0  \n1               0  \n2               0  \n3               0  \n4               0  \n...           ...  \n5419            0  \n5420            0  \n5421            0  \n5422            0  \n5423            0  \n\n[5424 rows x 8 columns]",
      "text/html": "<div>\n<style scoped>\n    .dataframe tbody tr th:only-of-type {\n        vertical-align: middle;\n    }\n\n    .dataframe tbody tr th {\n        vertical-align: top;\n    }\n\n    .dataframe thead th {\n        text-align: right;\n    }\n</style>\n<table border=\"1\" class=\"dataframe\">\n  <thead>\n    <tr style=\"text-align: right;\">\n      <th></th>\n      <th>rooms</th>\n      <th>room</th>\n      <th>bedrooms</th>\n      <th>bedroom</th>\n      <th>bathrooms</th>\n      <th>bathroom</th>\n      <th>powder rooms</th>\n      <th>powder room</th>\n    </tr>\n  </thead>\n  <tbody>\n    <tr>\n      <th>0</th>\n      <td>0</td>\n      <td>0</td>\n      <td>0</td>\n      <td>0</td>\n      <td>0</td>\n      <td>0</td>\n      <td>0</td>\n      <td>0</td>\n    </tr>\n    <tr>\n      <th>1</th>\n      <td>0</td>\n      <td>0</td>\n      <td>0</td>\n      <td>0</td>\n      <td>0</td>\n      <td>0</td>\n      <td>0</td>\n      <td>0</td>\n    </tr>\n    <tr>\n      <th>2</th>\n      <td>0</td>\n      <td>0</td>\n      <td>0</td>\n      <td>0</td>\n      <td>0</td>\n      <td>0</td>\n      <td>0</td>\n      <td>0</td>\n    </tr>\n    <tr>\n      <th>3</th>\n      <td>0</td>\n      <td>0</td>\n      <td>0</td>\n      <td>0</td>\n      <td>0</td>\n      <td>0</td>\n      <td>0</td>\n      <td>0</td>\n    </tr>\n    <tr>\n      <th>4</th>\n      <td>0</td>\n      <td>0</td>\n      <td>0</td>\n      <td>0</td>\n      <td>0</td>\n      <td>0</td>\n      <td>0</td>\n      <td>0</td>\n    </tr>\n    <tr>\n      <th>...</th>\n      <td>...</td>\n      <td>...</td>\n      <td>...</td>\n      <td>...</td>\n      <td>...</td>\n      <td>...</td>\n      <td>...</td>\n      <td>...</td>\n    </tr>\n    <tr>\n      <th>5419</th>\n      <td>0</td>\n      <td>0</td>\n      <td>0</td>\n      <td>0</td>\n      <td>0</td>\n      <td>0</td>\n      <td>0</td>\n      <td>0</td>\n    </tr>\n    <tr>\n      <th>5420</th>\n      <td>0</td>\n      <td>0</td>\n      <td>0</td>\n      <td>0</td>\n      <td>0</td>\n      <td>0</td>\n      <td>0</td>\n      <td>0</td>\n    </tr>\n    <tr>\n      <th>5421</th>\n      <td>0</td>\n      <td>0</td>\n      <td>0</td>\n      <td>0</td>\n      <td>0</td>\n      <td>0</td>\n      <td>0</td>\n      <td>0</td>\n    </tr>\n    <tr>\n      <th>5422</th>\n      <td>4</td>\n      <td>0</td>\n      <td>2</td>\n      <td>0</td>\n      <td>0</td>\n      <td>1</td>\n      <td>0</td>\n      <td>0</td>\n    </tr>\n    <tr>\n      <th>5423</th>\n      <td>0</td>\n      <td>0</td>\n      <td>0</td>\n      <td>0</td>\n      <td>0</td>\n      <td>0</td>\n      <td>0</td>\n      <td>0</td>\n    </tr>\n  </tbody>\n</table>\n<p>5424 rows × 8 columns</p>\n</div>"
     },
     "metadata": {},
     "execution_count": 750
    }
   ],
   "source": [
    "# Extract data from \"Main unit\"\n",
    "missing_room_data = main_split.\\\n",
    "    apply(lambda rows: extract_rooms(rows)).\\\n",
    "        astype('int')\n",
    "missing_room_data"
   ]
  },
  {
   "cell_type": "code",
   "execution_count": 751,
   "metadata": {},
   "outputs": [],
   "source": [
    "# Merge related columns\n",
    "rooms = missing_room_data.rooms + missing_room_data.room\n",
    "bedrooms = missing_room_data.bedrooms + missing_room_data.bedroom\n",
    "bathrooms = missing_room_data.bathrooms + missing_room_data.bathroom\n",
    "powder_rooms = missing_room_data['powder rooms'] + missing_room_data['powder room']"
   ]
  },
  {
   "cell_type": "code",
   "execution_count": 752,
   "metadata": {
    "tags": []
   },
   "outputs": [
    {
     "output_type": "stream",
     "name": "stdout",
     "text": "Rooms before missing data suplementation\n"
    },
    {
     "output_type": "execute_result",
     "data": {
      "text/plain": "rooms               4451\nbedrooms            4402\nbasement_bedroom      75\nbathrooms           4432\npowder_rooms        1167\ndtype: int64"
     },
     "metadata": {},
     "execution_count": 752
    }
   ],
   "source": [
    "print(\"Rooms before missing data suplementation\")\n",
    "df.iloc[:,-5:].apply(lambda cols: sum(not_zero(cols)))"
   ]
  },
  {
   "cell_type": "code",
   "execution_count": 753,
   "metadata": {},
   "outputs": [],
   "source": [
    "df.rooms = df.rooms + rooms\n",
    "df.bedrooms = df.bedrooms + bedrooms\n",
    "df.bathrooms = df.bathrooms + bathrooms\n",
    "df['powder_rooms'] = df['powder_rooms'] + powder_rooms"
   ]
  },
  {
   "cell_type": "code",
   "execution_count": 796,
   "metadata": {
    "tags": []
   },
   "outputs": [
    {
     "output_type": "stream",
     "name": "stdout",
     "text": "Rooms after missing data suplementation\n"
    },
    {
     "output_type": "execute_result",
     "data": {
      "text/plain": "rooms               5319\nbedrooms            5264\nbasement_bedroom      75\nbathrooms           5296\npowder_rooms        1300\ndtype: int64"
     },
     "metadata": {},
     "execution_count": 796
    }
   ],
   "source": [
    "print(\"Rooms after missing data suplementation\")\n",
    "df.iloc[:,-5:].apply(lambda cols: sum(not_zero(cols)))"
   ]
  },
  {
   "cell_type": "code",
   "execution_count": 798,
   "metadata": {},
   "outputs": [],
   "source": [
    "df.drop(\"Main unit\", axis=1, inplace=True)"
   ]
  },
  {
   "cell_type": "markdown",
   "metadata": {},
   "source": [
    "Lastly, we will inspect the missing `rooms` values to see if we could substitute them from other room related columns."
   ]
  },
  {
   "cell_type": "code",
   "execution_count": 772,
   "metadata": {
    "tags": []
   },
   "outputs": [
    {
     "output_type": "stream",
     "name": "stdout",
     "text": "rooms  bedrooms  bathrooms  powder_rooms\n154     0.0       0.0        0.0           0.0\n164     0.0       0.0        0.0           0.0\n344     0.0       0.0        0.0           0.0\n345     0.0       0.0        0.0           0.0\n532     0.0       0.0        0.0           0.0\n...     ...       ...        ...           ...\n5381    0.0       0.0        0.0           0.0\n5394    0.0       0.0        0.0           0.0\n5415    0.0       0.0        0.0           0.0\n5416    0.0       0.0        0.0           0.0\n5423    0.0       0.0        0.0           0.0\n\n[105 rows x 4 columns] \n\nNon-zero values in slice: 0\n"
    }
   ],
   "source": [
    "# Slice with \"rooms\" values 0\n",
    "no_rooms = df[df.rooms.apply(lambda x: x == 0)]\n",
    "no_rooms_slice = no_rooms.loc[:, [\"rooms\", \"bedrooms\", \"bathrooms\", \"powder_rooms\"]]\n",
    "print(no_rooms_slice, \"\\n\")\n",
    "\n",
    "# Search non-zero values in slice\n",
    "print(\"Non-zero values in slice:\",\\\n",
    "no_rooms_slice.apply(lambda row: any([x > 0 for x in row])).sum())"
   ]
  },
  {
   "cell_type": "markdown",
   "metadata": {},
   "source": [
    "There are no values to further substitute the missing room information"
   ]
  },
  {
   "cell_type": "code",
   "execution_count": 773,
   "metadata": {},
   "outputs": [
    {
     "output_type": "execute_result",
     "data": {
      "text/plain": "154     Land for sale\n164      Lot for sale\n344      Lot for sale\n345      Lot for sale\n532      Lot for sale\n            ...      \n5381     Lot for sale\n5394     Lot for sale\n5415     Lot for sale\n5416     Lot for sale\n5423     Lot for sale\nName: title, Length: 105, dtype: object"
     },
     "metadata": {},
     "execution_count": 773
    }
   ],
   "source": [
    "no_rooms.title"
   ]
  },
  {
   "cell_type": "markdown",
   "metadata": {},
   "source": [
    "The missing room values appear to correspond to lots/land for sale. We will delete these records."
   ]
  },
  {
   "cell_type": "code",
   "execution_count": 780,
   "metadata": {
    "tags": []
   },
   "outputs": [],
   "source": [
    "df = df.drop(no_rooms.index).reset_index()"
   ]
  },
  {
   "cell_type": "code",
   "execution_count": 781,
   "metadata": {
    "tags": []
   },
   "outputs": [
    {
     "output_type": "stream",
     "name": "stdout",
     "text": "<class 'pandas.core.frame.DataFrame'>\nRangeIndex: 5319 entries, 0 to 5318\nColumns: 91 entries, index to powder_rooms\ndtypes: bool(1), float64(26), int64(40), object(24)\nmemory usage: 3.7+ MB\n"
    }
   ],
   "source": [
    "df.info(max_cols=10)"
   ]
  },
  {
   "cell_type": "markdown",
   "metadata": {},
   "source": [
    "## Columns With Many Missing Values"
   ]
  },
  {
   "cell_type": "markdown",
   "metadata": {},
   "source": [
    "To facilitate working with column names we will transform them to lower-case and replace whitespace with underscores"
   ]
  },
  {
   "cell_type": "code",
   "execution_count": 804,
   "metadata": {},
   "outputs": [],
   "source": [
    "df.columns = df.columns.str.replace(\" \", \"_\").str.lower()"
   ]
  },
  {
   "cell_type": "code",
   "execution_count": 805,
   "metadata": {},
   "outputs": [
    {
     "output_type": "execute_result",
     "data": {
      "text/plain": "     net_area                      pool  \\\n0  1,014 sqft                       NaN   \n1  1,249 sqft          Heated, Inground   \n2    848 sqft                       NaN   \n3         NaN  Heated, Inground, Indoor   \n4    586 sqft                       NaN   \n\n                      additional_features gross_area building_style lot_area  \\\n0                                     NaN        NaN            NaN      NaN   \n1                                Elevator        NaN            NaN      NaN   \n2                                     NaN        NaN            NaN      NaN   \n3  Adapted for reduced mobility, Elevator   621 sqft            NaN      NaN   \n4                                     NaN        NaN            NaN      NaN   \n\n  fireplace/stove in_basement use_of_property number_of_units  \\\n0             NaN         NaN             NaN             NaN   \n1             NaN         NaN             NaN             NaN   \n2             NaN         NaN             NaN             NaN   \n3             NaN         NaN             NaN             NaN   \n4             NaN         NaN             NaN             NaN   \n\n  residential_units potential_gross_revenue intergenerational  \\\n0               NaN                     NaN               NaN   \n1               NaN                     NaN               NaN   \n2               NaN                     NaN               NaN   \n3               NaN                     NaN               NaN   \n4               NaN                     NaN               NaN   \n\n  building_area_(at_ground_level) available_area residential_unit  \\\n0                             NaN            NaN              NaN   \n1                             NaN            NaN              NaN   \n2                             NaN            NaN              NaN   \n3                             NaN            NaN              NaN   \n4                             NaN            NaN              NaN   \n\n  parking_(excluded_from_the_price)  \n0                               NaN  \n1                               NaN  \n2                               NaN  \n3                               NaN  \n4                               NaN  ",
      "text/html": "<div>\n<style scoped>\n    .dataframe tbody tr th:only-of-type {\n        vertical-align: middle;\n    }\n\n    .dataframe tbody tr th {\n        vertical-align: top;\n    }\n\n    .dataframe thead th {\n        text-align: right;\n    }\n</style>\n<table border=\"1\" class=\"dataframe\">\n  <thead>\n    <tr style=\"text-align: right;\">\n      <th></th>\n      <th>net_area</th>\n      <th>pool</th>\n      <th>additional_features</th>\n      <th>gross_area</th>\n      <th>building_style</th>\n      <th>lot_area</th>\n      <th>fireplace/stove</th>\n      <th>in_basement</th>\n      <th>use_of_property</th>\n      <th>number_of_units</th>\n      <th>residential_units</th>\n      <th>potential_gross_revenue</th>\n      <th>intergenerational</th>\n      <th>building_area_(at_ground_level)</th>\n      <th>available_area</th>\n      <th>residential_unit</th>\n      <th>parking_(excluded_from_the_price)</th>\n    </tr>\n  </thead>\n  <tbody>\n    <tr>\n      <th>0</th>\n      <td>1,014 sqft</td>\n      <td>NaN</td>\n      <td>NaN</td>\n      <td>NaN</td>\n      <td>NaN</td>\n      <td>NaN</td>\n      <td>NaN</td>\n      <td>NaN</td>\n      <td>NaN</td>\n      <td>NaN</td>\n      <td>NaN</td>\n      <td>NaN</td>\n      <td>NaN</td>\n      <td>NaN</td>\n      <td>NaN</td>\n      <td>NaN</td>\n      <td>NaN</td>\n    </tr>\n    <tr>\n      <th>1</th>\n      <td>1,249 sqft</td>\n      <td>Heated, Inground</td>\n      <td>Elevator</td>\n      <td>NaN</td>\n      <td>NaN</td>\n      <td>NaN</td>\n      <td>NaN</td>\n      <td>NaN</td>\n      <td>NaN</td>\n      <td>NaN</td>\n      <td>NaN</td>\n      <td>NaN</td>\n      <td>NaN</td>\n      <td>NaN</td>\n      <td>NaN</td>\n      <td>NaN</td>\n      <td>NaN</td>\n    </tr>\n    <tr>\n      <th>2</th>\n      <td>848 sqft</td>\n      <td>NaN</td>\n      <td>NaN</td>\n      <td>NaN</td>\n      <td>NaN</td>\n      <td>NaN</td>\n      <td>NaN</td>\n      <td>NaN</td>\n      <td>NaN</td>\n      <td>NaN</td>\n      <td>NaN</td>\n      <td>NaN</td>\n      <td>NaN</td>\n      <td>NaN</td>\n      <td>NaN</td>\n      <td>NaN</td>\n      <td>NaN</td>\n    </tr>\n    <tr>\n      <th>3</th>\n      <td>NaN</td>\n      <td>Heated, Inground, Indoor</td>\n      <td>Adapted for reduced mobility, Elevator</td>\n      <td>621 sqft</td>\n      <td>NaN</td>\n      <td>NaN</td>\n      <td>NaN</td>\n      <td>NaN</td>\n      <td>NaN</td>\n      <td>NaN</td>\n      <td>NaN</td>\n      <td>NaN</td>\n      <td>NaN</td>\n      <td>NaN</td>\n      <td>NaN</td>\n      <td>NaN</td>\n      <td>NaN</td>\n    </tr>\n    <tr>\n      <th>4</th>\n      <td>586 sqft</td>\n      <td>NaN</td>\n      <td>NaN</td>\n      <td>NaN</td>\n      <td>NaN</td>\n      <td>NaN</td>\n      <td>NaN</td>\n      <td>NaN</td>\n      <td>NaN</td>\n      <td>NaN</td>\n      <td>NaN</td>\n      <td>NaN</td>\n      <td>NaN</td>\n      <td>NaN</td>\n      <td>NaN</td>\n      <td>NaN</td>\n      <td>NaN</td>\n    </tr>\n  </tbody>\n</table>\n</div>"
     },
     "metadata": {},
     "execution_count": 805
    }
   ],
   "source": [
    "# Columns with less than 1000 values\n",
    "less_than_3100 = df.apply(lambda col: col.notnull().sum() < 3100, axis=0)\n",
    "df.loc[:, less_than_3100].head()"
   ]
  },
  {
   "cell_type": "code",
   "execution_count": 795,
   "metadata": {
    "tags": []
   },
   "outputs": [
    {
     "output_type": "stream",
     "name": "stdout",
     "text": "<class 'pandas.core.frame.DataFrame'>\nRangeIndex: 5319 entries, 0 to 5318\nData columns (total 72 columns):\n #   Column                                   Non-Null Count  Dtype  \n---  ------                                   --------------  -----  \n 0   index                                    5319 non-null   int64  \n 1   title                                    5319 non-null   object \n 2   address                                  5319 non-null   object \n 3   price                                    5319 non-null   int64  \n 4   lat                                      5319 non-null   float64\n 5   long                                     5319 non-null   float64\n 6   Restaurants                              5311 non-null   float64\n 7   Shopping                                 5313 non-null   float64\n 8   Vibrant                                  5311 non-null   float64\n 9   Cycling friendly                         5310 non-null   float64\n 10  Car friendly                             5308 non-null   float64\n 11  Historic                                 5302 non-null   float64\n 12  Quiet                                    5303 non-null   float64\n 13  Elementary Schools                       5315 non-null   float64\n 14  High Schools                             5313 non-null   float64\n 15  Parks                                    5319 non-null   int64  \n 16  Nightlife                                5306 non-null   float64\n 17  Groceries                                5316 non-null   float64\n 18  Daycares                                 5314 non-null   float64\n 19  Pedestrian friendly                      5317 non-null   float64\n 20  Cafes                                    5310 non-null   float64\n 21  Transit friendly                         5317 non-null   float64\n 22  Greenery                                 5308 non-null   float64\n 23  Condominium type                         3460 non-null   object \n 24  Year built                               5319 non-null   object \n 25  Parking (total)                          3533 non-null   object \n 26  Population 2016                          5319 non-null   int64  \n 27  Population variation between 2011 2016   5319 non-null   int64  \n 28  Population density                       5319 non-null   int64  \n 29  Unemployment rate 2016                   5319 non-null   int64  \n 30  Less than $50,000 (%)                    5319 non-null   int64  \n 31  Between $50,000 and $80,000 (%)          5319 non-null   int64  \n 32  Between $80,000 and $100,000 (%)         5319 non-null   int64  \n 33  Between $100,000 and $150,000 (%)        5319 non-null   int64  \n 34  More than $150,000 (%)                   5319 non-null   int64  \n 35  1-person households (%)                  5319 non-null   int64  \n 36  2-person households (%)                  5319 non-null   int64  \n 37  3-person households (%)                  5319 non-null   int64  \n 38  4-person households (%)                  5319 non-null   int64  \n 39  5-person or more households (%)          5319 non-null   int64  \n 40  Couples without children at home (%)     5319 non-null   int64  \n 41  Couples with children at home (%)        5319 non-null   int64  \n 42  Single-parent families (%)               5319 non-null   int64  \n 43  Owners (%)                               5319 non-null   int64  \n 44  Renters (%)                              5319 non-null   int64  \n 45  Before 1960 (%)                          5319 non-null   int64  \n 46  Between 1961 and 1980 (%)                5319 non-null   int64  \n 47  Between 1981 and 1990 (%)                5319 non-null   int64  \n 48  Between 1991 and 2000 (%)                5319 non-null   int64  \n 49  Between 2001 and 2010 (%)                5319 non-null   int64  \n 50  Between 2011 and 2016 (%)                5319 non-null   int64  \n 51  Single-family homes (%)                  5319 non-null   int64  \n 52  Semi-detached or row houses (%)          5319 non-null   int64  \n 53  Buildings with less than 5 floors (%)    5319 non-null   int64  \n 54  Buildings with 5 or more floors (%)      5319 non-null   int64  \n 55  Mobile homes (%)                         5319 non-null   int64  \n 56  University (%)                           5319 non-null   int64  \n 57  College (%)                              5319 non-null   int64  \n 58  Secondary (high) school (%)              5319 non-null   int64  \n 59  Apprentice or trade school diploma (%)   5319 non-null   int64  \n 60  No diploma (%)                           5319 non-null   int64  \n 61  Non-immigrant population (%)             5319 non-null   int64  \n 62  Immigrant population (%)                 5319 non-null   int64  \n 63  French (%)                               5319 non-null   float64\n 64  English (%)                              5319 non-null   float64\n 65  Others languages (%)                     5319 non-null   float64\n 66  walk_score                               5282 non-null   float64\n 67  rooms                                    5319 non-null   float64\n 68  bedrooms                                 5319 non-null   float64\n 69  basement_bedroom                         5319 non-null   bool   \n 70  bathrooms                                5319 non-null   float64\n 71  powder_rooms                             5319 non-null   float64\ndtypes: bool(1), float64(26), int64(40), object(5)\nmemory usage: 2.9+ MB\n"
    }
   ],
   "source": [
    "# Columns with more than 3100 values\n",
    "df.loc[:, [not many_missing for many_missing in less_than_3100]].info(max_cols=75)"
   ]
  },
  {
   "cell_type": "markdown",
   "metadata": {},
   "source": [
    "Since we deleted the lots for sale, we will first remove the now redundant `Zoning` feature"
   ]
  },
  {
   "cell_type": "code",
   "execution_count": 800,
   "metadata": {},
   "outputs": [],
   "source": [
    "df.drop(\"Zoning\", axis=1, inplace=True)"
   ]
  },
  {
   "cell_type": "markdown",
   "metadata": {},
   "source": [
    "Next we will inspect the `area` features and see if we can merge them together."
   ]
  },
  {
   "cell_type": "code",
   "execution_count": 807,
   "metadata": {
    "tags": []
   },
   "outputs": [
    {
     "output_type": "stream",
     "name": "stdout",
     "text": "<class 'pandas.core.frame.DataFrame'>\nRangeIndex: 5319 entries, 0 to 5318\nData columns (total 5 columns):\n #   Column                           Non-Null Count  Dtype \n---  ------                           --------------  ----- \n 0   net_area                         2616 non-null   object\n 1   gross_area                       654 non-null    object\n 2   building_area_(at_ground_level)  205 non-null    object\n 3   lot_area                         1696 non-null   object\n 4   available_area                   110 non-null    object\ndtypes: object(5)\nmemory usage: 207.9+ KB\n"
    }
   ],
   "source": [
    "area = [\"net_area\", \"gross_area\", \"building_area_(at_ground_level)\", \"lot_area\", \"available_area\"]\n",
    "df_area = df[area]\n",
    "df_area.info()"
   ]
  },
  {
   "cell_type": "markdown",
   "metadata": {},
   "source": [
    "`Net area` and `Gross area` seem like the same thing, so first we will inspect if there is any intersection between both features"
   ]
  },
  {
   "cell_type": "code",
   "execution_count": 889,
   "metadata": {
    "tags": []
   },
   "outputs": [
    {
     "output_type": "stream",
     "name": "stdout",
     "text": "Net and Gross area records overlap: 0\n"
    }
   ],
   "source": [
    "net_not_missing = df_area.net_area.notna()\n",
    "gross_not_missing = df_area.gross_area.notna()\n",
    "overlap = (net_not_missing & gross_not_missing)\n",
    "print(\"Net and Gross area records overlap:\", overlap.sum())"
   ]
  },
  {
   "cell_type": "markdown",
   "metadata": {},
   "source": [
    "There is no overlap between the two which means it should be reasonable to combine both features. Before we can add both features together, we need to convert values from string to numeric."
   ]
  },
  {
   "cell_type": "code",
   "execution_count": 854,
   "metadata": {},
   "outputs": [
    {
     "output_type": "execute_result",
     "data": {
      "text/plain": "     net_area gross_area building_area lot_area    available_area\n0        1014        NaN           NaN      NaN               NaN\n1        1249        NaN           NaN      NaN               NaN\n2         848        NaN           NaN      NaN               NaN\n3         NaN        621           NaN      NaN               NaN\n4         586        NaN           NaN      NaN               NaN\n...       ...        ...           ...      ...               ...\n5314      552        NaN           NaN      NaN               NaN\n5315      808        NaN           NaN      NaN               NaN\n5316     1390        NaN           NaN      NaN               NaN\n5317     1218        NaN           NaN      NaN               NaN\n5318      NaN        NaN          1368     2990  From 684 to 1368\n\n[5319 rows x 5 columns]",
      "text/html": "<div>\n<style scoped>\n    .dataframe tbody tr th:only-of-type {\n        vertical-align: middle;\n    }\n\n    .dataframe tbody tr th {\n        vertical-align: top;\n    }\n\n    .dataframe thead th {\n        text-align: right;\n    }\n</style>\n<table border=\"1\" class=\"dataframe\">\n  <thead>\n    <tr style=\"text-align: right;\">\n      <th></th>\n      <th>net_area</th>\n      <th>gross_area</th>\n      <th>building_area</th>\n      <th>lot_area</th>\n      <th>available_area</th>\n    </tr>\n  </thead>\n  <tbody>\n    <tr>\n      <th>0</th>\n      <td>1014</td>\n      <td>NaN</td>\n      <td>NaN</td>\n      <td>NaN</td>\n      <td>NaN</td>\n    </tr>\n    <tr>\n      <th>1</th>\n      <td>1249</td>\n      <td>NaN</td>\n      <td>NaN</td>\n      <td>NaN</td>\n      <td>NaN</td>\n    </tr>\n    <tr>\n      <th>2</th>\n      <td>848</td>\n      <td>NaN</td>\n      <td>NaN</td>\n      <td>NaN</td>\n      <td>NaN</td>\n    </tr>\n    <tr>\n      <th>3</th>\n      <td>NaN</td>\n      <td>621</td>\n      <td>NaN</td>\n      <td>NaN</td>\n      <td>NaN</td>\n    </tr>\n    <tr>\n      <th>4</th>\n      <td>586</td>\n      <td>NaN</td>\n      <td>NaN</td>\n      <td>NaN</td>\n      <td>NaN</td>\n    </tr>\n    <tr>\n      <th>...</th>\n      <td>...</td>\n      <td>...</td>\n      <td>...</td>\n      <td>...</td>\n      <td>...</td>\n    </tr>\n    <tr>\n      <th>5314</th>\n      <td>552</td>\n      <td>NaN</td>\n      <td>NaN</td>\n      <td>NaN</td>\n      <td>NaN</td>\n    </tr>\n    <tr>\n      <th>5315</th>\n      <td>808</td>\n      <td>NaN</td>\n      <td>NaN</td>\n      <td>NaN</td>\n      <td>NaN</td>\n    </tr>\n    <tr>\n      <th>5316</th>\n      <td>1390</td>\n      <td>NaN</td>\n      <td>NaN</td>\n      <td>NaN</td>\n      <td>NaN</td>\n    </tr>\n    <tr>\n      <th>5317</th>\n      <td>1218</td>\n      <td>NaN</td>\n      <td>NaN</td>\n      <td>NaN</td>\n      <td>NaN</td>\n    </tr>\n    <tr>\n      <th>5318</th>\n      <td>NaN</td>\n      <td>NaN</td>\n      <td>1368</td>\n      <td>2990</td>\n      <td>From 684 to 1368</td>\n    </tr>\n  </tbody>\n</table>\n<p>5319 rows × 5 columns</p>\n</div>"
     },
     "metadata": {},
     "execution_count": 854
    }
   ],
   "source": [
    "# Remove 'sqft' and ',' from area features\n",
    "df_area.replace(regex=\"sqft\", value=\"\", inplace=True)\n",
    "df_area.replace(regex=\",\", value=\"\", inplace=True)\n",
    "df_area.rename(columns={\"building_area_(at_ground_level)\":\"building_area\"}, inplace=True)\n",
    "df_area"
   ]
  },
  {
   "cell_type": "code",
   "execution_count": 868,
   "metadata": {
    "tags": []
   },
   "outputs": [
    {
     "output_type": "stream",
     "name": "stdout",
     "text": "Remaining missing values after merge of 'net' and 'gross': 2049\n"
    }
   ],
   "source": [
    "# Merge \"net_area\" and \"gross_area\" -> \"total_area\"\n",
    "total_area = df_area.net_area.astype(float).fillna(0)\\\n",
    "    + df_area.gross_area.astype(float).fillna(0)\n",
    "\n",
    "df[\"total_area\"] = total_area\n",
    "missing = total_area.apply(lambda x: x == 0)\n",
    "print(\"Remaining missing values after merge of 'net' and 'gross':\", missing.sum())"
   ]
  },
  {
   "cell_type": "markdown",
   "metadata": {},
   "source": [
    "Next we will inspect if there's any overlap for the newly merged column and `lot_area`"
   ]
  },
  {
   "cell_type": "code",
   "execution_count": 880,
   "metadata": {
    "tags": []
   },
   "outputs": [
    {
     "output_type": "stream",
     "name": "stdout",
     "text": "Total and lot area records overlap: 0\n"
    }
   ],
   "source": [
    "not_missing_total = [not x for x in missing]\n",
    "has_lot_area = df_area.lot_area.notna()\n",
    "overlap =  not_missing_total & has_lot_area \n",
    "print(\"Total and lot area records overlap:\", overlap.sum())"
   ]
  },
  {
   "cell_type": "markdown",
   "metadata": {},
   "source": [
    "Again, no overlap between columns which suggests, that total and lot area are the same. Listings that indicate lot area, most likely include property outside that of the building, such as a backyard. This has been verified by scrolling through pictures of listings with lot areas. This information may be of value, which is why we will create a boolean column `has_lot_area` to indicate listings with lot areas."
   ]
  },
  {
   "cell_type": "code",
   "execution_count": 882,
   "metadata": {},
   "outputs": [],
   "source": [
    "df['has_lot_area'] = has_lot_area"
   ]
  },
  {
   "cell_type": "markdown",
   "metadata": {},
   "source": [
    "Next we will need to convert the lot_area column to float"
   ]
  },
  {
   "cell_type": "code",
   "execution_count": 891,
   "metadata": {},
   "outputs": [
    {
     "output_type": "execute_result",
     "data": {
      "text/plain": "5        3030\n7        1827\n8        4090\n14       3174\n20       2584\n        ...  \n5307    12002\n5309    12400\n5311     3138\n5312     2717\n5318     2990\nName: lot_area, Length: 1696, dtype: object"
     },
     "metadata": {},
     "execution_count": 891
    }
   ],
   "source": [
    "df_area.lot_area"
   ]
  },
  {
   "cell_type": "code",
   "execution_count": null,
   "metadata": {},
   "outputs": [],
   "source": []
  }
 ],
 "metadata": {
  "kernelspec": {
   "display_name": "Python 3",
   "language": "python",
   "name": "python3"
  },
  "language_info": {
   "codemirror_mode": {
    "name": "ipython",
    "version": 3
   },
   "file_extension": ".py",
   "mimetype": "text/x-python",
   "name": "python",
   "nbconvert_exporter": "python",
   "pygments_lexer": "ipython3",
   "version": "3.6.9-final"
  }
 },
 "nbformat": 4,
 "nbformat_minor": 2
}