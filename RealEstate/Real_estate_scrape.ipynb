{
 "cells": [
  {
   "cell_type": "code",
   "execution_count": 446,
   "metadata": {},
   "outputs": [],
   "source": [
    "import pandas as pd\n",
    "from random import randint\n",
    "import time\n",
    "import re\n",
    "# Scraping through Chrome webdriver\n",
    "from selenium import webdriver\n",
    "from selenium.webdriver.chrome.options import Options\n",
    "from selenium.webdriver.common.action_chains import ActionChains\n",
    "from selenium.webdriver.common.keys import Keys"
   ]
  },
  {
   "cell_type": "code",
   "execution_count": 2,
   "metadata": {},
   "outputs": [],
   "source": [
    "# Starting URLs\n",
    "centris = \"https://www.centris.ca/en/properties~for-sale?view=Thumbnail\"\n",
    "duproprio = \"https://duproprio.com/en/search/list?search=true&is_for_sale=1&with_builders=1&parent=1&pageNumber=1&sort=-published_at\""
   ]
  },
  {
   "cell_type": "code",
   "execution_count": 631,
   "metadata": {},
   "outputs": [],
   "source": [
    "class Centris:\n",
    "    \"\"\"\n",
    "    Represents a data object scraped from\n",
    "    centris.ca. Uses selenium and the Chrome webdriver\n",
    "    to access# Path to Chromedriver web elements.\n",
    "    \n",
    "    Attr:\n",
    "    self.url - starting url for scraping process\n",
    "    self.data - pandas.DataFrame object containing scraped data\n",
    "    self.driver - Chrome webdriver\n",
    "    self.containers - List of web-elements containing information on listings\n",
    "        - eg: link to listing, price, picture, address,...\n",
    "    self.links_to_listings - List of web-elements, each containing the link to a listing\n",
    "    \"\"\"\n",
    "    # Path to Chromedriver\n",
    "    DRIVER_PATH = 'C:/webdriver/chromedriver.exe'\n",
    "        \n",
    "    def __init__(self, url=\"https://www.centris.ca/en/condominium-houses\"\\\n",
    "                             \"~for-sale~saint-come/27673618?view=Summary&uc=2\"): \n",
    "        self.url = url\n",
    "        self.data = pd.DataFrame(columns=['title'\\\n",
    "                                        'address',\\\n",
    "                                        'price',\\\n",
    "                                        'lat',\\\n",
    "                                        'long'])\n",
    "        self.driver = None\n",
    "        self.containers = None\n",
    "#       self.links_to_listings = None\n",
    "        \n",
    "    def append_data(self, title, address, price, lat, long):\n",
    "        new_data = pd.DataFrame({'title': title,\\\n",
    "                                'address': address,\\\n",
    "                                'price': price,\\\n",
    "                                'lat': lat,\\\n",
    "                                'long': long}, index=[0])\n",
    "        self.data = self.data.append(new_data, ignore_index=True)\n",
    "             \n",
    "    def get_data(self):\n",
    "        return self.data\n",
    "        \n",
    "    def start_driver(self):\n",
    "        \"\"\"\n",
    "        Starts and returns Crome webdriver. \n",
    "        The page link in the url attribute \n",
    "        is opened in headless mode.\n",
    "        \"\"\"\n",
    "        \n",
    "        # Activate headless mode for fastest response\n",
    "        options = Options()\n",
    "        options.add_argument(\"--headless\")\n",
    "\n",
    "        # Start driver with url\n",
    "        self.driver = webdriver.Chrome(executable_path=DRIVER_PATH)\n",
    "        self.driver.get(self.url)\n",
    "    \n",
    "#     def set_containers(self):\n",
    "#         try:\n",
    "#             containers = self.driver.find_elements_by_class_name(\\\n",
    "#                                             \"description\")\n",
    "#             # Last element is empty string\n",
    "#             self.containers = containers[:-1]\n",
    "#         except:\n",
    "#             print(\"Chrome driver is not running!\")\n",
    "#             print(\"Use: \\\"start_driver()\\\"\")\n",
    "            \n",
    "    def goto_first_page(self):\n",
    "        try:\n",
    "            next_page = self.driver.find_element_by_xpath(\\\n",
    "                                        \"//li[@class='goFirst']\")\n",
    "            next_page.click()\n",
    "        except:\n",
    "            print(\"goFirst button not available\")\n",
    "    \n",
    "    def next_page(self):\n",
    "        try:\n",
    "            next_page = self.driver.find_element_by_xpath(\\\n",
    "                                        \"//li[@class='next']\")\n",
    "            next_page.click()\n",
    "        except:\n",
    "            print(\"Next page button not available\")\n",
    "            \n",
    "#     def set_links_to_listings(self):\n",
    "#         \"\"\"Retrieves list of elements from each container\n",
    "#         with link to listing site\"\"\"\n",
    "#         try:\n",
    "#             self.links_to_listings = [container.\\\n",
    "#                             find_element_by_class_name(\"a-more-detail\")\\\n",
    "#                                       for container in self.containers]\n",
    "#         except:\n",
    "#             if self.driver == None:\n",
    "#                 print(\"Start driver first: start_driver()\")\n",
    "#             elif self.containers == None:\n",
    "#                 print(\"Set container attribute: set_containers()\" )\n",
    "#             else: print(\"No class 'a-more-detail' found on current page\")\n",
    "\n",
    "\n",
    "                \n",
    "    def get_data_from_link(self):\n",
    "        \"\"\"\n",
    "        Retrieves information from link at link_index in  \n",
    "        links_to_listings list and appends to self.data\n",
    "        \"\"\"\n",
    "        \n",
    "#         # Open link in new tab\n",
    "#         actions = ActionChains(self.driver)\\\n",
    "#             .key_down(Keys.CONTROL)\\\n",
    "#             .click(element)\\\n",
    "#             .key_up(Keys.CONTROL)\\\n",
    "#             .perform()\n",
    "#         # Move to new tab\n",
    "#         self.driver.switch_to.window(self.driver.window_handles[-1])\n",
    "        \n",
    "        # Scrape data\n",
    "        print(\"A new page is being scraped...\")\n",
    "        \n",
    "        # Allow for time to load elements\n",
    "        time.sleep(1)\n",
    "        # Data from headers\n",
    "        title = self.driver.find_element_by_xpath(\"//span[@data-id='PageTitle']\").text\n",
    "        address = self.driver.find_element_by_xpath(\"//h2[@itemprop='address']\").text\n",
    "        price = self.driver.find_element_by_xpath(\"//span[@itemprop='price']\").text\n",
    "        lat = self.driver.find_element_by_xpath(\"//meta[@itemprop='latitude']\").get_attribute(\"content\")\n",
    "        long = self.driver.find_element_by_xpath(\"//meta[@itemprop='longitude']\").get_attribute(\"content\")\n",
    "        print(title, address, price, lat, long)\n",
    "        self.append_data(title, address, price, lat, long)\n",
    "        \n",
    "        # Scroll down 3x to load additional page elements\n",
    "        body = self.driver.find_element_by_tag_name(\"body\")\n",
    "        for i in range(3):\n",
    "            body.send_keys(Keys.PAGE_DOWN)\n",
    "        # Allow for time to load elements\n",
    "        time.sleep(1)\n",
    "        \n",
    "        # Description of listing (Year build, price, Lot area, etc.)\n",
    "        descriptions = self.driver.find_element_by_xpath(\\\n",
    "                            \"//div[@class='col-lg-12 description']\")\n",
    "        descriptions_list = descriptions.text.split(\"\\n\")\n",
    "        \n",
    "        # Rating of indicators between 0-10 (Groceries, parks, etc.)\n",
    "        neighbourhood_indicators = self.driver.find_element_by_xpath(\\\n",
    "                             \"//div[@class='ll-list ps ps--active-y']\")\n",
    "        neighbourhood_indicators_list = neighbourhood_indicators\\\n",
    "                            .text.split(\"\\n\")\n",
    "        \n",
    "        # Population summary data (density, variation etc.)\n",
    "        population_summaries =  self.driver.find_element_by_id('info')\n",
    "        population_summaries_list = population_summaries\\\n",
    "                            .text.split(\"\\n\")\n",
    "        \n",
    "        # Buttons to access demographics data (education, incomes, etc.)\n",
    "        demographics_buttons = self.driver.find_elements_by_xpath(\\\n",
    "                            \"//div[@class='centrisSocioDemobutton']\")\n",
    "        \n",
    "        # First entry on clickable demographics list (pre-selected)\n",
    "        demographics = [self.driver.find_element_by_xpath(\\\n",
    "                             \"//div[@class='socioDemoLabel']\").text]\n",
    "        \n",
    "        # Click buttons to access next demogrpahics elements\n",
    "        for button in demographics_buttons[1:]:\n",
    "            button.click()\n",
    "            demographic_data = self.driver.find_element_by_xpath(\\\n",
    "                             \"//div[@class='socioDemoLabel']\")\n",
    "            # Append to list\n",
    "            demographics.append(demographic_data.text)\n",
    "            \n",
    "        # Return to top of page, to access next-page button\n",
    "        for i in range(7):\n",
    "            body.send_keys(Keys.PAGE_UP)\n",
    "        \n",
    "        # Logging\n",
    "#         print(descriptions_list)\n",
    "#         print(neighbourhood_indicators_list)\n",
    "#         print(population_summaries_list)\n",
    "#         print([demo for demo in demographics])\n",
    "                                                  \n",
    "# Instantiate class object\n",
    "centris = Centris()"
   ]
  },
  {
   "cell_type": "markdown",
   "metadata": {},
   "source": [
    "## Testing"
   ]
  },
  {
   "cell_type": "code",
   "execution_count": 632,
   "metadata": {},
   "outputs": [
    {
     "name": "stdout",
     "output_type": "stream",
     "text": [
      "Execution time: 6.429761171340942\n"
     ]
    }
   ],
   "source": [
    "# Test\n",
    "start = time.time()\n",
    "centris.start_driver()\n",
    "print(\"Execution time:\", time.time() - start)"
   ]
  },
  {
   "cell_type": "code",
   "execution_count": 634,
   "metadata": {
    "scrolled": true
   },
   "outputs": [
    {
     "name": "stdout",
     "output_type": "stream",
     "text": [
      "A new page is being scraped...\n",
      "Condominium house for sale 235, Rue de l'Auberge, Saint-Côme $147,900 46.2725780000 -73.8838280000\n",
      "A new page is being scraped...\n",
      "Condo for sale 8635, Rue Lajeunesse, apt. 617, Montréal (Villeray/Saint-Michel/Parc-Extension), Neighbourhood Villeray $439,000 45.5461014500 -73.6364320000\n",
      "A new page is being scraped...\n",
      "Condo for sale 1117, Avenue De Bourlamaque, Québec (La Cité-Limoilou), Neighbourhood Montcalm $268,900 46.8020410000 -71.2269650000\n",
      "A new page is being scraped...\n",
      "Condo for sale 201, Rue du Val-des-Neiges, apt. 404, Beaupré $247,500 47.0615171900 -70.9083216400\n",
      "A new page is being scraped...\n",
      "Condo for sale 201, Rue du Val-des-Neiges, apt. 404, Beaupré $247,500 47.0615171900 -70.9083216400\n",
      "A new page is being scraped...\n",
      "Condo for sale 11445B, boulevard de la Colline, apt. 101, Québec (La Haute-Saint-Charles), Neighbourhood Loretteville $300,000 46.8594270000 -71.3444990000\n",
      "A new page is being scraped...\n",
      "House for sale 165, Rue Champêtre, Saint-Laurent-de-l'Île-d'Orléans $374,000 46.8597924300 -71.0195626800\n",
      "A new page is being scraped...\n",
      "House for sale 1855 - 1855A, Rue Sainte-Marie, Pohénégamook $159,500 47.4870072500 -69.2788749600\n",
      "A new page is being scraped...\n",
      "House for sale 2249, Route 148, Grenville-sur-la-Rouge, Neighbourhood Calumet $679,000 45.6428757700 -74.6782720400\n",
      "A new page is being scraped...\n",
      "House for sale 2249, Route 148, Grenville-sur-la-Rouge, Neighbourhood Calumet $679,000 45.6428757700 -74.6782720400\n",
      "A new page is being scraped...\n",
      "House for sale 2249, Route 148, Grenville-sur-la-Rouge, Neighbourhood Calumet $679,000 45.6428757700 -74.6782720400\n",
      "A new page is being scraped...\n",
      "House for sale 2249, Route 148, Grenville-sur-la-Rouge, Neighbourhood Calumet $679,000 45.6428757700 -74.6782720400\n"
     ]
    },
    {
     "ename": "NoSuchElementException",
     "evalue": "Message: no such element: Unable to locate element: {\"method\":\"xpath\",\"selector\":\"//div[@class='ll-list ps ps--active-y']\"}\n  (Session info: chrome=84.0.4147.89)\n",
     "output_type": "error",
     "traceback": [
      "\u001b[1;31m---------------------------------------------------------------------------\u001b[0m",
      "\u001b[1;31mNoSuchElementException\u001b[0m                    Traceback (most recent call last)",
      "\u001b[1;32m<ipython-input-634-f69dc86a743a>\u001b[0m in \u001b[0;36m<module>\u001b[1;34m\u001b[0m\n\u001b[0;32m      1\u001b[0m \u001b[1;32mfor\u001b[0m \u001b[0mi\u001b[0m \u001b[1;32min\u001b[0m \u001b[0mrange\u001b[0m\u001b[1;33m(\u001b[0m\u001b[1;36m20\u001b[0m\u001b[1;33m)\u001b[0m\u001b[1;33m:\u001b[0m\u001b[1;33m\u001b[0m\u001b[1;33m\u001b[0m\u001b[0m\n\u001b[1;32m----> 2\u001b[1;33m     \u001b[0mcentris\u001b[0m\u001b[1;33m.\u001b[0m\u001b[0mget_data_from_link\u001b[0m\u001b[1;33m(\u001b[0m\u001b[1;33m)\u001b[0m\u001b[1;33m\u001b[0m\u001b[1;33m\u001b[0m\u001b[0m\n\u001b[0m\u001b[0;32m      3\u001b[0m     \u001b[0mcentris\u001b[0m\u001b[1;33m.\u001b[0m\u001b[0mnext_page\u001b[0m\u001b[1;33m(\u001b[0m\u001b[1;33m)\u001b[0m\u001b[1;33m\u001b[0m\u001b[1;33m\u001b[0m\u001b[0m\n\u001b[0;32m      4\u001b[0m \u001b[1;33m\u001b[0m\u001b[0m\n\u001b[0;32m      5\u001b[0m \u001b[0mcentris\u001b[0m\u001b[1;33m.\u001b[0m\u001b[0mdata\u001b[0m\u001b[1;33m\u001b[0m\u001b[1;33m\u001b[0m\u001b[0m\n",
      "\u001b[1;32m<ipython-input-631-3121fcf541f0>\u001b[0m in \u001b[0;36mget_data_from_link\u001b[1;34m(self)\u001b[0m\n\u001b[0;32m    137\u001b[0m         \u001b[1;31m# Rating of indicators between 0-10 (Groceries, parks, etc.)\u001b[0m\u001b[1;33m\u001b[0m\u001b[1;33m\u001b[0m\u001b[1;33m\u001b[0m\u001b[0m\n\u001b[0;32m    138\u001b[0m         neighbourhood_indicators = self.driver.find_element_by_xpath(\\\n\u001b[1;32m--> 139\u001b[1;33m                              \"//div[@class='ll-list ps ps--active-y']\")\n\u001b[0m\u001b[0;32m    140\u001b[0m         \u001b[0mneighbourhood_indicators_list\u001b[0m \u001b[1;33m=\u001b[0m \u001b[0mneighbourhood_indicators\u001b[0m\u001b[0;31m\\\u001b[0m\u001b[1;33m\u001b[0m\u001b[1;33m\u001b[0m\u001b[0m\n\u001b[0;32m    141\u001b[0m                             \u001b[1;33m.\u001b[0m\u001b[0mtext\u001b[0m\u001b[1;33m.\u001b[0m\u001b[0msplit\u001b[0m\u001b[1;33m(\u001b[0m\u001b[1;34m\"\\n\"\u001b[0m\u001b[1;33m)\u001b[0m\u001b[1;33m\u001b[0m\u001b[1;33m\u001b[0m\u001b[0m\n",
      "\u001b[1;32m~\\Anaconda3\\lib\\site-packages\\selenium\\webdriver\\remote\\webdriver.py\u001b[0m in \u001b[0;36mfind_element_by_xpath\u001b[1;34m(self, xpath)\u001b[0m\n\u001b[0;32m    392\u001b[0m             \u001b[0melement\u001b[0m \u001b[1;33m=\u001b[0m \u001b[0mdriver\u001b[0m\u001b[1;33m.\u001b[0m\u001b[0mfind_element_by_xpath\u001b[0m\u001b[1;33m(\u001b[0m\u001b[1;34m'//div/td[1]'\u001b[0m\u001b[1;33m)\u001b[0m\u001b[1;33m\u001b[0m\u001b[1;33m\u001b[0m\u001b[0m\n\u001b[0;32m    393\u001b[0m         \"\"\"\n\u001b[1;32m--> 394\u001b[1;33m         \u001b[1;32mreturn\u001b[0m \u001b[0mself\u001b[0m\u001b[1;33m.\u001b[0m\u001b[0mfind_element\u001b[0m\u001b[1;33m(\u001b[0m\u001b[0mby\u001b[0m\u001b[1;33m=\u001b[0m\u001b[0mBy\u001b[0m\u001b[1;33m.\u001b[0m\u001b[0mXPATH\u001b[0m\u001b[1;33m,\u001b[0m \u001b[0mvalue\u001b[0m\u001b[1;33m=\u001b[0m\u001b[0mxpath\u001b[0m\u001b[1;33m)\u001b[0m\u001b[1;33m\u001b[0m\u001b[1;33m\u001b[0m\u001b[0m\n\u001b[0m\u001b[0;32m    395\u001b[0m \u001b[1;33m\u001b[0m\u001b[0m\n\u001b[0;32m    396\u001b[0m     \u001b[1;32mdef\u001b[0m \u001b[0mfind_elements_by_xpath\u001b[0m\u001b[1;33m(\u001b[0m\u001b[0mself\u001b[0m\u001b[1;33m,\u001b[0m \u001b[0mxpath\u001b[0m\u001b[1;33m)\u001b[0m\u001b[1;33m:\u001b[0m\u001b[1;33m\u001b[0m\u001b[1;33m\u001b[0m\u001b[0m\n",
      "\u001b[1;32m~\\Anaconda3\\lib\\site-packages\\selenium\\webdriver\\remote\\webdriver.py\u001b[0m in \u001b[0;36mfind_element\u001b[1;34m(self, by, value)\u001b[0m\n\u001b[0;32m    976\u001b[0m         return self.execute(Command.FIND_ELEMENT, {\n\u001b[0;32m    977\u001b[0m             \u001b[1;34m'using'\u001b[0m\u001b[1;33m:\u001b[0m \u001b[0mby\u001b[0m\u001b[1;33m,\u001b[0m\u001b[1;33m\u001b[0m\u001b[1;33m\u001b[0m\u001b[0m\n\u001b[1;32m--> 978\u001b[1;33m             'value': value})['value']\n\u001b[0m\u001b[0;32m    979\u001b[0m \u001b[1;33m\u001b[0m\u001b[0m\n\u001b[0;32m    980\u001b[0m     \u001b[1;32mdef\u001b[0m \u001b[0mfind_elements\u001b[0m\u001b[1;33m(\u001b[0m\u001b[0mself\u001b[0m\u001b[1;33m,\u001b[0m \u001b[0mby\u001b[0m\u001b[1;33m=\u001b[0m\u001b[0mBy\u001b[0m\u001b[1;33m.\u001b[0m\u001b[0mID\u001b[0m\u001b[1;33m,\u001b[0m \u001b[0mvalue\u001b[0m\u001b[1;33m=\u001b[0m\u001b[1;32mNone\u001b[0m\u001b[1;33m)\u001b[0m\u001b[1;33m:\u001b[0m\u001b[1;33m\u001b[0m\u001b[1;33m\u001b[0m\u001b[0m\n",
      "\u001b[1;32m~\\Anaconda3\\lib\\site-packages\\selenium\\webdriver\\remote\\webdriver.py\u001b[0m in \u001b[0;36mexecute\u001b[1;34m(self, driver_command, params)\u001b[0m\n\u001b[0;32m    319\u001b[0m         \u001b[0mresponse\u001b[0m \u001b[1;33m=\u001b[0m \u001b[0mself\u001b[0m\u001b[1;33m.\u001b[0m\u001b[0mcommand_executor\u001b[0m\u001b[1;33m.\u001b[0m\u001b[0mexecute\u001b[0m\u001b[1;33m(\u001b[0m\u001b[0mdriver_command\u001b[0m\u001b[1;33m,\u001b[0m \u001b[0mparams\u001b[0m\u001b[1;33m)\u001b[0m\u001b[1;33m\u001b[0m\u001b[1;33m\u001b[0m\u001b[0m\n\u001b[0;32m    320\u001b[0m         \u001b[1;32mif\u001b[0m \u001b[0mresponse\u001b[0m\u001b[1;33m:\u001b[0m\u001b[1;33m\u001b[0m\u001b[1;33m\u001b[0m\u001b[0m\n\u001b[1;32m--> 321\u001b[1;33m             \u001b[0mself\u001b[0m\u001b[1;33m.\u001b[0m\u001b[0merror_handler\u001b[0m\u001b[1;33m.\u001b[0m\u001b[0mcheck_response\u001b[0m\u001b[1;33m(\u001b[0m\u001b[0mresponse\u001b[0m\u001b[1;33m)\u001b[0m\u001b[1;33m\u001b[0m\u001b[1;33m\u001b[0m\u001b[0m\n\u001b[0m\u001b[0;32m    322\u001b[0m             response['value'] = self._unwrap_value(\n\u001b[0;32m    323\u001b[0m                 response.get('value', None))\n",
      "\u001b[1;32m~\\Anaconda3\\lib\\site-packages\\selenium\\webdriver\\remote\\errorhandler.py\u001b[0m in \u001b[0;36mcheck_response\u001b[1;34m(self, response)\u001b[0m\n\u001b[0;32m    240\u001b[0m                 \u001b[0malert_text\u001b[0m \u001b[1;33m=\u001b[0m \u001b[0mvalue\u001b[0m\u001b[1;33m[\u001b[0m\u001b[1;34m'alert'\u001b[0m\u001b[1;33m]\u001b[0m\u001b[1;33m.\u001b[0m\u001b[0mget\u001b[0m\u001b[1;33m(\u001b[0m\u001b[1;34m'text'\u001b[0m\u001b[1;33m)\u001b[0m\u001b[1;33m\u001b[0m\u001b[1;33m\u001b[0m\u001b[0m\n\u001b[0;32m    241\u001b[0m             \u001b[1;32mraise\u001b[0m \u001b[0mexception_class\u001b[0m\u001b[1;33m(\u001b[0m\u001b[0mmessage\u001b[0m\u001b[1;33m,\u001b[0m \u001b[0mscreen\u001b[0m\u001b[1;33m,\u001b[0m \u001b[0mstacktrace\u001b[0m\u001b[1;33m,\u001b[0m \u001b[0malert_text\u001b[0m\u001b[1;33m)\u001b[0m\u001b[1;33m\u001b[0m\u001b[1;33m\u001b[0m\u001b[0m\n\u001b[1;32m--> 242\u001b[1;33m         \u001b[1;32mraise\u001b[0m \u001b[0mexception_class\u001b[0m\u001b[1;33m(\u001b[0m\u001b[0mmessage\u001b[0m\u001b[1;33m,\u001b[0m \u001b[0mscreen\u001b[0m\u001b[1;33m,\u001b[0m \u001b[0mstacktrace\u001b[0m\u001b[1;33m)\u001b[0m\u001b[1;33m\u001b[0m\u001b[1;33m\u001b[0m\u001b[0m\n\u001b[0m\u001b[0;32m    243\u001b[0m \u001b[1;33m\u001b[0m\u001b[0m\n\u001b[0;32m    244\u001b[0m     \u001b[1;32mdef\u001b[0m \u001b[0m_value_or_default\u001b[0m\u001b[1;33m(\u001b[0m\u001b[0mself\u001b[0m\u001b[1;33m,\u001b[0m \u001b[0mobj\u001b[0m\u001b[1;33m,\u001b[0m \u001b[0mkey\u001b[0m\u001b[1;33m,\u001b[0m \u001b[0mdefault\u001b[0m\u001b[1;33m)\u001b[0m\u001b[1;33m:\u001b[0m\u001b[1;33m\u001b[0m\u001b[1;33m\u001b[0m\u001b[0m\n",
      "\u001b[1;31mNoSuchElementException\u001b[0m: Message: no such element: Unable to locate element: {\"method\":\"xpath\",\"selector\":\"//div[@class='ll-list ps ps--active-y']\"}\n  (Session info: chrome=84.0.4147.89)\n"
     ]
    }
   ],
   "source": [
    "for i in range(20):\n",
    "    centris.get_data_from_link()\n",
    "    centris.next_page()\n",
    "\n",
    "centris.data"
   ]
  },
  {
   "cell_type": "code",
   "execution_count": 470,
   "metadata": {},
   "outputs": [],
   "source": [
    "browser = webdriver.Chrome('C:/webdriver/chromedriver.exe')\n",
    "browser.get(\"https://www.centris.ca/en/lots~for-sale~terrebonne-lachenaie/12479005?view=Summary&uc=1\")\n",
    "browser.find_element_by_tag_name(\"body\").send_keys(Keys.PAGE_DOWN)"
   ]
  },
  {
   "cell_type": "code",
   "execution_count": 473,
   "metadata": {},
   "outputs": [
    {
     "data": {
      "text/plain": [
       "<selenium.webdriver.remote.webelement.WebElement (session=\"7d04f02d53d5f761449e6ce684bac0e3\", element=\"a425e126-6a30-4109-89a3-560e2a4a5b79\")>"
      ]
     },
     "execution_count": 473,
     "metadata": {},
     "output_type": "execute_result"
    }
   ],
   "source": [
    "browser.find_element_by_xpath(\\\n",
    "        \"//div[@class='ll-list ps ps--active-y']\")"
   ]
  },
  {
   "cell_type": "code",
   "execution_count": 572,
   "metadata": {},
   "outputs": [
    {
     "data": {
      "text/plain": [
       "'University\\n19%\\n\\nCollege\\n15%\\n\\nSecondary (high) school\\n26%\\n\\nApprentice or trade school diploma\\n19%\\n\\nNo diploma\\n20%'"
      ]
     },
     "execution_count": 572,
     "metadata": {},
     "output_type": "execute_result"
    }
   ],
   "source": [
    "centris.driver.find_element_by_xpath(\\\n",
    "                              \"//div[@class='socioDemoLabel']\").text"
   ]
  },
  {
   "cell_type": "code",
   "execution_count": 576,
   "metadata": {},
   "outputs": [],
   "source": [
    "body = centris.driver.find_element_by_tag_name('body')\n",
    "body.send_keys(Keys.PAGE_DOWN)"
   ]
  },
  {
   "cell_type": "code",
   "execution_count": 580,
   "metadata": {},
   "outputs": [],
   "source": [
    "body.send_keys(Keys.PAGE_DOWN)"
   ]
  },
  {
   "cell_type": "code",
   "execution_count": 630,
   "metadata": {},
   "outputs": [
    {
     "data": {
      "text/html": [
       "<div>\n",
       "<style scoped>\n",
       "    .dataframe tbody tr th:only-of-type {\n",
       "        vertical-align: middle;\n",
       "    }\n",
       "\n",
       "    .dataframe tbody tr th {\n",
       "        vertical-align: top;\n",
       "    }\n",
       "\n",
       "    .dataframe thead th {\n",
       "        text-align: right;\n",
       "    }\n",
       "</style>\n",
       "<table border=\"1\" class=\"dataframe\">\n",
       "  <thead>\n",
       "    <tr style=\"text-align: right;\">\n",
       "      <th></th>\n",
       "      <th>address</th>\n",
       "      <th>lat</th>\n",
       "      <th>long</th>\n",
       "      <th>price</th>\n",
       "      <th>title</th>\n",
       "      <th>titleaddress</th>\n",
       "    </tr>\n",
       "  </thead>\n",
       "  <tbody>\n",
       "    <tr>\n",
       "      <td>0</td>\n",
       "      <td>235, Rue de l'Auberge, Saint-Côme</td>\n",
       "      <td>46.2725780000</td>\n",
       "      <td>-73.8838280000</td>\n",
       "      <td>$147,900</td>\n",
       "      <td>Condominium house for sale</td>\n",
       "      <td>NaN</td>\n",
       "    </tr>\n",
       "    <tr>\n",
       "      <td>1</td>\n",
       "      <td>8635, Rue Lajeunesse, apt. 617, Montréal (Vill...</td>\n",
       "      <td>45.5461014500</td>\n",
       "      <td>-73.6364320000</td>\n",
       "      <td>$439,000</td>\n",
       "      <td>Condo for sale</td>\n",
       "      <td>NaN</td>\n",
       "    </tr>\n",
       "  </tbody>\n",
       "</table>\n",
       "</div>"
      ],
      "text/plain": [
       "                                             address            lat  \\\n",
       "0                  235, Rue de l'Auberge, Saint-Côme  46.2725780000   \n",
       "1  8635, Rue Lajeunesse, apt. 617, Montréal (Vill...  45.5461014500   \n",
       "\n",
       "             long     price                       title titleaddress  \n",
       "0  -73.8838280000  $147,900  Condominium house for sale          NaN  \n",
       "1  -73.6364320000  $439,000              Condo for sale          NaN  "
      ]
     },
     "execution_count": 630,
     "metadata": {},
     "output_type": "execute_result"
    }
   ],
   "source": [
    "centris.data"
   ]
  },
  {
   "cell_type": "code",
   "execution_count": null,
   "metadata": {},
   "outputs": [],
   "source": []
  }
 ],
 "metadata": {
  "kernelspec": {
   "display_name": "Python 3",
   "language": "python",
   "name": "python3"
  },
  "language_info": {
   "codemirror_mode": {
    "name": "ipython",
    "version": 3
   },
   "file_extension": ".py",
   "mimetype": "text/x-python",
   "name": "python",
   "nbconvert_exporter": "python",
   "pygments_lexer": "ipython3",
   "version": "3.7.4"
  }
 },
 "nbformat": 4,
 "nbformat_minor": 2
}
