{
 "cells": [
  {
   "cell_type": "code",
   "execution_count": null,
   "metadata": {},
   "outputs": [],
   "source": [
    "import pandas as pd\n",
    "import numpy as np\n",
    "from random import randint\n",
    "import time\n",
    "import re\n",
    "# Visualizations\n",
    "import matplotlib.pyplot as plt\n",
    "import seaborn as sn\n",
    "# Scraping through Chrome webdriver\n",
    "from selenium import webdriver\n",
    "from selenium.webdriver.chrome.options import Options\n",
    "from selenium.webdriver.common.keys import Keys\n",
    "from selenium.webdriver.common.action_chains import ActionChains"
   ]
  },
  {
   "cell_type": "code",
   "execution_count": null,
   "metadata": {},
   "outputs": [],
   "source": [
    "# Starting URLs\n",
    "centris = \"https://www.centris.ca/en/properties~for-sale?view=Thumbnail\"\n",
    "duproprio = \"https://duproprio.com/en/search/list?search=true&is_for_sale=1&with_builders=1&parent=1&pageNumber=1&sort=-published_at\""
   ]
  },
  {
   "cell_type": "code",
   "execution_count": null,
   "metadata": {},
   "outputs": [],
   "source": [
    "class Centris:\n",
    "    \"\"\"\n",
    "    This class represents a chrome webdriver object with access to centris.ca.\n",
    "    \n",
    "    Attr:\n",
    "    self.url - starting url for scraping process\n",
    "    self.data - pandas.DataFrame object containing scraped data\n",
    "    self.driver - Chrome webdriver\n",
    "    self.containers - List of web-elements containing information on listings\n",
    "        - eg: link to listing, price, picture, address,...\n",
    "    self.links_to_listings - List of web-elements, each containing the link to a listing\n",
    "    \"\"\"\n",
    "     \n",
    "    def __init__(self, url=\"https://www.centris.ca/en/houses~for-sale~lac-simon/11851081?view=Summary&uc=3\"): \n",
    "        self.url = url\n",
    "        self.data = pd.DataFrame()\n",
    "        # Path to Chromedriver\n",
    "        self.DRIVER_PATH = 'C:/webdriver/chromedriver.exe'\n",
    "        self.driver = None\n",
    "        # Verification for new DOM\n",
    "        self.old_DOM = {\\\n",
    "                        'title' : [],\\\n",
    "                        'address' : [],\\\n",
    "                        'price' : [],\\\n",
    "                        'lat' : [],\\\n",
    "                        'long' : [],\\\n",
    "                        'descriptions' : [],\\\n",
    "                        'neighbourhood_top' : [],\\\n",
    "                        'neighbourhood_mid' : [],\\\n",
    "                        'neighbourhood_buttom' : [],\\\n",
    "                        'demographics_buttons' : [],\\\n",
    "                    }\n",
    "        \n",
    "    def reset_old_DOM(self):\n",
    "        self.old_DOM = {\\\n",
    "                        'title' : [],\\\n",
    "                        'address' : [],\\\n",
    "                        'price' : [],\\\n",
    "                        'lat' : [],\\\n",
    "                        'long' : [],\\\n",
    "                        'descriptions' : [],\\\n",
    "                        'neighbourhood_top' : [],\\\n",
    "                        'neighbourhood_mid' : [],\\\n",
    "                        'neighbourhood_buttom' : [],\\\n",
    "                        'demographics_buttons' : [],\\\n",
    "                    }\n",
    "\n",
    "    def append_data(self, title, address, price,\\\n",
    "            lat, long, descriptions, neighbourhood_indicators,\\\n",
    "            population, demographics):\n",
    "        \"\"\"Appends new data to existing data frame.\n",
    "        \n",
    "        Args:\n",
    "        title - string\n",
    "        address - string \n",
    "        price - \n",
    "        lat - \n",
    "        long - \n",
    "        descriptions - \n",
    "        neighbourhood_indicators -\n",
    "        population - \n",
    "        demographics - \n",
    "        \"\"\"\n",
    "        new_data = pd.DataFrame({\\\n",
    "                        'title': title,\\\n",
    "                        'address': address,\\\n",
    "                        'price': price,\\\n",
    "                        'lat': lat,\\\n",
    "                        'long': long\\\n",
    "                    }, index=[0])\n",
    "        \n",
    "        # DESCRIPTIONS\n",
    "        description_table = pd.DataFrame()\n",
    "#         headers_of_interest = [\\\n",
    "#                 \"rooms\", \"bedrooms\", \"powder room\", \"Number of units\", \"Building style\",\\\n",
    "#                 \"Condominium type\", \"Year built\", \"Building area\", \"Lot area\", \"walk_score\",\\\n",
    "#                 \"Net area\", \"Parking (total)\", \"Main unit\", \"Potential gross revenue\", \"Pool\"\\\n",
    "#                               ]\n",
    "#         # Ensures consistency accross listings\n",
    "#         for header in headers_of_interest:\n",
    "#             if header in descriptions.keys():\n",
    "#                 value = descriptions[header]\n",
    "#             else:\n",
    "#                 value = np.nan\n",
    "#             description_table[header] = pd.Series(value)\n",
    "\n",
    "        for key in descriptions.keys():\n",
    "            header = key\n",
    "            value = descriptions[header]\n",
    "            description_table[header] = pd.Series(value)\n",
    "        \n",
    "        # POPULATION AND DEMOGRAPHICS\n",
    "        new_data = pd.concat([new_data, neighbourhood_indicators, description_table,\\\n",
    "                             population, demographics], axis=1)\n",
    "        # LOGGING --------------------------     \n",
    "        #print(new_data)\n",
    "        \n",
    "        self.data = self.data.append(new_data, sort=False,\\\n",
    "                                     ignore_index=True)\n",
    "        \n",
    "    \n",
    "    def get_data(self):\n",
    "        return self.data\n",
    "        \n",
    "    def start_driver(self):\n",
    "        \"\"\"\n",
    "        Starts and returns Crome webdriver. \n",
    "        The page link in the url attribute \n",
    "        is opened in headless mode.\n",
    "        \"\"\"\n",
    "        \n",
    "        # Activate headless mode for fastest response\n",
    "        options = Options()\n",
    "        options.add_argument(\"--headless\")\n",
    "        options.add_argument(\"--disable-infobars\"); # disabling infobars\n",
    "        options.add_argument(\"--disable-extensions\"); # disabling extensions\n",
    "        options.add_argument(\"--disable-gpu\"); # applicable to windows os only\n",
    "        options.add_argument(\"--disable-dev-shm-usage\"); # overcome limited resource problems\n",
    "        options.add_argument(\"--no-sandbox\"); # Bypass OS security model\n",
    "        options.add_argument('--start-maximized') # open Browser in maximized mode\n",
    "        options.add_argument('--incognito')\n",
    "\n",
    "        # Start driver with url\n",
    "        self.driver = webdriver.Chrome(executable_path=self.DRIVER_PATH)\n",
    "        self.driver.get(self.url)\n",
    "\n",
    "    def sort_listings(self):\n",
    "        \"\"\"Sorts listings in webdriver from newest to oldest.\"\"\"\n",
    "        \n",
    "        # Click drop down menu\n",
    "        drop_down = self.driver.find_element_by_xpath(\\\n",
    "                                    \"//button[@id='dropdownSort']\")\n",
    "        drop_down.click()\n",
    "        \n",
    "        # Sort by most recent listings\n",
    "        sort_by = self.driver.find_element_by_xpath(\"//a[@data-option-value='3']\")\n",
    "        sort_by.click()\n",
    "    \n",
    "    def goto_first_page(self):\n",
    "        try:\n",
    "            next_page = self.driver.find_element_by_xpath(\\\n",
    "                                        \"//li[@class='goFirst']\")\n",
    "            next_page.click()\n",
    "        except:\n",
    "            print(\"goFirst button not available\")\n",
    "    \n",
    "    def next_page(self):\n",
    "        try:\n",
    "            next_page = self.driver.find_element_by_xpath(\\\n",
    "                                        \"//li[@class='next']\")\n",
    "            next_page.click()\n",
    "            pass\n",
    "        except:\n",
    "            time.sleep(0.5)\n",
    "            # Try again after waiting 0.5 sec.\n",
    "            try:\n",
    "                next_page = self.driver.find_element_by_xpath(\\\n",
    "                                            \"//li[@class='next']\")\n",
    "                next_page.click()\n",
    "                pass\n",
    "            except:\n",
    "                print(\"Next-page button not found!\")\n",
    "                \n",
    "    def get_page_position(self):\n",
    "        '''Returns the first and last page of the current search.\n",
    "        \n",
    "        Returns\n",
    "        tuple - (current_page, last_page), '''\n",
    "        \n",
    "        pages = self.driver.find_element_by_xpath(\\\n",
    "                                    \"//li[@class='pager-current']\").text.\\\n",
    "                                    split(\" / \")\n",
    "        \n",
    "        current_page, last_page = (int(page.replace(\",\",\"\")) for page in pages)\n",
    "        \n",
    "        return (current_page, last_page)\n",
    "    \n",
    "    def refresh_page(self):\n",
    "        \"Refreshes current webdriver page.\"\n",
    "        self.driver.refresh()\n",
    "        print(\"Page is being refreshed.\")\n",
    "        # Wait until page fully loaded\n",
    "        time.sleep(2)\n",
    "        \n",
    "    def distance(origin, destination):\n",
    "        \"\"\"Calculates distances from latitudinal/longitudinal data using\n",
    "        the haversine formula\"\"\"\n",
    "        lat1, lon1 = origin\n",
    "        lat2, lon2 = destination\n",
    "        radius = 6371 # km\n",
    "        \n",
    "        #Convert from degrees to radians\n",
    "        dlat = math.radians(lat2-lat1)\n",
    "        dlon = math.radians(lon2-lon1)\n",
    "        \n",
    "        # Haversine formula\n",
    "        a = math.sin(dlat/2) * math.sin(dlat/2) + math.cos(math.radians(lat1)) \\\n",
    "            * math.cos(math.radians(lat2)) * math.sin(dlon/2) * math.sin(dlon/2)\n",
    "        c = 2 * math.atan2(math.sqrt(a), math.sqrt(1-a))\n",
    "        d = radius * c\n",
    "\n",
    "        return d\n",
    "                \n",
    "                                                 \n",
    "# Instantiate class object\n",
    "centris = Centris()"
   ]
  },
  {
   "cell_type": "markdown",
   "metadata": {},
   "source": [
    "The following functions need to be outside of the Class. wait_for_xpath() determined the approptiate time to call get_data(). Initially, both fuctions were part of the class object. It seems that after the get_data() call, the driver does not get updated within the class. This leads in some cases to old DOM's being accessed after the browser has already switched to the next page. To circumvent this issue, elements are called outside the class and tried until accessible. This allows the entire new DOM to be loaded before get_data() is called."
   ]
  },
  {
   "cell_type": "code",
   "execution_count": null,
   "metadata": {},
   "outputs": [],
   "source": [
    " def wait_for_xpath(xpath: str, old_element):\n",
    "        \"\"\"\n",
    "        Wait until elements in new DOM are accessible.\n",
    "        \n",
    "        Arg.\n",
    "        xpath - xpath to new element \n",
    "        old_element - element at xpath from previous DOM (found in centris.old_DOM)\n",
    "        \n",
    "        Returns:\n",
    "        current_element - the element found in the new DOM at xpath\n",
    "        \"\"\"\n",
    "        \n",
    "        centris_driver = centris.driver\n",
    "        element_at_xpath = []\n",
    "        \n",
    "        # Ensure that the NEW rather than the previous or no DOM is active\n",
    "        # Maximum wait time 10 sec.\n",
    "        time_passed = 0\n",
    "        while (\\\n",
    "            (element_at_xpath == old_element or  element_at_xpath == [])\\\n",
    "            and (time_passed <= 10)\\\n",
    "              ):\n",
    "            # Wait for DOM to load\n",
    "            time.sleep(0.2)\n",
    "            time_passed += 0.2\n",
    "            \n",
    "            # Print every 2 seconds\n",
    "            if time_passed%2 == 0:\n",
    "                print(\"Waiting for new DOM...\")\n",
    "            \n",
    "            # Attempt to load new DOM\n",
    "            try: \n",
    "                element_at_xpath = centris_driver.find_elements_by_xpath(xpath)\n",
    "            except: pass\n",
    "        \n",
    "        # After 10 seconds unlikely to load at all -> restart entire process\n",
    "        if time_passed > 10:\n",
    "            print(\"RuntimeError: element not found.\")\n",
    "            centris.refresh_page()\n",
    "            get_data_from_centris()\n",
    "            wait_for_xpath(xpath, old_element)\n",
    "            \n",
    "        return element_at_xpath"
   ]
  },
  {
   "cell_type": "code",
   "execution_count": null,
   "metadata": {},
   "outputs": [],
   "source": [
    "def scrape_description(old_DOM):\n",
    "    \"\"\" Requires instantiated centris object. Scrapes and returns\n",
    "    description data: Year build, price, Net area, etc.\"\"\"\n",
    "    \n",
    "    descriptions = wait_for_xpath(\"//div[@class='col-lg-12 description']\",\\\n",
    "                                 old_DOM)\n",
    "    #First three elements not relevant\n",
    "    descriptions_list = descriptions[0].text.split(\"\\n\")[3:]\n",
    "    \n",
    "    #LOGGING------------------------\n",
    "    #print(\"DESCRIPTION:\", descriptions_list)\n",
    "    \n",
    "    # Update old_DOM dictionary with new element for next verification\n",
    "    centris.old_DOM['descriptions'] = descriptions\n",
    "    \n",
    "    return extract_descriptions(descriptions_list)"
   ]
  },
  {
   "cell_type": "code",
   "execution_count": null,
   "metadata": {},
   "outputs": [],
   "source": [
    "def extract_descriptions(descriptions_list):\n",
    "    \"\"\"Takes in data from scrape_description() and returns it \n",
    "    as a dictionary\"\"\"\n",
    "    \n",
    "    # The data_dict found on this part of the page is inconsistent across listings\n",
    "    # The first row may contain the number of rooms, bedrooms and bathrooms without headers or may be missing\n",
    "    # Following rows have heathers with associated values after a line break\n",
    "    # The very last element may be a walking score without header\n",
    "    # Listings without first row may supply first row information in subsequent rows with headers\n",
    "    # Because of these inconsistencies, two seperate extractions need to be implemented: one for\n",
    "    # first row lements (if they exist) and another for subsequent rows\n",
    "    \n",
    "    # Transformed data\n",
    "    data_dict = {}\n",
    "    # Distinguish between elements from first and subsequent rows if first row exists\n",
    "    first_row = True\n",
    "    # Starting point for second part of transformation\n",
    "    second_row_index = 0\n",
    "    \n",
    "    # First Part\n",
    "    while first_row == True:\n",
    "        for description in descriptions_list:\n",
    "            numeric = re.findall(\"\\(*[0-9]+\\)*\", description) # numbers\n",
    "            text = re.findall(\"[A-Za-z]+[A-Za-z\\s\\-]*\", description) # text after/inbetween numbers \n",
    "\n",
    "            # Initial elements with numeric values correspond to first row\n",
    "            if (numeric != []):\n",
    "                # For each value there must be one text description\n",
    "                if (len(numeric) == len(text)):\n",
    "                    for description,value in zip(text, numeric):\n",
    "                        # Save as column in data_dict\n",
    "                        description_clean = description.replace(\"and\", \"\").strip()\n",
    "                        data_dict[description_clean] = value\n",
    "                    second_row_index += 1 \n",
    "                else:\n",
    "                    print(\"Unequal number of first row keys and values!\")\n",
    "                    print(\"Numbers:\", numeric)\n",
    "                    print(\"Text:\", text)\n",
    "                    break\n",
    "            else:\n",
    "                first_row = False # No numeric information implies header\n",
    "                break\n",
    "    \n",
    "    # Index range of second extraction\n",
    "    # Headers are found at every second index (0,2,4,...)\n",
    "    # Values are one index apart from their corresponding header (1,3,5,...)\n",
    "    list_length = len(descriptions_list)\n",
    "    if (list_length - second_row_index)%2 == 1: # Implies presence of element without header -> Walk Score\n",
    "        walk_score_listed = True\n",
    "        end_point = list_length -1\n",
    "    else:\n",
    "        walk_score_listed = False\n",
    "        end_point = list_length\n",
    "    # Indices corresponding to headers\n",
    "    extraction_range = range(second_row_index, end_point, 2)\n",
    "    \n",
    "    #LOGGING----------------------\n",
    "#     print(\"Second row index:\", second_row_index)\n",
    "#     print(\"Extraction range:\", extraction_range)\n",
    "#     print(\"List:\", descriptions_list)\n",
    "    \n",
    "    # Second Part\n",
    "    for header_index in extraction_range:\n",
    "        # Headers as column names\n",
    "        header = descriptions_list[header_index]\n",
    "        # Values corresponding to headers are found at subsequent indices\n",
    "        information = descriptions_list[header_index + 1] \n",
    "        data_dict[header] = information\n",
    "    \n",
    "    if walk_score_listed:\n",
    "        data_dict[\"walk_score\"] = descriptions_list[-1]\n",
    "        #LOGGING----------------------\n",
    "        #print(\"Walk Score:\", descriptions_list[-1])\n",
    "        \n",
    "    #LOGGING--------------------------\n",
    "#     print(\"Descriptions:\", data_dict)\n",
    "        \n",
    "    return data_dict"
   ]
  },
  {
   "cell_type": "code",
   "execution_count": null,
   "metadata": {},
   "outputs": [],
   "source": [
    "def scrape_neighbourhood(old_DOM_top, old_DOM_mid, old_DOM_buttom):\n",
    "    \"\"\" Scrapes and returns a list of ratings \n",
    "    between 0-10 for a set of neighborhood indicators\n",
    "    such as groceries, parks, noise, etc.)\n",
    "    \"\"\"\n",
    "    driver = centris.driver\n",
    "    \n",
    "    # Extract elements from top section of scrollable list\n",
    "    neighbourhood_top = wait_for_xpath(\\\n",
    "                            \"//div[@class='ll-list ps ps--active-y']\",\\\n",
    "                            old_DOM_top)\n",
    "    # Split into indicators and ranking values\n",
    "    top = [x.text for x in neighbourhood_top][0].split(\"\\n\")\n",
    "    \n",
    "    # LOGGING----------------------\n",
    "#     print(\"Top neighbourhood:\", top)\n",
    "    \n",
    "    # Extract middle section - only one element\n",
    "    # Scroll and activate scrollable bar container\n",
    "    scrollable_bar = driver.find_element_by_xpath(\\\n",
    "                                            \"//div[@class='ps__thumb-y']\")\n",
    "    ActionChains(driver).\\\n",
    "        move_to_element(scrollable_bar).\\\n",
    "        send_keys(Keys.PAGE_DOWN).\\\n",
    "        click(scrollable_bar).perform()\n",
    "\n",
    "    # Elements from buttom of scrollable list\n",
    "    neighbourhood_mid = wait_for_xpath(\\\n",
    "                            \"//div[@class='ll-list ps ps--active-y']\",\\\n",
    "                            old_DOM_mid)\n",
    "    # Split into indicators and ranking values\n",
    "    \n",
    "    # LOGGING----------------------\n",
    "    #print(\"Neighbourhoud mid section:\", neighbourhood_mid)\n",
    "    \n",
    "    middle = [x.text for x in neighbourhood_mid][0].split(\"\\n\")\n",
    "    \n",
    "    # Extract buttom section\n",
    "    # Scroll and load remaining elements\n",
    "#     scrollable_bar = driver.find_element_by_xpath(\\\n",
    "#                                             \"//div[@class='ps__thumb-y']\")\n",
    "    ActionChains(driver).\\\n",
    "        move_to_element(scrollable_bar).\\\n",
    "        send_keys(Keys.PAGE_DOWN).\\\n",
    "        click(scrollable_bar).perform()\n",
    "    \n",
    "    # Elements from buttom of scrollable list\n",
    "    neighbourhood_buttom = wait_for_xpath(\\\n",
    "                            \"//div[@class='ll-list ps ps--active-y']\",\\\n",
    "                            old_DOM_buttom)\n",
    "    # Split into indicators and ranking values\n",
    "    buttom = [x.text for x in neighbourhood_buttom][0].split(\"\\n\")\n",
    "    \n",
    "    # LOGGING----------------------\n",
    "#     print(\"Buttom neighbourhood:\", buttom)\n",
    "    \n",
    "    # Unite all three sections by storing tuples of indicator names and corresponding values\n",
    "    united_list = []\n",
    "    list_length = len(top)\n",
    "    for i in range(0, list_length, 2):\n",
    "        united_list.append((top[i], top[i+1]))\n",
    "        united_list.append((middle[i], middle[i+1]))\n",
    "        united_list.append((buttom[i], buttom[i+1]))\n",
    "    \n",
    "    # Create set of unique tuples\n",
    "    neighbourhood_indicators = set(united_list)\n",
    "    \n",
    "    # LOGGING----------------------\n",
    "#     print(\"Number of neighborhood indicators: \", len(neighbourhood_indicators))\n",
    "#     print(\"UNITED:\", united_list)\n",
    "#     print(\"SET:\", neighbourhood_indicators)\n",
    "    \n",
    "    # Verify size and extract information as list\n",
    "    # If size unexpected, refresh page and restart process\n",
    "    if len(neighbourhood_indicators) < 8:\n",
    "            centris.refresh_page()\n",
    "            scrape_neighbourhood(old_DOM_top, old_DOM_buttom)\n",
    "\n",
    "    # Update old_DOM dictionary with new elements for next verification\n",
    "    centris.old_DOM['neighbourhood_top'] = neighbourhood_top\n",
    "    centris.old_DOM['neighbourhood_mid'] = neighbourhood_mid\n",
    "    centris.old_DOM['neighbourhood_buttom'] = neighbourhood_buttom\n",
    "\n",
    "    return extract_neighbourhood_indicators(neighbourhood_indicators)"
   ]
  },
  {
   "cell_type": "code",
   "execution_count": null,
   "metadata": {},
   "outputs": [],
   "source": [
    "def extract_neighbourhood_indicators(indicators):\n",
    "    \"\"\"Takes in neighbourhood data from scrape_neighbourhood() and returns it \n",
    "    in tabular form as a DataFrame object\"\"\"\n",
    "    data = pd.DataFrame()\n",
    "    for indicator in indicators:\n",
    "        header = indicator[0]\n",
    "        value = indicator[1]\n",
    "        data[header] = pd.Series(value)\n",
    "    \n",
    "    return data"
   ]
  },
  {
   "cell_type": "code",
   "execution_count": null,
   "metadata": {},
   "outputs": [],
   "source": [
    "def scrape_population():\n",
    "    \"\"\"Scrapes and returns population summary data (density, variation etc.)\"\"\"\n",
    "    population_summaries =  centris.driver.find_element_by_id('info')\n",
    "    population_summaries_list = population_summaries\\\n",
    "                        .text.split(\"\\n\")\n",
    "    \n",
    "    # LOGGING-----------------------\n",
    "    #print(\"Population:\", population_summaries_list)\n",
    "    \n",
    "    return extract_population(population_summaries_list)"
   ]
  },
  {
   "cell_type": "code",
   "execution_count": null,
   "metadata": {},
   "outputs": [],
   "source": [
    "def extract_population(population):\n",
    "    \"\"\"Takes in population data from scrape_population() and returns it \n",
    "    in tabular form as a DataFrame object\"\"\"\n",
    "    \n",
    "    data = pd.DataFrame()\n",
    "    for info in population:\n",
    "        units_removed =  info.replace(\"hab/km2\", \"\").strip()\n",
    "        # Numeric data\n",
    "        numeric = re.findall(\"[0-9]+[0-9,]*\", units_removed)\n",
    "        numeric_clean = numeric[-1].replace(\",\",\"\")\n",
    "\n",
    "        # Text data for column names\n",
    "        header = re.findall(\"[a-zA-Z\\s]+\", units_removed)\n",
    "        header_clean = header[0]\n",
    "        # Add numeric data to header excluding the value at index -1\n",
    "        for numeric_head_data in numeric[:-1]:\n",
    "            header_clean = header_clean + str(numeric_head_data) + \" \"\n",
    "\n",
    "        data[header_clean] = pd.Series(numeric_clean).astype(\"int\")\n",
    "    return data"
   ]
  },
  {
   "cell_type": "code",
   "execution_count": null,
   "metadata": {},
   "outputs": [],
   "source": [
    "def scrape_demographics(old_DOM):\n",
    "    \"\"\"Scrapes and return demographic data found in a clickable list\"\"\"\n",
    "    \n",
    "    driver = centris.driver\n",
    "    # Clickable list containing demographic data\n",
    "    menu = driver.find_element_by_id(\"menu\")\n",
    "    # Load menu by moving browser to it\n",
    "    ActionChains(driver).\\\n",
    "    move_to_element(menu).perform()\n",
    "    \n",
    "    #Buttons to access demographics data (education, incomes, etc.)\n",
    "    demographics_buttons = wait_for_xpath(\\\n",
    "                        \"//div[@class='centrisSocioDemobutton']\",\\\n",
    "                                                 old_DOM)\n",
    "\n",
    "    # LOGGING------------------------\n",
    "    # print(\"DEMO. BUTTONS:\", demographics_buttons)\n",
    "\n",
    "    # First entry on clickable demographics list (pre-selected)\n",
    "    demographics = []\n",
    "\n",
    "    # Click buttons to access next demogrpahics elements\n",
    "    for button in demographics_buttons:\n",
    "        try: \n",
    "            button.click()\n",
    "        except: \n",
    "            print(\"Demographics button missing!\")\n",
    "            # Reattempt loading buttons\n",
    "            centris.refresh_page()\n",
    "            ActionChains(driver).\\\n",
    "            move_to_element(menu).\\\n",
    "            perform()\n",
    "            time.sleep(2) # extra time to load\n",
    "            demographics_buttons = wait_for_xpath(\\\n",
    "                        \"//div[@class='centrisSocioDemobutton']\",\\\n",
    "                                                 old_DOM)\n",
    "            \n",
    "        # Get and append data after button click\n",
    "        demographic_data = driver.find_element_by_class_name(\\\n",
    "                         \"socioDemoLabel\")\n",
    "        demographics.append(demographic_data.text)\n",
    "    \n",
    "    # Split each demographic component into separate list\n",
    "    # Example: splits \"Occupation\" data into -> [\"Owners\", \"35%\", \"Renters\", \"65%\"]\n",
    "    demographics = [demo.split(\"\\n\") for demo in demographics]\n",
    "    \n",
    "    #LOGGING------------------------\n",
    "#     print(\"DEMO. DATA:\", demographics)\n",
    "#     print(\"-\"*50)\n",
    "    \n",
    "    # Update old_DOM dictionary with new elements for next verification\n",
    "    centris.old_DOM['demographics_buttons'] = demographics_buttons\n",
    "    \n",
    "    return extract_demographics(demographics)"
   ]
  },
  {
   "cell_type": "code",
   "execution_count": null,
   "metadata": {},
   "outputs": [],
   "source": [
    "def extract_demographics(demographics):\n",
    "    \"\"\"Takes in demographic data from extract_demographics() and returns it \n",
    "    in tabular form as a DataFrame object\"\"\"\n",
    "    \n",
    "    data = pd.DataFrame()\n",
    "    \n",
    "    for demographic in demographics:\n",
    "        # Remove empty stings from splitting double line breaks \\n\\n\n",
    "        removed_empty_strings = [x for x in demographic if x != \"\"]\n",
    "        # Format of demographic: [header, value, header, value, ...]\n",
    "        header_index = range(0, len(demographic), 2)\n",
    "        for i in header_index:\n",
    "            header = demographic[i] + \" (%)\" # add units to column names\n",
    "            value = demographic[i+1].replace(\"%\", \"\") # remove units from values \n",
    "            data[header] = pd.Series(value).astype(\"int\")\n",
    "\n",
    "    return data"
   ]
  },
  {
   "cell_type": "code",
   "execution_count": null,
   "metadata": {},
   "outputs": [],
   "source": [
    "def get_data_from_centris():\n",
    "        \"\"\"\n",
    "        Requires instantiate Centris object. Scrapes information from the\n",
    "        webdriver and appends it to the Centris object.\n",
    "        \"\"\"\n",
    "        driver = centris.driver\n",
    "        old_DOM = centris.old_DOM\n",
    "        \n",
    "        # Data from headers\n",
    "        print(\"Start scraping new page...\")\n",
    "        title = wait_for_xpath(\"//span[@data-id='PageTitle']\", old_DOM['title'])\n",
    "        address = wait_for_xpath(\"//h2[@itemprop='address']\", old_DOM['address'])\n",
    "        price = wait_for_xpath(\"//span[@itemprop='price']\", old_DOM['price'])\n",
    "        lat = wait_for_xpath(\"//meta[@itemprop='latitude']\", old_DOM['lat'])\n",
    "        long = wait_for_xpath(\"//meta[@itemprop='longitude']\", old_DOM['long'])\n",
    "        \n",
    "        # Save elements as old DOM\n",
    "        centris.old_DOM['title'] = title\n",
    "        centris.old_DOM['address'] = address\n",
    "        centris.old_DOM['lat'] = lat\n",
    "        centris.old_DOM['long'] = long\n",
    "        \n",
    "        # Scrape remaining elements and store in dataframe\n",
    "        descriptions = scrape_description(old_DOM['descriptions'])\n",
    "        neighbourhood_indicators = scrape_neighbourhood(old_DOM['neighbourhood_top'],\\\n",
    "                                                            old_DOM['neighbourhood_mid'],\\\n",
    "                                                            old_DOM['neighbourhood_buttom'])\n",
    "        population = scrape_population()\n",
    "        demographics = scrape_demographics(old_DOM['demographics_buttons'])\n",
    "                \n",
    "        # Unify data in single dataframe and append to results table\n",
    "        centris.append_data(\n",
    "            title[0].text,\\\n",
    "            address[0].text,\\\n",
    "            price[0].text,\\\n",
    "            lat[0].get_attribute(\"content\"),\\\n",
    "            long[0].get_attribute(\"content\"),\\\n",
    "            descriptions,\\\n",
    "            neighbourhood_indicators,\\\n",
    "            population,\\\n",
    "            demographics\\\n",
    "        )\n",
    "        \n",
    "        # LOGGING--------------------------\n",
    "        #print(\"GET DATA: DESCRIPTIONS:\", descriptions)\n",
    "        \n",
    "        # Return to top of page, to access next-page button\n",
    "        body = driver.find_element_by_tag_name(\"body\")\n",
    "        body.send_keys(Keys.HOME)\n",
    "#         for i in range(7):\n",
    "#             body.send_keys(Keys.PAGE_UP)"
   ]
  },
  {
   "cell_type": "markdown",
   "metadata": {},
   "source": [
    "## Initiate scraping"
   ]
  },
  {
   "cell_type": "code",
   "execution_count": null,
   "metadata": {},
   "outputs": [],
   "source": [
    "# Test\n",
    "centris = Centris()\n",
    "start = time.time()\n",
    "centris.start_driver()\n",
    "centris.sort_listings()\n",
    "print(\"Execution time:\", time.time() - start)"
   ]
  },
  {
   "cell_type": "markdown",
   "metadata": {},
   "source": [
    "Before running the next cell, search for the region(s) you want to scrape in the webdriver window.\n",
    "This is not required but will narrow results and reduce runtime."
   ]
  },
  {
   "cell_type": "code",
   "execution_count": null,
   "metadata": {
    "scrolled": true
   },
   "outputs": [],
   "source": [
    "start = time.time() \n",
    "current_page, last_page = centris.get_page_position() \n",
    "pages_to_scrape = last_page - current_page + 1 # in case scraping is interupted\n",
    "one_to_100 = range(1,100) # to print message each 1% completion\n",
    "\n",
    "print(\"Scraping initiated.\")\n",
    "print(\"Total number of pages to scrape:\", pages_to_scrape)\n",
    "print(\"Estimated runtime:\", round(pages_to_scrape*((9.6)/(60*60)), 2), \"hours\")\n",
    "print(\"=\"*50)\n",
    "\n",
    "for i in range(pages_to_scrape):\n",
    "    \n",
    "    print(\"=\"*50)\n",
    "    print(\"Page:\", i+1)\n",
    "    time_passed = 0 # to exit while loop after 10 seconds\n",
    "    \n",
    "    #Refresh every 20 pages to clear memory build-up\n",
    "    if (i+1)%20 == 0:\n",
    "        print(\"Clearing memory\")\n",
    "        print(\"-\"*50)\n",
    "        \n",
    "        # Each refresh frees some memory. Four seem to work best.\n",
    "        for i in range(4):\n",
    "            centris.refresh_page()\n",
    "            # Extra time for last refresh\n",
    "            # Ensures that DOM is fully loaded\n",
    "            if i == 3:\n",
    "                time.sleep(2)\n",
    "            \n",
    "    #Retrieve data    \n",
    "    get_data_from_centris()\n",
    "    \n",
    "    # Short delay for chrome to respond to PAGE_UP command\n",
    "    time.sleep(0.5)\n",
    "    centris.next_page()\n",
    "    \n",
    "    # Percent completed of scraping \n",
    "    percent_complete = round(100*((i)/total_pages),2)      \n",
    "    # Print after every 1% mark\n",
    "    if percent_complete in one_to_100:\n",
    "        execution_time = (time.time() - start)/(i+1) # seconds per page\n",
    "        print(percent_complete, \"%\", \"completed\")\n",
    "        print(\"Average execution time per page:\", round(execution_time, 2), \"sec.\")\n",
    "        print(\"Estimated remaining runtime:\", round(\\\n",
    "                                (total_pages - (i+1))\\\n",
    "                                *(execution_time\\\n",
    "                                /(60*60)), 1\\\n",
    "                                                   ), \"hours <\", \"-\"*50)\n",
    "        print(\"=\"*50)\n",
    "\n",
    "\n",
    "print(\"Total runtime:\", execution_time/(60*60), \"hours\")\n",
    "centris.data"
   ]
  },
  {
   "cell_type": "code",
   "execution_count": null,
   "metadata": {},
   "outputs": [],
   "source": [
    "centris.data.to_csv(\"centris_montreal_complete.csv\")"
   ]
  },
  {
   "cell_type": "markdown",
   "metadata": {},
   "source": [
    "# Data wrangling"
   ]
  },
  {
   "cell_type": "code",
   "execution_count": null,
   "metadata": {},
   "outputs": [],
   "source": [
    "df = pd.read_csv(\"centris_montreal_complete.csv\")"
   ]
  },
  {
   "cell_type": "code",
   "execution_count": null,
   "metadata": {
    "tags": []
   },
   "outputs": [],
   "source": [
    "df.info(max_cols=200)"
   ]
  },
  {
   "cell_type": "markdown",
   "metadata": {},
   "source": [
    "We first remove the last 5 columns since they have virtually no content"
   ]
  },
  {
   "cell_type": "code",
   "execution_count": null,
   "metadata": {},
   "outputs": [],
   "source": [
    "df = df.loc[:,:\"bedroom in basement\"]"
   ]
  },
  {
   "cell_type": "markdown",
   "metadata": {},
   "source": [
    "Next we will change the data type of the price column to integer"
   ]
  },
  {
   "cell_type": "code",
   "execution_count": null,
   "metadata": {},
   "outputs": [],
   "source": [
    "price_clean = df.price.str.replace(\"[$,]\", \"\")\n",
    "df.price = price_clean.astype(\"int\")\n",
    "df.price.describe()"
   ]
  },
  {
   "cell_type": "markdown",
   "metadata": {},
   "source": [
    "## Duplicate data\n",
    "\n",
    "We will use the `address` column to check for duplications."
   ]
  },
  {
   "cell_type": "code",
   "execution_count": null,
   "metadata": {},
   "outputs": [],
   "source": [
    "df.address.duplicated().sum()"
   ]
  },
  {
   "cell_type": "code",
   "execution_count": null,
   "metadata": {
    "tags": []
   },
   "outputs": [],
   "source": [
    "df = df[df.address.duplicated() == False]\n",
    "df.reset_index(inplace=True)\n",
    "df.info(max_cols=95)"
   ]
  },
  {
   "cell_type": "markdown",
   "metadata": {},
   "source": [
    "Removing duplicates leaves holes in the index. Due to `reset_index()`, the range now coincides with the number of entries. \n",
    "The first two columns, corresponding to copies of the old and new index, can be removed."
   ]
  },
  {
   "cell_type": "code",
   "execution_count": null,
   "metadata": {},
   "outputs": [],
   "source": [
    "df = df.loc[:, \"title\":]\n",
    "df.columns"
   ]
  },
  {
   "cell_type": "markdown",
   "metadata": {},
   "source": [
    "## Merge Columns\n",
    "\n",
    "There are two columns called `rooms` and `room`. We will inspect both to find an explenation for this."
   ]
  },
  {
   "cell_type": "code",
   "execution_count": null,
   "metadata": {
    "scrolled": true
   },
   "outputs": [],
   "source": [
    "df[df.room.notnull()].loc[:,[\"address\", \"room\", \"rooms\"]].head()"
   ]
  },
  {
   "cell_type": "markdown",
   "metadata": {},
   "source": [
    "The room column corresponds to listings with with only a single room. This has been verified by visting the website and searching for some of the addresses. We will therefore merge the two columns."
   ]
  },
  {
   "cell_type": "code",
   "execution_count": null,
   "metadata": {
    "tags": []
   },
   "outputs": [],
   "source": [
    "\n",
    "print(\"Non-null values in 'rooms':\")\n",
    "print(\"Before merge -\", df.rooms.notnull().sum())\n",
    "# Merging \"rooms\" and \"room\"\n",
    "rooms_new = pd.Series(\\\n",
    "    [room if pd.notna(room) else rooms for room, rooms in zip(df.room, df.rooms)]\\\n",
    "        )\n",
    "# Remove old columns\n",
    "df.drop([\"rooms\", \"room\"], axis=1, inplace=True)\n",
    "# Add new column\n",
    "df[\"rooms\"] = rooms_new\n",
    "print(\"After merge -\", df.rooms.notnull().sum())"
   ]
  },
  {
   "cell_type": "markdown",
   "metadata": {
    "tags": []
   },
   "source": [
    "We will now incpect other columns that contain the string \"room\" and replace missing values by 0 to facilitate mathematical operations on room data. "
   ]
  },
  {
   "cell_type": "code",
   "execution_count": null,
   "metadata": {
    "tags": []
   },
   "outputs": [],
   "source": [
    "rooms = df.columns[[\"room\" in col for col in df.columns]]\n",
    "df[rooms] = df[rooms].fillna(0)\n",
    "print(df[rooms].info())"
   ]
  },
  {
   "cell_type": "code",
   "execution_count": null,
   "metadata": {},
   "outputs": [],
   "source": [
    "# Grouping similar columns\n",
    "bedroom_cols = ['bedrooms','bedroom','bedrooms in basement', 'bedroom in basement']\n",
    "bathroom_cols = ['bathroom', 'bathrooms']\n",
    "powederroom_cols = ['powder room', 'powder rooms']"
   ]
  },
  {
   "cell_type": "markdown",
   "metadata": {},
   "source": [
    "### Bedrooms"
   ]
  },
  {
   "cell_type": "code",
   "execution_count": null,
   "metadata": {
    "tags": []
   },
   "outputs": [],
   "source": [
    "df[bedroom_cols].info()"
   ]
  },
  {
   "cell_type": "markdown",
   "metadata": {},
   "source": [
    "First, we merge `bedrooms` and `bedroom` since they clearly belong together"
   ]
  },
  {
   "cell_type": "code",
   "execution_count": null,
   "metadata": {},
   "outputs": [],
   "source": [
    "# Replace missing values with 0 for element-wise addition\n",
    "bedrooms = df.bedrooms.fillna(0) + df.bedroom.fillna(0)\n",
    "# Drop old columns from df\n",
    "df.drop([\"bedrooms\", \"bedroom\"], axis=1)\n",
    "# Add new column\n",
    "df.bedrooms = bedrooms"
   ]
  },
  {
   "cell_type": "code",
   "execution_count": null,
   "metadata": {},
   "outputs": [],
   "source": [
    "# At least 1 bedroom in basement\n",
    "df[df[\"bedrooms in basement\"] > 0].\\\n",
    "    loc[:, [\"address\", \"bedrooms\", \"bedrooms in basement\", \"bedroom in basement\", \"price\"]].head()"
   ]
  },
  {
   "cell_type": "markdown",
   "metadata": {},
   "source": [
    "Bedrooms in the basement may be worth less, merging them with regular bedrooms may therefore not be optimal. However, the listings with bedrooms in the basement don't have regular bedrooms. This is true for for the entire list as well as for listings with a single bedroom in the basement. Merging all columns, therefore, appears to be the best solution. To keep a record of basement bedrooms, we will include a boolean column that can be used to either remove or alter corresponding entries at a later point."
   ]
  },
  {
   "cell_type": "code",
   "execution_count": null,
   "metadata": {},
   "outputs": [],
   "source": [
    "def not_zero(col):\n",
    "    \"\"\"Returns boolean list indicating records with counts of at least 1\"\"\"\n",
    "\n",
    "    not_zero = [count > 0 for count in col]\n",
    "    return not_zero"
   ]
  },
  {
   "cell_type": "code",
   "execution_count": null,
   "metadata": {
    "tags": []
   },
   "outputs": [],
   "source": [
    "# Merge of basement bedroom columns\n",
    "basement_bed = df[\"bedrooms in basement\"]\\\n",
    "         + df[\"bedroom in basement\"])\n",
    "\n",
    "# Records with basement bedrooms\n",
    "basement_bed_bool = not_zero(basement_bed)\n",
    "print(\"Apartments with basement bedrooms:\",\\\n",
    "    sum(basement_bed_bool))\n",
    "\n",
    "# Merge of basement with regular bedrooms\n",
    "all_bedrooms = basement_bed + df.bedrooms\n",
    "print(\"Apartments with any kind of bedroom\",\\\n",
    "    sum(not_zero(all_bedrooms]))"
   ]
  },
  {
   "cell_type": "code",
   "execution_count": null,
   "metadata": {},
   "outputs": [],
   "source": [
    "# Remove old columns \n",
    "df.drop(bedroom_cols, axis=1, inplace=True)\n",
    "\n",
    "# Append new columns\n",
    "df[\"bedrooms\"] = all_bedrooms\n",
    "df[\"basement_bedroom\"] = basement_bed_bool"
   ]
  },
  {
   "cell_type": "markdown",
   "metadata": {
    "tags": []
   },
   "source": [
    "## Bathrooms"
   ]
  },
  {
   "cell_type": "code",
   "execution_count": 379,
   "metadata": {
    "tags": []
   },
   "outputs": [
    {
     "output_type": "execute_result",
     "data": {
      "text/plain": "bathroom     2465\nbathrooms    1967\ndtype: int64"
     },
     "metadata": {},
     "execution_count": 379
    }
   ],
   "source": [
    "# Non-zero records\n",
    "df[bathroom_cols].apply(lambda col: sum(not_zero(col)), axis=0)"
   ]
  },
  {
   "cell_type": "code",
   "execution_count": 387,
   "metadata": {
    "tags": []
   },
   "outputs": [],
   "source": [
    "# Merge\n",
    "bathrooms = df.bathroom + df.bathrooms\n",
    "print(\"Non-zero records of merged column:\", sum(not_zero(bathrooms)))\n",
    "\n",
    "# Remove old columns \n",
    "df.drop(bathroom_cols, axis=1, inplace=True)\n",
    "\n",
    "# Append new column\n",
    "df[\"bathrooms\"] = bathrooms"
   ]
  },
  {
   "cell_type": "code",
   "execution_count": 386,
   "metadata": {
    "tags": []
   },
   "outputs": [
    {
     "output_type": "stream",
     "name": "stdout",
     "text": "<class 'pandas.core.frame.DataFrame'>\nRangeIndex: 5424 entries, 0 to 5423\nData columns (total 4 columns):\n #   Column            Non-Null Count  Dtype  \n---  ------            --------------  -----  \n 0   rooms             5424 non-null   float64\n 1   bedrooms          5424 non-null   float64\n 2   basement_bedroom  5424 non-null   bool   \n 3   bathrooms         5424 non-null   float64\ndtypes: bool(1), float64(3)\nmemory usage: 132.5 KB\n"
    }
   ],
   "source": [
    "df.iloc[:, -4:].info()"
   ]
  },
  {
   "cell_type": "markdown",
   "metadata": {},
   "source": [
    "## Powder rooms"
   ]
  },
  {
   "cell_type": "code",
   "execution_count": 392,
   "metadata": {},
   "outputs": [
    {
     "output_type": "execute_result",
     "data": {
      "text/plain": "powder room     1086\npowder rooms      81\ndtype: int64"
     },
     "metadata": {},
     "execution_count": 392
    }
   ],
   "source": [
    "# Non-zero records\n",
    "df[powederroom_cols].apply(lambda col: sum(not_zero(col)))"
   ]
  },
  {
   "cell_type": "code",
   "execution_count": 393,
   "metadata": {},
   "outputs": [],
   "source": [
    "# Merge\n",
    "powder_rooms = df['powder room'] + df['powder rooms']\n",
    "\n",
    "# Remove old \n",
    "df.drop(powederroom_cols, axis=1, inplace=True)\n",
    "\n",
    "# Append new\n",
    "df['powder_rooms'] = powder_rooms"
   ]
  },
  {
   "cell_type": "code",
   "execution_count": 396,
   "metadata": {
    "tags": []
   },
   "outputs": [
    {
     "output_type": "stream",
     "name": "stdout",
     "text": "Non-zero records:\n"
    },
    {
     "output_type": "execute_result",
     "data": {
      "text/plain": "rooms           4451\nbedrooms        4402\nbathrooms       4432\npowder_rooms    1167\ndtype: int64"
     },
     "metadata": {},
     "execution_count": 396
    }
   ],
   "source": [
    "# New room data\n",
    "room_data = df.iloc[:, [-5,-4,-2,-1]]\n",
    "\n",
    "print(\"Non-zero records:\")\n",
    "room_data.apply(lambda col: sum(not_zero(col)))"
   ]
  },
  {
   "cell_type": "markdown",
   "metadata": {},
   "source": [
    "## Missing Room Data\n",
    "\n",
    "Next we will inspect records with missing data for all 4 room columns"
   ]
  },
  {
   "cell_type": "code",
   "execution_count": 420,
   "metadata": {
    "tags": []
   },
   "outputs": [
    {
     "output_type": "stream",
     "name": "stdout",
     "text": "Number of records with missing room data: 973\nNumber of replacable missing room data: 868\n"
    },
    {
     "output_type": "execute_result",
     "data": {
      "text/plain": "                  title                                            address  \\\n9       Duplex for sale  5421 - 5423, 15e Avenue, Montréal (Rosemont/La...   \n10  Quadruplex for sale  9636 - 9640, Rue Notre-Dame Est, Montréal (Mer...   \n25      Duplex for sale  1915 - 1917, Rue Viau, Montréal (Mercier/Hoche...   \n29     Triplex for sale  5518 - 5522, boulevard Saint-Michel, Montréal ...   \n34     Triplex for sale  6426 - 6428, Rue Marie-Victorin, Montréal (Mon...   \n\n     price  rooms  bathrooms  basement_bedroom  bathrooms  powder_rooms  \n9   679000    0.0        0.0             False        0.0           0.0  \n10  569750    0.0        0.0             False        0.0           0.0  \n25  899000    0.0        0.0             False        0.0           0.0  \n29  719700    0.0        0.0             False        0.0           0.0  \n34  599000    0.0        0.0             False        0.0           0.0  ",
      "text/html": "<div>\n<style scoped>\n    .dataframe tbody tr th:only-of-type {\n        vertical-align: middle;\n    }\n\n    .dataframe tbody tr th {\n        vertical-align: top;\n    }\n\n    .dataframe thead th {\n        text-align: right;\n    }\n</style>\n<table border=\"1\" class=\"dataframe\">\n  <thead>\n    <tr style=\"text-align: right;\">\n      <th></th>\n      <th>title</th>\n      <th>address</th>\n      <th>price</th>\n      <th>rooms</th>\n      <th>bathrooms</th>\n      <th>basement_bedroom</th>\n      <th>bathrooms</th>\n      <th>powder_rooms</th>\n    </tr>\n  </thead>\n  <tbody>\n    <tr>\n      <th>9</th>\n      <td>Duplex for sale</td>\n      <td>5421 - 5423, 15e Avenue, Montréal (Rosemont/La...</td>\n      <td>679000</td>\n      <td>0.0</td>\n      <td>0.0</td>\n      <td>False</td>\n      <td>0.0</td>\n      <td>0.0</td>\n    </tr>\n    <tr>\n      <th>10</th>\n      <td>Quadruplex for sale</td>\n      <td>9636 - 9640, Rue Notre-Dame Est, Montréal (Mer...</td>\n      <td>569750</td>\n      <td>0.0</td>\n      <td>0.0</td>\n      <td>False</td>\n      <td>0.0</td>\n      <td>0.0</td>\n    </tr>\n    <tr>\n      <th>25</th>\n      <td>Duplex for sale</td>\n      <td>1915 - 1917, Rue Viau, Montréal (Mercier/Hoche...</td>\n      <td>899000</td>\n      <td>0.0</td>\n      <td>0.0</td>\n      <td>False</td>\n      <td>0.0</td>\n      <td>0.0</td>\n    </tr>\n    <tr>\n      <th>29</th>\n      <td>Triplex for sale</td>\n      <td>5518 - 5522, boulevard Saint-Michel, Montréal ...</td>\n      <td>719700</td>\n      <td>0.0</td>\n      <td>0.0</td>\n      <td>False</td>\n      <td>0.0</td>\n      <td>0.0</td>\n    </tr>\n    <tr>\n      <th>34</th>\n      <td>Triplex for sale</td>\n      <td>6426 - 6428, Rue Marie-Victorin, Montréal (Mon...</td>\n      <td>599000</td>\n      <td>0.0</td>\n      <td>0.0</td>\n      <td>False</td>\n      <td>0.0</td>\n      <td>0.0</td>\n    </tr>\n  </tbody>\n</table>\n</div>"
     },
     "metadata": {},
     "execution_count": 420
    }
   ],
   "source": [
    "# Records with 0 for all room features\n",
    "# \"not any(not_zero(rows))\" is True, only if all records in a row are zero\n",
    "missing_room_data = df[room_data.apply(lambda rows: (not any(not_zero(rows))), axis=1)]\n",
    "\n",
    "print(\"Number of records with missing room data:\", \\\n",
    "    missing_room_data.shape[0])\n",
    "print(\"Number of replacable missing room data:\", \\\n",
    "    missing_room_data.loc[:, \"Main unit\"].notnull().sum())\n",
    "\n",
    "missing_room_data.iloc[:,[0, 1, 2,-5,-2,-3,-2,-1]].head()"
   ]
  },
  {
   "cell_type": "markdown",
   "metadata": {},
   "source": [
    "There are quite a lot of records with no room data in either of the 4 new columns that we just generated. \n",
    "The `Main unit` column is able to fill in most of the missing data."
   ]
  },
  {
   "cell_type": "code",
   "execution_count": 423,
   "metadata": {},
   "outputs": [
    {
     "output_type": "execute_result",
     "data": {
      "text/plain": "9     6 rooms, 3 bedrooms, 2 bathrooms and 1 powder ...\n10                       3 rooms, 1 bedroom, 1 bathroom\n25                    11 rooms, 3 bedrooms, 2 bathrooms\n29                      5 rooms, 2 bedrooms, 1 bathroom\n34                      5 rooms, 3 bedrooms, 1 bathroom\nName: Main unit, dtype: object"
     },
     "metadata": {},
     "execution_count": 423
    }
   ],
   "source": [
    "missing_room_data[\"Main unit\"].head()"
   ]
  },
  {
   "cell_type": "markdown",
   "metadata": {},
   "source": [
    "From the above displayed records it seems most appropriate to split according to `\",\"` and `\"and\"`"
   ]
  },
  {
   "cell_type": "code",
   "execution_count": 448,
   "metadata": {},
   "outputs": [
    {
     "output_type": "execute_result",
     "data": {
      "text/plain": "0                                     NaN\n1                                     NaN\n2                                     NaN\n3                                     NaN\n4                                     NaN\n                      ...                \n5419                                  NaN\n5420                                  NaN\n5421                                  NaN\n5422    [4 rooms, 2 bedrooms, 1 bathroom]\n5423                                  NaN\nName: Main unit, Length: 5424, dtype: object"
     },
     "metadata": {},
     "execution_count": 448
    }
   ],
   "source": [
    "# Split room data in \"Main unit\"\n",
    "main_split = df[\"Main unit\"].str.split(\", | and\")\n",
    "main_split"
   ]
  },
  {
   "cell_type": "code",
   "execution_count": 522,
   "metadata": {},
   "outputs": [
    {
     "output_type": "error",
     "ename": "SyntaxError",
     "evalue": "invalid syntax (<ipython-input-522-d7985acadc37>, line 15)",
     "traceback": [
      "\u001b[0;36m  File \u001b[0;32m\"<ipython-input-522-d7985acadc37>\"\u001b[0;36m, line \u001b[0;32m15\u001b[0m\n\u001b[0;31m    index=0\\\u001b[0m\n\u001b[0m         ^\u001b[0m\n\u001b[0;31mSyntaxError\u001b[0m\u001b[0;31m:\u001b[0m invalid syntax\n"
     ]
    }
   ],
   "source": [
    "def extract_rooms(room_list):\n",
    "    \"\"\"Turns the list into a DataFrame object, with text\n",
    "    as column names and numbers as column values\"\"\"\n",
    "\n",
    "    if room_list is np.nan:\n",
    "        return pd.DataFrame({\\\n",
    "                \"rooms\": 0,\\\n",
    "                \"room\": 0,\\\n",
    "                \"bedrooms\": 0,\\\n",
    "                \"bedroom\": 0,\\\n",
    "                \"bathrooms\": 0,\\\n",
    "                \"bathroom\": 0,\\\n",
    "                \"powder rooms\": 0,\\\n",
    "                \"powder room\": 0,\\\n",
    "                index=0\\\n",
    "            }\n",
    "        ) \n",
    "    # Result table   \n",
    "    room_data = pd.DataFrame()\n",
    "\n",
    "    # Extract and append room data\n",
    "    for string in room_list:\n",
    "        number_of_rooms = re.search(\"\\d+\", string).group()\n",
    "        room_type = re.search(\"[a-z]+\\D*\", string).group()\n",
    "        room_data[room_type] = pd.Series(number_of_rooms)\n",
    "    \n",
    "    # Expected room types\n",
    "    room_types = [\"rooms\", \"room\",\\\n",
    "        \"bedrooms\", \"bedroom\",\\\n",
    "        \"bathrooms\", \"bathroom\",\\\n",
    "        \"powder rooms\", \"powder room\"]\n",
    "\n",
    "    # Add 0 for missing room types\n",
    "    for room_type in room_types:\n",
    "        if room_type not in room_data.columns:\n",
    "            room_data[room_type] = pd.Series(0)\n",
    "\n",
    "    return room_data"
   ]
  },
  {
   "cell_type": "code",
   "execution_count": 523,
   "metadata": {
    "tags": []
   },
   "outputs": [
    {
     "output_type": "error",
     "ename": "ValueError",
     "evalue": "If using all scalar values, you must pass an index",
     "traceback": [
      "\u001b[0;31m---------------------------------------------------------------------------\u001b[0m",
      "\u001b[0;31mValueError\u001b[0m                                Traceback (most recent call last)",
      "\u001b[0;32m<ipython-input-523-ccd6cd7f70af>\u001b[0m in \u001b[0;36m<module>\u001b[0;34m\u001b[0m\n\u001b[0;32m----> 1\u001b[0;31m \u001b[0mdf\u001b[0m \u001b[0;34m=\u001b[0m \u001b[0mextract_rooms\u001b[0m\u001b[0;34m(\u001b[0m\u001b[0mmain_split\u001b[0m\u001b[0;34m[\u001b[0m\u001b[0;36m0\u001b[0m\u001b[0;34m]\u001b[0m\u001b[0;34m)\u001b[0m\u001b[0;34m\u001b[0m\u001b[0;34m\u001b[0m\u001b[0m\n\u001b[0m\u001b[1;32m      2\u001b[0m \u001b[0mdf\u001b[0m\u001b[0;34m\u001b[0m\u001b[0;34m\u001b[0m\u001b[0m\n",
      "\u001b[0;32m<ipython-input-520-175676309c19>\u001b[0m in \u001b[0;36mextract_rooms\u001b[0;34m(room_list)\u001b[0m\n\u001b[1;32m     12\u001b[0m                 \u001b[0;34m\"bathroom\"\u001b[0m\u001b[0;34m:\u001b[0m \u001b[0;36m0\u001b[0m\u001b[0;34m,\u001b[0m\u001b[0;31m\\\u001b[0m\u001b[0;34m\u001b[0m\u001b[0;34m\u001b[0m\u001b[0m\n\u001b[1;32m     13\u001b[0m                 \u001b[0;34m\"powder rooms\"\u001b[0m\u001b[0;34m:\u001b[0m \u001b[0;36m0\u001b[0m\u001b[0;34m,\u001b[0m\u001b[0;31m\\\u001b[0m\u001b[0;34m\u001b[0m\u001b[0;34m\u001b[0m\u001b[0m\n\u001b[0;32m---> 14\u001b[0;31m                 \u001b[0;34m\"powder room\"\u001b[0m\u001b[0;34m:\u001b[0m \u001b[0;36m0\u001b[0m\u001b[0;31m\\\u001b[0m\u001b[0;34m\u001b[0m\u001b[0;34m\u001b[0m\u001b[0m\n\u001b[0m\u001b[1;32m     15\u001b[0m             }\n\u001b[1;32m     16\u001b[0m         ) \n",
      "\u001b[0;32m~/.local/lib/python3.6/site-packages/pandas/core/frame.py\u001b[0m in \u001b[0;36m__init__\u001b[0;34m(self, data, index, columns, dtype, copy)\u001b[0m\n\u001b[1;32m    465\u001b[0m \u001b[0;34m\u001b[0m\u001b[0m\n\u001b[1;32m    466\u001b[0m         \u001b[0;32melif\u001b[0m \u001b[0misinstance\u001b[0m\u001b[0;34m(\u001b[0m\u001b[0mdata\u001b[0m\u001b[0;34m,\u001b[0m \u001b[0mdict\u001b[0m\u001b[0;34m)\u001b[0m\u001b[0;34m:\u001b[0m\u001b[0;34m\u001b[0m\u001b[0;34m\u001b[0m\u001b[0m\n\u001b[0;32m--> 467\u001b[0;31m             \u001b[0mmgr\u001b[0m \u001b[0;34m=\u001b[0m \u001b[0minit_dict\u001b[0m\u001b[0;34m(\u001b[0m\u001b[0mdata\u001b[0m\u001b[0;34m,\u001b[0m \u001b[0mindex\u001b[0m\u001b[0;34m,\u001b[0m \u001b[0mcolumns\u001b[0m\u001b[0;34m,\u001b[0m \u001b[0mdtype\u001b[0m\u001b[0;34m=\u001b[0m\u001b[0mdtype\u001b[0m\u001b[0;34m)\u001b[0m\u001b[0;34m\u001b[0m\u001b[0;34m\u001b[0m\u001b[0m\n\u001b[0m\u001b[1;32m    468\u001b[0m         \u001b[0;32melif\u001b[0m \u001b[0misinstance\u001b[0m\u001b[0;34m(\u001b[0m\u001b[0mdata\u001b[0m\u001b[0;34m,\u001b[0m \u001b[0mma\u001b[0m\u001b[0;34m.\u001b[0m\u001b[0mMaskedArray\u001b[0m\u001b[0;34m)\u001b[0m\u001b[0;34m:\u001b[0m\u001b[0;34m\u001b[0m\u001b[0;34m\u001b[0m\u001b[0m\n\u001b[1;32m    469\u001b[0m             \u001b[0;32mimport\u001b[0m \u001b[0mnumpy\u001b[0m\u001b[0;34m.\u001b[0m\u001b[0mma\u001b[0m\u001b[0;34m.\u001b[0m\u001b[0mmrecords\u001b[0m \u001b[0;32mas\u001b[0m \u001b[0mmrecords\u001b[0m\u001b[0;34m\u001b[0m\u001b[0;34m\u001b[0m\u001b[0m\n",
      "\u001b[0;32m~/.local/lib/python3.6/site-packages/pandas/core/internals/construction.py\u001b[0m in \u001b[0;36minit_dict\u001b[0;34m(data, index, columns, dtype)\u001b[0m\n\u001b[1;32m    281\u001b[0m             \u001b[0marr\u001b[0m \u001b[0;32mif\u001b[0m \u001b[0;32mnot\u001b[0m \u001b[0mis_datetime64tz_dtype\u001b[0m\u001b[0;34m(\u001b[0m\u001b[0marr\u001b[0m\u001b[0;34m)\u001b[0m \u001b[0;32melse\u001b[0m \u001b[0marr\u001b[0m\u001b[0;34m.\u001b[0m\u001b[0mcopy\u001b[0m\u001b[0;34m(\u001b[0m\u001b[0;34m)\u001b[0m \u001b[0;32mfor\u001b[0m \u001b[0marr\u001b[0m \u001b[0;32min\u001b[0m \u001b[0marrays\u001b[0m\u001b[0;34m\u001b[0m\u001b[0;34m\u001b[0m\u001b[0m\n\u001b[1;32m    282\u001b[0m         ]\n\u001b[0;32m--> 283\u001b[0;31m     \u001b[0;32mreturn\u001b[0m \u001b[0marrays_to_mgr\u001b[0m\u001b[0;34m(\u001b[0m\u001b[0marrays\u001b[0m\u001b[0;34m,\u001b[0m \u001b[0mdata_names\u001b[0m\u001b[0;34m,\u001b[0m \u001b[0mindex\u001b[0m\u001b[0;34m,\u001b[0m \u001b[0mcolumns\u001b[0m\u001b[0;34m,\u001b[0m \u001b[0mdtype\u001b[0m\u001b[0;34m=\u001b[0m\u001b[0mdtype\u001b[0m\u001b[0;34m)\u001b[0m\u001b[0;34m\u001b[0m\u001b[0;34m\u001b[0m\u001b[0m\n\u001b[0m\u001b[1;32m    284\u001b[0m \u001b[0;34m\u001b[0m\u001b[0m\n\u001b[1;32m    285\u001b[0m \u001b[0;34m\u001b[0m\u001b[0m\n",
      "\u001b[0;32m~/.local/lib/python3.6/site-packages/pandas/core/internals/construction.py\u001b[0m in \u001b[0;36marrays_to_mgr\u001b[0;34m(arrays, arr_names, index, columns, dtype, verify_integrity)\u001b[0m\n\u001b[1;32m     76\u001b[0m         \u001b[0;31m# figure out the index, if necessary\u001b[0m\u001b[0;34m\u001b[0m\u001b[0;34m\u001b[0m\u001b[0;34m\u001b[0m\u001b[0m\n\u001b[1;32m     77\u001b[0m         \u001b[0;32mif\u001b[0m \u001b[0mindex\u001b[0m \u001b[0;32mis\u001b[0m \u001b[0;32mNone\u001b[0m\u001b[0;34m:\u001b[0m\u001b[0;34m\u001b[0m\u001b[0;34m\u001b[0m\u001b[0m\n\u001b[0;32m---> 78\u001b[0;31m             \u001b[0mindex\u001b[0m \u001b[0;34m=\u001b[0m \u001b[0mextract_index\u001b[0m\u001b[0;34m(\u001b[0m\u001b[0marrays\u001b[0m\u001b[0;34m)\u001b[0m\u001b[0;34m\u001b[0m\u001b[0;34m\u001b[0m\u001b[0m\n\u001b[0m\u001b[1;32m     79\u001b[0m         \u001b[0;32melse\u001b[0m\u001b[0;34m:\u001b[0m\u001b[0;34m\u001b[0m\u001b[0;34m\u001b[0m\u001b[0m\n\u001b[1;32m     80\u001b[0m             \u001b[0mindex\u001b[0m \u001b[0;34m=\u001b[0m \u001b[0mensure_index\u001b[0m\u001b[0;34m(\u001b[0m\u001b[0mindex\u001b[0m\u001b[0;34m)\u001b[0m\u001b[0;34m\u001b[0m\u001b[0;34m\u001b[0m\u001b[0m\n",
      "\u001b[0;32m~/.local/lib/python3.6/site-packages/pandas/core/internals/construction.py\u001b[0m in \u001b[0;36mextract_index\u001b[0;34m(data)\u001b[0m\n\u001b[1;32m    385\u001b[0m \u001b[0;34m\u001b[0m\u001b[0m\n\u001b[1;32m    386\u001b[0m         \u001b[0;32mif\u001b[0m \u001b[0;32mnot\u001b[0m \u001b[0mindexes\u001b[0m \u001b[0;32mand\u001b[0m \u001b[0;32mnot\u001b[0m \u001b[0mraw_lengths\u001b[0m\u001b[0;34m:\u001b[0m\u001b[0;34m\u001b[0m\u001b[0;34m\u001b[0m\u001b[0m\n\u001b[0;32m--> 387\u001b[0;31m             \u001b[0;32mraise\u001b[0m \u001b[0mValueError\u001b[0m\u001b[0;34m(\u001b[0m\u001b[0;34m\"If using all scalar values, you must pass an index\"\u001b[0m\u001b[0;34m)\u001b[0m\u001b[0;34m\u001b[0m\u001b[0;34m\u001b[0m\u001b[0m\n\u001b[0m\u001b[1;32m    388\u001b[0m \u001b[0;34m\u001b[0m\u001b[0m\n\u001b[1;32m    389\u001b[0m         \u001b[0;32mif\u001b[0m \u001b[0mhave_series\u001b[0m\u001b[0;34m:\u001b[0m\u001b[0;34m\u001b[0m\u001b[0;34m\u001b[0m\u001b[0m\n",
      "\u001b[0;31mValueError\u001b[0m: If using all scalar values, you must pass an index"
     ]
    }
   ],
   "source": [
    "df = extract_rooms(main_split[0])\n",
    "df"
   ]
  },
  {
   "cell_type": "code",
   "execution_count": 493,
   "metadata": {},
   "outputs": [
    {
     "output_type": "error",
     "ename": "TypeError",
     "evalue": "'float' object is not iterable",
     "traceback": [
      "\u001b[0;31m---------------------------------------------------------------------------\u001b[0m",
      "\u001b[0;31mTypeError\u001b[0m                                 Traceback (most recent call last)",
      "\u001b[0;32m<ipython-input-493-cdcaf5d4dbd7>\u001b[0m in \u001b[0;36m<module>\u001b[0;34m\u001b[0m\n\u001b[1;32m      4\u001b[0m \u001b[0;31m# Extract data from \"Main unit\"\u001b[0m\u001b[0;34m\u001b[0m\u001b[0;34m\u001b[0m\u001b[0;34m\u001b[0m\u001b[0m\n\u001b[1;32m      5\u001b[0m missing_room_data.append(\\\n\u001b[0;32m----> 6\u001b[0;31m     main_split.apply(lambda rows: extract_rooms(rows)))\n\u001b[0m\u001b[1;32m      7\u001b[0m \u001b[0;34m\u001b[0m\u001b[0m\n\u001b[1;32m      8\u001b[0m \u001b[0;34m\u001b[0m\u001b[0m\n",
      "\u001b[0;32m~/.local/lib/python3.6/site-packages/pandas/core/series.py\u001b[0m in \u001b[0;36mapply\u001b[0;34m(self, func, convert_dtype, args, **kwds)\u001b[0m\n\u001b[1;32m   4198\u001b[0m             \u001b[0;32melse\u001b[0m\u001b[0;34m:\u001b[0m\u001b[0;34m\u001b[0m\u001b[0;34m\u001b[0m\u001b[0m\n\u001b[1;32m   4199\u001b[0m                 \u001b[0mvalues\u001b[0m \u001b[0;34m=\u001b[0m \u001b[0mself\u001b[0m\u001b[0;34m.\u001b[0m\u001b[0mastype\u001b[0m\u001b[0;34m(\u001b[0m\u001b[0mobject\u001b[0m\u001b[0;34m)\u001b[0m\u001b[0;34m.\u001b[0m\u001b[0m_values\u001b[0m\u001b[0;34m\u001b[0m\u001b[0;34m\u001b[0m\u001b[0m\n\u001b[0;32m-> 4200\u001b[0;31m                 \u001b[0mmapped\u001b[0m \u001b[0;34m=\u001b[0m \u001b[0mlib\u001b[0m\u001b[0;34m.\u001b[0m\u001b[0mmap_infer\u001b[0m\u001b[0;34m(\u001b[0m\u001b[0mvalues\u001b[0m\u001b[0;34m,\u001b[0m \u001b[0mf\u001b[0m\u001b[0;34m,\u001b[0m \u001b[0mconvert\u001b[0m\u001b[0;34m=\u001b[0m\u001b[0mconvert_dtype\u001b[0m\u001b[0;34m)\u001b[0m\u001b[0;34m\u001b[0m\u001b[0;34m\u001b[0m\u001b[0m\n\u001b[0m\u001b[1;32m   4201\u001b[0m \u001b[0;34m\u001b[0m\u001b[0m\n\u001b[1;32m   4202\u001b[0m         \u001b[0;32mif\u001b[0m \u001b[0mlen\u001b[0m\u001b[0;34m(\u001b[0m\u001b[0mmapped\u001b[0m\u001b[0;34m)\u001b[0m \u001b[0;32mand\u001b[0m \u001b[0misinstance\u001b[0m\u001b[0;34m(\u001b[0m\u001b[0mmapped\u001b[0m\u001b[0;34m[\u001b[0m\u001b[0;36m0\u001b[0m\u001b[0;34m]\u001b[0m\u001b[0;34m,\u001b[0m \u001b[0mSeries\u001b[0m\u001b[0;34m)\u001b[0m\u001b[0;34m:\u001b[0m\u001b[0;34m\u001b[0m\u001b[0;34m\u001b[0m\u001b[0m\n",
      "\u001b[0;32mpandas/_libs/lib.pyx\u001b[0m in \u001b[0;36mpandas._libs.lib.map_infer\u001b[0;34m()\u001b[0m\n",
      "\u001b[0;32m<ipython-input-493-cdcaf5d4dbd7>\u001b[0m in \u001b[0;36m<lambda>\u001b[0;34m(rows)\u001b[0m\n\u001b[1;32m      4\u001b[0m \u001b[0;31m# Extract data from \"Main unit\"\u001b[0m\u001b[0;34m\u001b[0m\u001b[0;34m\u001b[0m\u001b[0;34m\u001b[0m\u001b[0m\n\u001b[1;32m      5\u001b[0m missing_room_data.append(\\\n\u001b[0;32m----> 6\u001b[0;31m     main_split.apply(lambda rows: extract_rooms(rows)))\n\u001b[0m\u001b[1;32m      7\u001b[0m \u001b[0;34m\u001b[0m\u001b[0m\n\u001b[1;32m      8\u001b[0m \u001b[0;34m\u001b[0m\u001b[0m\n",
      "\u001b[0;32m<ipython-input-490-dd075c72af01>\u001b[0m in \u001b[0;36mextract_rooms\u001b[0;34m(room_list)\u001b[0m\n\u001b[1;32m      6\u001b[0m \u001b[0;34m\u001b[0m\u001b[0m\n\u001b[1;32m      7\u001b[0m     \u001b[0;31m# Extract and append room data\u001b[0m\u001b[0;34m\u001b[0m\u001b[0;34m\u001b[0m\u001b[0;34m\u001b[0m\u001b[0m\n\u001b[0;32m----> 8\u001b[0;31m     \u001b[0;32mfor\u001b[0m \u001b[0mstring\u001b[0m \u001b[0;32min\u001b[0m \u001b[0mroom_list\u001b[0m\u001b[0;34m:\u001b[0m\u001b[0;34m\u001b[0m\u001b[0;34m\u001b[0m\u001b[0m\n\u001b[0m\u001b[1;32m      9\u001b[0m         \u001b[0mnumber_of_rooms\u001b[0m \u001b[0;34m=\u001b[0m \u001b[0mre\u001b[0m\u001b[0;34m.\u001b[0m\u001b[0msearch\u001b[0m\u001b[0;34m(\u001b[0m\u001b[0;34m\"\\d+\"\u001b[0m\u001b[0;34m,\u001b[0m \u001b[0mstring\u001b[0m\u001b[0;34m)\u001b[0m\u001b[0;34m.\u001b[0m\u001b[0mgroup\u001b[0m\u001b[0;34m(\u001b[0m\u001b[0;34m)\u001b[0m\u001b[0;34m\u001b[0m\u001b[0;34m\u001b[0m\u001b[0m\n\u001b[1;32m     10\u001b[0m         \u001b[0mroom_type\u001b[0m \u001b[0;34m=\u001b[0m \u001b[0mre\u001b[0m\u001b[0;34m.\u001b[0m\u001b[0msearch\u001b[0m\u001b[0;34m(\u001b[0m\u001b[0;34m\"[a-z]+\\D*\"\u001b[0m\u001b[0;34m,\u001b[0m \u001b[0mstring\u001b[0m\u001b[0;34m)\u001b[0m\u001b[0;34m.\u001b[0m\u001b[0mgroup\u001b[0m\u001b[0;34m(\u001b[0m\u001b[0;34m)\u001b[0m\u001b[0;34m\u001b[0m\u001b[0;34m\u001b[0m\u001b[0m\n",
      "\u001b[0;31mTypeError\u001b[0m: 'float' object is not iterable"
     ]
    }
   ],
   "source": [
    "# Table with values to replace missing room data\n",
    "missing_room_data = pd.DataFrame()\n",
    "\n",
    "# Extract data from \"Main unit\"\n",
    "missing_room_data.append(\\\n",
    "    main_split.apply(lambda rows: extract_rooms(rows)))\n",
    "\n",
    "\n"
   ]
  },
  {
   "cell_type": "code",
   "execution_count": 516,
   "metadata": {},
   "outputs": [
    {
     "output_type": "execute_result",
     "data": {
      "text/plain": "False"
     },
     "metadata": {},
     "execution_count": 516
    }
   ],
   "source": [
    "[1,2,3] is np.nan"
   ]
  },
  {
   "cell_type": "code",
   "execution_count": null,
   "metadata": {},
   "outputs": [],
   "source": []
  }
 ],
 "metadata": {
  "kernelspec": {
   "display_name": "Python 3",
   "language": "python",
   "name": "python3"
  },
  "language_info": {
   "codemirror_mode": {
    "name": "ipython",
    "version": 3
   },
   "file_extension": ".py",
   "mimetype": "text/x-python",
   "name": "python",
   "nbconvert_exporter": "python",
   "pygments_lexer": "ipython3",
   "version": "3.6.9-final"
  }
 },
 "nbformat": 4,
 "nbformat_minor": 2
}