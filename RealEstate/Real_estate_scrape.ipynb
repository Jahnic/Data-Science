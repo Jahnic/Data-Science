{
 "cells": [
  {
   "cell_type": "code",
   "execution_count": 1,
   "metadata": {},
   "outputs": [],
   "source": [
    "import pandas as pd\n",
    "from bs4 import BeautifulSoup\n",
    "from random import randint\n",
    "import time\n",
    "import re\n",
    "# Scraping through chrome driver \n",
    "from selenium import webdriver\n",
    "from selenium.webdriver.chrome.options import Options"
   ]
  },
  {
   "cell_type": "code",
   "execution_count": 2,
   "metadata": {},
   "outputs": [],
   "source": [
    "# Starting URLs\n",
    "centris = \"https://www.centris.ca/en/properties~for-sale?view=Thumbnail\"\n",
    "duproprio = \"https://duproprio.com/en/search/list?search=true&is_for_sale=1&with_builders=1&parent=1&pageNumber=1&sort=-published_at\"\n",
    "# Path to Schromedriver\n",
    "DRIVER_PATH = 'C:/webdriver/chromedriver.exe'"
   ]
  },
  {
   "cell_type": "code",
   "execution_count": 56,
   "metadata": {},
   "outputs": [],
   "source": [
    "class Centris:\n",
    "    \"\"\"\n",
    "    Class representing a data object that is being crawled from\n",
    "    centris.ca through selenium and the Chrome webdriver.\n",
    "    \n",
    "    Attr:\n",
    "    self.url - starting self.url for crawl on centris.ca\n",
    "    \"\"\"\n",
    "\n",
    "        \n",
    "    def __init__(self, url=\"https://www.centris.ca/en/properties~for-sale?view=Thumbnail\"): \n",
    "        # Starting url\n",
    "        self.url = url\n",
    "        # Extracted data\n",
    "        self.data = pd.DataFrame(columns=['title', 'price(CAD)', 'address'])\n",
    "        # Google Chrome driver\n",
    "        self.driver = None\n",
    "        # List of real estate descriptions found on current page\n",
    "        self.container_descriptions = []\n",
    "        \n",
    "    def add_data(self, title, price, address):\n",
    "        new_data = pd.DataFrame({'title': title,\n",
    "                                'price(CAD)': price,\n",
    "                                 'address': address})\n",
    "        self.data = self.data.append(new_data)\n",
    "             \n",
    "    def get_data(self):\n",
    "        return self.data\n",
    "        \n",
    "    def start_driver(self):\n",
    "        \"\"\"\n",
    "        Starts and returns Crome webdriver. The specified 'self.url' page \n",
    "        is opened in headless mode.\n",
    "        \"\"\"\n",
    "        \n",
    "        # Activate headless mode for fastest response\n",
    "        options = Options()\n",
    "        options.add_argument(\"--headless\")\n",
    "\n",
    "        # Start driver\n",
    "        self.driver = webdriver.Chrome(executable_path=DRIVER_PATH)\n",
    "        self.driver.get(self.url)\n",
    "    \n",
    "    def set_container_descriptions(self):\n",
    "        try:\n",
    "            self.container_descriptions = self.driver.find_elements_by_class_name(\"description\")\n",
    "        except:\n",
    "            print(\"Chrome driver is not running!\")\n",
    "            print(\"Use: \\\"start_driver()\\\"\")\n",
    "    \n",
    "    def get_next_page(self):\n",
    "        try:\n",
    "            next_page = self.driver.find_element_by_xpath(\"//li[@class='next']\")\n",
    "            next_page.click()\n",
    "        except:\n",
    "            print(\"Next page button not available\")\n",
    "\n",
    "# Instantiate class object\n",
    "centris = Centris()"
   ]
  },
  {
   "cell_type": "code",
   "execution_count": 57,
   "metadata": {},
   "outputs": [
    {
     "name": "stdout",
     "output_type": "stream",
     "text": [
      "[<selenium.webdriver.remote.webelement.WebElement (session=\"d33c42384691d49203d2c360e1e3c1f5\", element=\"74850f79-881e-4fd0-80ec-5b8abf8aef84\")>, <selenium.webdriver.remote.webelement.WebElement (session=\"d33c42384691d49203d2c360e1e3c1f5\", element=\"daa70169-bf3a-443f-bd8c-604822f32bf2\")>, <selenium.webdriver.remote.webelement.WebElement (session=\"d33c42384691d49203d2c360e1e3c1f5\", element=\"5e688e50-a72e-49be-8c88-fd26816b4607\")>, <selenium.webdriver.remote.webelement.WebElement (session=\"d33c42384691d49203d2c360e1e3c1f5\", element=\"7e44af7d-cb29-47e1-9288-c0b77566fef1\")>, <selenium.webdriver.remote.webelement.WebElement (session=\"d33c42384691d49203d2c360e1e3c1f5\", element=\"8b112692-3dd7-4c89-b1c6-34d2265c8130\")>, <selenium.webdriver.remote.webelement.WebElement (session=\"d33c42384691d49203d2c360e1e3c1f5\", element=\"9b172787-f72c-4922-bd08-6d389298392e\")>, <selenium.webdriver.remote.webelement.WebElement (session=\"d33c42384691d49203d2c360e1e3c1f5\", element=\"576bff0b-a93f-4de5-bb2c-82217bc3099b\")>, <selenium.webdriver.remote.webelement.WebElement (session=\"d33c42384691d49203d2c360e1e3c1f5\", element=\"24f5c17f-73d6-4ec8-b8ed-1c29381e931a\")>, <selenium.webdriver.remote.webelement.WebElement (session=\"d33c42384691d49203d2c360e1e3c1f5\", element=\"d3e939d5-4daa-44c0-802c-8a32cc640e17\")>, <selenium.webdriver.remote.webelement.WebElement (session=\"d33c42384691d49203d2c360e1e3c1f5\", element=\"fb29bd92-3eed-4130-bc1c-0cc24cf367e8\")>, <selenium.webdriver.remote.webelement.WebElement (session=\"d33c42384691d49203d2c360e1e3c1f5\", element=\"7310ea7f-aaaf-49eb-b5a3-4ba7373f80d4\")>, <selenium.webdriver.remote.webelement.WebElement (session=\"d33c42384691d49203d2c360e1e3c1f5\", element=\"62799e54-8bb6-4c8d-84cf-8594a7ed4c21\")>, <selenium.webdriver.remote.webelement.WebElement (session=\"d33c42384691d49203d2c360e1e3c1f5\", element=\"4bd63579-6de2-419e-b345-122fcfff6797\")>]\n",
      "<selenium.webdriver.chrome.webdriver.WebDriver (session=\"d33c42384691d49203d2c360e1e3c1f5\")>\n"
     ]
    }
   ],
   "source": [
    "# Test\n",
    "centris.start_driver()\n",
    "centris.set_container_descriptions()\n",
    "\n",
    "print(centris.container_descriptions)\n",
    "print(centris.driver)"
   ]
  },
  {
   "cell_type": "code",
   "execution_count": 53,
   "metadata": {},
   "outputs": [],
   "source": []
  },
  {
   "cell_type": "code",
   "execution_count": 4,
   "metadata": {},
   "outputs": [],
   "source": [
    "def get_container_descriptions(url:str):\n",
    "    driver = start_driver(url)\n",
    "    container_descriptions = driver.find_elements_by_class_name(\"description\")\n",
    "    return container_descriptions"
   ]
  },
  {
   "cell_type": "code",
   "execution_count": 10,
   "metadata": {},
   "outputs": [],
   "source": [
    "def get_next_page(driver):\n",
    "    try:\n",
    "        next_page = driver.find_element_by_xpath(\"//li[@class='next']\")\n",
    "        next_page.click()\n",
    "    except:\n",
    "        print(\"Next page button not available\")"
   ]
  },
  {
   "cell_type": "code",
   "execution_count": 11,
   "metadata": {},
   "outputs": [],
   "source": [
    "# Click Next button\n",
    "driver = start_driver(centris)\n",
    "get_next_page(driver)"
   ]
  }
 ],
 "metadata": {
  "kernelspec": {
   "display_name": "Python 3",
   "language": "python",
   "name": "python3"
  },
  "language_info": {
   "codemirror_mode": {
    "name": "ipython",
    "version": 3
   },
   "file_extension": ".py",
   "mimetype": "text/x-python",
   "name": "python",
   "nbconvert_exporter": "python",
   "pygments_lexer": "ipython3",
   "version": "3.7.4"
  }
 },
 "nbformat": 4,
 "nbformat_minor": 2
}
