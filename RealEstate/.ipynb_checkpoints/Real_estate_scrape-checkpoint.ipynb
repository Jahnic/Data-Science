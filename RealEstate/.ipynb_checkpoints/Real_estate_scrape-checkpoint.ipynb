{
 "cells": [
  {
   "cell_type": "code",
   "execution_count": 1,
   "metadata": {},
   "outputs": [],
   "source": [
    "import pandas as pd\n",
    "from bs4 import BeautifulSoup\n",
    "from random import randint\n",
    "import time\n",
    "import re\n",
    "# Scraping through chrome driver \n",
    "from selenium import webdriver\n",
    "from selenium.webdriver.chrome.options import Options"
   ]
  },
  {
   "cell_type": "code",
   "execution_count": 2,
   "metadata": {},
   "outputs": [],
   "source": [
    "# Starting URLs\n",
    "centris = \"https://www.centris.ca/en/properties~for-sale?view=Thumbnail\"\n",
    "duproprio = \"https://duproprio.com/en/search/list?search=true&is_for_sale=1&with_builders=1&parent=1&pageNumber=1&sort=-published_at\"\n",
    "# Path to Schromedriver\n",
    "DRIVER_PATH = 'C:/webdriver/chromedriver.exe'"
   ]
  },
  {
   "cell_type": "code",
   "execution_count": 188,
   "metadata": {},
   "outputs": [],
   "source": [
    "class Centris:\n",
    "    \"\"\"\n",
    "    Represents a data object scraped from\n",
    "    centris.ca. Uses selenium and the Chrome webdriver\n",
    "    to access web elements.\n",
    "    \n",
    "    Attr:\n",
    "    self.url - starting url for scraping process\n",
    "    \"\"\"\n",
    "\n",
    "        \n",
    "    def __init__(self, url=\"https://www.centris.ca/en/properties~for-sale?view=Thumbnail\"): \n",
    "        # Starting url\n",
    "        self.url = url\n",
    "        # Extracted data\n",
    "        self.data = pd.DataFrame(columns=['title', 'price(CAD)', 'address'])\n",
    "        # Google Chrome driver\n",
    "        self.driver = None\n",
    "        # List of real estate descriptions found on current page\n",
    "        self.containers = None\n",
    "        # List of container elements with links to listings (<a class=\"a-more-detail\"...>)\n",
    "        self.links_to_listings = None\n",
    "        \n",
    "    def add_data(self, title, price, address):\n",
    "        new_data = pd.DataFrame({'title': title,\n",
    "                                'price(CAD)': price,\n",
    "                                 'address': address})\n",
    "        self.data = self.data.append(new_data)\n",
    "             \n",
    "    def get_data(self):\n",
    "        return self.data\n",
    "        \n",
    "    def start_driver(self):\n",
    "        \"\"\"\n",
    "        Starts and returns Crome webdriver. The specified 'self.url' page \n",
    "        is opened in headless mode.\n",
    "        \"\"\"\n",
    "        \n",
    "        # Activate headless mode for fastest response\n",
    "        options = Options()\n",
    "        options.add_argument(\"--headless\")\n",
    "\n",
    "        # Start driver with url\n",
    "        self.driver = webdriver.Chrome(executable_path=DRIVER_PATH)\n",
    "        self.driver.get(self.url)\n",
    "    \n",
    "    def set_containers(self):\n",
    "        try:\n",
    "            containers = self.driver.find_elements_by_class_name(\"description\")\n",
    "            # Last element is empty string\n",
    "            self.containers = containers[:-2]\n",
    "        except:\n",
    "            print(\"Chrome driver is not running!\")\n",
    "            print(\"Use: \\\"start_driver()\\\"\")\n",
    "    \n",
    "    def next_page(self):\n",
    "        try:\n",
    "            next_page = self.driver.find_element_by_xpath(\"//li[@class='next']\")\n",
    "            next_page.click()\n",
    "        except:\n",
    "            print(\"Next page button not available\")\n",
    "            \n",
    "    def set_links_to_listings(self):\n",
    "        \"\"\"Retrieves list of elements from each container with link to listing site\"\"\"\n",
    "        try:\n",
    "            self.links_to_listings = [container.find_element_by_class_name(\"a-more-detail\") for container in self.containers]\n",
    "        except:\n",
    "            if self.driver == None:\n",
    "                print(\"Start driver first: start_driver()\")\n",
    "            elif self.containers == None:\n",
    "                print(\"Set container attribute: set_containers()\" )\n",
    "            else: print(\"No class 'a-more-detail' found on current page\")\n",
    "        \n",
    "\n",
    "# Instantiate class object\n",
    "centris = Centris()"
   ]
  },
  {
   "cell_type": "code",
   "execution_count": 193,
   "metadata": {},
   "outputs": [
    {
     "data": {
      "text/plain": [
       "['https://www.centris.ca/en/lots~for-sale~l-ange-gardien-outaouais/10602831?view=Summary',\n",
       " 'https://www.centris.ca/en/houses~for-sale~donnacona/15635416?view=Summary',\n",
       " 'https://www.centris.ca/en/5plex~for-sale~longueuil-saint-hubert/22568604?view=Summary',\n",
       " 'https://www.centris.ca/en/condos~for-sale~quebec-la-cite-limoilou/18796294?view=Summary',\n",
       " 'https://www.centris.ca/en/hobby-farms~for-sale~saint-edouard-de-maskinonge/26266459?view=Summary',\n",
       " 'https://www.centris.ca/en/condos~for-sale~montreal-ahuntsic-cartierville/9938131?view=Summary',\n",
       " 'https://www.centris.ca/en/duplexes~for-sale~montreal-cote-des-neiges-notre-dame-de-grace/25165775?view=Summary',\n",
       " 'https://www.centris.ca/en/houses~for-sale~montreal-saint-leonard/25120106?view=Summary',\n",
       " 'https://www.centris.ca/en/lots~for-sale~baie-saint-paul/13817190?view=Summary',\n",
       " 'https://www.centris.ca/en/condos~for-sale~montreal-le-sud-ouest/27915966?view=Summary',\n",
       " 'https://www.centris.ca/en/lots~for-sale~rouyn-noranda/23007347?view=Summary']"
      ]
     },
     "execution_count": 193,
     "metadata": {},
     "output_type": "execute_result"
    }
   ],
   "source": [
    "# Test\n",
    "centris.start_driver()\n",
    "centris.set_containers()\n",
    "centris.set_links_to_listings()\n",
    "\n",
    "[links.get_attribute('href') for links in centris.links_to_listings]"
   ]
  },
  {
   "cell_type": "code",
   "execution_count": 4,
   "metadata": {},
   "outputs": [],
   "source": [
    "# def get_container_descriptions(url:str):\n",
    "#     driver = start_driver(url)\n",
    "#     container_descriptions = driver.find_elements_by_class_name(\"description\")\n",
    "#     return container_descriptions"
   ]
  },
  {
   "cell_type": "code",
   "execution_count": 10,
   "metadata": {},
   "outputs": [],
   "source": [
    "# def get_next_page(driver):\n",
    "#     try:\n",
    "#         next_page = driver.find_element_by_xpath(\"//li[@class='next']\")\n",
    "#         next_page.click()\n",
    "#     except:\n",
    "#         print(\"Next page button not available\")"
   ]
  },
  {
   "cell_type": "code",
   "execution_count": 11,
   "metadata": {},
   "outputs": [],
   "source": [
    "# Click Next button\n",
    "# driver = start_driver(centris)\n",
    "# get_next_page(driver)"
   ]
  }
 ],
 "metadata": {
  "kernelspec": {
   "display_name": "Python 3",
   "language": "python",
   "name": "python3"
  },
  "language_info": {
   "codemirror_mode": {
    "name": "ipython",
    "version": 3
   },
   "file_extension": ".py",
   "mimetype": "text/x-python",
   "name": "python",
   "nbconvert_exporter": "python",
   "pygments_lexer": "ipython3",
   "version": "3.7.4"
  }
 },
 "nbformat": 4,
 "nbformat_minor": 2
}
