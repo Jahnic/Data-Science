{
 "cells": [
  {
   "cell_type": "code",
   "execution_count": 261,
   "metadata": {},
   "outputs": [],
   "source": [
    "import pandas as pd\n",
    "from random import randint\n",
    "import time\n",
    "import re\n",
    "# Scraping through Chrome webdriver\n",
    "from selenium import webdriver\n",
    "from selenium.webdriver.chrome.options import Options\n",
    "from selenium.webdriver.common.action_chains import ActionChains\n",
    "from selenium.webdriver.common.keys import Keys"
   ]
  },
  {
   "cell_type": "code",
   "execution_count": 2,
   "metadata": {},
   "outputs": [],
   "source": [
    "# Starting URLs\n",
    "centris = \"https://www.centris.ca/en/properties~for-sale?view=Thumbnail\"\n",
    "duproprio = \"https://duproprio.com/en/search/list?search=true&is_for_sale=1&with_builders=1&parent=1&pageNumber=1&sort=-published_at\""
   ]
  },
  {
   "cell_type": "code",
   "execution_count": 400,
   "metadata": {},
   "outputs": [],
   "source": [
    "class Centris:\n",
    "    \"\"\"\n",
    "    Represents a data object scraped from\n",
    "    centris.ca. Uses selenium and the Chrome webdriver\n",
    "    to access# Path to Chromedriver web elements.\n",
    "    \n",
    "    Attr:\n",
    "    self.url - starting url for scraping process\n",
    "    self.data - pandas.DataFrame object containing scraped data\n",
    "    self.driver - Chrome webdriver\n",
    "    self.containers - List of web-elements containing information on listings\n",
    "        - eg: link to listing, price, picture, address,...\n",
    "    self.links_to_listings - List of web-elements, each containing the link to a listing\n",
    "    \"\"\"\n",
    "    # Path to Chromedriver\n",
    "    DRIVER_PATH = 'C:/webdriver/chromedriver.exe'\n",
    "        \n",
    "    def __init__(self, url=\"https://www.centris.ca/en/properties~for-sale?view=Thumbnail\"): \n",
    "        self.url = url\n",
    "        self.data = pd.DataFrame(columns=['title', 'price(CAD)', 'address'])\n",
    "        self.driver = None\n",
    "        self.containers = None\n",
    "        self.links_to_listings = None\n",
    "        \n",
    "    def add_data(self, title, price, address):\n",
    "        new_data = pd.DataFrame({'title': title,\n",
    "                                'price(CAD)': price,\n",
    "                                 'address': address})\n",
    "        self.data = self.data.append(new_data)\n",
    "             \n",
    "    def get_data(self):\n",
    "        return self.data\n",
    "        \n",
    "    def start_driver(self):\n",
    "        \"\"\"\n",
    "        Starts and returns Crome webdriver. The specified 'self.url' page \n",
    "        is opened in headless mode.\n",
    "        \"\"\"\n",
    "        \n",
    "        # Activate headless mode for fastest response\n",
    "        options = Options()\n",
    "        options.add_argument(\"--headless\")\n",
    "\n",
    "        # Start driver with url\n",
    "        self.driver = webdriver.Chrome(executable_path=DRIVER_PATH)\n",
    "        self.driver.get(self.url)\n",
    "    \n",
    "    def set_containers(self):\n",
    "        try:\n",
    "            containers = self.driver.find_elements_by_class_name(\"description\")\n",
    "            # Last element is empty string\n",
    "            self.containers = containers[:-1]\n",
    "        except:\n",
    "            print(\"Chrome driver is not running!\")\n",
    "            print(\"Use: \\\"start_driver()\\\"\")\n",
    "    \n",
    "    def next_page(self):\n",
    "        try:\n",
    "            next_page = self.driver.find_element_by_xpath(\"//li[@class='next']\")\n",
    "            next_page.click()\n",
    "        except:\n",
    "            print(\"Next page button not available\")\n",
    "            \n",
    "    def set_links_to_listings(self):\n",
    "        \"\"\"Retrieves list of elements from each container with link to listing site\"\"\"\n",
    "        try:\n",
    "            self.links_to_listings = [container.find_element_by_class_name(\"a-more-detail\") for container in self.containers]\n",
    "        except:\n",
    "            if self.driver == None:\n",
    "                print(\"Start driver first: start_driver()\")\n",
    "            elif self.containers == None:\n",
    "                print(\"Set container attribute: set_containers()\" )\n",
    "            else: print(\"No class 'a-more-detail' found on current page\")\n",
    "                \n",
    "    def get_data_from_link(self, link_index:int):\n",
    "        \"\"\"\n",
    "        Retrieves information from link at link_index in  \n",
    "        links_to_listings list and appends to self.data\n",
    "        \"\"\"\n",
    "        # Web element with link to listing\n",
    "        element = self.links_to_listings[link_index]\n",
    "        \n",
    "        # Open link element in new tab\n",
    "        actions = ActionChains(self.driver)\n",
    "        actions.key_down(Keys.CONTROL).click(element).key_up(Keys.CONTROL)\n",
    "        actions.perform()\n",
    "        \n",
    "        # Move to new tab\n",
    "        self.driver.switch_to.window(self.driver.window_handles[-1])\n",
    "        \n",
    "        time.sleep(5) # Pause to allow you to inspect the browser.\n",
    "        \n",
    "        # Quit new tab\n",
    "        self.driver.close()\n",
    "                                                  \n",
    "# Instantiate class object\n",
    "centris = Centris()"
   ]
  },
  {
   "cell_type": "code",
   "execution_count": 401,
   "metadata": {},
   "outputs": [],
   "source": [
    "# Test\n",
    "centris.start_driver()\n",
    "centris.set_containers()\n",
    "centris.set_links_to_listings()"
   ]
  },
  {
   "cell_type": "code",
   "execution_count": 402,
   "metadata": {},
   "outputs": [
    {
     "name": "stdout",
     "output_type": "stream",
     "text": [
      "Finished!\n"
     ]
    }
   ],
   "source": [
    "centris.get_data_from_link(2)"
   ]
  },
  {
   "cell_type": "code",
   "execution_count": 368,
   "metadata": {},
   "outputs": [],
   "source": [
    "browser = webdriver.Chrome('C:/webdriver/chromedriver.exe')\n",
    "browser.get(\"https://www.google.com/\")\n",
    "main_window = browser.current_window_handle"
   ]
  }
 ],
 "metadata": {
  "kernelspec": {
   "display_name": "Python 3",
   "language": "python",
   "name": "python3"
  },
  "language_info": {
   "codemirror_mode": {
    "name": "ipython",
    "version": 3
   },
   "file_extension": ".py",
   "mimetype": "text/x-python",
   "name": "python",
   "nbconvert_exporter": "python",
   "pygments_lexer": "ipython3",
   "version": "3.7.4"
  }
 },
 "nbformat": 4,
 "nbformat_minor": 2
}
