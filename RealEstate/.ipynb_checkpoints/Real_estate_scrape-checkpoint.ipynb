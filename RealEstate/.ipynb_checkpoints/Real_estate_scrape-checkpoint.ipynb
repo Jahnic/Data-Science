{
 "cells": [
  {
   "cell_type": "code",
   "execution_count": 446,
   "metadata": {},
   "outputs": [],
   "source": [
    "import pandas as pd\n",
    "from random import randint\n",
    "import time\n",
    "import re\n",
    "# Scraping through Chrome webdriver\n",
    "from selenium import webdriver\n",
    "from selenium.webdriver.chrome.options import Options\n",
    "from selenium.webdriver.common.action_chains import ActionChains\n",
    "from selenium.webdriver.common.keys import Keys"
   ]
  },
  {
   "cell_type": "code",
   "execution_count": 2,
   "metadata": {},
   "outputs": [],
   "source": [
    "# Starting URLs\n",
    "centris = \"https://www.centris.ca/en/properties~for-sale?view=Thumbnail\"\n",
    "duproprio = \"https://duproprio.com/en/search/list?search=true&is_for_sale=1&with_builders=1&parent=1&pageNumber=1&sort=-published_at\""
   ]
  },
  {
   "cell_type": "code",
   "execution_count": 537,
   "metadata": {},
   "outputs": [],
   "source": [
    "class Centris:\n",
    "    \"\"\"\n",
    "    Represents a data object scraped from\n",
    "    centris.ca. Uses selenium and the Chrome webdriver\n",
    "    to access# Path to Chromedriver web elements.\n",
    "    \n",
    "    Attr:\n",
    "    self.url - starting url for scraping process\n",
    "    self.data - pandas.DataFrame object containing scraped data\n",
    "    self.driver - Chrome webdriver\n",
    "    self.containers - List of web-elements containing information on listings\n",
    "        - eg: link to listing, price, picture, address,...\n",
    "    self.links_to_listings - List of web-elements, each containing the link to a listing\n",
    "    \"\"\"\n",
    "    # Path to Chromedriver\n",
    "    DRIVER_PATH = 'C:/webdriver/chromedriver.exe'\n",
    "        \n",
    "    def __init__(self, url=\"https://www.centris.ca/en/condominium-houses\"\\\n",
    "                             \"~for-sale~saint-come/27673618?view=Summary&uc=2\"): \n",
    "        self.url = url\n",
    "        self.data = pd.DataFrame(columns=['title',\\\n",
    "                                          'price(CAD)',\\\n",
    "                                          'address'])\n",
    "        self.driver = None\n",
    "        self.containers = None\n",
    "#       self.links_to_listings = None\n",
    "        \n",
    "    def add_data(self, title, price, address):\n",
    "        new_data = pd.DataFrame({'title': title,\n",
    "                                'price(CAD)': price,\n",
    "                                 'address': address})\n",
    "        self.data = self.data.append(new_data)\n",
    "             \n",
    "    def get_data(self):\n",
    "        return self.data\n",
    "        \n",
    "    def start_driver(self):\n",
    "        \"\"\"\n",
    "        Starts and returns Crome webdriver. \n",
    "        The page link in the url attribute \n",
    "        is opened in headless mode.\n",
    "        \"\"\"\n",
    "        \n",
    "        # Activate headless mode for fastest response\n",
    "        options = Options()\n",
    "        options.add_argument(\"--headless\")\n",
    "\n",
    "        # Start driver with url\n",
    "        self.driver = webdriver.Chrome(executable_path=DRIVER_PATH)\n",
    "        self.driver.get(self.url)\n",
    "    \n",
    "#     def set_containers(self):\n",
    "#         try:\n",
    "#             containers = self.driver.find_elements_by_class_name(\\\n",
    "#                                             \"description\")\n",
    "#             # Last element is empty string\n",
    "#             self.containers = containers[:-1]\n",
    "#         except:\n",
    "#             print(\"Chrome driver is not running!\")\n",
    "#             print(\"Use: \\\"start_driver()\\\"\")\n",
    "            \n",
    "    def goto_first_page(self):\n",
    "        try:\n",
    "            next_page = self.driver.find_element_by_xpath(\\\n",
    "                                        \"//li[@class='goFirst']\")\n",
    "            next_page.click()\n",
    "        except:\n",
    "            print(\"goFirst button not available\")\n",
    "    \n",
    "    def next_page(self):\n",
    "        try:\n",
    "            next_page = self.driver.find_element_by_xpath(\\\n",
    "                                        \"//li[@class='next']\")\n",
    "            next_page.click()\n",
    "        except:\n",
    "            print(\"Next page button not available\")\n",
    "            \n",
    "#     def set_links_to_listings(self):\n",
    "#         \"\"\"Retrieves list of elements from each container\n",
    "#         with link to listing site\"\"\"\n",
    "#         try:\n",
    "#             self.links_to_listings = [container.\\\n",
    "#                             find_element_by_class_name(\"a-more-detail\")\\\n",
    "#                                       for container in self.containers]\n",
    "#         except:\n",
    "#             if self.driver == None:\n",
    "#                 print(\"Start driver first: start_driver()\")\n",
    "#             elif self.containers == None:\n",
    "#                 print(\"Set container attribute: set_containers()\" )\n",
    "#             else: print(\"No class 'a-more-detail' found on current page\")\n",
    "                \n",
    "    def get_data_from_link(self):\n",
    "        \"\"\"\n",
    "        Retrieves information from link at link_index in  \n",
    "        links_to_listings list and appends to self.data\n",
    "        \"\"\"\n",
    "        \n",
    "#         # Open link in new tab\n",
    "#         actions = ActionChains(self.driver)\\\n",
    "#             .key_down(Keys.CONTROL)\\\n",
    "#             .click(element)\\\n",
    "#             .key_up(Keys.CONTROL)\\\n",
    "#             .perform()\n",
    "#         # Move to new tab\n",
    "#         self.driver.switch_to.window(self.driver.window_handles[-1])\n",
    "        \n",
    "        # Scrape data\n",
    "        print(\"Starting scrape process.\")\n",
    "        # Scroll down 3x to load entire page\n",
    "        for i in range(3):\n",
    "            self.driver.find_element_by_tag_name(\"body\")\\\n",
    "                .send_keys(Keys.PAGE_DOWN)\n",
    "        \n",
    "        # Description of listing (Year build, price, Lot area, etc.)\n",
    "        descriptions = self.driver.find_element_by_xpath(\\\n",
    "                            \"//div[@class='col-lg-12 description']\")\n",
    "        descriptions_list = descriptions.text.split(\"\\n\")\n",
    "        \n",
    "        # Rating of indicators between 0-10 (Groceries, parks, etc.)\n",
    "        neighbourhood_indicators = self.driver.find_element_by_xpath(\\\n",
    "                             \"//div[@class='ll-list ps ps--active-y']\")\n",
    "        neighbourhood_indicators_list = neighbourhood_indicators\\\n",
    "                            .text.split(\"\\n\")\n",
    "        \n",
    "        # Population summary data (density, variation etc.)\n",
    "        population_summaries =  self.driver.find_element_by_id('info')\n",
    "        population_summaries_list = population_summaries\\\n",
    "                            .text.split(\"\\n\")\n",
    "        \n",
    "        # Buttons to access demographics data (education, incomes, etc.)\n",
    "        demographics_buttons = self.driver.find_elements_by_xpath(\\\n",
    "                            \"//div[@class='centrisSocioDemobutton']\")\n",
    "        demographics = []\n",
    "        # Click all buttons to access all information\n",
    "        for button in demographics_buttons:\n",
    "            button.click()\n",
    "            time.sleep(3)\n",
    "            demographic_data = self.driver.find_elements_by_class_name(\\\n",
    "                             \"socioDemoLabel\")\n",
    "            print(demographic_data)\n",
    "            demographics.append(demographic_data[0])\n",
    "            \n",
    "        # Scroll down 3x to make next page button accessible\n",
    "        for i in range(3):\n",
    "            self.driver.find_element_by_tag_name(\"body\")\\\n",
    "                .send_keys(Keys.PAGE_DOWN)\n",
    "        \n",
    "        # Logging\n",
    "        print(descriptions_list)\n",
    "        print(neighbourhood_indicators_list)\n",
    "        print(population_summaries_list)\n",
    "        print(\"Numeber of buttons:\", len(demographics_buttons))\n",
    "        print([demo.text for demo in demographics])\n",
    "                                                  \n",
    "# Instantiate class object\n",
    "centris = Centris()"
   ]
  },
  {
   "cell_type": "code",
   "execution_count": 540,
   "metadata": {},
   "outputs": [
    {
     "name": "stdout",
     "output_type": "stream",
     "text": [
      "Execution time: 6.110896587371826\n"
     ]
    }
   ],
   "source": [
    "# Test\n",
    "start = time.time()\n",
    "centris.start_driver()\n",
    "print(\"Execution time:\", time.time() - start)"
   ]
  },
  {
   "cell_type": "code",
   "execution_count": 541,
   "metadata": {},
   "outputs": [
    {
     "name": "stdout",
     "output_type": "stream",
     "text": [
      "Starting scrape process.\n",
      "[<selenium.webdriver.remote.webelement.WebElement (session=\"8006c9fe12c138a0128e27295a872e20\", element=\"f77c6b47-30b0-4129-96c5-cf6f5338f01c\")>]\n",
      "[<selenium.webdriver.remote.webelement.WebElement (session=\"8006c9fe12c138a0128e27295a872e20\", element=\"f77c6b47-30b0-4129-96c5-cf6f5338f01c\")>]\n",
      "[<selenium.webdriver.remote.webelement.WebElement (session=\"8006c9fe12c138a0128e27295a872e20\", element=\"f77c6b47-30b0-4129-96c5-cf6f5338f01c\")>]\n",
      "[<selenium.webdriver.remote.webelement.WebElement (session=\"8006c9fe12c138a0128e27295a872e20\", element=\"f77c6b47-30b0-4129-96c5-cf6f5338f01c\")>]\n",
      "[<selenium.webdriver.remote.webelement.WebElement (session=\"8006c9fe12c138a0128e27295a872e20\", element=\"f77c6b47-30b0-4129-96c5-cf6f5338f01c\")>]\n",
      "[<selenium.webdriver.remote.webelement.WebElement (session=\"8006c9fe12c138a0128e27295a872e20\", element=\"f77c6b47-30b0-4129-96c5-cf6f5338f01c\")>]\n",
      "[<selenium.webdriver.remote.webelement.WebElement (session=\"8006c9fe12c138a0128e27295a872e20\", element=\"f77c6b47-30b0-4129-96c5-cf6f5338f01c\")>]\n",
      "[<selenium.webdriver.remote.webelement.WebElement (session=\"8006c9fe12c138a0128e27295a872e20\", element=\"f77c6b47-30b0-4129-96c5-cf6f5338f01c\")>]\n",
      "[<selenium.webdriver.remote.webelement.WebElement (session=\"8006c9fe12c138a0128e27295a872e20\", element=\"f77c6b47-30b0-4129-96c5-cf6f5338f01c\")>]\n",
      "['Features', '?', 'Lifestyle', '9 rooms', '3 bedrooms', '1 bathroom and 1 powder room', 'Condominium type', 'Divided', 'Building style', 'Attached', 'Year built', '2009', 'Lot area', '5,535 sqft', 'Parking (total)', 'Driveway (2)', 'Fireplace/Stove', 'Gas fireplace']\n",
      "['Quiet', '10', 'Car friendly', '10', 'Elementary Schools', '0', 'High Schools', '0', 'Daycares', '0', 'Pedestrian friendly', '0', 'Groceries', '0', 'Vibrant', '0']\n",
      "['Population (2016) 2,193', 'Population variation between 2011 and 2016 0%', 'Population density 13 hab/km2', 'Unemployment rate (2016) 7%']\n",
      "Numeber of buttons: 9\n",
      "['French\\n99%\\n\\nEnglish\\n1%\\n\\nOthers languages\\n0%', 'French\\n99%\\n\\nEnglish\\n1%\\n\\nOthers languages\\n0%', 'French\\n99%\\n\\nEnglish\\n1%\\n\\nOthers languages\\n0%', 'French\\n99%\\n\\nEnglish\\n1%\\n\\nOthers languages\\n0%', 'French\\n99%\\n\\nEnglish\\n1%\\n\\nOthers languages\\n0%', 'French\\n99%\\n\\nEnglish\\n1%\\n\\nOthers languages\\n0%', 'French\\n99%\\n\\nEnglish\\n1%\\n\\nOthers languages\\n0%', 'French\\n99%\\n\\nEnglish\\n1%\\n\\nOthers languages\\n0%', 'French\\n99%\\n\\nEnglish\\n1%\\n\\nOthers languages\\n0%']\n",
      "Next page button not available\n",
      "Starting scrape process.\n",
      "[<selenium.webdriver.remote.webelement.WebElement (session=\"8006c9fe12c138a0128e27295a872e20\", element=\"f77c6b47-30b0-4129-96c5-cf6f5338f01c\")>]\n",
      "[<selenium.webdriver.remote.webelement.WebElement (session=\"8006c9fe12c138a0128e27295a872e20\", element=\"f77c6b47-30b0-4129-96c5-cf6f5338f01c\")>]\n",
      "[<selenium.webdriver.remote.webelement.WebElement (session=\"8006c9fe12c138a0128e27295a872e20\", element=\"f77c6b47-30b0-4129-96c5-cf6f5338f01c\")>]\n",
      "[<selenium.webdriver.remote.webelement.WebElement (session=\"8006c9fe12c138a0128e27295a872e20\", element=\"f77c6b47-30b0-4129-96c5-cf6f5338f01c\")>]\n",
      "[<selenium.webdriver.remote.webelement.WebElement (session=\"8006c9fe12c138a0128e27295a872e20\", element=\"f77c6b47-30b0-4129-96c5-cf6f5338f01c\")>]\n",
      "[<selenium.webdriver.remote.webelement.WebElement (session=\"8006c9fe12c138a0128e27295a872e20\", element=\"f77c6b47-30b0-4129-96c5-cf6f5338f01c\")>]\n",
      "[<selenium.webdriver.remote.webelement.WebElement (session=\"8006c9fe12c138a0128e27295a872e20\", element=\"f77c6b47-30b0-4129-96c5-cf6f5338f01c\")>]\n",
      "[<selenium.webdriver.remote.webelement.WebElement (session=\"8006c9fe12c138a0128e27295a872e20\", element=\"f77c6b47-30b0-4129-96c5-cf6f5338f01c\")>]\n",
      "[<selenium.webdriver.remote.webelement.WebElement (session=\"8006c9fe12c138a0128e27295a872e20\", element=\"f77c6b47-30b0-4129-96c5-cf6f5338f01c\")>]\n",
      "['Features', '?', 'Lifestyle', '9 rooms', '3 bedrooms', '1 bathroom and 1 powder room', 'Condominium type', 'Divided', 'Building style', 'Attached', 'Year built', '2009', 'Lot area', '5,535 sqft', 'Parking (total)', 'Driveway (2)', 'Fireplace/Stove', 'Gas fireplace']\n",
      "['Quiet', '10', 'Car friendly', '10', 'Elementary Schools', '0', 'High Schools', '0', 'Daycares', '0', 'Pedestrian friendly', '0', 'Groceries', '0', 'Vibrant', '0']\n",
      "['Population (2016) 2,193', 'Population variation between 2011 and 2016 0%', 'Population density 13 hab/km2', 'Unemployment rate (2016) 7%']\n",
      "Numeber of buttons: 9\n",
      "['Non-immigrant population\\n98%\\n\\nImmigrant population\\n2%', 'Non-immigrant population\\n98%\\n\\nImmigrant population\\n2%', 'Non-immigrant population\\n98%\\n\\nImmigrant population\\n2%', 'Non-immigrant population\\n98%\\n\\nImmigrant population\\n2%', 'Non-immigrant population\\n98%\\n\\nImmigrant population\\n2%', 'Non-immigrant population\\n98%\\n\\nImmigrant population\\n2%', 'Non-immigrant population\\n98%\\n\\nImmigrant population\\n2%', 'Non-immigrant population\\n98%\\n\\nImmigrant population\\n2%', 'Non-immigrant population\\n98%\\n\\nImmigrant population\\n2%']\n"
     ]
    }
   ],
   "source": [
    "centris.get_data_from_link()\n",
    "centris.next_page()\n",
    "centris.get_data_from_link()"
   ]
  },
  {
   "cell_type": "code",
   "execution_count": 470,
   "metadata": {},
   "outputs": [],
   "source": [
    "browser = webdriver.Chrome('C:/webdriver/chromedriver.exe')\n",
    "browser.get(\"https://www.centris.ca/en/lots~for-sale~terrebonne-lachenaie/12479005?view=Summary&uc=1\")\n",
    "browser.find_element_by_tag_name(\"body\").send_keys(Keys.PAGE_DOWN)"
   ]
  },
  {
   "cell_type": "code",
   "execution_count": 473,
   "metadata": {},
   "outputs": [
    {
     "data": {
      "text/plain": [
       "<selenium.webdriver.remote.webelement.WebElement (session=\"7d04f02d53d5f761449e6ce684bac0e3\", element=\"a425e126-6a30-4109-89a3-560e2a4a5b79\")>"
      ]
     },
     "execution_count": 473,
     "metadata": {},
     "output_type": "execute_result"
    }
   ],
   "source": [
    "browser.find_element_by_xpath(\\\n",
    "        \"//div[@class='ll-list ps ps--active-y']\")"
   ]
  },
  {
   "cell_type": "code",
   "execution_count": 472,
   "metadata": {},
   "outputs": [],
   "source": [
    "browser.find_element_by_tag_name(\"body\").send_keys(Keys.PAGE_DOWN)"
   ]
  },
  {
   "cell_type": "code",
   "execution_count": 507,
   "metadata": {},
   "outputs": [],
   "source": []
  },
  {
   "cell_type": "code",
   "execution_count": null,
   "metadata": {},
   "outputs": [],
   "source": []
  }
 ],
 "metadata": {
  "kernelspec": {
   "display_name": "Python 3",
   "language": "python",
   "name": "python3"
  },
  "language_info": {
   "codemirror_mode": {
    "name": "ipython",
    "version": 3
   },
   "file_extension": ".py",
   "mimetype": "text/x-python",
   "name": "python",
   "nbconvert_exporter": "python",
   "pygments_lexer": "ipython3",
   "version": "3.7.4"
  }
 },
 "nbformat": 4,
 "nbformat_minor": 2
}
