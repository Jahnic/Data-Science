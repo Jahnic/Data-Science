{
 "metadata": {
  "language_info": {
   "codemirror_mode": {
    "name": "ipython",
    "version": 3
   },
   "file_extension": ".py",
   "mimetype": "text/x-python",
   "name": "python",
   "nbconvert_exporter": "python",
   "pygments_lexer": "ipython3",
   "version": "3.6.9-final"
  },
  "orig_nbformat": 2,
  "kernelspec": {
   "name": "python36964bit16c7df5d1eb74842826b38abd9b84d10",
   "display_name": "Python 3.6.9 64-bit"
  }
 },
 "nbformat": 4,
 "nbformat_minor": 2,
 "cells": [
  {
   "cell_type": "markdown",
   "metadata": {},
   "source": [
    "# K-Nearest Neighbors of AirBnB listings\n",
    "\n",
    "Data from [insideairbnb](http://insideairbnb.com/get-the-data.html), contains listings of Boston compailed on June 10, 2020.\n",
    "\n",
    "Objective:  \n",
    "We want to aggregate similar listings and calculate their avaerage price. The output would serve as an indicator for potentially over or under priced listings."
   ]
  },
  {
   "cell_type": "code",
   "execution_count": 66,
   "metadata": {},
   "outputs": [],
   "source": [
    "import pandas as pd\n",
    "import numpy as np\n",
    "from scipy.spatial import distance"
   ]
  },
  {
   "cell_type": "code",
   "execution_count": 31,
   "metadata": {
    "tags": []
   },
   "outputs": [
    {
     "output_type": "execute_result",
     "data": {
      "text/plain": "      id                         listing_url       scrape_id last_scraped  \\\n0   3781   https://www.airbnb.com/rooms/3781  20200610033559   2020-06-10   \n1   5506   https://www.airbnb.com/rooms/5506  20200610033559   2020-06-10   \n2   6695   https://www.airbnb.com/rooms/6695  20200610033559   2020-06-10   \n3   8789   https://www.airbnb.com/rooms/8789  20200610033559   2020-06-10   \n4  10730  https://www.airbnb.com/rooms/10730  20200610033559   2020-06-10   \n\n                                             name  \\\n0                       HARBORSIDE-Walk to subway   \n1  **$49 Special **   Private! Minutes to center!   \n2                  $99 Special!! Home Away! Condo   \n3             Curved Glass Studio/1bd facing Park   \n4                  Bright 1bed facing Golden Dome   \n\n                                             summary  \\\n0  Fully separate apartment in a two apartment bu...   \n1  Private guest room with private bath, You do n...   \n2  Comfortable,  Fully Equipped private apartment...   \n3  Bright, 1 bed with curved glass windows facing...   \n4  Bright, spacious unit, new galley kitchen, new...   \n\n                                               space  \\\n0  This is a totally separate apartment located o...   \n1  **THE BEST Value in BOSTON!!*** PRIVATE GUEST ...   \n2  ** WELCOME *** FULL PRIVATE APARTMENT In a His...   \n3  Fully Furnished studio with enclosed bedroom. ...   \n4  Bright one bed facing the golden dome of the S...   \n\n                                         description experiences_offered  \\\n0  Fully separate apartment in a two apartment bu...                none   \n1  Private guest room with private bath, You do n...                none   \n2  Comfortable,  Fully Equipped private apartment...                none   \n3  Bright, 1 bed with curved glass windows facing...                none   \n4  Bright, spacious unit, new galley kitchen, new...                none   \n\n                               neighborhood_overview  \\\n0  Mostly quiet ( no loud music, no crowed sidewa...   \n1  Peacful, Architecturally interesting, historic...   \n2  Peaceful, Architecturally interesting, histori...   \n3  Beacon Hill is a historic neighborhood filled ...   \n4  Beacon Hill is located downtown and is conveni...   \n\n                                               notes  \\\n0  Building is on quiet side of airport. Building...   \n1  Guest room is on the 3rd floor,  Steps are req...   \n2  Check out some of the other accommodations we ...   \n3  Guests should expect to show government ID to ...   \n4  Guests should expect to show government ID to ...   \n\n                                             transit  \\\n0  Local subway stop ( Maverick Station on the Bl...   \n1  Excellent Access to all of Boston, Walk to Mus...   \n2  We are a 5 minute walk to the subway,  5 minut...   \n3  The MBTA site is a great reference for public ...   \n4  The Red Park Street Train stop and the Green B...   \n\n                                              access  \\\n0  Guests solely occupy the 1 floor apartment wit...   \n1  You get full access to the guest room with pri...   \n2  Full Private apartment.  1 bedroom,  kitchen, ...   \n3                Guests have access to the full unit   \n4      Guests have access to everything in the unit.   \n\n                                         interaction  \\\n0  We sometimes travel. Always available via: mob...   \n1  We give guests privacy,  but we are available ...   \n2                                                NaN   \n3         I'm available for questions and/or issues.   \n4                           I'm available as needed.   \n\n                                         house_rules  thumbnail_url  \\\n0                               No pets, no smoking.            NaN   \n1                        No Smoking in the Building.            NaN   \n2                        No Smoking in the Building.            NaN   \n3                                                NaN            NaN   \n4  NO SMOKING, NO PETS. $100 move-in fee payable ...            NaN   \n\n   medium_url                                        picture_url  \\\n0         NaN  https://a0.muscache.com/im/pictures/24670/b2de...   \n1         NaN  https://a0.muscache.com/im/pictures/1598e8b6-5...   \n2         NaN  https://a0.muscache.com/im/pictures/38ac4797-e...   \n3         NaN  https://a0.muscache.com/im/pictures/32210/7fdd...   \n4         NaN  https://a0.muscache.com/im/pictures/45296/e534...   \n\n   xl_picture_url  host_id                                 host_url host_name  \\\n0             NaN     4804   https://www.airbnb.com/users/show/4804     Frank   \n1             NaN     8229   https://www.airbnb.com/users/show/8229     Terry   \n2             NaN     8229   https://www.airbnb.com/users/show/8229     Terry   \n3             NaN    26988  https://www.airbnb.com/users/show/26988      Anne   \n4             NaN    26988  https://www.airbnb.com/users/show/26988      Anne   \n\n   host_since                         host_location  \\\n0  2008-12-03                         Massachusetts   \n1  2009-02-19  Boston, Massachusetts, United States   \n2  2009-02-19  Boston, Massachusetts, United States   \n3  2009-07-22  Boston, Massachusetts, United States   \n4  2009-07-22  Boston, Massachusetts, United States   \n\n                                          host_about  host_response_time  \\\n0  My wife and I and grown children frequently oc...        within a day   \n1              Relaxed,  Easy going, Accommodating.       within an hour   \n2              Relaxed,  Easy going, Accommodating.       within an hour   \n3  I manage a number of furnished units around Bo...  within a few hours   \n4  I manage a number of furnished units around Bo...  within a few hours   \n\n  host_response_rate host_acceptance_rate host_is_superhost  \\\n0                75%                  44%                 t   \n1               100%                 100%                 t   \n2               100%                 100%                 t   \n3               100%                  82%                 t   \n4               100%                  82%                 t   \n\n                                  host_thumbnail_url  \\\n0  https://a0.muscache.com/im/users/4804/profile_...   \n1  https://a0.muscache.com/im/users/8229/profile_...   \n2  https://a0.muscache.com/im/users/8229/profile_...   \n3  https://a0.muscache.com/im/pictures/user/d7d71...   \n4  https://a0.muscache.com/im/pictures/user/d7d71...   \n\n                                    host_picture_url host_neighbourhood  \\\n0  https://a0.muscache.com/im/users/4804/profile_...        East Boston   \n1  https://a0.muscache.com/im/users/8229/profile_...            Roxbury   \n2  https://a0.muscache.com/im/users/8229/profile_...            Roxbury   \n3  https://a0.muscache.com/im/pictures/user/d7d71...        Beacon Hill   \n4  https://a0.muscache.com/im/pictures/user/d7d71...        Beacon Hill   \n\n   host_listings_count  host_total_listings_count  \\\n0                  5.0                        5.0   \n1                  2.0                        2.0   \n2                  2.0                        2.0   \n3                 10.0                       10.0   \n4                 10.0                       10.0   \n\n                                  host_verifications host_has_profile_pic  \\\n0                      ['email', 'phone', 'reviews']                    t   \n1               ['email', 'phone', 'reviews', 'kba']                    t   \n2               ['email', 'phone', 'reviews', 'kba']                    t   \n3  ['email', 'phone', 'reviews', 'jumio', 'offlin...                    t   \n4  ['email', 'phone', 'reviews', 'jumio', 'offlin...                    t   \n\n  host_identity_verified                     street neighbourhood  \\\n0                      f  Boston, MA, United States   East Boston   \n1                      t  Boston, MA, United States       Roxbury   \n2                      t  Boston, MA, United States       Roxbury   \n3                      f  Boston, MA, United States   Beacon Hill   \n4                      f  Boston, MA, United States   Beacon Hill   \n\n  neighbourhood_cleansed  neighbourhood_group_cleansed    city state zipcode  \\\n0            East Boston                           NaN  Boston    MA   02128   \n1                Roxbury                           NaN  Boston    MA   02119   \n2                Roxbury                           NaN  Boston    MA   02119   \n3               Downtown                           NaN  Boston    MA   02108   \n4               Downtown                           NaN  Boston    MA   02108   \n\n   market smart_location country_code        country  latitude  longitude  \\\n0  Boston     Boston, MA           US  United States  42.36413  -71.02991   \n1  Boston     Boston, MA           US  United States  42.32981  -71.09559   \n2  Boston     Boston, MA           US  United States  42.32994  -71.09351   \n3  Boston     Boston, MA           US  United States  42.35919  -71.06265   \n4  Boston     Boston, MA           US  United States  42.35840  -71.06185   \n\n  is_location_exact property_type        room_type  accommodates  bathrooms  \\\n0                 t     Apartment  Entire home/apt             2        1.0   \n1                 t   Guest suite  Entire home/apt             2        1.0   \n2                 t   Condominium  Entire home/apt             4        1.0   \n3                 t     Apartment  Entire home/apt             2        1.0   \n4                 t     Apartment  Entire home/apt             2        1.0   \n\n   bedrooms  beds  bed_type  \\\n0       1.0   0.0  Real Bed   \n1       1.0   1.0  Real Bed   \n2       1.0   1.0  Real Bed   \n3       1.0   1.0  Real Bed   \n4       1.0   1.0  Real Bed   \n\n                                           amenities  square_feet    price  \\\n0  {TV,\"Cable TV\",Wifi,\"Air conditioning\",Kitchen...          NaN  $125.00   \n1  {TV,\"Cable TV\",Internet,Wifi,\"Air conditioning...        225.0  $145.00   \n2  {TV,\"Cable TV\",Internet,Wifi,\"Air conditioning...          NaN  $169.00   \n3  {TV,\"Cable TV\",Internet,Wifi,\"Air conditioning...          NaN   $99.00   \n4  {TV,\"Cable TV\",Internet,Wifi,\"Air conditioning...          NaN  $150.00   \n\n  weekly_price monthly_price security_deposit cleaning_fee  guests_included  \\\n0      $750.00     $2,250.00            $0.00       $75.00                2   \n1      $980.00     $3,000.00            $0.00       $60.00                1   \n2          NaN           NaN            $0.00       $80.00                2   \n3    $1,200.00     $2,900.00        $1,000.00      $250.00                1   \n4    $1,200.00     $3,000.00        $1,000.00      $250.00                1   \n\n  extra_people  minimum_nights  maximum_nights  minimum_minimum_nights  \\\n0        $0.00              28            1125                      28   \n1        $0.00               3             730                       3   \n2        $8.00               3             730                       3   \n3        $0.00              91             365                      91   \n4        $0.00              91             365                      91   \n\n   maximum_minimum_nights  minimum_maximum_nights  maximum_maximum_nights  \\\n0                      28                    1125                    1125   \n1                       3                    1125                    1125   \n2                       3                     730                     730   \n3                      91                     365                     365   \n4                      91                     365                     365   \n\n   minimum_nights_avg_ntm  maximum_nights_avg_ntm calendar_updated  \\\n0                    28.0                  1125.0     4 months ago   \n1                     3.0                  1125.0     3 months ago   \n2                     3.0                   730.0     3 months ago   \n3                    91.0                   365.0     9 months ago   \n4                    91.0                   365.0      6 weeks ago   \n\n  has_availability  availability_30  availability_60  availability_90  \\\n0                t                0                0                7   \n1                t               10               40               70   \n2                t               10               33               56   \n3                t               30               60               90   \n4                t                0                0                7   \n\n   availability_365 calendar_last_scraped  number_of_reviews  \\\n0                97            2020-06-10                 16   \n1               333            2020-06-10                107   \n2               317            2020-06-10                115   \n3               365            2020-06-10                 25   \n4               282            2020-06-10                 32   \n\n   number_of_reviews_ltm first_review last_review  review_scores_rating  \\\n0                      1   2015-07-10  2019-12-21                  99.0   \n1                     17   2009-03-21  2020-05-01                  95.0   \n2                     19   2009-08-06  2019-11-02                  96.0   \n3                      2   2014-08-12  2020-04-15                  93.0   \n4                      3   2009-09-21  2020-04-16                  96.0   \n\n   review_scores_accuracy  review_scores_cleanliness  review_scores_checkin  \\\n0                    10.0                       10.0                   10.0   \n1                    10.0                       10.0                   10.0   \n2                    10.0                       10.0                   10.0   \n3                     9.0                        9.0                   10.0   \n4                    10.0                        9.0                   10.0   \n\n   review_scores_communication  review_scores_location  review_scores_value  \\\n0                         10.0                    10.0                 10.0   \n1                         10.0                     9.0                 10.0   \n2                         10.0                     9.0                 10.0   \n3                         10.0                    10.0                  9.0   \n4                         10.0                    10.0                  9.0   \n\n  requires_license                                            license  \\\n0                t                                                NaN   \n1                t  Exempt: This listing is a unit that has contra...   \n2                t                                         STR-404620   \n3                t                                                NaN   \n4                t                                                NaN   \n\n                               jurisdiction_names instant_bookable  \\\n0  {\"Massachusetts State\",\" Massachusetts State\"}                f   \n1  {\"Massachusetts State\",\" Massachusetts State\"}                t   \n2  {\"Massachusetts State\",\" Massachusetts State\"}                t   \n3  {\"Massachusetts State\",\" Massachusetts State\"}                f   \n4  {\"Massachusetts State\",\" Massachusetts State\"}                f   \n\n  is_business_travel_ready          cancellation_policy  \\\n0                        f              super_strict_30   \n1                        f  strict_14_with_grace_period   \n2                        f  strict_14_with_grace_period   \n3                        f  strict_14_with_grace_period   \n4                        f  strict_14_with_grace_period   \n\n  require_guest_profile_picture require_guest_phone_verification  \\\n0                             f                                f   \n1                             f                                f   \n2                             f                                f   \n3                             f                                f   \n4                             f                                f   \n\n   calculated_host_listings_count  \\\n0                               1   \n1                               6   \n2                               6   \n3                               8   \n4                               8   \n\n   calculated_host_listings_count_entire_homes  \\\n0                                            1   \n1                                            6   \n2                                            6   \n3                                            8   \n4                                            8   \n\n   calculated_host_listings_count_private_rooms  \\\n0                                             0   \n1                                             0   \n2                                             0   \n3                                             0   \n4                                             0   \n\n   calculated_host_listings_count_shared_rooms  reviews_per_month  \n0                                            0               0.27  \n1                                            0               0.78  \n2                                            0               0.87  \n3                                            0               0.35  \n4                                            0               0.25  ",
      "text/html": "<div>\n<style scoped>\n    .dataframe tbody tr th:only-of-type {\n        vertical-align: middle;\n    }\n\n    .dataframe tbody tr th {\n        vertical-align: top;\n    }\n\n    .dataframe thead th {\n        text-align: right;\n    }\n</style>\n<table border=\"1\" class=\"dataframe\">\n  <thead>\n    <tr style=\"text-align: right;\">\n      <th></th>\n      <th>id</th>\n      <th>listing_url</th>\n      <th>scrape_id</th>\n      <th>last_scraped</th>\n      <th>name</th>\n      <th>summary</th>\n      <th>space</th>\n      <th>description</th>\n      <th>experiences_offered</th>\n      <th>neighborhood_overview</th>\n      <th>notes</th>\n      <th>transit</th>\n      <th>access</th>\n      <th>interaction</th>\n      <th>house_rules</th>\n      <th>thumbnail_url</th>\n      <th>medium_url</th>\n      <th>picture_url</th>\n      <th>xl_picture_url</th>\n      <th>host_id</th>\n      <th>host_url</th>\n      <th>host_name</th>\n      <th>host_since</th>\n      <th>host_location</th>\n      <th>host_about</th>\n      <th>host_response_time</th>\n      <th>host_response_rate</th>\n      <th>host_acceptance_rate</th>\n      <th>host_is_superhost</th>\n      <th>host_thumbnail_url</th>\n      <th>host_picture_url</th>\n      <th>host_neighbourhood</th>\n      <th>host_listings_count</th>\n      <th>host_total_listings_count</th>\n      <th>host_verifications</th>\n      <th>host_has_profile_pic</th>\n      <th>host_identity_verified</th>\n      <th>street</th>\n      <th>neighbourhood</th>\n      <th>neighbourhood_cleansed</th>\n      <th>neighbourhood_group_cleansed</th>\n      <th>city</th>\n      <th>state</th>\n      <th>zipcode</th>\n      <th>market</th>\n      <th>smart_location</th>\n      <th>country_code</th>\n      <th>country</th>\n      <th>latitude</th>\n      <th>longitude</th>\n      <th>is_location_exact</th>\n      <th>property_type</th>\n      <th>room_type</th>\n      <th>accommodates</th>\n      <th>bathrooms</th>\n      <th>bedrooms</th>\n      <th>beds</th>\n      <th>bed_type</th>\n      <th>amenities</th>\n      <th>square_feet</th>\n      <th>price</th>\n      <th>weekly_price</th>\n      <th>monthly_price</th>\n      <th>security_deposit</th>\n      <th>cleaning_fee</th>\n      <th>guests_included</th>\n      <th>extra_people</th>\n      <th>minimum_nights</th>\n      <th>maximum_nights</th>\n      <th>minimum_minimum_nights</th>\n      <th>maximum_minimum_nights</th>\n      <th>minimum_maximum_nights</th>\n      <th>maximum_maximum_nights</th>\n      <th>minimum_nights_avg_ntm</th>\n      <th>maximum_nights_avg_ntm</th>\n      <th>calendar_updated</th>\n      <th>has_availability</th>\n      <th>availability_30</th>\n      <th>availability_60</th>\n      <th>availability_90</th>\n      <th>availability_365</th>\n      <th>calendar_last_scraped</th>\n      <th>number_of_reviews</th>\n      <th>number_of_reviews_ltm</th>\n      <th>first_review</th>\n      <th>last_review</th>\n      <th>review_scores_rating</th>\n      <th>review_scores_accuracy</th>\n      <th>review_scores_cleanliness</th>\n      <th>review_scores_checkin</th>\n      <th>review_scores_communication</th>\n      <th>review_scores_location</th>\n      <th>review_scores_value</th>\n      <th>requires_license</th>\n      <th>license</th>\n      <th>jurisdiction_names</th>\n      <th>instant_bookable</th>\n      <th>is_business_travel_ready</th>\n      <th>cancellation_policy</th>\n      <th>require_guest_profile_picture</th>\n      <th>require_guest_phone_verification</th>\n      <th>calculated_host_listings_count</th>\n      <th>calculated_host_listings_count_entire_homes</th>\n      <th>calculated_host_listings_count_private_rooms</th>\n      <th>calculated_host_listings_count_shared_rooms</th>\n      <th>reviews_per_month</th>\n    </tr>\n  </thead>\n  <tbody>\n    <tr>\n      <th>0</th>\n      <td>3781</td>\n      <td>https://www.airbnb.com/rooms/3781</td>\n      <td>20200610033559</td>\n      <td>2020-06-10</td>\n      <td>HARBORSIDE-Walk to subway</td>\n      <td>Fully separate apartment in a two apartment bu...</td>\n      <td>This is a totally separate apartment located o...</td>\n      <td>Fully separate apartment in a two apartment bu...</td>\n      <td>none</td>\n      <td>Mostly quiet ( no loud music, no crowed sidewa...</td>\n      <td>Building is on quiet side of airport. Building...</td>\n      <td>Local subway stop ( Maverick Station on the Bl...</td>\n      <td>Guests solely occupy the 1 floor apartment wit...</td>\n      <td>We sometimes travel. Always available via: mob...</td>\n      <td>No pets, no smoking.</td>\n      <td>NaN</td>\n      <td>NaN</td>\n      <td>https://a0.muscache.com/im/pictures/24670/b2de...</td>\n      <td>NaN</td>\n      <td>4804</td>\n      <td>https://www.airbnb.com/users/show/4804</td>\n      <td>Frank</td>\n      <td>2008-12-03</td>\n      <td>Massachusetts</td>\n      <td>My wife and I and grown children frequently oc...</td>\n      <td>within a day</td>\n      <td>75%</td>\n      <td>44%</td>\n      <td>t</td>\n      <td>https://a0.muscache.com/im/users/4804/profile_...</td>\n      <td>https://a0.muscache.com/im/users/4804/profile_...</td>\n      <td>East Boston</td>\n      <td>5.0</td>\n      <td>5.0</td>\n      <td>['email', 'phone', 'reviews']</td>\n      <td>t</td>\n      <td>f</td>\n      <td>Boston, MA, United States</td>\n      <td>East Boston</td>\n      <td>East Boston</td>\n      <td>NaN</td>\n      <td>Boston</td>\n      <td>MA</td>\n      <td>02128</td>\n      <td>Boston</td>\n      <td>Boston, MA</td>\n      <td>US</td>\n      <td>United States</td>\n      <td>42.36413</td>\n      <td>-71.02991</td>\n      <td>t</td>\n      <td>Apartment</td>\n      <td>Entire home/apt</td>\n      <td>2</td>\n      <td>1.0</td>\n      <td>1.0</td>\n      <td>0.0</td>\n      <td>Real Bed</td>\n      <td>{TV,\"Cable TV\",Wifi,\"Air conditioning\",Kitchen...</td>\n      <td>NaN</td>\n      <td>$125.00</td>\n      <td>$750.00</td>\n      <td>$2,250.00</td>\n      <td>$0.00</td>\n      <td>$75.00</td>\n      <td>2</td>\n      <td>$0.00</td>\n      <td>28</td>\n      <td>1125</td>\n      <td>28</td>\n      <td>28</td>\n      <td>1125</td>\n      <td>1125</td>\n      <td>28.0</td>\n      <td>1125.0</td>\n      <td>4 months ago</td>\n      <td>t</td>\n      <td>0</td>\n      <td>0</td>\n      <td>7</td>\n      <td>97</td>\n      <td>2020-06-10</td>\n      <td>16</td>\n      <td>1</td>\n      <td>2015-07-10</td>\n      <td>2019-12-21</td>\n      <td>99.0</td>\n      <td>10.0</td>\n      <td>10.0</td>\n      <td>10.0</td>\n      <td>10.0</td>\n      <td>10.0</td>\n      <td>10.0</td>\n      <td>t</td>\n      <td>NaN</td>\n      <td>{\"Massachusetts State\",\" Massachusetts State\"}</td>\n      <td>f</td>\n      <td>f</td>\n      <td>super_strict_30</td>\n      <td>f</td>\n      <td>f</td>\n      <td>1</td>\n      <td>1</td>\n      <td>0</td>\n      <td>0</td>\n      <td>0.27</td>\n    </tr>\n    <tr>\n      <th>1</th>\n      <td>5506</td>\n      <td>https://www.airbnb.com/rooms/5506</td>\n      <td>20200610033559</td>\n      <td>2020-06-10</td>\n      <td>**$49 Special **   Private! Minutes to center!</td>\n      <td>Private guest room with private bath, You do n...</td>\n      <td>**THE BEST Value in BOSTON!!*** PRIVATE GUEST ...</td>\n      <td>Private guest room with private bath, You do n...</td>\n      <td>none</td>\n      <td>Peacful, Architecturally interesting, historic...</td>\n      <td>Guest room is on the 3rd floor,  Steps are req...</td>\n      <td>Excellent Access to all of Boston, Walk to Mus...</td>\n      <td>You get full access to the guest room with pri...</td>\n      <td>We give guests privacy,  but we are available ...</td>\n      <td>No Smoking in the Building.</td>\n      <td>NaN</td>\n      <td>NaN</td>\n      <td>https://a0.muscache.com/im/pictures/1598e8b6-5...</td>\n      <td>NaN</td>\n      <td>8229</td>\n      <td>https://www.airbnb.com/users/show/8229</td>\n      <td>Terry</td>\n      <td>2009-02-19</td>\n      <td>Boston, Massachusetts, United States</td>\n      <td>Relaxed,  Easy going, Accommodating.</td>\n      <td>within an hour</td>\n      <td>100%</td>\n      <td>100%</td>\n      <td>t</td>\n      <td>https://a0.muscache.com/im/users/8229/profile_...</td>\n      <td>https://a0.muscache.com/im/users/8229/profile_...</td>\n      <td>Roxbury</td>\n      <td>2.0</td>\n      <td>2.0</td>\n      <td>['email', 'phone', 'reviews', 'kba']</td>\n      <td>t</td>\n      <td>t</td>\n      <td>Boston, MA, United States</td>\n      <td>Roxbury</td>\n      <td>Roxbury</td>\n      <td>NaN</td>\n      <td>Boston</td>\n      <td>MA</td>\n      <td>02119</td>\n      <td>Boston</td>\n      <td>Boston, MA</td>\n      <td>US</td>\n      <td>United States</td>\n      <td>42.32981</td>\n      <td>-71.09559</td>\n      <td>t</td>\n      <td>Guest suite</td>\n      <td>Entire home/apt</td>\n      <td>2</td>\n      <td>1.0</td>\n      <td>1.0</td>\n      <td>1.0</td>\n      <td>Real Bed</td>\n      <td>{TV,\"Cable TV\",Internet,Wifi,\"Air conditioning...</td>\n      <td>225.0</td>\n      <td>$145.00</td>\n      <td>$980.00</td>\n      <td>$3,000.00</td>\n      <td>$0.00</td>\n      <td>$60.00</td>\n      <td>1</td>\n      <td>$0.00</td>\n      <td>3</td>\n      <td>730</td>\n      <td>3</td>\n      <td>3</td>\n      <td>1125</td>\n      <td>1125</td>\n      <td>3.0</td>\n      <td>1125.0</td>\n      <td>3 months ago</td>\n      <td>t</td>\n      <td>10</td>\n      <td>40</td>\n      <td>70</td>\n      <td>333</td>\n      <td>2020-06-10</td>\n      <td>107</td>\n      <td>17</td>\n      <td>2009-03-21</td>\n      <td>2020-05-01</td>\n      <td>95.0</td>\n      <td>10.0</td>\n      <td>10.0</td>\n      <td>10.0</td>\n      <td>10.0</td>\n      <td>9.0</td>\n      <td>10.0</td>\n      <td>t</td>\n      <td>Exempt: This listing is a unit that has contra...</td>\n      <td>{\"Massachusetts State\",\" Massachusetts State\"}</td>\n      <td>t</td>\n      <td>f</td>\n      <td>strict_14_with_grace_period</td>\n      <td>f</td>\n      <td>f</td>\n      <td>6</td>\n      <td>6</td>\n      <td>0</td>\n      <td>0</td>\n      <td>0.78</td>\n    </tr>\n    <tr>\n      <th>2</th>\n      <td>6695</td>\n      <td>https://www.airbnb.com/rooms/6695</td>\n      <td>20200610033559</td>\n      <td>2020-06-10</td>\n      <td>$99 Special!! Home Away! Condo</td>\n      <td>Comfortable,  Fully Equipped private apartment...</td>\n      <td>** WELCOME *** FULL PRIVATE APARTMENT In a His...</td>\n      <td>Comfortable,  Fully Equipped private apartment...</td>\n      <td>none</td>\n      <td>Peaceful, Architecturally interesting, histori...</td>\n      <td>Check out some of the other accommodations we ...</td>\n      <td>We are a 5 minute walk to the subway,  5 minut...</td>\n      <td>Full Private apartment.  1 bedroom,  kitchen, ...</td>\n      <td>NaN</td>\n      <td>No Smoking in the Building.</td>\n      <td>NaN</td>\n      <td>NaN</td>\n      <td>https://a0.muscache.com/im/pictures/38ac4797-e...</td>\n      <td>NaN</td>\n      <td>8229</td>\n      <td>https://www.airbnb.com/users/show/8229</td>\n      <td>Terry</td>\n      <td>2009-02-19</td>\n      <td>Boston, Massachusetts, United States</td>\n      <td>Relaxed,  Easy going, Accommodating.</td>\n      <td>within an hour</td>\n      <td>100%</td>\n      <td>100%</td>\n      <td>t</td>\n      <td>https://a0.muscache.com/im/users/8229/profile_...</td>\n      <td>https://a0.muscache.com/im/users/8229/profile_...</td>\n      <td>Roxbury</td>\n      <td>2.0</td>\n      <td>2.0</td>\n      <td>['email', 'phone', 'reviews', 'kba']</td>\n      <td>t</td>\n      <td>t</td>\n      <td>Boston, MA, United States</td>\n      <td>Roxbury</td>\n      <td>Roxbury</td>\n      <td>NaN</td>\n      <td>Boston</td>\n      <td>MA</td>\n      <td>02119</td>\n      <td>Boston</td>\n      <td>Boston, MA</td>\n      <td>US</td>\n      <td>United States</td>\n      <td>42.32994</td>\n      <td>-71.09351</td>\n      <td>t</td>\n      <td>Condominium</td>\n      <td>Entire home/apt</td>\n      <td>4</td>\n      <td>1.0</td>\n      <td>1.0</td>\n      <td>1.0</td>\n      <td>Real Bed</td>\n      <td>{TV,\"Cable TV\",Internet,Wifi,\"Air conditioning...</td>\n      <td>NaN</td>\n      <td>$169.00</td>\n      <td>NaN</td>\n      <td>NaN</td>\n      <td>$0.00</td>\n      <td>$80.00</td>\n      <td>2</td>\n      <td>$8.00</td>\n      <td>3</td>\n      <td>730</td>\n      <td>3</td>\n      <td>3</td>\n      <td>730</td>\n      <td>730</td>\n      <td>3.0</td>\n      <td>730.0</td>\n      <td>3 months ago</td>\n      <td>t</td>\n      <td>10</td>\n      <td>33</td>\n      <td>56</td>\n      <td>317</td>\n      <td>2020-06-10</td>\n      <td>115</td>\n      <td>19</td>\n      <td>2009-08-06</td>\n      <td>2019-11-02</td>\n      <td>96.0</td>\n      <td>10.0</td>\n      <td>10.0</td>\n      <td>10.0</td>\n      <td>10.0</td>\n      <td>9.0</td>\n      <td>10.0</td>\n      <td>t</td>\n      <td>STR-404620</td>\n      <td>{\"Massachusetts State\",\" Massachusetts State\"}</td>\n      <td>t</td>\n      <td>f</td>\n      <td>strict_14_with_grace_period</td>\n      <td>f</td>\n      <td>f</td>\n      <td>6</td>\n      <td>6</td>\n      <td>0</td>\n      <td>0</td>\n      <td>0.87</td>\n    </tr>\n    <tr>\n      <th>3</th>\n      <td>8789</td>\n      <td>https://www.airbnb.com/rooms/8789</td>\n      <td>20200610033559</td>\n      <td>2020-06-10</td>\n      <td>Curved Glass Studio/1bd facing Park</td>\n      <td>Bright, 1 bed with curved glass windows facing...</td>\n      <td>Fully Furnished studio with enclosed bedroom. ...</td>\n      <td>Bright, 1 bed with curved glass windows facing...</td>\n      <td>none</td>\n      <td>Beacon Hill is a historic neighborhood filled ...</td>\n      <td>Guests should expect to show government ID to ...</td>\n      <td>The MBTA site is a great reference for public ...</td>\n      <td>Guests have access to the full unit</td>\n      <td>I'm available for questions and/or issues.</td>\n      <td>NaN</td>\n      <td>NaN</td>\n      <td>NaN</td>\n      <td>https://a0.muscache.com/im/pictures/32210/7fdd...</td>\n      <td>NaN</td>\n      <td>26988</td>\n      <td>https://www.airbnb.com/users/show/26988</td>\n      <td>Anne</td>\n      <td>2009-07-22</td>\n      <td>Boston, Massachusetts, United States</td>\n      <td>I manage a number of furnished units around Bo...</td>\n      <td>within a few hours</td>\n      <td>100%</td>\n      <td>82%</td>\n      <td>t</td>\n      <td>https://a0.muscache.com/im/pictures/user/d7d71...</td>\n      <td>https://a0.muscache.com/im/pictures/user/d7d71...</td>\n      <td>Beacon Hill</td>\n      <td>10.0</td>\n      <td>10.0</td>\n      <td>['email', 'phone', 'reviews', 'jumio', 'offlin...</td>\n      <td>t</td>\n      <td>f</td>\n      <td>Boston, MA, United States</td>\n      <td>Beacon Hill</td>\n      <td>Downtown</td>\n      <td>NaN</td>\n      <td>Boston</td>\n      <td>MA</td>\n      <td>02108</td>\n      <td>Boston</td>\n      <td>Boston, MA</td>\n      <td>US</td>\n      <td>United States</td>\n      <td>42.35919</td>\n      <td>-71.06265</td>\n      <td>t</td>\n      <td>Apartment</td>\n      <td>Entire home/apt</td>\n      <td>2</td>\n      <td>1.0</td>\n      <td>1.0</td>\n      <td>1.0</td>\n      <td>Real Bed</td>\n      <td>{TV,\"Cable TV\",Internet,Wifi,\"Air conditioning...</td>\n      <td>NaN</td>\n      <td>$99.00</td>\n      <td>$1,200.00</td>\n      <td>$2,900.00</td>\n      <td>$1,000.00</td>\n      <td>$250.00</td>\n      <td>1</td>\n      <td>$0.00</td>\n      <td>91</td>\n      <td>365</td>\n      <td>91</td>\n      <td>91</td>\n      <td>365</td>\n      <td>365</td>\n      <td>91.0</td>\n      <td>365.0</td>\n      <td>9 months ago</td>\n      <td>t</td>\n      <td>30</td>\n      <td>60</td>\n      <td>90</td>\n      <td>365</td>\n      <td>2020-06-10</td>\n      <td>25</td>\n      <td>2</td>\n      <td>2014-08-12</td>\n      <td>2020-04-15</td>\n      <td>93.0</td>\n      <td>9.0</td>\n      <td>9.0</td>\n      <td>10.0</td>\n      <td>10.0</td>\n      <td>10.0</td>\n      <td>9.0</td>\n      <td>t</td>\n      <td>NaN</td>\n      <td>{\"Massachusetts State\",\" Massachusetts State\"}</td>\n      <td>f</td>\n      <td>f</td>\n      <td>strict_14_with_grace_period</td>\n      <td>f</td>\n      <td>f</td>\n      <td>8</td>\n      <td>8</td>\n      <td>0</td>\n      <td>0</td>\n      <td>0.35</td>\n    </tr>\n    <tr>\n      <th>4</th>\n      <td>10730</td>\n      <td>https://www.airbnb.com/rooms/10730</td>\n      <td>20200610033559</td>\n      <td>2020-06-10</td>\n      <td>Bright 1bed facing Golden Dome</td>\n      <td>Bright, spacious unit, new galley kitchen, new...</td>\n      <td>Bright one bed facing the golden dome of the S...</td>\n      <td>Bright, spacious unit, new galley kitchen, new...</td>\n      <td>none</td>\n      <td>Beacon Hill is located downtown and is conveni...</td>\n      <td>Guests should expect to show government ID to ...</td>\n      <td>The Red Park Street Train stop and the Green B...</td>\n      <td>Guests have access to everything in the unit.</td>\n      <td>I'm available as needed.</td>\n      <td>NO SMOKING, NO PETS. $100 move-in fee payable ...</td>\n      <td>NaN</td>\n      <td>NaN</td>\n      <td>https://a0.muscache.com/im/pictures/45296/e534...</td>\n      <td>NaN</td>\n      <td>26988</td>\n      <td>https://www.airbnb.com/users/show/26988</td>\n      <td>Anne</td>\n      <td>2009-07-22</td>\n      <td>Boston, Massachusetts, United States</td>\n      <td>I manage a number of furnished units around Bo...</td>\n      <td>within a few hours</td>\n      <td>100%</td>\n      <td>82%</td>\n      <td>t</td>\n      <td>https://a0.muscache.com/im/pictures/user/d7d71...</td>\n      <td>https://a0.muscache.com/im/pictures/user/d7d71...</td>\n      <td>Beacon Hill</td>\n      <td>10.0</td>\n      <td>10.0</td>\n      <td>['email', 'phone', 'reviews', 'jumio', 'offlin...</td>\n      <td>t</td>\n      <td>f</td>\n      <td>Boston, MA, United States</td>\n      <td>Beacon Hill</td>\n      <td>Downtown</td>\n      <td>NaN</td>\n      <td>Boston</td>\n      <td>MA</td>\n      <td>02108</td>\n      <td>Boston</td>\n      <td>Boston, MA</td>\n      <td>US</td>\n      <td>United States</td>\n      <td>42.35840</td>\n      <td>-71.06185</td>\n      <td>t</td>\n      <td>Apartment</td>\n      <td>Entire home/apt</td>\n      <td>2</td>\n      <td>1.0</td>\n      <td>1.0</td>\n      <td>1.0</td>\n      <td>Real Bed</td>\n      <td>{TV,\"Cable TV\",Internet,Wifi,\"Air conditioning...</td>\n      <td>NaN</td>\n      <td>$150.00</td>\n      <td>$1,200.00</td>\n      <td>$3,000.00</td>\n      <td>$1,000.00</td>\n      <td>$250.00</td>\n      <td>1</td>\n      <td>$0.00</td>\n      <td>91</td>\n      <td>365</td>\n      <td>91</td>\n      <td>91</td>\n      <td>365</td>\n      <td>365</td>\n      <td>91.0</td>\n      <td>365.0</td>\n      <td>6 weeks ago</td>\n      <td>t</td>\n      <td>0</td>\n      <td>0</td>\n      <td>7</td>\n      <td>282</td>\n      <td>2020-06-10</td>\n      <td>32</td>\n      <td>3</td>\n      <td>2009-09-21</td>\n      <td>2020-04-16</td>\n      <td>96.0</td>\n      <td>10.0</td>\n      <td>9.0</td>\n      <td>10.0</td>\n      <td>10.0</td>\n      <td>10.0</td>\n      <td>9.0</td>\n      <td>t</td>\n      <td>NaN</td>\n      <td>{\"Massachusetts State\",\" Massachusetts State\"}</td>\n      <td>f</td>\n      <td>f</td>\n      <td>strict_14_with_grace_period</td>\n      <td>f</td>\n      <td>f</td>\n      <td>8</td>\n      <td>8</td>\n      <td>0</td>\n      <td>0</td>\n      <td>0.25</td>\n    </tr>\n  </tbody>\n</table>\n</div>"
     },
     "metadata": {},
     "execution_count": 31
    }
   ],
   "source": [
    "listings = pd.read_csv(\"data/listings.csv\")\n",
    "pd.set_option('display.max_columns', None)\n",
    "listings.head()"
   ]
  },
  {
   "cell_type": "code",
   "execution_count": 32,
   "metadata": {
    "tags": []
   },
   "outputs": [
    {
     "output_type": "stream",
     "name": "stdout",
     "text": "<class 'pandas.core.frame.DataFrame'>\nRangeIndex: 3440 entries, 0 to 3439\nData columns (total 106 columns):\n #   Column                                        Non-Null Count  Dtype  \n---  ------                                        --------------  -----  \n 0   id                                            3440 non-null   int64  \n 1   listing_url                                   3440 non-null   object \n 2   scrape_id                                     3440 non-null   int64  \n 3   last_scraped                                  3440 non-null   object \n 4   name                                          3440 non-null   object \n 5   summary                                       3366 non-null   object \n 6   space                                         2833 non-null   object \n 7   description                                   3400 non-null   object \n 8   experiences_offered                           3440 non-null   object \n 9   neighborhood_overview                         2550 non-null   object \n 10  notes                                         2219 non-null   object \n 11  transit                                       2293 non-null   object \n 12  access                                        2128 non-null   object \n 13  interaction                                   2394 non-null   object \n 14  house_rules                                   2518 non-null   object \n 15  thumbnail_url                                 0 non-null      float64\n 16  medium_url                                    0 non-null      float64\n 17  picture_url                                   3440 non-null   object \n 18  xl_picture_url                                0 non-null      float64\n 19  host_id                                       3440 non-null   int64  \n 20  host_url                                      3440 non-null   object \n 21  host_name                                     3436 non-null   object \n 22  host_since                                    3436 non-null   object \n 23  host_location                                 3432 non-null   object \n 24  host_about                                    2281 non-null   object \n 25  host_response_time                            2726 non-null   object \n 26  host_response_rate                            2726 non-null   object \n 27  host_acceptance_rate                          3159 non-null   object \n 28  host_is_superhost                             3436 non-null   object \n 29  host_thumbnail_url                            3436 non-null   object \n 30  host_picture_url                              3436 non-null   object \n 31  host_neighbourhood                            3232 non-null   object \n 32  host_listings_count                           3436 non-null   float64\n 33  host_total_listings_count                     3436 non-null   float64\n 34  host_verifications                            3440 non-null   object \n 35  host_has_profile_pic                          3436 non-null   object \n 36  host_identity_verified                        3436 non-null   object \n 37  street                                        3440 non-null   object \n 38  neighbourhood                                 3440 non-null   object \n 39  neighbourhood_cleansed                        3440 non-null   object \n 40  neighbourhood_group_cleansed                  0 non-null      float64\n 41  city                                          3438 non-null   object \n 42  state                                         3440 non-null   object \n 43  zipcode                                       3424 non-null   object \n 44  market                                        3438 non-null   object \n 45  smart_location                                3440 non-null   object \n 46  country_code                                  3440 non-null   object \n 47  country                                       3440 non-null   object \n 48  latitude                                      3440 non-null   float64\n 49  longitude                                     3440 non-null   float64\n 50  is_location_exact                             3440 non-null   object \n 51  property_type                                 3440 non-null   object \n 52  room_type                                     3440 non-null   object \n 53  accommodates                                  3440 non-null   int64  \n 54  bathrooms                                     3437 non-null   float64\n 55  bedrooms                                      3436 non-null   float64\n 56  beds                                          3422 non-null   float64\n 57  bed_type                                      3439 non-null   object \n 58  amenities                                     3440 non-null   object \n 59  square_feet                                   42 non-null     float64\n 60  price                                         3440 non-null   object \n 61  weekly_price                                  234 non-null    object \n 62  monthly_price                                 238 non-null    object \n 63  security_deposit                              2624 non-null   object \n 64  cleaning_fee                                  3046 non-null   object \n 65  guests_included                               3440 non-null   int64  \n 66  extra_people                                  3440 non-null   object \n 67  minimum_nights                                3440 non-null   int64  \n 68  maximum_nights                                3440 non-null   int64  \n 69  minimum_minimum_nights                        3440 non-null   int64  \n 70  maximum_minimum_nights                        3440 non-null   int64  \n 71  minimum_maximum_nights                        3440 non-null   int64  \n 72  maximum_maximum_nights                        3440 non-null   int64  \n 73  minimum_nights_avg_ntm                        3440 non-null   float64\n 74  maximum_nights_avg_ntm                        3440 non-null   float64\n 75  calendar_updated                              3440 non-null   object \n 76  has_availability                              3440 non-null   object \n 77  availability_30                               3440 non-null   int64  \n 78  availability_60                               3440 non-null   int64  \n 79  availability_90                               3440 non-null   int64  \n 80  availability_365                              3440 non-null   int64  \n 81  calendar_last_scraped                         3440 non-null   object \n 82  number_of_reviews                             3440 non-null   int64  \n 83  number_of_reviews_ltm                         3440 non-null   int64  \n 84  first_review                                  2711 non-null   object \n 85  last_review                                   2711 non-null   object \n 86  review_scores_rating                          2698 non-null   float64\n 87  review_scores_accuracy                        2696 non-null   float64\n 88  review_scores_cleanliness                     2697 non-null   float64\n 89  review_scores_checkin                         2695 non-null   float64\n 90  review_scores_communication                   2698 non-null   float64\n 91  review_scores_location                        2696 non-null   float64\n 92  review_scores_value                           2696 non-null   float64\n 93  requires_license                              3440 non-null   object \n 94  license                                       2050 non-null   object \n 95  jurisdiction_names                            3437 non-null   object \n 96  instant_bookable                              3440 non-null   object \n 97  is_business_travel_ready                      3440 non-null   object \n 98  cancellation_policy                           3440 non-null   object \n 99  require_guest_profile_picture                 3440 non-null   object \n 100 require_guest_phone_verification              3440 non-null   object \n 101 calculated_host_listings_count                3440 non-null   int64  \n 102 calculated_host_listings_count_entire_homes   3440 non-null   int64  \n 103 calculated_host_listings_count_private_rooms  3440 non-null   int64  \n 104 calculated_host_listings_count_shared_rooms   3440 non-null   int64  \n 105 reviews_per_month                             2711 non-null   float64\ndtypes: float64(22), int64(21), object(63)\nmemory usage: 2.8+ MB\n"
    }
   ],
   "source": [
    "listings.info(max_cols=106)"
   ]
  },
  {
   "cell_type": "markdown",
   "metadata": {},
   "source": [
    "We will select the most interesting columns with mostly non-missing values."
   ]
  },
  {
   "cell_type": "code",
   "execution_count": 37,
   "metadata": {},
   "outputs": [
    {
     "output_type": "execute_result",
     "data": {
      "text/plain": "  host_response_rate host_acceptance_rate  host_listings_count  latitude  \\\n0                75%                  44%                  5.0  42.36413   \n1               100%                 100%                  2.0  42.32981   \n2               100%                 100%                  2.0  42.32994   \n3               100%                  82%                 10.0  42.35919   \n4               100%                  82%                 10.0  42.35840   \n\n   longitude    city zipcode state  accommodates        room_type  bedrooms  \\\n0  -71.02991  Boston   02128    MA             2  Entire home/apt       1.0   \n1  -71.09559  Boston   02119    MA             2  Entire home/apt       1.0   \n2  -71.09351  Boston   02119    MA             4  Entire home/apt       1.0   \n3  -71.06265  Boston   02108    MA             2  Entire home/apt       1.0   \n4  -71.06185  Boston   02108    MA             2  Entire home/apt       1.0   \n\n   bathrooms  beds    price cleaning_fee security_deposit  minimum_nights  \\\n0        1.0   0.0  $125.00       $75.00            $0.00              28   \n1        1.0   1.0  $145.00       $60.00            $0.00               3   \n2        1.0   1.0  $169.00       $80.00            $0.00               3   \n3        1.0   1.0   $99.00      $250.00        $1,000.00              91   \n4        1.0   1.0  $150.00      $250.00        $1,000.00              91   \n\n   maximum_nights  number_of_reviews  \n0            1125                 16  \n1             730                107  \n2             730                115  \n3             365                 25  \n4             365                 32  ",
      "text/html": "<div>\n<style scoped>\n    .dataframe tbody tr th:only-of-type {\n        vertical-align: middle;\n    }\n\n    .dataframe tbody tr th {\n        vertical-align: top;\n    }\n\n    .dataframe thead th {\n        text-align: right;\n    }\n</style>\n<table border=\"1\" class=\"dataframe\">\n  <thead>\n    <tr style=\"text-align: right;\">\n      <th></th>\n      <th>host_response_rate</th>\n      <th>host_acceptance_rate</th>\n      <th>host_listings_count</th>\n      <th>latitude</th>\n      <th>longitude</th>\n      <th>city</th>\n      <th>zipcode</th>\n      <th>state</th>\n      <th>accommodates</th>\n      <th>room_type</th>\n      <th>bedrooms</th>\n      <th>bathrooms</th>\n      <th>beds</th>\n      <th>price</th>\n      <th>cleaning_fee</th>\n      <th>security_deposit</th>\n      <th>minimum_nights</th>\n      <th>maximum_nights</th>\n      <th>number_of_reviews</th>\n    </tr>\n  </thead>\n  <tbody>\n    <tr>\n      <th>0</th>\n      <td>75%</td>\n      <td>44%</td>\n      <td>5.0</td>\n      <td>42.36413</td>\n      <td>-71.02991</td>\n      <td>Boston</td>\n      <td>02128</td>\n      <td>MA</td>\n      <td>2</td>\n      <td>Entire home/apt</td>\n      <td>1.0</td>\n      <td>1.0</td>\n      <td>0.0</td>\n      <td>$125.00</td>\n      <td>$75.00</td>\n      <td>$0.00</td>\n      <td>28</td>\n      <td>1125</td>\n      <td>16</td>\n    </tr>\n    <tr>\n      <th>1</th>\n      <td>100%</td>\n      <td>100%</td>\n      <td>2.0</td>\n      <td>42.32981</td>\n      <td>-71.09559</td>\n      <td>Boston</td>\n      <td>02119</td>\n      <td>MA</td>\n      <td>2</td>\n      <td>Entire home/apt</td>\n      <td>1.0</td>\n      <td>1.0</td>\n      <td>1.0</td>\n      <td>$145.00</td>\n      <td>$60.00</td>\n      <td>$0.00</td>\n      <td>3</td>\n      <td>730</td>\n      <td>107</td>\n    </tr>\n    <tr>\n      <th>2</th>\n      <td>100%</td>\n      <td>100%</td>\n      <td>2.0</td>\n      <td>42.32994</td>\n      <td>-71.09351</td>\n      <td>Boston</td>\n      <td>02119</td>\n      <td>MA</td>\n      <td>4</td>\n      <td>Entire home/apt</td>\n      <td>1.0</td>\n      <td>1.0</td>\n      <td>1.0</td>\n      <td>$169.00</td>\n      <td>$80.00</td>\n      <td>$0.00</td>\n      <td>3</td>\n      <td>730</td>\n      <td>115</td>\n    </tr>\n    <tr>\n      <th>3</th>\n      <td>100%</td>\n      <td>82%</td>\n      <td>10.0</td>\n      <td>42.35919</td>\n      <td>-71.06265</td>\n      <td>Boston</td>\n      <td>02108</td>\n      <td>MA</td>\n      <td>2</td>\n      <td>Entire home/apt</td>\n      <td>1.0</td>\n      <td>1.0</td>\n      <td>1.0</td>\n      <td>$99.00</td>\n      <td>$250.00</td>\n      <td>$1,000.00</td>\n      <td>91</td>\n      <td>365</td>\n      <td>25</td>\n    </tr>\n    <tr>\n      <th>4</th>\n      <td>100%</td>\n      <td>82%</td>\n      <td>10.0</td>\n      <td>42.35840</td>\n      <td>-71.06185</td>\n      <td>Boston</td>\n      <td>02108</td>\n      <td>MA</td>\n      <td>2</td>\n      <td>Entire home/apt</td>\n      <td>1.0</td>\n      <td>1.0</td>\n      <td>1.0</td>\n      <td>$150.00</td>\n      <td>$250.00</td>\n      <td>$1,000.00</td>\n      <td>91</td>\n      <td>365</td>\n      <td>32</td>\n    </tr>\n  </tbody>\n</table>\n</div>"
     },
     "metadata": {},
     "execution_count": 37
    }
   ],
   "source": [
    "cols = [\"host_response_rate\", \"host_acceptance_rate\", \"host_listings_count\", \"latitude\",\\\n",
    "    \"longitude\", \"city\", \"zipcode\", \"state\", \"accommodates\", \"room_type\", \"bedrooms\", \"bathrooms\",\\\n",
    "    \"beds\", \"price\", \"cleaning_fee\", \"security_deposit\", \"minimum_nights\", \"maximum_nights\",\\\n",
    "    \"number_of_reviews\"]\n",
    "\n",
    "boston_listings = listings[cols]\n",
    "boston_listings.head()"
   ]
  },
  {
   "cell_type": "code",
   "execution_count": 38,
   "metadata": {
    "tags": []
   },
   "outputs": [
    {
     "output_type": "stream",
     "name": "stdout",
     "text": "<class 'pandas.core.frame.DataFrame'>\nRangeIndex: 3440 entries, 0 to 3439\nData columns (total 19 columns):\n #   Column                Non-Null Count  Dtype  \n---  ------                --------------  -----  \n 0   host_response_rate    2726 non-null   object \n 1   host_acceptance_rate  3159 non-null   object \n 2   host_listings_count   3436 non-null   float64\n 3   latitude              3440 non-null   float64\n 4   longitude             3440 non-null   float64\n 5   city                  3438 non-null   object \n 6   zipcode               3424 non-null   object \n 7   state                 3440 non-null   object \n 8   accommodates          3440 non-null   int64  \n 9   room_type             3440 non-null   object \n 10  bedrooms              3436 non-null   float64\n 11  bathrooms             3437 non-null   float64\n 12  beds                  3422 non-null   float64\n 13  price                 3440 non-null   object \n 14  cleaning_fee          3046 non-null   object \n 15  security_deposit      2624 non-null   object \n 16  minimum_nights        3440 non-null   int64  \n 17  maximum_nights        3440 non-null   int64  \n 18  number_of_reviews     3440 non-null   int64  \ndtypes: float64(6), int64(4), object(9)\nmemory usage: 510.8+ KB\n"
    }
   ],
   "source": [
    "boston_listings.info()"
   ]
  },
  {
   "cell_type": "code",
   "execution_count": 39,
   "metadata": {
    "tags": []
   },
   "outputs": [
    {
     "output_type": "stream",
     "name": "stdout",
     "text": "<class 'pandas.core.frame.DataFrame'>\nRangeIndex: 3440 entries, 0 to 3439\nData columns (total 19 columns):\n #   Column                Non-Null Count  Dtype  \n---  ------                --------------  -----  \n 0   host_response_rate    2726 non-null   object \n 1   host_acceptance_rate  3159 non-null   object \n 2   host_listings_count   3436 non-null   float64\n 3   latitude              3440 non-null   float64\n 4   longitude             3440 non-null   float64\n 5   city                  3438 non-null   object \n 6   zipcode               3424 non-null   object \n 7   state                 3440 non-null   object \n 8   accommodates          3440 non-null   int64  \n 9   room_type             3440 non-null   object \n 10  bedrooms              3436 non-null   float64\n 11  bathrooms             3437 non-null   float64\n 12  beds                  3422 non-null   float64\n 13  price                 3440 non-null   float64\n 14  cleaning_fee          3046 non-null   object \n 15  security_deposit      2624 non-null   object \n 16  minimum_nights        3440 non-null   int64  \n 17  maximum_nights        3440 non-null   int64  \n 18  number_of_reviews     3440 non-null   int64  \ndtypes: float64(7), int64(4), object(8)\nmemory usage: 510.8+ KB\n"
    }
   ],
   "source": [
    "boston_listings.price = boston_listings.price\\\n",
    "    .str.replace(\"$\", \"\").str.replace(\",\", \"\")\\\n",
    "    .astype(\"float\")\n",
    "boston_listings.info()"
   ]
  },
  {
   "cell_type": "markdown",
   "metadata": {},
   "source": [
    "## Feature selection\n",
    "\n",
    "We will focus on ordinal data that describes the living space to train the k-nearest neighbours model."
   ]
  },
  {
   "cell_type": "code",
   "execution_count": 40,
   "metadata": {
    "tags": []
   },
   "outputs": [
    {
     "output_type": "stream",
     "name": "stdout",
     "text": "<class 'pandas.core.frame.DataFrame'>\nRangeIndex: 3440 entries, 0 to 3439\nData columns (total 10 columns):\n #   Column             Non-Null Count  Dtype  \n---  ------             --------------  -----  \n 0   accommodates       3440 non-null   int64  \n 1   bedrooms           3436 non-null   float64\n 2   bathrooms          3437 non-null   float64\n 3   beds               3422 non-null   float64\n 4   price              3440 non-null   float64\n 5   cleaning_fee       3046 non-null   object \n 6   security_deposit   2624 non-null   object \n 7   minimum_nights     3440 non-null   int64  \n 8   maximum_nights     3440 non-null   int64  \n 9   number_of_reviews  3440 non-null   int64  \ndtypes: float64(4), int64(4), object(2)\nmemory usage: 268.9+ KB\n"
    }
   ],
   "source": [
    "drop = [\"host_response_rate\", \"host_acceptance_rate\", \"host_listings_count\",\\\n",
    "    \"latitude\", \"longitude\", \"city\", \"zipcode\", \"state\", \"room_type\"]\n",
    "train_df = boston_listings.drop(drop, axis=1)\n",
    "train_df.info()"
   ]
  },
  {
   "cell_type": "markdown",
   "metadata": {},
   "source": [
    "## Missing Values"
   ]
  },
  {
   "cell_type": "code",
   "execution_count": 47,
   "metadata": {
    "tags": []
   },
   "outputs": [
    {
     "output_type": "stream",
     "name": "stdout",
     "text": "Missing 'cleaning_fee': 11.45 %\nMissing 'security_deposit': 23.72 %\n"
    }
   ],
   "source": [
    "n_records = train_df.shape[0]\n",
    "print(\"Missing 'cleaning_fee':\", round(100 * train_df.cleaning_fee.isnull().sum() / n_records, 2), \"%\")\n",
    "print(\"Missing 'security_deposit':\", round(100 * train_df.security_deposit.isnull().sum() / n_records, 2), \"%\")"
   ]
  },
  {
   "cell_type": "code",
   "execution_count": 52,
   "metadata": {},
   "outputs": [
    {
     "output_type": "execute_result",
     "data": {
      "text/plain": "    accommodates  bedrooms  bathrooms  beds  price cleaning_fee  \\\n7              1       1.0        1.0   0.0   50.0          NaN   \n12             2       1.0        1.5   1.0   95.0          NaN   \n18             2       1.0        1.0   1.0  140.0          NaN   \n19             2       0.0        1.0   1.0  175.0          NaN   \n31             1       1.0        1.5   1.0   80.0          NaN   \n\n   security_deposit  minimum_nights  maximum_nights  number_of_reviews  \n7               NaN              91             730                  0  \n12              NaN              28             180                 76  \n18              NaN               2             730                 54  \n19              NaN               5              60                 41  \n31              NaN               1            1125                 30  ",
      "text/html": "<div>\n<style scoped>\n    .dataframe tbody tr th:only-of-type {\n        vertical-align: middle;\n    }\n\n    .dataframe tbody tr th {\n        vertical-align: top;\n    }\n\n    .dataframe thead th {\n        text-align: right;\n    }\n</style>\n<table border=\"1\" class=\"dataframe\">\n  <thead>\n    <tr style=\"text-align: right;\">\n      <th></th>\n      <th>accommodates</th>\n      <th>bedrooms</th>\n      <th>bathrooms</th>\n      <th>beds</th>\n      <th>price</th>\n      <th>cleaning_fee</th>\n      <th>security_deposit</th>\n      <th>minimum_nights</th>\n      <th>maximum_nights</th>\n      <th>number_of_reviews</th>\n    </tr>\n  </thead>\n  <tbody>\n    <tr>\n      <th>7</th>\n      <td>1</td>\n      <td>1.0</td>\n      <td>1.0</td>\n      <td>0.0</td>\n      <td>50.0</td>\n      <td>NaN</td>\n      <td>NaN</td>\n      <td>91</td>\n      <td>730</td>\n      <td>0</td>\n    </tr>\n    <tr>\n      <th>12</th>\n      <td>2</td>\n      <td>1.0</td>\n      <td>1.5</td>\n      <td>1.0</td>\n      <td>95.0</td>\n      <td>NaN</td>\n      <td>NaN</td>\n      <td>28</td>\n      <td>180</td>\n      <td>76</td>\n    </tr>\n    <tr>\n      <th>18</th>\n      <td>2</td>\n      <td>1.0</td>\n      <td>1.0</td>\n      <td>1.0</td>\n      <td>140.0</td>\n      <td>NaN</td>\n      <td>NaN</td>\n      <td>2</td>\n      <td>730</td>\n      <td>54</td>\n    </tr>\n    <tr>\n      <th>19</th>\n      <td>2</td>\n      <td>0.0</td>\n      <td>1.0</td>\n      <td>1.0</td>\n      <td>175.0</td>\n      <td>NaN</td>\n      <td>NaN</td>\n      <td>5</td>\n      <td>60</td>\n      <td>41</td>\n    </tr>\n    <tr>\n      <th>31</th>\n      <td>1</td>\n      <td>1.0</td>\n      <td>1.5</td>\n      <td>1.0</td>\n      <td>80.0</td>\n      <td>NaN</td>\n      <td>NaN</td>\n      <td>1</td>\n      <td>1125</td>\n      <td>30</td>\n    </tr>\n  </tbody>\n</table>\n</div>"
     },
     "metadata": {},
     "execution_count": 52
    }
   ],
   "source": [
    "train_df[train_df.cleaning_fee.isnull()].head()"
   ]
  },
  {
   "cell_type": "code",
   "execution_count": 55,
   "metadata": {},
   "outputs": [
    {
     "output_type": "execute_result",
     "data": {
      "text/plain": "$100.00    331\n$0.00      210\n$50.00     166\n$40.00     149\n$30.00     123\n$25.00     123\n$45.00     121\n$35.00     108\n$75.00     106\n$150.00    102\nName: cleaning_fee, dtype: int64"
     },
     "metadata": {},
     "execution_count": 55
    }
   ],
   "source": [
    "train_df.cleaning_fee.value_counts()[0:10]"
   ]
  },
  {
   "cell_type": "code",
   "execution_count": 57,
   "metadata": {},
   "outputs": [
    {
     "output_type": "execute_result",
     "data": {
      "text/plain": "$0.00        1110\n$500.00       363\n$100.00       254\n$300.00       220\n$200.00       183\n$150.00       117\n$1,000.00      95\n$250.00        80\n$400.00        48\n$350.00        28\nName: security_deposit, dtype: int64"
     },
     "metadata": {},
     "execution_count": 57
    }
   ],
   "source": [
    "train_df.security_deposit.value_counts()[0:10]"
   ]
  },
  {
   "cell_type": "markdown",
   "metadata": {},
   "source": [
    "The percent missing values are quite substantial and there seems to be no way of inferring the data. Since values of 0 are present, it is not clear to what missing values correspond to. We will therefore excluded these two columns from the analysis;"
   ]
  },
  {
   "cell_type": "code",
   "execution_count": 58,
   "metadata": {
    "tags": []
   },
   "outputs": [
    {
     "output_type": "stream",
     "name": "stdout",
     "text": "<class 'pandas.core.frame.DataFrame'>\nRangeIndex: 3440 entries, 0 to 3439\nData columns (total 8 columns):\n #   Column             Non-Null Count  Dtype  \n---  ------             --------------  -----  \n 0   accommodates       3440 non-null   int64  \n 1   bedrooms           3436 non-null   float64\n 2   bathrooms          3437 non-null   float64\n 3   beds               3422 non-null   float64\n 4   price              3440 non-null   float64\n 5   minimum_nights     3440 non-null   int64  \n 6   maximum_nights     3440 non-null   int64  \n 7   number_of_reviews  3440 non-null   int64  \ndtypes: float64(4), int64(4)\nmemory usage: 215.1 KB\n"
    }
   ],
   "source": [
    "drop = [\"security_deposit\", \"cleaning_fee\"]\n",
    "train_df.drop(drop, axis=1, inplace=True)\n",
    "train_df.info()"
   ]
  },
  {
   "cell_type": "markdown",
   "metadata": {},
   "source": [
    "For the reminder, we will drop records containing missing values."
   ]
  },
  {
   "cell_type": "code",
   "execution_count": 60,
   "metadata": {
    "tags": []
   },
   "outputs": [
    {
     "output_type": "stream",
     "name": "stdout",
     "text": "<class 'pandas.core.frame.DataFrame'>\nInt64Index: 3417 entries, 0 to 3439\nData columns (total 8 columns):\n #   Column             Non-Null Count  Dtype  \n---  ------             --------------  -----  \n 0   accommodates       3417 non-null   int64  \n 1   bedrooms           3417 non-null   float64\n 2   bathrooms          3417 non-null   float64\n 3   beds               3417 non-null   float64\n 4   price              3417 non-null   float64\n 5   minimum_nights     3417 non-null   int64  \n 6   maximum_nights     3417 non-null   int64  \n 7   number_of_reviews  3417 non-null   int64  \ndtypes: float64(4), int64(4)\nmemory usage: 240.3 KB\n"
    }
   ],
   "source": [
    "train_df.dropna(axis=0, inplace=True)\n",
    "train_df.info()"
   ]
  },
  {
   "cell_type": "code",
   "execution_count": 61,
   "metadata": {},
   "outputs": [
    {
     "output_type": "execute_result",
     "data": {
      "text/plain": "       accommodates     bedrooms    bathrooms         beds         price  \\\ncount   3417.000000  3417.000000  3417.000000  3417.000000   3417.000000   \nmean       3.283289     1.302605     1.283436     1.779924    182.224466   \nstd        2.295486     0.956475     0.540308     1.470286    430.053869   \nmin        1.000000     0.000000     0.000000     0.000000      0.000000   \n25%        2.000000     1.000000     1.000000     1.000000     79.000000   \n50%        2.000000     1.000000     1.000000     1.000000    130.000000   \n75%        4.000000     2.000000     1.500000     2.000000    199.000000   \nmax       29.000000    13.000000     6.000000    22.000000  10000.000000   \n\n       minimum_nights  maximum_nights  number_of_reviews  \ncount     3417.000000     3417.000000        3417.000000  \nmean        32.564530      823.631548          41.037752  \nstd         44.056323      474.992814          69.560123  \nmin          1.000000        1.000000           0.000000  \n25%          2.000000      365.000000           1.000000  \n50%          9.000000     1125.000000          11.000000  \n75%         91.000000     1125.000000          48.000000  \nmax       1000.000000     9999.000000         615.000000  ",
      "text/html": "<div>\n<style scoped>\n    .dataframe tbody tr th:only-of-type {\n        vertical-align: middle;\n    }\n\n    .dataframe tbody tr th {\n        vertical-align: top;\n    }\n\n    .dataframe thead th {\n        text-align: right;\n    }\n</style>\n<table border=\"1\" class=\"dataframe\">\n  <thead>\n    <tr style=\"text-align: right;\">\n      <th></th>\n      <th>accommodates</th>\n      <th>bedrooms</th>\n      <th>bathrooms</th>\n      <th>beds</th>\n      <th>price</th>\n      <th>minimum_nights</th>\n      <th>maximum_nights</th>\n      <th>number_of_reviews</th>\n    </tr>\n  </thead>\n  <tbody>\n    <tr>\n      <th>count</th>\n      <td>3417.000000</td>\n      <td>3417.000000</td>\n      <td>3417.000000</td>\n      <td>3417.000000</td>\n      <td>3417.000000</td>\n      <td>3417.000000</td>\n      <td>3417.000000</td>\n      <td>3417.000000</td>\n    </tr>\n    <tr>\n      <th>mean</th>\n      <td>3.283289</td>\n      <td>1.302605</td>\n      <td>1.283436</td>\n      <td>1.779924</td>\n      <td>182.224466</td>\n      <td>32.564530</td>\n      <td>823.631548</td>\n      <td>41.037752</td>\n    </tr>\n    <tr>\n      <th>std</th>\n      <td>2.295486</td>\n      <td>0.956475</td>\n      <td>0.540308</td>\n      <td>1.470286</td>\n      <td>430.053869</td>\n      <td>44.056323</td>\n      <td>474.992814</td>\n      <td>69.560123</td>\n    </tr>\n    <tr>\n      <th>min</th>\n      <td>1.000000</td>\n      <td>0.000000</td>\n      <td>0.000000</td>\n      <td>0.000000</td>\n      <td>0.000000</td>\n      <td>1.000000</td>\n      <td>1.000000</td>\n      <td>0.000000</td>\n    </tr>\n    <tr>\n      <th>25%</th>\n      <td>2.000000</td>\n      <td>1.000000</td>\n      <td>1.000000</td>\n      <td>1.000000</td>\n      <td>79.000000</td>\n      <td>2.000000</td>\n      <td>365.000000</td>\n      <td>1.000000</td>\n    </tr>\n    <tr>\n      <th>50%</th>\n      <td>2.000000</td>\n      <td>1.000000</td>\n      <td>1.000000</td>\n      <td>1.000000</td>\n      <td>130.000000</td>\n      <td>9.000000</td>\n      <td>1125.000000</td>\n      <td>11.000000</td>\n    </tr>\n    <tr>\n      <th>75%</th>\n      <td>4.000000</td>\n      <td>2.000000</td>\n      <td>1.500000</td>\n      <td>2.000000</td>\n      <td>199.000000</td>\n      <td>91.000000</td>\n      <td>1125.000000</td>\n      <td>48.000000</td>\n    </tr>\n    <tr>\n      <th>max</th>\n      <td>29.000000</td>\n      <td>13.000000</td>\n      <td>6.000000</td>\n      <td>22.000000</td>\n      <td>10000.000000</td>\n      <td>1000.000000</td>\n      <td>9999.000000</td>\n      <td>615.000000</td>\n    </tr>\n  </tbody>\n</table>\n</div>"
     },
     "metadata": {},
     "execution_count": 61
    }
   ],
   "source": [
    "train_df.describe()"
   ]
  },
  {
   "cell_type": "markdown",
   "metadata": {},
   "source": [
    "Variances differ quite substantially for the futures. This may bias the model towards those features with larger values. We will Z-normalize all features."
   ]
  },
  {
   "cell_type": "code",
   "execution_count": 65,
   "metadata": {},
   "outputs": [
    {
     "output_type": "execute_result",
     "data": {
      "text/plain": "       accommodates      bedrooms     bathrooms          beds         price  \\\ncount  3.417000e+03  3.417000e+03  3.417000e+03  3.417000e+03   3417.000000   \nmean  -6.550218e-17  6.238303e-17  7.485964e-17  1.871491e-17    182.224466   \nstd    1.000000e+00  1.000000e+00  1.000000e+00  1.000000e+00    430.053869   \nmin   -9.946868e-01 -1.361881e+00 -2.375378e+00 -1.210597e+00      0.000000   \n25%   -5.590492e-01 -3.163749e-01 -5.245818e-01 -5.304574e-01     79.000000   \n50%   -5.590492e-01 -3.163749e-01 -5.245818e-01 -5.304574e-01    130.000000   \n75%    3.122261e-01  7.291310e-01  4.008162e-01  1.496825e-01    199.000000   \nmax    1.120317e+01  1.222970e+01  8.729398e+00  1.375248e+01  10000.000000   \n\n       minimum_nights  maximum_nights  number_of_reviews  \ncount    3.417000e+03    3.417000e+03        3417.000000  \nmean    -6.654190e-17   -7.485964e-17           0.000000  \nstd      1.000000e+00    1.000000e+00           1.000000  \nmin     -7.164586e-01   -1.731882e+00          -0.589961  \n25%     -6.937604e-01   -9.655547e-01          -0.575585  \n50%     -5.348728e-01    6.344695e-01          -0.431824  \n75%      1.326381e+00    6.344695e-01           0.100090  \nmax      2.195906e+01    1.931686e+01           8.251312  ",
      "text/html": "<div>\n<style scoped>\n    .dataframe tbody tr th:only-of-type {\n        vertical-align: middle;\n    }\n\n    .dataframe tbody tr th {\n        vertical-align: top;\n    }\n\n    .dataframe thead th {\n        text-align: right;\n    }\n</style>\n<table border=\"1\" class=\"dataframe\">\n  <thead>\n    <tr style=\"text-align: right;\">\n      <th></th>\n      <th>accommodates</th>\n      <th>bedrooms</th>\n      <th>bathrooms</th>\n      <th>beds</th>\n      <th>price</th>\n      <th>minimum_nights</th>\n      <th>maximum_nights</th>\n      <th>number_of_reviews</th>\n    </tr>\n  </thead>\n  <tbody>\n    <tr>\n      <th>count</th>\n      <td>3.417000e+03</td>\n      <td>3.417000e+03</td>\n      <td>3.417000e+03</td>\n      <td>3.417000e+03</td>\n      <td>3417.000000</td>\n      <td>3.417000e+03</td>\n      <td>3.417000e+03</td>\n      <td>3417.000000</td>\n    </tr>\n    <tr>\n      <th>mean</th>\n      <td>-6.550218e-17</td>\n      <td>6.238303e-17</td>\n      <td>7.485964e-17</td>\n      <td>1.871491e-17</td>\n      <td>182.224466</td>\n      <td>-6.654190e-17</td>\n      <td>-7.485964e-17</td>\n      <td>0.000000</td>\n    </tr>\n    <tr>\n      <th>std</th>\n      <td>1.000000e+00</td>\n      <td>1.000000e+00</td>\n      <td>1.000000e+00</td>\n      <td>1.000000e+00</td>\n      <td>430.053869</td>\n      <td>1.000000e+00</td>\n      <td>1.000000e+00</td>\n      <td>1.000000</td>\n    </tr>\n    <tr>\n      <th>min</th>\n      <td>-9.946868e-01</td>\n      <td>-1.361881e+00</td>\n      <td>-2.375378e+00</td>\n      <td>-1.210597e+00</td>\n      <td>0.000000</td>\n      <td>-7.164586e-01</td>\n      <td>-1.731882e+00</td>\n      <td>-0.589961</td>\n    </tr>\n    <tr>\n      <th>25%</th>\n      <td>-5.590492e-01</td>\n      <td>-3.163749e-01</td>\n      <td>-5.245818e-01</td>\n      <td>-5.304574e-01</td>\n      <td>79.000000</td>\n      <td>-6.937604e-01</td>\n      <td>-9.655547e-01</td>\n      <td>-0.575585</td>\n    </tr>\n    <tr>\n      <th>50%</th>\n      <td>-5.590492e-01</td>\n      <td>-3.163749e-01</td>\n      <td>-5.245818e-01</td>\n      <td>-5.304574e-01</td>\n      <td>130.000000</td>\n      <td>-5.348728e-01</td>\n      <td>6.344695e-01</td>\n      <td>-0.431824</td>\n    </tr>\n    <tr>\n      <th>75%</th>\n      <td>3.122261e-01</td>\n      <td>7.291310e-01</td>\n      <td>4.008162e-01</td>\n      <td>1.496825e-01</td>\n      <td>199.000000</td>\n      <td>1.326381e+00</td>\n      <td>6.344695e-01</td>\n      <td>0.100090</td>\n    </tr>\n    <tr>\n      <th>max</th>\n      <td>1.120317e+01</td>\n      <td>1.222970e+01</td>\n      <td>8.729398e+00</td>\n      <td>1.375248e+01</td>\n      <td>10000.000000</td>\n      <td>2.195906e+01</td>\n      <td>1.931686e+01</td>\n      <td>8.251312</td>\n    </tr>\n  </tbody>\n</table>\n</div>"
     },
     "metadata": {},
     "execution_count": 65
    }
   ],
   "source": [
    "# Z-normalize\n",
    "normalized_train = (train_df - train_df.mean())/train_df.std()\n",
    "# Reassign price\n",
    "normalized_train[\"price\"] = train_df.price\n",
    "normalized_train.describe()"
   ]
  },
  {
   "cell_type": "code",
   "execution_count": null,
   "metadata": {},
   "outputs": [],
   "source": []
  }
 ]
}