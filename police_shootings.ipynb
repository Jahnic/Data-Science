{
 "cells": [
  {
   "cell_type": "code",
   "execution_count": 1,
   "metadata": {},
   "outputs": [],
   "source": [
    "from csv import reader\n",
    "open_file = open('C:/Users/User/Documents/Data Science/fatal-police-shootings-data.csv')\n",
    "read = reader(open_file)\n",
    "data = list(read)"
   ]
  },
  {
   "cell_type": "code",
   "execution_count": 2,
   "metadata": {},
   "outputs": [
    {
     "data": {
      "text/plain": [
       "[['id',\n",
       "  'name',\n",
       "  'date',\n",
       "  'manner_of_death',\n",
       "  'armed',\n",
       "  'age',\n",
       "  'gender',\n",
       "  'race',\n",
       "  'city',\n",
       "  'state',\n",
       "  'signs_of_mental_illness',\n",
       "  'threat_level',\n",
       "  'flee',\n",
       "  'body_camera'],\n",
       " ['3',\n",
       "  'Tim Elliot',\n",
       "  '2015-01-02',\n",
       "  'shot',\n",
       "  'gun',\n",
       "  '53',\n",
       "  'M',\n",
       "  'A',\n",
       "  'Shelton',\n",
       "  'WA',\n",
       "  'True',\n",
       "  'attack',\n",
       "  'Not fleeing',\n",
       "  'False']]"
      ]
     },
     "execution_count": 2,
     "metadata": {},
     "output_type": "execute_result"
    }
   ],
   "source": [
    "data[0:2]"
   ]
  },
  {
   "cell_type": "code",
   "execution_count": null,
   "metadata": {},
   "outputs": [],
   "source": []
  }
 ],
 "metadata": {
  "kernelspec": {
   "display_name": "Python 3",
   "language": "python",
   "name": "python3"
  },
  "language_info": {
   "codemirror_mode": {
    "name": "ipython",
    "version": 3
   },
   "file_extension": ".py",
   "mimetype": "text/x-python",
   "name": "python",
   "nbconvert_exporter": "python",
   "pygments_lexer": "ipython3",
   "version": "3.7.4"
  }
 },
 "nbformat": 4,
 "nbformat_minor": 2
}
