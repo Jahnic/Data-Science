{
 "cells": [
  {
   "cell_type": "markdown",
   "metadata": {},
   "source": [
    "# Analysis of mobile app sales\n",
    "\n",
    "The used data-files contain information on sales from the [google](https://www.kaggle.com/lava18/google-play-store-apps) and [apple](https://dq-content.s3.amazonaws.com/350/AppleStore.csv) app stores. The objective of this project is to identify the type of apps that generate the highest number of user downloads. To facilitate the analysis only free apps are considered. The data on paid apps would need to be properly segmented. Results can be used by developers to make better decisions on future free app products and increase revenue."
   ]
  },
  {
   "cell_type": "code",
   "execution_count": 1,
   "metadata": {},
   "outputs": [],
   "source": [
    "def explore_data(dataset, start, end, rows_and_columns=False):\n",
    "    dataset_slice = dataset[start:end]    \n",
    "    for row in dataset_slice:\n",
    "        print(row)\n",
    "        print('\\n') # adds a new (empty) line after each row\n",
    "\n",
    "    if rows_and_columns:\n",
    "        print('Number of rows:', len(dataset))\n",
    "        print('Number of columns:', len(dataset[0]))"
   ]
  },
  {
   "cell_type": "markdown",
   "metadata": {},
   "source": [
    "Saving app data as list of lists in the varaibles `apple` and `google`.  \n",
    "Headers are saved seperately as `apple_header` and `google_header`."
   ]
  },
  {
   "cell_type": "code",
   "execution_count": 19,
   "metadata": {},
   "outputs": [],
   "source": [
    "from csv import reader\n",
    "\n",
    "#Apple file\n",
    "opened_file = open('C:/Users/User/Documents/my_datasets/AppleStore.csv', encoding=\"utf8\")\n",
    "read_file = reader(opened_file)\n",
    "apple = list(read_file)\n",
    "apple_header = apple[0]\n",
    "apple = apple[1:]\n",
    "\n",
    "#Android file\n",
    "opened_file = open('C:/Users/User/Documents/my_datasets/googleplaystore.csv', encoding=\"utf8\")\n",
    "read_file = reader(opened_file)\n",
    "google = list(read_file)\n",
    "google_header = google[0]\n",
    "google = google[1:]"
   ]
  },
  {
   "cell_type": "code",
   "execution_count": 26,
   "metadata": {
    "scrolled": true
   },
   "outputs": [
    {
     "name": "stdout",
     "output_type": "stream",
     "text": [
      "['284882215', 'Facebook', '389879808', 'USD', '0.0', '2974676', '212', '3.5', '3.5', '95.0', '4+', 'Social Networking', '37', '1', '29', '1']\n",
      "\n",
      "\n",
      "['389801252', 'Instagram', '113954816', 'USD', '0.0', '2161558', '1289', '4.5', '4.0', '10.23', '12+', 'Photo & Video', '37', '0', '29', '1']\n",
      "\n",
      "\n",
      "['529479190', 'Clash of Clans', '116476928', 'USD', '0.0', '2130805', '579', '4.5', '4.5', '9.24.12', '9+', 'Games', '38', '5', '18', '1']\n",
      "\n",
      "\n",
      "Number of rows: 7197\n",
      "Number of columns: 16\n"
     ]
    }
   ],
   "source": [
    "#Exploring the data from the apple store.\n",
    "explore_data(apple,0,3,True)"
   ]
  },
  {
   "cell_type": "markdown",
   "metadata": {},
   "source": [
    "|Column name|Description|\n",
    "|---|---|\n",
    "| \"id\" (1) | App ID |\n",
    "| \"track_name\" (2) | App Name |\n",
    "| \"size_bytes\" (3) | Size (in Bytes)|\n",
    "| \"currency\" (4) | Currency Type|\n",
    "| \"price\" (5)| Price amount|\n",
    "| \"ratingcounttot\" (6)| User Rating counts (for all version)|\n",
    "|\"ratingcountver\" (7)| User Rating counts (for current version)|\n",
    "|\"user_rating\" (8)| Average User Rating value (for all version)|\n",
    "|\"userratingver\" (9)| Average User Rating value (for current version)|\n",
    "|\"ver\" (10)| Latest version code|\n",
    "|\"cont_rating\" (11)| Content Rating|\n",
    "|\"prime_genre\" (12) | Primary Genre|\n",
    "|\"sup_devices.num\" (13)| Number of supporting devices|\n",
    "|\"ipadSc_urls.num\" (14)| Number of screenshots showed for display|\n",
    "|\"lang.num\" (15)| Number of supported languages|\n",
    "|\"vpp_lic\" (16)| Vpp Device Based Licensing Enabled|"
   ]
  },
  {
   "cell_type": "code",
   "execution_count": 27,
   "metadata": {},
   "outputs": [
    {
     "name": "stdout",
     "output_type": "stream",
     "text": [
      "['Photo Editor & Candy Camera & Grid & ScrapBook', 'ART_AND_DESIGN', '4.1', '159', '19M', '10,000+', 'Free', '0', 'Everyone', 'Art & Design', 'January 7, 2018', '1.0.0', '4.0.3 and up']\n",
      "\n",
      "\n",
      "['Coloring book moana', 'ART_AND_DESIGN', '3.9', '967', '14M', '500,000+', 'Free', '0', 'Everyone', 'Art & Design;Pretend Play', 'January 15, 2018', '2.0.0', '4.0.3 and up']\n",
      "\n",
      "\n",
      "['U Launcher Lite – FREE Live Cool Themes, Hide Apps', 'ART_AND_DESIGN', '4.7', '87510', '8.7M', '5,000,000+', 'Free', '0', 'Everyone', 'Art & Design', 'August 1, 2018', '1.2.4', '4.0.3 and up']\n",
      "\n",
      "\n",
      "Number of rows: 10841\n",
      "Number of columns: 13\n"
     ]
    }
   ],
   "source": [
    "#Exploring data from the google store.\n",
    "explore_data(google,0,3, True)"
   ]
  },
  {
   "cell_type": "markdown",
   "metadata": {},
   "source": [
    "|Column name|Description|\n",
    "|---|---|\n",
    "|'App' (1)| Name of app|\n",
    "|'Category' (2)| App category|\n",
    "|'Rating' (3)| App rating (total)|\n",
    "|'Reviews' (4)| Count of toal reviews|\n",
    "|'Size' (5)| App size (MB)|\n",
    "|'Installs' (6)| Total number of installs|\n",
    "|'Type' (7)| Paid vs. Free|\n",
    "|'Price' (8)| Price of app|\n",
    "|'Content Rating' (9)| Targeted age group|\n",
    "|'Genres' (10)| Complete list of genres|\n",
    "|'Last Updated' (11)| Date of last update|\n",
    "|'Current Ver' (12)| Current version number|\n",
    "|'Android Ver' (13)| Required android version|"
   ]
  },
  {
   "cell_type": "code",
   "execution_count": 35,
   "metadata": {},
   "outputs": [
    {
     "name": "stdout",
     "output_type": "stream",
     "text": [
      "[10472]\n"
     ]
    }
   ],
   "source": [
    "# Ratings must be between 0-5. Search for errors in google data.\n",
    "error_index = []\n",
    "for index in range(len(google)):\n",
    "    rating = float(google[index][2])\n",
    "    if rating < 0 or rating > 5:\n",
    "        error_index.append(index)\n",
    "print(error_index)"
   ]
  },
  {
   "cell_type": "code",
   "execution_count": 40,
   "metadata": {},
   "outputs": [],
   "source": [
    "# Delete erronious row\n",
    "del google[10472]"
   ]
  },
  {
   "cell_type": "code",
   "execution_count": 39,
   "metadata": {},
   "outputs": [
    {
     "name": "stdout",
     "output_type": "stream",
     "text": [
      "[] []\n"
     ]
    }
   ],
   "source": [
    "# Ratings must be between 0-5. Search for errors in apple data.\n",
    "error_index1 = []\n",
    "error_index2 = []\n",
    "\n",
    "for index in range(len(apple)):\n",
    "    rating = float(apple[index][7])\n",
    "    if rating < 0 or rating > 5:\n",
    "        error_index1.append(index)\n",
    "        \n",
    "    rating = float(apple[index][8])\n",
    "    if rating < 0 or rating > 5:\n",
    "        error_index2.append(index)\n",
    "        \n",
    "print(error_index1, error_index2)"
   ]
  },
  {
   "cell_type": "code",
   "execution_count": null,
   "metadata": {},
   "outputs": [],
   "source": []
  }
 ],
 "metadata": {
  "kernelspec": {
   "display_name": "Python 3",
   "language": "python",
   "name": "python3"
  },
  "language_info": {
   "codemirror_mode": {
    "name": "ipython",
    "version": 3
   },
   "file_extension": ".py",
   "mimetype": "text/x-python",
   "name": "python",
   "nbconvert_exporter": "python",
   "pygments_lexer": "ipython3",
   "version": "3.7.4"
  }
 },
 "nbformat": 4,
 "nbformat_minor": 2
}
