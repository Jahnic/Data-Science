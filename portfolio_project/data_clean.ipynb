{
 "metadata": {
  "language_info": {
   "codemirror_mode": {
    "name": "ipython",
    "version": 3
   },
   "file_extension": ".py",
   "mimetype": "text/x-python",
   "name": "python",
   "nbconvert_exporter": "python",
   "pygments_lexer": "ipython3",
   "version": "3.6.9-final"
  },
  "orig_nbformat": 2,
  "kernelspec": {
   "name": "python36964bit16c7df5d1eb74842826b38abd9b84d10",
   "display_name": "Python 3.6.9 64-bit"
  }
 },
 "nbformat": 4,
 "nbformat_minor": 2,
 "cells": [
  {
   "cell_type": "code",
   "execution_count": 62,
   "metadata": {},
   "outputs": [],
   "source": [
    "import pandas as pd\n",
    "import numpy as np\n",
    "import random\n",
    "import matplotlib.pyplot as plt"
   ]
  },
  {
   "cell_type": "code",
   "execution_count": 45,
   "metadata": {
    "tags": []
   },
   "outputs": [
    {
     "output_type": "stream",
     "name": "stdout",
     "text": "Number of duplicates: 539\n"
    },
    {
     "output_type": "execute_result",
     "data": {
      "text/plain": "                                             Job Title  \\\n22                                    Data Scientist -   \n68   Software Engineer (Data Scientist, C,C++,Linux...   \n91                                    Data Scientist 1   \n92                                      Data Scientist   \n93                                    Data Scientist 1   \n94                                      Data Scientist   \n118         Data Scientist - Analytics, Trust & Safety   \n122                                     Data Scientist   \n124                                     Data Scientist   \n171                                     Data Scientist   \n\n                   Salary Estimate  \\\n22                              -1   \n68    $72k-$142k\\n(Glassdoor Est.)   \n91    $94k-$152k\\n(Glassdoor Est.)   \n92                              -1   \n93    $94k-$152k\\n(Glassdoor Est.)   \n94                              -1   \n118                             -1   \n122  $100k-$136k\\n(Glassdoor Est.)   \n124  $100k-$136k\\n(Glassdoor Est.)   \n171  $120k-$191k\\n(Glassdoor Est.)   \n\n                                       Job Description  Rating  \\\n22   Our Mission\\nWe’re here to create a safer, hap...     4.5   \n68   During the current global health crisis, the p...     4.1   \n91   Who we are\\n\\n\\nFueled by a fundamental belief...     3.9   \n92   The Chan Zuckerberg Biohub (\"CZ Biohub”) is an...     3.8   \n93   Who we are\\n\\n\\nFueled by a fundamental belief...     3.9   \n94   The Chan Zuckerberg Biohub (\"CZ Biohub”) is an...     3.8   \n118  Data Scientist - Analytics, Trust & Safety\\nMo...     4.0   \n122  Job TITLE: Data Scientist\\n\\nLocation: Santa C...     4.1   \n124  Job TITLE: Data Scientist\\n\\nLocation: Santa C...     4.1   \n171  Bioinformatics Programmer II\\n\\n17-Aug-2020\\n\\...     4.1   \n\n                    Company Name           Location  Headquarters  \\\n22                 Blue Owl\\n4.5  San Francisco, CA            -1   \n68          Mentor Graphics\\n4.1        Fremont, CA            -1   \n91                   PayPal\\n3.9       San Jose, CA            -1   \n92   Chan Zuckerberg Biohub\\n3.8  San Francisco, CA            -1   \n93                   PayPal\\n3.9       San Jose, CA            -1   \n94   Chan Zuckerberg Biohub\\n3.8  San Francisco, CA            -1   \n118                  TikTok\\n4.0  Mountain View, CA            -1   \n122                 Flexton\\n4.1    Santa Clara, CA            -1   \n124                 Flexton\\n4.1    Santa Clara, CA            -1   \n171     UCSF Medical Center\\n4.1  San Francisco, CA            -1   \n\n                        Size  Founded       Type of ownership  \\\n22       51 to 200 Employees     2016       Company - Private   \n68   5001 to 10000 Employees     1981        Company - Public   \n91          10000+ Employees     1998        Company - Public   \n92         1 to 50 Employees       -1  Nonprofit Organization   \n93          10000+ Employees     1998        Company - Public   \n94         1 to 50 Employees       -1  Nonprofit Organization   \n118   1001 to 5000 Employees     2016       Company - Private   \n122      51 to 200 Employees     2007       Company - Private   \n124      51 to 200 Employees     2007       Company - Private   \n171         10000+ Employees     1907                Hospital   \n\n                             Industry                  Sector  \\\n22                           Internet  Information Technology   \n68       Computer Hardware & Software  Information Technology   \n91                           Internet  Information Technology   \n92   Health Fundraising Organizations              Non-Profit   \n93                           Internet  Information Technology   \n94   Health Fundraising Organizations              Non-Profit   \n118                          Internet  Information Technology   \n122                       IT Services  Information Technology   \n124                       IT Services  Information Technology   \n171  Health Care Services & Hospitals             Health Care   \n\n                        Revenue  Competitors  \n22     Unknown / Non-Applicable           -1  \n68       $1 to $2 billion (USD)           -1  \n91           $10+ billion (USD)           -1  \n92   Less than $1 million (USD)           -1  \n93           $10+ billion (USD)           -1  \n94   Less than $1 million (USD)           -1  \n118    Unknown / Non-Applicable           -1  \n122    $10 to $25 million (USD)           -1  \n124    $10 to $25 million (USD)           -1  \n171   $50 to $100 million (USD)           -1  ",
      "text/html": "<div>\n<style scoped>\n    .dataframe tbody tr th:only-of-type {\n        vertical-align: middle;\n    }\n\n    .dataframe tbody tr th {\n        vertical-align: top;\n    }\n\n    .dataframe thead th {\n        text-align: right;\n    }\n</style>\n<table border=\"1\" class=\"dataframe\">\n  <thead>\n    <tr style=\"text-align: right;\">\n      <th></th>\n      <th>Job Title</th>\n      <th>Salary Estimate</th>\n      <th>Job Description</th>\n      <th>Rating</th>\n      <th>Company Name</th>\n      <th>Location</th>\n      <th>Headquarters</th>\n      <th>Size</th>\n      <th>Founded</th>\n      <th>Type of ownership</th>\n      <th>Industry</th>\n      <th>Sector</th>\n      <th>Revenue</th>\n      <th>Competitors</th>\n    </tr>\n  </thead>\n  <tbody>\n    <tr>\n      <th>22</th>\n      <td>Data Scientist -</td>\n      <td>-1</td>\n      <td>Our Mission\\nWe’re here to create a safer, hap...</td>\n      <td>4.5</td>\n      <td>Blue Owl\\n4.5</td>\n      <td>San Francisco, CA</td>\n      <td>-1</td>\n      <td>51 to 200 Employees</td>\n      <td>2016</td>\n      <td>Company - Private</td>\n      <td>Internet</td>\n      <td>Information Technology</td>\n      <td>Unknown / Non-Applicable</td>\n      <td>-1</td>\n    </tr>\n    <tr>\n      <th>68</th>\n      <td>Software Engineer (Data Scientist, C,C++,Linux...</td>\n      <td>$72k-$142k\\n(Glassdoor Est.)</td>\n      <td>During the current global health crisis, the p...</td>\n      <td>4.1</td>\n      <td>Mentor Graphics\\n4.1</td>\n      <td>Fremont, CA</td>\n      <td>-1</td>\n      <td>5001 to 10000 Employees</td>\n      <td>1981</td>\n      <td>Company - Public</td>\n      <td>Computer Hardware &amp; Software</td>\n      <td>Information Technology</td>\n      <td>$1 to $2 billion (USD)</td>\n      <td>-1</td>\n    </tr>\n    <tr>\n      <th>91</th>\n      <td>Data Scientist 1</td>\n      <td>$94k-$152k\\n(Glassdoor Est.)</td>\n      <td>Who we are\\n\\n\\nFueled by a fundamental belief...</td>\n      <td>3.9</td>\n      <td>PayPal\\n3.9</td>\n      <td>San Jose, CA</td>\n      <td>-1</td>\n      <td>10000+ Employees</td>\n      <td>1998</td>\n      <td>Company - Public</td>\n      <td>Internet</td>\n      <td>Information Technology</td>\n      <td>$10+ billion (USD)</td>\n      <td>-1</td>\n    </tr>\n    <tr>\n      <th>92</th>\n      <td>Data Scientist</td>\n      <td>-1</td>\n      <td>The Chan Zuckerberg Biohub (\"CZ Biohub”) is an...</td>\n      <td>3.8</td>\n      <td>Chan Zuckerberg Biohub\\n3.8</td>\n      <td>San Francisco, CA</td>\n      <td>-1</td>\n      <td>1 to 50 Employees</td>\n      <td>-1</td>\n      <td>Nonprofit Organization</td>\n      <td>Health Fundraising Organizations</td>\n      <td>Non-Profit</td>\n      <td>Less than $1 million (USD)</td>\n      <td>-1</td>\n    </tr>\n    <tr>\n      <th>93</th>\n      <td>Data Scientist 1</td>\n      <td>$94k-$152k\\n(Glassdoor Est.)</td>\n      <td>Who we are\\n\\n\\nFueled by a fundamental belief...</td>\n      <td>3.9</td>\n      <td>PayPal\\n3.9</td>\n      <td>San Jose, CA</td>\n      <td>-1</td>\n      <td>10000+ Employees</td>\n      <td>1998</td>\n      <td>Company - Public</td>\n      <td>Internet</td>\n      <td>Information Technology</td>\n      <td>$10+ billion (USD)</td>\n      <td>-1</td>\n    </tr>\n    <tr>\n      <th>94</th>\n      <td>Data Scientist</td>\n      <td>-1</td>\n      <td>The Chan Zuckerberg Biohub (\"CZ Biohub”) is an...</td>\n      <td>3.8</td>\n      <td>Chan Zuckerberg Biohub\\n3.8</td>\n      <td>San Francisco, CA</td>\n      <td>-1</td>\n      <td>1 to 50 Employees</td>\n      <td>-1</td>\n      <td>Nonprofit Organization</td>\n      <td>Health Fundraising Organizations</td>\n      <td>Non-Profit</td>\n      <td>Less than $1 million (USD)</td>\n      <td>-1</td>\n    </tr>\n    <tr>\n      <th>118</th>\n      <td>Data Scientist - Analytics, Trust &amp; Safety</td>\n      <td>-1</td>\n      <td>Data Scientist - Analytics, Trust &amp; Safety\\nMo...</td>\n      <td>4.0</td>\n      <td>TikTok\\n4.0</td>\n      <td>Mountain View, CA</td>\n      <td>-1</td>\n      <td>1001 to 5000 Employees</td>\n      <td>2016</td>\n      <td>Company - Private</td>\n      <td>Internet</td>\n      <td>Information Technology</td>\n      <td>Unknown / Non-Applicable</td>\n      <td>-1</td>\n    </tr>\n    <tr>\n      <th>122</th>\n      <td>Data Scientist</td>\n      <td>$100k-$136k\\n(Glassdoor Est.)</td>\n      <td>Job TITLE: Data Scientist\\n\\nLocation: Santa C...</td>\n      <td>4.1</td>\n      <td>Flexton\\n4.1</td>\n      <td>Santa Clara, CA</td>\n      <td>-1</td>\n      <td>51 to 200 Employees</td>\n      <td>2007</td>\n      <td>Company - Private</td>\n      <td>IT Services</td>\n      <td>Information Technology</td>\n      <td>$10 to $25 million (USD)</td>\n      <td>-1</td>\n    </tr>\n    <tr>\n      <th>124</th>\n      <td>Data Scientist</td>\n      <td>$100k-$136k\\n(Glassdoor Est.)</td>\n      <td>Job TITLE: Data Scientist\\n\\nLocation: Santa C...</td>\n      <td>4.1</td>\n      <td>Flexton\\n4.1</td>\n      <td>Santa Clara, CA</td>\n      <td>-1</td>\n      <td>51 to 200 Employees</td>\n      <td>2007</td>\n      <td>Company - Private</td>\n      <td>IT Services</td>\n      <td>Information Technology</td>\n      <td>$10 to $25 million (USD)</td>\n      <td>-1</td>\n    </tr>\n    <tr>\n      <th>171</th>\n      <td>Data Scientist</td>\n      <td>$120k-$191k\\n(Glassdoor Est.)</td>\n      <td>Bioinformatics Programmer II\\n\\n17-Aug-2020\\n\\...</td>\n      <td>4.1</td>\n      <td>UCSF Medical Center\\n4.1</td>\n      <td>San Francisco, CA</td>\n      <td>-1</td>\n      <td>10000+ Employees</td>\n      <td>1907</td>\n      <td>Hospital</td>\n      <td>Health Care Services &amp; Hospitals</td>\n      <td>Health Care</td>\n      <td>$50 to $100 million (USD)</td>\n      <td>-1</td>\n    </tr>\n  </tbody>\n</table>\n</div>"
     },
     "metadata": {},
     "execution_count": 45
    }
   ],
   "source": [
    "# Data Science\n",
    "df_ds = pd.read_csv(\"data/data_scientist.csv\").iloc[:, 1 :] # remove index column\n",
    "# Data Engineering \n",
    "df_de = pd.read_csv(\"data/data_engineer.csv\").iloc[:, 1 :]\n",
    "# Data Analysis\n",
    "df_da = pd.read_csv(\"data/data_analyst.csv\").iloc[:, 1 :]\n",
    "# ML engineering\n",
    "df_ml = pd.read_csv(\"data/ml_engineer.csv\").iloc[:, 1 :]\n",
    "\n",
    "# Duplicated Job Descriptions\n",
    "duplicates_mask = df_ds[\"Job Description\"].duplicated(keep=False) == True\n",
    "print(\"Number of duplicates:\", duplicates_mask.sum())\n",
    "df_ds[duplicates_mask].head(10)"
   ]
  },
  {
   "cell_type": "code",
   "execution_count": 46,
   "metadata": {},
   "outputs": [
    {
     "output_type": "execute_result",
     "data": {
      "text/plain": "                                             Job Title  \\\n68   Software Engineer (Data Scientist, C,C++,Linux...   \n748  Software Engineer (Data Scientist, C,C++,Linux...   \n\n                  Salary Estimate  \\\n68   $72k-$142k\\n(Glassdoor Est.)   \n748  $57k-$119k\\n(Glassdoor Est.)   \n\n                                       Job Description  Rating  \\\n68   During the current global health crisis, the p...     4.1   \n748  During the current global health crisis, the p...     4.0   \n\n                  Company Name     Location  Headquarters  \\\n68        Mentor Graphics\\n4.1  Fremont, CA            -1   \n748  Siemens Healthineers\\n4.0  Fremont, CA            -1   \n\n                        Size  Founded Type of ownership  \\\n68   5001 to 10000 Employees     1981  Company - Public   \n748         10000+ Employees     1847  Company - Public   \n\n                             Industry                  Sector  \\\n68       Computer Hardware & Software  Information Technology   \n748  Health Care Services & Hospitals             Health Care   \n\n                    Revenue  Competitors  \n68   $1 to $2 billion (USD)           -1  \n748      $10+ billion (USD)           -1  ",
      "text/html": "<div>\n<style scoped>\n    .dataframe tbody tr th:only-of-type {\n        vertical-align: middle;\n    }\n\n    .dataframe tbody tr th {\n        vertical-align: top;\n    }\n\n    .dataframe thead th {\n        text-align: right;\n    }\n</style>\n<table border=\"1\" class=\"dataframe\">\n  <thead>\n    <tr style=\"text-align: right;\">\n      <th></th>\n      <th>Job Title</th>\n      <th>Salary Estimate</th>\n      <th>Job Description</th>\n      <th>Rating</th>\n      <th>Company Name</th>\n      <th>Location</th>\n      <th>Headquarters</th>\n      <th>Size</th>\n      <th>Founded</th>\n      <th>Type of ownership</th>\n      <th>Industry</th>\n      <th>Sector</th>\n      <th>Revenue</th>\n      <th>Competitors</th>\n    </tr>\n  </thead>\n  <tbody>\n    <tr>\n      <th>68</th>\n      <td>Software Engineer (Data Scientist, C,C++,Linux...</td>\n      <td>$72k-$142k\\n(Glassdoor Est.)</td>\n      <td>During the current global health crisis, the p...</td>\n      <td>4.1</td>\n      <td>Mentor Graphics\\n4.1</td>\n      <td>Fremont, CA</td>\n      <td>-1</td>\n      <td>5001 to 10000 Employees</td>\n      <td>1981</td>\n      <td>Company - Public</td>\n      <td>Computer Hardware &amp; Software</td>\n      <td>Information Technology</td>\n      <td>$1 to $2 billion (USD)</td>\n      <td>-1</td>\n    </tr>\n    <tr>\n      <th>748</th>\n      <td>Software Engineer (Data Scientist, C,C++,Linux...</td>\n      <td>$57k-$119k\\n(Glassdoor Est.)</td>\n      <td>During the current global health crisis, the p...</td>\n      <td>4.0</td>\n      <td>Siemens Healthineers\\n4.0</td>\n      <td>Fremont, CA</td>\n      <td>-1</td>\n      <td>10000+ Employees</td>\n      <td>1847</td>\n      <td>Company - Public</td>\n      <td>Health Care Services &amp; Hospitals</td>\n      <td>Health Care</td>\n      <td>$10+ billion (USD)</td>\n      <td>-1</td>\n    </tr>\n  </tbody>\n</table>\n</div>"
     },
     "metadata": {},
     "execution_count": 46
    }
   ],
   "source": [
    "# Duplicates associated of record at index \"i\"\n",
    "i = 68\n",
    "job_description = df_ds.loc[i, \"Job Description\"]\n",
    "df_ds[df_ds[\"Job Description\"] == job_description]"
   ]
  },
  {
   "cell_type": "code",
   "execution_count": 47,
   "metadata": {},
   "outputs": [
    {
     "output_type": "execute_result",
     "data": {
      "text/plain": "                                             Job Title  \\\n745     Machine Learning Engineer, 2+ Years Experience   \n746                  Data Engineer - Product Analytics   \n747  Looking for Data Scientist - Machine Learning ...   \n748  Software Engineer (Data Scientist, C,C++,Linux...   \n749                  Principal Data Scientist 200000CC   \n750                          Machine Learning Engineer   \n\n                   Salary Estimate  \\\n745  $113k-$196k\\n(Glassdoor Est.)   \n746  $100k-$179k\\n(Glassdoor Est.)   \n747                             -1   \n748   $57k-$119k\\n(Glassdoor Est.)   \n749                             -1   \n750                             -1   \n\n                                       Job Description  Rating  \\\n745  Snap Inc. is a camera company. We believe that...     3.9   \n746  ABOUT THE TEAM\\n\\n\\nThe data engineering team ...     3.4   \n747  Looking for Data Scientist - Machine Learning ...     4.9   \n748  During the current global health crisis, the p...     4.0   \n749  Principal Data Scientist 200000CC\\nWork Locati...     2.0   \n750  Lead AI development in delivering value to our...     2.8   \n\n                          Company Name           Location  Headquarters  \\\n745                          Snap\\n3.9    Los Angeles, CA            -1   \n746                    Stitch Fix\\n3.4  San Francisco, CA            -1   \n747  Tekishub Consulting Services\\n4.9      Sunnyvale, CA            -1   \n748          Siemens Healthineers\\n4.0        Fremont, CA            -1   \n749                  Tech-Connect\\n2.0    Los Angeles, CA            -1   \n750                 Digital Dhara\\n2.8       San Jose, CA            -1   \n\n                        Size  Founded  Type of ownership  \\\n745   1001 to 5000 Employees     2011   Company - Public   \n746  5001 to 10000 Employees     2011   Company - Public   \n747     201 to 500 Employees     2008  Company - Private   \n748         10000+ Employees     1847   Company - Public   \n749        1 to 50 Employees       -1  Company - Private   \n750        1 to 50 Employees       -1  Company - Private   \n\n                                    Industry                  Sector  \\\n745             Computer Hardware & Software  Information Technology   \n746                      Other Retail Stores                  Retail   \n747                              IT Services  Information Technology   \n748         Health Care Services & Hospitals             Health Care   \n749  Enterprise Software & Network Solutions  Information Technology   \n750                                       -1                      -1   \n\n                              Revenue  Competitors  \n745          Unknown / Non-Applicable           -1  \n746  $500 million to $1 billion (USD)           -1  \n747         $50 to $100 million (USD)           -1  \n748                $10+ billion (USD)           -1  \n749            $1 to $5 million (USD)           -1  \n750        Less than $1 million (USD)           -1  ",
      "text/html": "<div>\n<style scoped>\n    .dataframe tbody tr th:only-of-type {\n        vertical-align: middle;\n    }\n\n    .dataframe tbody tr th {\n        vertical-align: top;\n    }\n\n    .dataframe thead th {\n        text-align: right;\n    }\n</style>\n<table border=\"1\" class=\"dataframe\">\n  <thead>\n    <tr style=\"text-align: right;\">\n      <th></th>\n      <th>Job Title</th>\n      <th>Salary Estimate</th>\n      <th>Job Description</th>\n      <th>Rating</th>\n      <th>Company Name</th>\n      <th>Location</th>\n      <th>Headquarters</th>\n      <th>Size</th>\n      <th>Founded</th>\n      <th>Type of ownership</th>\n      <th>Industry</th>\n      <th>Sector</th>\n      <th>Revenue</th>\n      <th>Competitors</th>\n    </tr>\n  </thead>\n  <tbody>\n    <tr>\n      <th>745</th>\n      <td>Machine Learning Engineer, 2+ Years Experience</td>\n      <td>$113k-$196k\\n(Glassdoor Est.)</td>\n      <td>Snap Inc. is a camera company. We believe that...</td>\n      <td>3.9</td>\n      <td>Snap\\n3.9</td>\n      <td>Los Angeles, CA</td>\n      <td>-1</td>\n      <td>1001 to 5000 Employees</td>\n      <td>2011</td>\n      <td>Company - Public</td>\n      <td>Computer Hardware &amp; Software</td>\n      <td>Information Technology</td>\n      <td>Unknown / Non-Applicable</td>\n      <td>-1</td>\n    </tr>\n    <tr>\n      <th>746</th>\n      <td>Data Engineer - Product Analytics</td>\n      <td>$100k-$179k\\n(Glassdoor Est.)</td>\n      <td>ABOUT THE TEAM\\n\\n\\nThe data engineering team ...</td>\n      <td>3.4</td>\n      <td>Stitch Fix\\n3.4</td>\n      <td>San Francisco, CA</td>\n      <td>-1</td>\n      <td>5001 to 10000 Employees</td>\n      <td>2011</td>\n      <td>Company - Public</td>\n      <td>Other Retail Stores</td>\n      <td>Retail</td>\n      <td>$500 million to $1 billion (USD)</td>\n      <td>-1</td>\n    </tr>\n    <tr>\n      <th>747</th>\n      <td>Looking for Data Scientist - Machine Learning ...</td>\n      <td>-1</td>\n      <td>Looking for Data Scientist - Machine Learning ...</td>\n      <td>4.9</td>\n      <td>Tekishub Consulting Services\\n4.9</td>\n      <td>Sunnyvale, CA</td>\n      <td>-1</td>\n      <td>201 to 500 Employees</td>\n      <td>2008</td>\n      <td>Company - Private</td>\n      <td>IT Services</td>\n      <td>Information Technology</td>\n      <td>$50 to $100 million (USD)</td>\n      <td>-1</td>\n    </tr>\n    <tr>\n      <th>748</th>\n      <td>Software Engineer (Data Scientist, C,C++,Linux...</td>\n      <td>$57k-$119k\\n(Glassdoor Est.)</td>\n      <td>During the current global health crisis, the p...</td>\n      <td>4.0</td>\n      <td>Siemens Healthineers\\n4.0</td>\n      <td>Fremont, CA</td>\n      <td>-1</td>\n      <td>10000+ Employees</td>\n      <td>1847</td>\n      <td>Company - Public</td>\n      <td>Health Care Services &amp; Hospitals</td>\n      <td>Health Care</td>\n      <td>$10+ billion (USD)</td>\n      <td>-1</td>\n    </tr>\n    <tr>\n      <th>749</th>\n      <td>Principal Data Scientist 200000CC</td>\n      <td>-1</td>\n      <td>Principal Data Scientist 200000CC\\nWork Locati...</td>\n      <td>2.0</td>\n      <td>Tech-Connect\\n2.0</td>\n      <td>Los Angeles, CA</td>\n      <td>-1</td>\n      <td>1 to 50 Employees</td>\n      <td>-1</td>\n      <td>Company - Private</td>\n      <td>Enterprise Software &amp; Network Solutions</td>\n      <td>Information Technology</td>\n      <td>$1 to $5 million (USD)</td>\n      <td>-1</td>\n    </tr>\n    <tr>\n      <th>750</th>\n      <td>Machine Learning Engineer</td>\n      <td>-1</td>\n      <td>Lead AI development in delivering value to our...</td>\n      <td>2.8</td>\n      <td>Digital Dhara\\n2.8</td>\n      <td>San Jose, CA</td>\n      <td>-1</td>\n      <td>1 to 50 Employees</td>\n      <td>-1</td>\n      <td>Company - Private</td>\n      <td>-1</td>\n      <td>-1</td>\n      <td>Less than $1 million (USD)</td>\n      <td>-1</td>\n    </tr>\n  </tbody>\n</table>\n</div>"
     },
     "metadata": {},
     "execution_count": 47
    }
   ],
   "source": [
    "# Inspect records close to the duplicate found at index 748\n",
    "df_ds.iloc[745:751]"
   ]
  },
  {
   "cell_type": "code",
   "execution_count": 48,
   "metadata": {},
   "outputs": [
    {
     "output_type": "execute_result",
     "data": {
      "text/plain": "527"
     },
     "metadata": {},
     "execution_count": 48
    }
   ],
   "source": [
    "# Duplicate records\n",
    "df_ds.duplicated(keep=False).sum()"
   ]
  },
  {
   "cell_type": "code",
   "execution_count": 49,
   "metadata": {},
   "outputs": [],
   "source": [
    "# Remove duplicates\n",
    "df_1 = df_ds[df_ds.duplicated() == False]\n",
    "df_2 = df_de[df_de.duplicated() == False]\n",
    "df_3 = df_da[df_da.duplicated() == False]\n",
    "df_4 = df_ml[df_ml.duplicated() == False]"
   ]
  },
  {
   "cell_type": "code",
   "execution_count": 50,
   "metadata": {},
   "outputs": [
    {
     "output_type": "execute_result",
     "data": {
      "text/plain": "                                             Job Title  \\\n0                                   Sr. DATA SCIENTIST   \n1                         Data Scientist - Telecommute   \n2               Clinical Laboratory Scientist PM Shift   \n3                              Manufacturing Scientist   \n4                  Data Scientist, Medical Diagnostics   \n..                                                 ...   \n924  Modem Systems Engineer (5G/LTE Advanced Algori...   \n926                              Senior Data Scientist   \n927                 Data Scientist, Life Sciences (US)   \n928  Senior Data Scientist, (Genomics, Presicion Me...   \n931  Principal Data Scientist - Health Economics & ...   \n\n                   Salary Estimate  \\\n0    $155k-$247k\\n(Glassdoor Est.)   \n1     $67k-$117k\\n(Glassdoor Est.)   \n2                               -1   \n3      $41k-$91k\\n(Glassdoor Est.)   \n4                               -1   \n..                             ...   \n924   $97k-$123k\\n(Glassdoor Est.)   \n926                             -1   \n927   $97k-$156k\\n(Glassdoor Est.)   \n928   $97k-$158k\\n(Glassdoor Est.)   \n931  $134k-$218k\\n(Glassdoor Est.)   \n\n                                       Job Description  Rating  \\\n0    Title: Sr. Data Scientist\\n\\nCompany: Samsung ...     3.7   \n1    Optum Payment Integrity Analytics is looking t...     3.4   \n2    Testing is the most significant bottleneck in ...    -1.0   \n3    Biomerica Corporation focusing on the research...     2.5   \n4    _*The Company*_\\nThe world is facing a medical...     1.0   \n..                                                 ...     ...   \n924  Modem Systems Engineer (5G/LTE – Advanced Algo...     3.5   \n926  WHO WE ARE\\n\\nKinship, Mars Petcare's newest d...    -1.0   \n927  CitiusTech is a leader in HealthCare innovatio...     3.7   \n928  About City of Hope\\nCity of Hope, an innovativ...     3.4   \n931  The Position\\n\\n\\nPosition is based in South S...     4.1   \n\n                         Company Name           Location  Headquarters  \\\n0       Samsung Research America\\n3.7  Mountain View, CA            -1   \n1             Unitedhealth Group\\n3.4      San Diego, CA            -1   \n2                           SummerBio     Menlo Park, CA            -1   \n3                      Biomerica\\n2.5         Irvine, CA            -1   \n4           Specific Diagnostics\\n1.0  Mountain View, CA            -1   \n..                                ...                ...           ...   \n924  Samsung Semiconductor, Inc.\\n3.5      San Diego, CA            -1   \n926                           Kinship  San Francisco, CA            -1   \n927                   CitiusTech\\n3.7  San Francisco, CA            -1   \n928                 City of Hope\\n3.4      Irwindale, CA            -1   \n931                    Genentech\\n4.1    Los Angeles, CA            -1   \n\n                        Size  Founded               Type of ownership  \\\n0     1001 to 5000 Employees     1988  Subsidiary or Business Segment   \n1           10000+ Employees     1977                Company - Public   \n2                         -1       -1                              -1   \n3          1 to 50 Employees       -1                Company - Public   \n4          1 to 50 Employees       -1               Company - Private   \n..                       ...      ...                             ...   \n924   1001 to 5000 Employees     1983  Subsidiary or Business Segment   \n926        1 to 50 Employees       -1               Company - Private   \n927   1001 to 5000 Employees     2005               Company - Private   \n928  5001 to 10000 Employees     1913          Nonprofit Organization   \n931         10000+ Employees     1976  Subsidiary or Business Segment   \n\n                             Industry                     Sector  \\\n0        Computer Hardware & Software     Information Technology   \n1    Health Care Services & Hospitals                Health Care   \n2                                  -1                         -1   \n3           Biotech & Pharmaceuticals  Biotech & Pharmaceuticals   \n4                                  -1                         -1   \n..                                ...                        ...   \n924      Computer Hardware & Software     Information Technology   \n926           Advertising & Marketing          Business Services   \n927                       IT Services     Information Technology   \n928  Health Care Services & Hospitals                Health Care   \n931         Biotech & Pharmaceuticals  Biotech & Pharmaceuticals   \n\n                        Revenue  Competitors  \n0     $50 to $100 million (USD)           -1  \n1            $10+ billion (USD)           -1  \n2                            -1           -1  \n3       $5 to $10 million (USD)           -1  \n4    Less than $1 million (USD)           -1  \n..                          ...          ...  \n924    Unknown / Non-Applicable           -1  \n926  Less than $1 million (USD)           -1  \n927  $100 to $500 million (USD)           -1  \n928  $100 to $500 million (USD)           -1  \n931          $10+ billion (USD)           -1  \n\n[2421 rows x 14 columns]",
      "text/html": "<div>\n<style scoped>\n    .dataframe tbody tr th:only-of-type {\n        vertical-align: middle;\n    }\n\n    .dataframe tbody tr th {\n        vertical-align: top;\n    }\n\n    .dataframe thead th {\n        text-align: right;\n    }\n</style>\n<table border=\"1\" class=\"dataframe\">\n  <thead>\n    <tr style=\"text-align: right;\">\n      <th></th>\n      <th>Job Title</th>\n      <th>Salary Estimate</th>\n      <th>Job Description</th>\n      <th>Rating</th>\n      <th>Company Name</th>\n      <th>Location</th>\n      <th>Headquarters</th>\n      <th>Size</th>\n      <th>Founded</th>\n      <th>Type of ownership</th>\n      <th>Industry</th>\n      <th>Sector</th>\n      <th>Revenue</th>\n      <th>Competitors</th>\n    </tr>\n  </thead>\n  <tbody>\n    <tr>\n      <th>0</th>\n      <td>Sr. DATA SCIENTIST</td>\n      <td>$155k-$247k\\n(Glassdoor Est.)</td>\n      <td>Title: Sr. Data Scientist\\n\\nCompany: Samsung ...</td>\n      <td>3.7</td>\n      <td>Samsung Research America\\n3.7</td>\n      <td>Mountain View, CA</td>\n      <td>-1</td>\n      <td>1001 to 5000 Employees</td>\n      <td>1988</td>\n      <td>Subsidiary or Business Segment</td>\n      <td>Computer Hardware &amp; Software</td>\n      <td>Information Technology</td>\n      <td>$50 to $100 million (USD)</td>\n      <td>-1</td>\n    </tr>\n    <tr>\n      <th>1</th>\n      <td>Data Scientist - Telecommute</td>\n      <td>$67k-$117k\\n(Glassdoor Est.)</td>\n      <td>Optum Payment Integrity Analytics is looking t...</td>\n      <td>3.4</td>\n      <td>Unitedhealth Group\\n3.4</td>\n      <td>San Diego, CA</td>\n      <td>-1</td>\n      <td>10000+ Employees</td>\n      <td>1977</td>\n      <td>Company - Public</td>\n      <td>Health Care Services &amp; Hospitals</td>\n      <td>Health Care</td>\n      <td>$10+ billion (USD)</td>\n      <td>-1</td>\n    </tr>\n    <tr>\n      <th>2</th>\n      <td>Clinical Laboratory Scientist PM Shift</td>\n      <td>-1</td>\n      <td>Testing is the most significant bottleneck in ...</td>\n      <td>-1.0</td>\n      <td>SummerBio</td>\n      <td>Menlo Park, CA</td>\n      <td>-1</td>\n      <td>-1</td>\n      <td>-1</td>\n      <td>-1</td>\n      <td>-1</td>\n      <td>-1</td>\n      <td>-1</td>\n      <td>-1</td>\n    </tr>\n    <tr>\n      <th>3</th>\n      <td>Manufacturing Scientist</td>\n      <td>$41k-$91k\\n(Glassdoor Est.)</td>\n      <td>Biomerica Corporation focusing on the research...</td>\n      <td>2.5</td>\n      <td>Biomerica\\n2.5</td>\n      <td>Irvine, CA</td>\n      <td>-1</td>\n      <td>1 to 50 Employees</td>\n      <td>-1</td>\n      <td>Company - Public</td>\n      <td>Biotech &amp; Pharmaceuticals</td>\n      <td>Biotech &amp; Pharmaceuticals</td>\n      <td>$5 to $10 million (USD)</td>\n      <td>-1</td>\n    </tr>\n    <tr>\n      <th>4</th>\n      <td>Data Scientist, Medical Diagnostics</td>\n      <td>-1</td>\n      <td>_*The Company*_\\nThe world is facing a medical...</td>\n      <td>1.0</td>\n      <td>Specific Diagnostics\\n1.0</td>\n      <td>Mountain View, CA</td>\n      <td>-1</td>\n      <td>1 to 50 Employees</td>\n      <td>-1</td>\n      <td>Company - Private</td>\n      <td>-1</td>\n      <td>-1</td>\n      <td>Less than $1 million (USD)</td>\n      <td>-1</td>\n    </tr>\n    <tr>\n      <th>...</th>\n      <td>...</td>\n      <td>...</td>\n      <td>...</td>\n      <td>...</td>\n      <td>...</td>\n      <td>...</td>\n      <td>...</td>\n      <td>...</td>\n      <td>...</td>\n      <td>...</td>\n      <td>...</td>\n      <td>...</td>\n      <td>...</td>\n      <td>...</td>\n    </tr>\n    <tr>\n      <th>924</th>\n      <td>Modem Systems Engineer (5G/LTE Advanced Algori...</td>\n      <td>$97k-$123k\\n(Glassdoor Est.)</td>\n      <td>Modem Systems Engineer (5G/LTE – Advanced Algo...</td>\n      <td>3.5</td>\n      <td>Samsung Semiconductor, Inc.\\n3.5</td>\n      <td>San Diego, CA</td>\n      <td>-1</td>\n      <td>1001 to 5000 Employees</td>\n      <td>1983</td>\n      <td>Subsidiary or Business Segment</td>\n      <td>Computer Hardware &amp; Software</td>\n      <td>Information Technology</td>\n      <td>Unknown / Non-Applicable</td>\n      <td>-1</td>\n    </tr>\n    <tr>\n      <th>926</th>\n      <td>Senior Data Scientist</td>\n      <td>-1</td>\n      <td>WHO WE ARE\\n\\nKinship, Mars Petcare's newest d...</td>\n      <td>-1.0</td>\n      <td>Kinship</td>\n      <td>San Francisco, CA</td>\n      <td>-1</td>\n      <td>1 to 50 Employees</td>\n      <td>-1</td>\n      <td>Company - Private</td>\n      <td>Advertising &amp; Marketing</td>\n      <td>Business Services</td>\n      <td>Less than $1 million (USD)</td>\n      <td>-1</td>\n    </tr>\n    <tr>\n      <th>927</th>\n      <td>Data Scientist, Life Sciences (US)</td>\n      <td>$97k-$156k\\n(Glassdoor Est.)</td>\n      <td>CitiusTech is a leader in HealthCare innovatio...</td>\n      <td>3.7</td>\n      <td>CitiusTech\\n3.7</td>\n      <td>San Francisco, CA</td>\n      <td>-1</td>\n      <td>1001 to 5000 Employees</td>\n      <td>2005</td>\n      <td>Company - Private</td>\n      <td>IT Services</td>\n      <td>Information Technology</td>\n      <td>$100 to $500 million (USD)</td>\n      <td>-1</td>\n    </tr>\n    <tr>\n      <th>928</th>\n      <td>Senior Data Scientist, (Genomics, Presicion Me...</td>\n      <td>$97k-$158k\\n(Glassdoor Est.)</td>\n      <td>About City of Hope\\nCity of Hope, an innovativ...</td>\n      <td>3.4</td>\n      <td>City of Hope\\n3.4</td>\n      <td>Irwindale, CA</td>\n      <td>-1</td>\n      <td>5001 to 10000 Employees</td>\n      <td>1913</td>\n      <td>Nonprofit Organization</td>\n      <td>Health Care Services &amp; Hospitals</td>\n      <td>Health Care</td>\n      <td>$100 to $500 million (USD)</td>\n      <td>-1</td>\n    </tr>\n    <tr>\n      <th>931</th>\n      <td>Principal Data Scientist - Health Economics &amp; ...</td>\n      <td>$134k-$218k\\n(Glassdoor Est.)</td>\n      <td>The Position\\n\\n\\nPosition is based in South S...</td>\n      <td>4.1</td>\n      <td>Genentech\\n4.1</td>\n      <td>Los Angeles, CA</td>\n      <td>-1</td>\n      <td>10000+ Employees</td>\n      <td>1976</td>\n      <td>Subsidiary or Business Segment</td>\n      <td>Biotech &amp; Pharmaceuticals</td>\n      <td>Biotech &amp; Pharmaceuticals</td>\n      <td>$10+ billion (USD)</td>\n      <td>-1</td>\n    </tr>\n  </tbody>\n</table>\n<p>2421 rows × 14 columns</p>\n</div>"
     },
     "metadata": {},
     "execution_count": 50
    }
   ],
   "source": [
    "# Merge data from all queries \n",
    "df = pd.concat([df_1, df_2, df_3, df_4])\n",
    "df"
   ]
  },
  {
   "cell_type": "code",
   "execution_count": 51,
   "metadata": {
    "tags": []
   },
   "outputs": [
    {
     "output_type": "execute_result",
     "data": {
      "text/plain": "                                             Job Title  \\\n0                                   Sr. DATA SCIENTIST   \n1                         Data Scientist - Telecommute   \n2               Clinical Laboratory Scientist PM Shift   \n3                              Manufacturing Scientist   \n4                  Data Scientist, Medical Diagnostics   \n..                                                 ...   \n917  C++ Engineer in Machine Learning | Autonomous ...   \n920    Sensor Research Engineer (Lidar, Radar, Camera)   \n921  Autonomous Vehicle Research Internship (PhD / ...   \n924  Modem Systems Engineer (5G/LTE Advanced Algori...   \n926                              Senior Data Scientist   \n\n                   Salary Estimate  \\\n0    $155k-$247k\\n(Glassdoor Est.)   \n1     $67k-$117k\\n(Glassdoor Est.)   \n2                               -1   \n3      $41k-$91k\\n(Glassdoor Est.)   \n4                               -1   \n..                             ...   \n917   $74k-$151k\\n(Glassdoor Est.)   \n920   $82k-$142k\\n(Glassdoor Est.)   \n921                             -1   \n924   $97k-$123k\\n(Glassdoor Est.)   \n926                             -1   \n\n                                       Job Description  Rating  \\\n0    Title: Sr. Data Scientist\\n\\nCompany: Samsung ...     3.7   \n1    Optum Payment Integrity Analytics is looking t...     3.4   \n2    Testing is the most significant bottleneck in ...    -1.0   \n3    Biomerica Corporation focusing on the research...     2.5   \n4    _*The Company*_\\nThe world is facing a medical...     1.0   \n..                                                 ...     ...   \n917  These opportunities are located in San Diego. ...     3.7   \n920  Sensor Research Engineer\\n\\nEmail your resume ...     3.7   \n921  Internship for (Summer/Spring/Fall 2021)\\n\\nFo...     3.7   \n924  Modem Systems Engineer (5G/LTE – Advanced Algo...     3.5   \n926  WHO WE ARE\\n\\nKinship, Mars Petcare's newest d...    -1.0   \n\n                         Company Name           Location  Headquarters  \\\n0       Samsung Research America\\n3.7  Mountain View, CA            -1   \n1             Unitedhealth Group\\n3.4      San Diego, CA            -1   \n2                           SummerBio     Menlo Park, CA            -1   \n3                      Biomerica\\n2.5         Irvine, CA            -1   \n4           Specific Diagnostics\\n1.0  Mountain View, CA            -1   \n..                                ...                ...           ...   \n917               TuSimple, Inc.\\n3.7    Los Angeles, CA            -1   \n920               TuSimple, Inc.\\n3.7      San Diego, CA            -1   \n921               TuSimple, Inc.\\n3.7  San Francisco, CA            -1   \n924  Samsung Semiconductor, Inc.\\n3.5      San Diego, CA            -1   \n926                           Kinship  San Francisco, CA            -1   \n\n                       Size  Founded               Type of ownership  \\\n0    1001 to 5000 Employees     1988  Subsidiary or Business Segment   \n1          10000+ Employees     1977                Company - Public   \n2                        -1       -1                              -1   \n3         1 to 50 Employees       -1                Company - Public   \n4         1 to 50 Employees       -1               Company - Private   \n..                      ...      ...                             ...   \n917    201 to 500 Employees     2015               Company - Private   \n920    201 to 500 Employees     2015               Company - Private   \n921    201 to 500 Employees     2015               Company - Private   \n924  1001 to 5000 Employees     1983  Subsidiary or Business Segment   \n926       1 to 50 Employees       -1               Company - Private   \n\n                             Industry                     Sector  \\\n0        Computer Hardware & Software     Information Technology   \n1    Health Care Services & Hospitals                Health Care   \n2                                  -1                         -1   \n3           Biotech & Pharmaceuticals  Biotech & Pharmaceuticals   \n4                                  -1                         -1   \n..                                ...                        ...   \n917      Computer Hardware & Software     Information Technology   \n920      Computer Hardware & Software     Information Technology   \n921      Computer Hardware & Software     Information Technology   \n924      Computer Hardware & Software     Information Technology   \n926           Advertising & Marketing          Business Services   \n\n                        Revenue  Competitors  \n0     $50 to $100 million (USD)           -1  \n1            $10+ billion (USD)           -1  \n2                            -1           -1  \n3       $5 to $10 million (USD)           -1  \n4    Less than $1 million (USD)           -1  \n..                          ...          ...  \n917    Unknown / Non-Applicable           -1  \n920    Unknown / Non-Applicable           -1  \n921    Unknown / Non-Applicable           -1  \n924    Unknown / Non-Applicable           -1  \n926  Less than $1 million (USD)           -1  \n\n[1998 rows x 14 columns]",
      "text/html": "<div>\n<style scoped>\n    .dataframe tbody tr th:only-of-type {\n        vertical-align: middle;\n    }\n\n    .dataframe tbody tr th {\n        vertical-align: top;\n    }\n\n    .dataframe thead th {\n        text-align: right;\n    }\n</style>\n<table border=\"1\" class=\"dataframe\">\n  <thead>\n    <tr style=\"text-align: right;\">\n      <th></th>\n      <th>Job Title</th>\n      <th>Salary Estimate</th>\n      <th>Job Description</th>\n      <th>Rating</th>\n      <th>Company Name</th>\n      <th>Location</th>\n      <th>Headquarters</th>\n      <th>Size</th>\n      <th>Founded</th>\n      <th>Type of ownership</th>\n      <th>Industry</th>\n      <th>Sector</th>\n      <th>Revenue</th>\n      <th>Competitors</th>\n    </tr>\n  </thead>\n  <tbody>\n    <tr>\n      <th>0</th>\n      <td>Sr. DATA SCIENTIST</td>\n      <td>$155k-$247k\\n(Glassdoor Est.)</td>\n      <td>Title: Sr. Data Scientist\\n\\nCompany: Samsung ...</td>\n      <td>3.7</td>\n      <td>Samsung Research America\\n3.7</td>\n      <td>Mountain View, CA</td>\n      <td>-1</td>\n      <td>1001 to 5000 Employees</td>\n      <td>1988</td>\n      <td>Subsidiary or Business Segment</td>\n      <td>Computer Hardware &amp; Software</td>\n      <td>Information Technology</td>\n      <td>$50 to $100 million (USD)</td>\n      <td>-1</td>\n    </tr>\n    <tr>\n      <th>1</th>\n      <td>Data Scientist - Telecommute</td>\n      <td>$67k-$117k\\n(Glassdoor Est.)</td>\n      <td>Optum Payment Integrity Analytics is looking t...</td>\n      <td>3.4</td>\n      <td>Unitedhealth Group\\n3.4</td>\n      <td>San Diego, CA</td>\n      <td>-1</td>\n      <td>10000+ Employees</td>\n      <td>1977</td>\n      <td>Company - Public</td>\n      <td>Health Care Services &amp; Hospitals</td>\n      <td>Health Care</td>\n      <td>$10+ billion (USD)</td>\n      <td>-1</td>\n    </tr>\n    <tr>\n      <th>2</th>\n      <td>Clinical Laboratory Scientist PM Shift</td>\n      <td>-1</td>\n      <td>Testing is the most significant bottleneck in ...</td>\n      <td>-1.0</td>\n      <td>SummerBio</td>\n      <td>Menlo Park, CA</td>\n      <td>-1</td>\n      <td>-1</td>\n      <td>-1</td>\n      <td>-1</td>\n      <td>-1</td>\n      <td>-1</td>\n      <td>-1</td>\n      <td>-1</td>\n    </tr>\n    <tr>\n      <th>3</th>\n      <td>Manufacturing Scientist</td>\n      <td>$41k-$91k\\n(Glassdoor Est.)</td>\n      <td>Biomerica Corporation focusing on the research...</td>\n      <td>2.5</td>\n      <td>Biomerica\\n2.5</td>\n      <td>Irvine, CA</td>\n      <td>-1</td>\n      <td>1 to 50 Employees</td>\n      <td>-1</td>\n      <td>Company - Public</td>\n      <td>Biotech &amp; Pharmaceuticals</td>\n      <td>Biotech &amp; Pharmaceuticals</td>\n      <td>$5 to $10 million (USD)</td>\n      <td>-1</td>\n    </tr>\n    <tr>\n      <th>4</th>\n      <td>Data Scientist, Medical Diagnostics</td>\n      <td>-1</td>\n      <td>_*The Company*_\\nThe world is facing a medical...</td>\n      <td>1.0</td>\n      <td>Specific Diagnostics\\n1.0</td>\n      <td>Mountain View, CA</td>\n      <td>-1</td>\n      <td>1 to 50 Employees</td>\n      <td>-1</td>\n      <td>Company - Private</td>\n      <td>-1</td>\n      <td>-1</td>\n      <td>Less than $1 million (USD)</td>\n      <td>-1</td>\n    </tr>\n    <tr>\n      <th>...</th>\n      <td>...</td>\n      <td>...</td>\n      <td>...</td>\n      <td>...</td>\n      <td>...</td>\n      <td>...</td>\n      <td>...</td>\n      <td>...</td>\n      <td>...</td>\n      <td>...</td>\n      <td>...</td>\n      <td>...</td>\n      <td>...</td>\n      <td>...</td>\n    </tr>\n    <tr>\n      <th>917</th>\n      <td>C++ Engineer in Machine Learning | Autonomous ...</td>\n      <td>$74k-$151k\\n(Glassdoor Est.)</td>\n      <td>These opportunities are located in San Diego. ...</td>\n      <td>3.7</td>\n      <td>TuSimple, Inc.\\n3.7</td>\n      <td>Los Angeles, CA</td>\n      <td>-1</td>\n      <td>201 to 500 Employees</td>\n      <td>2015</td>\n      <td>Company - Private</td>\n      <td>Computer Hardware &amp; Software</td>\n      <td>Information Technology</td>\n      <td>Unknown / Non-Applicable</td>\n      <td>-1</td>\n    </tr>\n    <tr>\n      <th>920</th>\n      <td>Sensor Research Engineer (Lidar, Radar, Camera)</td>\n      <td>$82k-$142k\\n(Glassdoor Est.)</td>\n      <td>Sensor Research Engineer\\n\\nEmail your resume ...</td>\n      <td>3.7</td>\n      <td>TuSimple, Inc.\\n3.7</td>\n      <td>San Diego, CA</td>\n      <td>-1</td>\n      <td>201 to 500 Employees</td>\n      <td>2015</td>\n      <td>Company - Private</td>\n      <td>Computer Hardware &amp; Software</td>\n      <td>Information Technology</td>\n      <td>Unknown / Non-Applicable</td>\n      <td>-1</td>\n    </tr>\n    <tr>\n      <th>921</th>\n      <td>Autonomous Vehicle Research Internship (PhD / ...</td>\n      <td>-1</td>\n      <td>Internship for (Summer/Spring/Fall 2021)\\n\\nFo...</td>\n      <td>3.7</td>\n      <td>TuSimple, Inc.\\n3.7</td>\n      <td>San Francisco, CA</td>\n      <td>-1</td>\n      <td>201 to 500 Employees</td>\n      <td>2015</td>\n      <td>Company - Private</td>\n      <td>Computer Hardware &amp; Software</td>\n      <td>Information Technology</td>\n      <td>Unknown / Non-Applicable</td>\n      <td>-1</td>\n    </tr>\n    <tr>\n      <th>924</th>\n      <td>Modem Systems Engineer (5G/LTE Advanced Algori...</td>\n      <td>$97k-$123k\\n(Glassdoor Est.)</td>\n      <td>Modem Systems Engineer (5G/LTE – Advanced Algo...</td>\n      <td>3.5</td>\n      <td>Samsung Semiconductor, Inc.\\n3.5</td>\n      <td>San Diego, CA</td>\n      <td>-1</td>\n      <td>1001 to 5000 Employees</td>\n      <td>1983</td>\n      <td>Subsidiary or Business Segment</td>\n      <td>Computer Hardware &amp; Software</td>\n      <td>Information Technology</td>\n      <td>Unknown / Non-Applicable</td>\n      <td>-1</td>\n    </tr>\n    <tr>\n      <th>926</th>\n      <td>Senior Data Scientist</td>\n      <td>-1</td>\n      <td>WHO WE ARE\\n\\nKinship, Mars Petcare's newest d...</td>\n      <td>-1.0</td>\n      <td>Kinship</td>\n      <td>San Francisco, CA</td>\n      <td>-1</td>\n      <td>1 to 50 Employees</td>\n      <td>-1</td>\n      <td>Company - Private</td>\n      <td>Advertising &amp; Marketing</td>\n      <td>Business Services</td>\n      <td>Less than $1 million (USD)</td>\n      <td>-1</td>\n    </tr>\n  </tbody>\n</table>\n<p>1998 rows × 14 columns</p>\n</div>"
     },
     "metadata": {},
     "execution_count": 51
    }
   ],
   "source": [
    "# Remove duplicate records from combined search queries.\n",
    "df = df[df[\"Job Description\"].duplicated() == False]\n",
    "df"
   ]
  },
  {
   "cell_type": "code",
   "execution_count": 52,
   "metadata": {},
   "outputs": [],
   "source": [
    "def return_job_type(row):\n",
    "    if \"data scientist\" in row:\n",
    "        return \"Data Science\"\n",
    "    elif \"data engineer\" in row:\n",
    "        return \"Data Engineering\"\n",
    "    elif \"data analyst\" in row:\n",
    "        return \"Data Analysis\"\n",
    "    elif \"machine learning\" in row:\n",
    "        return \"ML Engineering\"\n",
    "    else : return np.nan"
   ]
  },
  {
   "cell_type": "code",
   "execution_count": 63,
   "metadata": {},
   "outputs": [
    {
     "output_type": "execute_result",
     "data": {
      "text/plain": "NaN                 726\nData Analysis       415\nData Science        393\nData Engineering    246\nML Engineering      218\nName: Job Title, dtype: int64"
     },
     "metadata": {},
     "execution_count": 63
    }
   ],
   "source": [
    "df[\"Job Title\"] = df[\"Job Title\"].str.lower()\n",
    "# Extract job titles\n",
    "extracted_job_titles = df[\"Job Title\"].apply(return_job_type)\n",
    "extracted_job_titles.value_counts(dropna=False)"
   ]
  },
  {
   "cell_type": "code",
   "execution_count": 74,
   "metadata": {
    "tags": []
   },
   "outputs": [
    {
     "output_type": "stream",
     "name": "stdout",
     "text": "<class 'pandas.core.frame.DataFrame'>\nInt64Index: 1998 entries, 0 to 926\nData columns (total 14 columns):\n #   Column             Non-Null Count  Dtype  \n---  ------             --------------  -----  \n 0   Job Title          1272 non-null   object \n 1   Salary Estimate    1998 non-null   object \n 2   Job Description    1998 non-null   object \n 3   Rating             1998 non-null   float64\n 4   Company Name       1995 non-null   object \n 5   Location           1998 non-null   object \n 6   Headquarters       1998 non-null   int64  \n 7   Size               1998 non-null   object \n 8   Founded            1998 non-null   int64  \n 9   Type of ownership  1998 non-null   object \n 10  Industry           1998 non-null   object \n 11  Sector             1998 non-null   object \n 12  Revenue            1998 non-null   object \n 13  Competitors        1998 non-null   int64  \ndtypes: float64(1), int64(3), object(10)\nmemory usage: 274.1+ KB\n"
    }
   ],
   "source": [
    "# Replaces Job Titles\n",
    "df[\"Job Title\"] = extracted_job_titles\n",
    "df.info()"
   ]
  },
  {
   "source": [
    "## Classification"
   ],
   "cell_type": "markdown",
   "metadata": {}
  },
  {
   "cell_type": "code",
   "execution_count": 84,
   "metadata": {},
   "outputs": [],
   "source": [
    "# Remove records with missing job titles\n",
    "df_classify = df.dropna()"
   ]
  },
  {
   "cell_type": "code",
   "execution_count": 85,
   "metadata": {
    "tags": []
   },
   "outputs": [
    {
     "output_type": "stream",
     "name": "stdout",
     "text": "<class 'pandas.core.frame.DataFrame'>\nInt64Index: 1270 entries, 0 to 926\nData columns (total 14 columns):\n #   Column             Non-Null Count  Dtype  \n---  ------             --------------  -----  \n 0   Job Title          1270 non-null   object \n 1   Salary Estimate    1270 non-null   object \n 2   Job Description    1270 non-null   object \n 3   Rating             1270 non-null   float64\n 4   Company Name       1270 non-null   object \n 5   Location           1270 non-null   object \n 6   Headquarters       1270 non-null   int64  \n 7   Size               1270 non-null   object \n 8   Founded            1270 non-null   int64  \n 9   Type of ownership  1270 non-null   object \n 10  Industry           1270 non-null   object \n 11  Sector             1270 non-null   object \n 12  Revenue            1270 non-null   object \n 13  Competitors        1270 non-null   int64  \ndtypes: float64(1), int64(3), object(10)\nmemory usage: 188.8+ KB\n"
    }
   ],
   "source": [
    "df_classify.info()"
   ]
  }
 ]
}